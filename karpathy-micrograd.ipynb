{
 "cells": [
  {
   "cell_type": "markdown",
   "id": "ac4e2e25-4542-4d60-897f-28d94b9ddad1",
   "metadata": {},
   "source": [
    "# Karpathy's Introduction to Backpropagation in Neural Networks\n",
    "\n",
    "I really want to cement my understanding of backpropagation in neural networks after going through Manning's [Stanford CS224N NLP with Deep Learning | Winter 2021 | Lecture 3 - Backprop and Neural Networks](https://www.youtube.com/watch?v=X0Jw4kgaFlg). \n",
    "\n",
    "From Karpathy's [The spelled-out intro to neural networks and backpropagation: building micrograd](https://www.youtube.com/watch?v=VMj-3S1tku0) on YouTube.\n",
    "\n",
    "NOTE: this will require the following libraries and/or packages...\n",
    "- `graphviz` package for Linux, install with `sudo apt-get install graphviz`\n",
    "- [`graphviz`](https://graphviz.readthedocs.io/en/stable/) - Python wrapper to `graphviz` package itself"
   ]
  },
  {
   "cell_type": "code",
   "execution_count": null,
   "id": "520f1e38-0b8b-4b0c-9cd8-d22202397561",
   "metadata": {
    "tags": []
   },
   "outputs": [],
   "source": [
    "import math\n",
    "import numpy as np\n",
    "import matplotlib.pyplot as plt\n",
    "%matplotlib inline"
   ]
  },
  {
   "cell_type": "markdown",
   "id": "2b447bf5-ff16-470a-8cb6-6e6b1c9a68f8",
   "metadata": {},
   "source": [
    "## Intuition: Derivatives"
   ]
  },
  {
   "cell_type": "markdown",
   "id": "cf4f7995-6fab-4bbd-ac01-3e8b2bf7c237",
   "metadata": {},
   "source": [
    "#### Simple example: a function with a single input\n",
    "\n",
    "Consider the simple function $f(x) = 3x^{2} - 4x + 5$."
   ]
  },
  {
   "cell_type": "code",
   "execution_count": null,
   "id": "8d9f6e28-6e2d-42cc-95ef-89641732577c",
   "metadata": {
    "tags": []
   },
   "outputs": [],
   "source": [
    "# simple example: 1 input; a quadratic\n",
    "def f(x):\n",
    "    return 3*x**2 - 4*x + 5"
   ]
  },
  {
   "cell_type": "code",
   "execution_count": null,
   "id": "ff3a611c-9366-452c-81af-5eb5b772eaa6",
   "metadata": {
    "tags": []
   },
   "outputs": [],
   "source": [
    "f(3.0)"
   ]
  },
  {
   "cell_type": "markdown",
   "id": "029eeb67-ab1d-4f8f-9f2e-aab81016a008",
   "metadata": {},
   "source": [
    "What does that look like?"
   ]
  },
  {
   "cell_type": "code",
   "execution_count": null,
   "id": "7f18c17d-0537-4ee4-b2fc-88f473219ae6",
   "metadata": {
    "tags": []
   },
   "outputs": [],
   "source": [
    "xs = np.arange(-5, 5, 0.25)\n",
    "ys = f(xs)\n",
    "plt.plot(xs, ys)"
   ]
  },
  {
   "cell_type": "raw",
   "id": "ff8b1449-f34f-4ef8-a370-ee8d9eba5287",
   "metadata": {},
   "source": [
    "How does the slope of this function change at different inputs?"
   ]
  },
  {
   "cell_type": "code",
   "execution_count": null,
   "id": "9a012127-f5b3-4b42-b6a1-c5e4e96d27a6",
   "metadata": {
    "tags": []
   },
   "outputs": [],
   "source": [
    "h = 0.0000001\n",
    "\n",
    "# x = 3\n",
    "# x = -3\n",
    "x = 2/3\n",
    "\n",
    "(f(x + h) - f(x)) / h"
   ]
  },
  {
   "cell_type": "markdown",
   "id": "531110f2-4851-4809-a635-d229980ac3a8",
   "metadata": {
    "tags": []
   },
   "source": [
    "#### A more complex example: 3 inputs\n",
    "\n",
    "Now see what happens to the slope of the function $f(x) = a \\times b + c$ when you increase the inputs individually by a small amount $h$."
   ]
  },
  {
   "cell_type": "code",
   "execution_count": null,
   "id": "119d26a5-368e-4bc7-953b-f2956a92c2c8",
   "metadata": {
    "tags": []
   },
   "outputs": [],
   "source": [
    "# a more complex example: 3 inputs!\n",
    "a = 2.0\n",
    "b = -3.0\n",
    "c = 10.0\n",
    "d = a*b + c\n",
    "print(d)"
   ]
  },
  {
   "cell_type": "code",
   "execution_count": null,
   "id": "34d2dc16-ed25-4f52-85a4-ee96bada9f32",
   "metadata": {
    "tags": []
   },
   "outputs": [],
   "source": [
    "h = 0.0001\n",
    "\n",
    "# inputs, fixed\n",
    "a = 2.0\n",
    "b = -3.0\n",
    "c = 10.0\n",
    "\n",
    "d1 = a*b + c\n",
    "\n",
    "# a += h\n",
    "# b += h\n",
    "c += h\n",
    "\n",
    "d2 = a*b + c\n",
    "\n",
    "print('d1: ', d1)\n",
    "print('d2: ', d2)\n",
    "print('slope: ', (d2 - d1) / h)"
   ]
  },
  {
   "cell_type": "markdown",
   "id": "3f70046e-0839-4668-a37d-71ff11f39b17",
   "metadata": {},
   "source": [
    "----"
   ]
  },
  {
   "cell_type": "markdown",
   "id": "82d1f6d3-a775-433b-aee3-cf5feff5637e",
   "metadata": {},
   "source": []
  },
  {
   "cell_type": "code",
   "execution_count": null,
   "id": "a0dd2dca-f14e-45cb-bc4b-b41006cb5936",
   "metadata": {},
   "outputs": [],
   "source": []
  },
  {
   "cell_type": "code",
   "execution_count": null,
   "id": "6a0c146f-8640-4bea-8094-7eb55c326fa5",
   "metadata": {
    "tags": []
   },
   "outputs": [],
   "source": [
    "class Value:\n",
    "    \n",
    "    def __init__(self, data, _children=(), _op='', label=''):\n",
    "        self.data = data\n",
    "        self._prev = set(_children)\n",
    "        self._op = _op\n",
    "        self.label = label\n",
    "        \n",
    "    def __repr__(self):\n",
    "        return f\"Value(data={self.data})\"\n",
    "\n",
    "    def __add__(self, other):\n",
    "        \"\"\" + operator responder! \"\"\"\n",
    "        out = Value(self.data + other.data, (self, other), '+')\n",
    "        return out\n",
    "\n",
    "    def __mul__(self, other):\n",
    "        \"\"\" * operator responder! \"\"\"\n",
    "        out = Value(self.data * other.data, (self, other), '*')\n",
    "        return out"
   ]
  },
  {
   "cell_type": "code",
   "execution_count": null,
   "id": "da18931f-6847-4377-991f-eb0a33431fa3",
   "metadata": {
    "tags": []
   },
   "outputs": [],
   "source": [
    "a = Value(2.0, label='a')\n",
    "b = Value(-3.0, label='b')\n",
    "c = Value(10.0, label='c')\n",
    "\n",
    "e = a*b; e.label = 'e'\n",
    "\n",
    "d = e + c; d.label = 'd'\n",
    "\n",
    "f = Value(-2.0, label='f')\n",
    "\n",
    "L = d * f; L.label = 'L'\n",
    "\n",
    "print(L)"
   ]
  },
  {
   "cell_type": "code",
   "execution_count": null,
   "id": "d45e9cbe-ae87-4677-a8b4-b24d25ff2e74",
   "metadata": {
    "tags": []
   },
   "outputs": [],
   "source": [
    "from graphviz import Digraph\n",
    "\n",
    "def trace(root):\n",
    "    # builds a set of all nodes and edges in a graph\n",
    "    nodes, edges = set(), set()\n",
    "    def build(v):\n",
    "        if v not in nodes:\n",
    "            nodes.add(v)\n",
    "            for child in v._prev:\n",
    "                edges.add((child, v))\n",
    "                build(child)\n",
    "    build(root)\n",
    "    return nodes, edges\n",
    "\n",
    "def draw_dot(root):\n",
    "    dot = Digraph(\n",
    "        format='svg',\n",
    "        graph_attr={'rankdir': 'LR'}\n",
    "    )\n",
    "    \n",
    "    nodes, edges = trace(root)\n",
    "    for n in nodes:\n",
    "        uid = str(id(n))\n",
    "        # for any value in the graph, create a rectangular {'record'} node for it\n",
    "        dot.node(name = uid, label = \"{ %s | data %.4f }\" % (n.label, n.data, ), shape='record') \n",
    "        if n._op:\n",
    "            # if this value is a result of some operation, create an op node for it\n",
    "            dot.node(name=uid + n._op, label = n._op)\n",
    "            # and connect this node to it!\n",
    "            dot.edge(uid + n._op, uid)\n",
    "            \n",
    "    for n1, n2 in edges:\n",
    "        # connecty n1 to the op node of n2\n",
    "        dot.edge(str(id(n1)), str(id(n2)) + n2._op)\n",
    "    \n",
    "    return dot"
   ]
  },
  {
   "cell_type": "code",
   "execution_count": null,
   "id": "508d89a7-0b4e-4873-91c2-5ad952071a47",
   "metadata": {
    "tags": []
   },
   "outputs": [],
   "source": [
    "draw_dot(L)"
   ]
  },
  {
   "cell_type": "code",
   "execution_count": null,
   "id": "d0a76aa5-35cd-472f-944b-e528b6a0b415",
   "metadata": {},
   "outputs": [],
   "source": []
  }
 ],
 "metadata": {
  "kernelspec": {
   "display_name": "Python 3 (ipykernel)",
   "language": "python",
   "name": "python3"
  },
  "language_info": {
   "codemirror_mode": {
    "name": "ipython",
    "version": 3
   },
   "file_extension": ".py",
   "mimetype": "text/x-python",
   "name": "python",
   "nbconvert_exporter": "python",
   "pygments_lexer": "ipython3",
   "version": "3.8.16"
  }
 },
 "nbformat": 4,
 "nbformat_minor": 5
}

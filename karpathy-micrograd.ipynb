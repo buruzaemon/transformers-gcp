{
 "cells": [
  {
   "cell_type": "markdown",
   "id": "ac4e2e25-4542-4d60-897f-28d94b9ddad1",
   "metadata": {},
   "source": [
    "# Karpathy's Introduction to Backpropagation in Neural Networks\n",
    "\n",
    "I really want to cement my understanding of backpropagation in neural networks after going through Manning's [Stanford CS224N NLP with Deep Learning | Winter 2021 | Lecture 3 - Backprop and Neural Networks](https://www.youtube.com/watch?v=X0Jw4kgaFlg). \n",
    "\n",
    "From Karpathy's [The spelled-out intro to neural networks and backpropagation: building micrograd](https://www.youtube.com/watch?v=VMj-3S1tku0) on YouTube.\n",
    "\n",
    "NOTE: this will require the following libraries and/or packages...\n",
    "- `graphviz` package for Linux, install with `sudo apt-get install graphviz`\n",
    "- [`graphviz`](https://graphviz.readthedocs.io/en/stable/) - Python wrapper to `graphviz` package itself"
   ]
  },
  {
   "cell_type": "code",
   "execution_count": 1,
   "id": "520f1e38-0b8b-4b0c-9cd8-d22202397561",
   "metadata": {
    "tags": []
   },
   "outputs": [],
   "source": [
    "import math\n",
    "import numpy as np\n",
    "import matplotlib.pyplot as plt\n",
    "%matplotlib inline"
   ]
  },
  {
   "cell_type": "markdown",
   "id": "2b447bf5-ff16-470a-8cb6-6e6b1c9a68f8",
   "metadata": {},
   "source": [
    "## Intuition: Derivatives"
   ]
  },
  {
   "cell_type": "markdown",
   "id": "cf4f7995-6fab-4bbd-ac01-3e8b2bf7c237",
   "metadata": {},
   "source": [
    "#### Simple example: a function with a single input\n",
    "\n",
    "Consider the simple function $f(x) = 3x^{2} - 4x + 5$."
   ]
  },
  {
   "cell_type": "code",
   "execution_count": 2,
   "id": "8d9f6e28-6e2d-42cc-95ef-89641732577c",
   "metadata": {
    "tags": []
   },
   "outputs": [],
   "source": [
    "# simple example: 1 input; a quadratic\n",
    "def f(x):\n",
    "    return 3*x**2 - 4*x + 5"
   ]
  },
  {
   "cell_type": "code",
   "execution_count": 3,
   "id": "ff3a611c-9366-452c-81af-5eb5b772eaa6",
   "metadata": {
    "tags": []
   },
   "outputs": [
    {
     "data": {
      "text/plain": [
       "20.0"
      ]
     },
     "execution_count": 3,
     "metadata": {},
     "output_type": "execute_result"
    }
   ],
   "source": [
    "f(3.0)"
   ]
  },
  {
   "cell_type": "markdown",
   "id": "029eeb67-ab1d-4f8f-9f2e-aab81016a008",
   "metadata": {},
   "source": [
    "What does that look like?"
   ]
  },
  {
   "cell_type": "code",
   "execution_count": 4,
   "id": "7f18c17d-0537-4ee4-b2fc-88f473219ae6",
   "metadata": {
    "tags": []
   },
   "outputs": [
    {
     "data": {
      "text/plain": [
       "[<matplotlib.lines.Line2D at 0x7f65089eb0d0>]"
      ]
     },
     "execution_count": 4,
     "metadata": {},
     "output_type": "execute_result"
    },
    {
     "data": {
      "image/png": "[encoded data removed]",
      "text/plain": [
       "<Figure size 640x480 with 1 Axes>"
      ]
     },
     "metadata": {},
     "output_type": "display_data"
    }
   ],
   "source": [
    "xs = np.arange(-5, 5, 0.25)\n",
    "ys = f(xs)\n",
    "plt.plot(xs, ys)"
   ]
  },
  {
   "cell_type": "markdown",
   "id": "60a63118-883a-40d2-ad64-8944c95b8c83",
   "metadata": {},
   "source": [
    "How does the slope of this function change at different inputs?"
   ]
  },
  {
   "cell_type": "code",
   "execution_count": 5,
   "id": "9a012127-f5b3-4b42-b6a1-c5e4e96d27a6",
   "metadata": {
    "tags": []
   },
   "outputs": [
    {
     "data": {
      "text/plain": [
       "2.9753977059954195e-07"
      ]
     },
     "execution_count": 5,
     "metadata": {},
     "output_type": "execute_result"
    }
   ],
   "source": [
    "h = 0.0000001\n",
    "\n",
    "# x = 3\n",
    "# x = -3\n",
    "x = 2/3\n",
    "\n",
    "(f(x + h) - f(x)) / h"
   ]
  },
  {
   "cell_type": "markdown",
   "id": "531110f2-4851-4809-a635-d229980ac3a8",
   "metadata": {
    "tags": []
   },
   "source": [
    "#### A more complex example: 3 inputs\n",
    "\n",
    "Now see what happens to the slope of the function $f(x) = a * b + c$ when you increase the inputs individually by a small amount $h$."
   ]
  },
  {
   "cell_type": "code",
   "execution_count": 6,
   "id": "119d26a5-368e-4bc7-953b-f2956a92c2c8",
   "metadata": {
    "tags": []
   },
   "outputs": [
    {
     "name": "stdout",
     "output_type": "stream",
     "text": [
      "4.0\n"
     ]
    }
   ],
   "source": [
    "# a more complex example: 3 inputs!\n",
    "a = 2.0\n",
    "b = -3.0\n",
    "c = 10.0\n",
    "d = a*b + c\n",
    "print(d)"
   ]
  },
  {
   "cell_type": "code",
   "execution_count": 7,
   "id": "34d2dc16-ed25-4f52-85a4-ee96bada9f32",
   "metadata": {
    "tags": []
   },
   "outputs": [
    {
     "name": "stdout",
     "output_type": "stream",
     "text": [
      "d1:  4.0\n",
      "d2:  4.0001\n",
      "slope:  0.9999999999976694\n"
     ]
    }
   ],
   "source": [
    "h = 0.0001\n",
    "\n",
    "# inputs, fixed\n",
    "a = 2.0\n",
    "b = -3.0\n",
    "c = 10.0\n",
    "\n",
    "d1 = a*b + c\n",
    "\n",
    "# a += h\n",
    "# b += h\n",
    "c += h\n",
    "\n",
    "d2 = a*b + c\n",
    "\n",
    "print('d1: ', d1)\n",
    "print('d2: ', d2)\n",
    "print('slope: ', (d2 - d1) / h)"
   ]
  },
  {
   "cell_type": "markdown",
   "id": "3f70046e-0839-4668-a37d-71ff11f39b17",
   "metadata": {},
   "source": [
    "----"
   ]
  },
  {
   "cell_type": "code",
   "execution_count": 8,
   "id": "6a0c146f-8640-4bea-8094-7eb55c326fa5",
   "metadata": {
    "tags": []
   },
   "outputs": [],
   "source": [
    "class Value:\n",
    "    \n",
    "    def __init__(self, data, _children=(), _op='', label=''):\n",
    "        self.data = data\n",
    "        self.grad = 0.0\n",
    "        self._prev = set(_children)\n",
    "        self._op = _op\n",
    "        self.label = label\n",
    "        \n",
    "    def __repr__(self):\n",
    "        return f\"Value(data={self.data})\"\n",
    "\n",
    "    def __add__(self, other):\n",
    "        \"\"\" + operator responder! \"\"\"\n",
    "        out = Value(self.data + other.data, (self, other), '+')\n",
    "        return out\n",
    "\n",
    "    def __mul__(self, other):\n",
    "        \"\"\" * operator responder! \"\"\"\n",
    "        out = Value(self.data * other.data, (self, other), '*')\n",
    "        return out"
   ]
  },
  {
   "cell_type": "code",
   "execution_count": 9,
   "id": "da18931f-6847-4377-991f-eb0a33431fa3",
   "metadata": {
    "tags": []
   },
   "outputs": [
    {
     "name": "stdout",
     "output_type": "stream",
     "text": [
      "Value(data=-8.0)\n"
     ]
    }
   ],
   "source": [
    "a = Value(2.0, label='a')\n",
    "b = Value(-3.0, label='b')\n",
    "c = Value(10.0, label='c')\n",
    "e = a*b; e.label = 'e'\n",
    "d = e + c; d.label = 'd'\n",
    "f = Value(-2.0, label='f')\n",
    "L = d * f; L.label = 'L'\n",
    "\n",
    "print(L)"
   ]
  },
  {
   "cell_type": "code",
   "execution_count": 10,
   "id": "d45e9cbe-ae87-4677-a8b4-b24d25ff2e74",
   "metadata": {
    "tags": []
   },
   "outputs": [],
   "source": [
    "from graphviz import Digraph\n",
    "\n",
    "def trace(root):\n",
    "    # builds a set of all nodes and edges in a graph\n",
    "    nodes, edges = set(), set()\n",
    "    def build(v):\n",
    "        if v not in nodes:\n",
    "            nodes.add(v)\n",
    "            for child in v._prev:\n",
    "                edges.add((child, v))\n",
    "                build(child)\n",
    "    build(root)\n",
    "    return nodes, edges\n",
    "\n",
    "def draw_dot(root):\n",
    "    dot = Digraph(\n",
    "        format='svg',\n",
    "        graph_attr={'rankdir': 'LR'}\n",
    "    )\n",
    "    \n",
    "    nodes, edges = trace(root)\n",
    "    for n in nodes:\n",
    "        uid = str(id(n))\n",
    "        # for any value in the graph, create a rectangular {'record'} node for it\n",
    "        dot.node(name = uid, label = \"{ %s | data %.4f | grad %.4f }\" % (n.label, n.data, n.grad), shape='record') \n",
    "        if n._op:\n",
    "            # if this value is a result of some operation, create an op node for it\n",
    "            dot.node(name=uid + n._op, label = n._op)\n",
    "            # and connect this node to it!\n",
    "            dot.edge(uid + n._op, uid)\n",
    "            \n",
    "    for n1, n2 in edges:\n",
    "        # connecty n1 to the op node of n2\n",
    "        dot.edge(str(id(n1)), str(id(n2)) + n2._op)\n",
    "    \n",
    "    return dot"
   ]
  },
  {
   "cell_type": "code",
   "execution_count": 11,
   "id": "508d89a7-0b4e-4873-91c2-5ad952071a47",
   "metadata": {
    "tags": []
   },
   "outputs": [
    {
     "data": {
      "image/svg+xml": [
       "<?xml version=\"1.0\" encoding=\"UTF-8\" standalone=\"no\"?>\n",
       "<!DOCTYPE svg PUBLIC \"-//W3C//DTD SVG 1.1//EN\"\n",
       " \"http://www.w3.org/Graphics/SVG/1.1/DTD/svg11.dtd\">\n",
       "<!-- Generated by graphviz version 2.40.1 (20161225.0304)\n",
       " -->\n",
       "<!-- Title: %3 Pages: 1 -->\n",
       "<svg width=\"1333pt\" height=\"156pt\"\n",
       " viewBox=\"0.00 0.00 1333.00 156.00\" xmlns=\"http://www.w3.org/2000/svg\" xmlns:xlink=\"http://www.w3.org/1999/xlink\">\n",
       "<g id=\"graph0\" class=\"graph\" transform=\"scale(1 1) rotate(0) translate(4 152)\">\n",
       "<title>%3</title>\n",
       "<polygon fill=\"#ffffff\" stroke=\"transparent\" points=\"-4,4 -4,-152 1329,-152 1329,4 -4,4\"/>\n",
       "<!-- 140071904510544 -->\n",
       "<g id=\"node1\" class=\"node\">\n",
       "<title>140071904510544</title>\n",
       "<polygon fill=\"none\" stroke=\"#000000\" points=\"3,-111.5 3,-147.5 234,-147.5 234,-111.5 3,-111.5\"/>\n",
       "<text text-anchor=\"middle\" x=\"15.5\" y=\"-125.8\" font-family=\"Times,serif\" font-size=\"14.00\" fill=\"#000000\">a</text>\n",
       "<polyline fill=\"none\" stroke=\"#000000\" points=\"28,-111.5 28,-147.5 \"/>\n",
       "<text text-anchor=\"middle\" x=\"79\" y=\"-125.8\" font-family=\"Times,serif\" font-size=\"14.00\" fill=\"#000000\">data 2.0000</text>\n",
       "<polyline fill=\"none\" stroke=\"#000000\" points=\"130,-111.5 130,-147.5 \"/>\n",
       "<text text-anchor=\"middle\" x=\"182\" y=\"-125.8\" font-family=\"Times,serif\" font-size=\"14.00\" fill=\"#000000\">grad 0.0000</text>\n",
       "</g>\n",
       "<!-- 140071904511696* -->\n",
       "<g id=\"node5\" class=\"node\">\n",
       "<title>140071904511696*</title>\n",
       "<ellipse fill=\"none\" stroke=\"#000000\" cx=\"300\" cy=\"-101.5\" rx=\"27\" ry=\"18\"/>\n",
       "<text text-anchor=\"middle\" x=\"300\" y=\"-97.8\" font-family=\"Times,serif\" font-size=\"14.00\" fill=\"#000000\">*</text>\n",
       "</g>\n",
       "<!-- 140071904510544&#45;&gt;140071904511696* -->\n",
       "<g id=\"edge4\" class=\"edge\">\n",
       "<title>140071904510544&#45;&gt;140071904511696*</title>\n",
       "<path fill=\"none\" stroke=\"#000000\" d=\"M234.2177,-111.6482C244.7372,-110.0254 254.7713,-108.4774 263.6921,-107.1012\"/>\n",
       "<polygon fill=\"#000000\" stroke=\"#000000\" points=\"264.2657,-110.5542 273.6152,-105.5704 263.1984,-103.6361 264.2657,-110.5542\"/>\n",
       "</g>\n",
       "<!-- 140071904513184 -->\n",
       "<g id=\"node2\" class=\"node\">\n",
       "<title>140071904513184</title>\n",
       "<polygon fill=\"none\" stroke=\"#000000\" points=\"729.5,-55.5 729.5,-91.5 961.5,-91.5 961.5,-55.5 729.5,-55.5\"/>\n",
       "<text text-anchor=\"middle\" x=\"742.5\" y=\"-69.8\" font-family=\"Times,serif\" font-size=\"14.00\" fill=\"#000000\">d</text>\n",
       "<polyline fill=\"none\" stroke=\"#000000\" points=\"755.5,-55.5 755.5,-91.5 \"/>\n",
       "<text text-anchor=\"middle\" x=\"806.5\" y=\"-69.8\" font-family=\"Times,serif\" font-size=\"14.00\" fill=\"#000000\">data 4.0000</text>\n",
       "<polyline fill=\"none\" stroke=\"#000000\" points=\"857.5,-55.5 857.5,-91.5 \"/>\n",
       "<text text-anchor=\"middle\" x=\"909.5\" y=\"-69.8\" font-family=\"Times,serif\" font-size=\"14.00\" fill=\"#000000\">grad 0.0000</text>\n",
       "</g>\n",
       "<!-- 140071904511408* -->\n",
       "<g id=\"node9\" class=\"node\">\n",
       "<title>140071904511408*</title>\n",
       "<ellipse fill=\"none\" stroke=\"#000000\" cx=\"1025\" cy=\"-45.5\" rx=\"27\" ry=\"18\"/>\n",
       "<text text-anchor=\"middle\" x=\"1025\" y=\"-41.8\" font-family=\"Times,serif\" font-size=\"14.00\" fill=\"#000000\">*</text>\n",
       "</g>\n",
       "<!-- 140071904513184&#45;&gt;140071904511408* -->\n",
       "<g id=\"edge7\" class=\"edge\">\n",
       "<title>140071904513184&#45;&gt;140071904511408*</title>\n",
       "<path fill=\"none\" stroke=\"#000000\" d=\"M960.9566,-55.4901C970.7184,-53.9673 980.037,-52.5137 988.3947,-51.21\"/>\n",
       "<polygon fill=\"#000000\" stroke=\"#000000\" points=\"989.0871,-54.6444 998.4281,-49.6449 988.0082,-47.7281 989.0871,-54.6444\"/>\n",
       "</g>\n",
       "<!-- 140071904513184+ -->\n",
       "<g id=\"node3\" class=\"node\">\n",
       "<title>140071904513184+</title>\n",
       "<ellipse fill=\"none\" stroke=\"#000000\" cx=\"666\" cy=\"-73.5\" rx=\"27\" ry=\"18\"/>\n",
       "<text text-anchor=\"middle\" x=\"666\" y=\"-69.8\" font-family=\"Times,serif\" font-size=\"14.00\" fill=\"#000000\">+</text>\n",
       "</g>\n",
       "<!-- 140071904513184+&#45;&gt;140071904513184 -->\n",
       "<g id=\"edge1\" class=\"edge\">\n",
       "<title>140071904513184+&#45;&gt;140071904513184</title>\n",
       "<path fill=\"none\" stroke=\"#000000\" d=\"M693.2622,-73.5C700.9052,-73.5 709.7484,-73.5 719.2494,-73.5\"/>\n",
       "<polygon fill=\"#000000\" stroke=\"#000000\" points=\"719.3659,-77.0001 729.3659,-73.5 719.3658,-70.0001 719.3659,-77.0001\"/>\n",
       "</g>\n",
       "<!-- 140071904511696 -->\n",
       "<g id=\"node4\" class=\"node\">\n",
       "<title>140071904511696</title>\n",
       "<polygon fill=\"none\" stroke=\"#000000\" points=\"365,-83.5 365,-119.5 601,-119.5 601,-83.5 365,-83.5\"/>\n",
       "<text text-anchor=\"middle\" x=\"377.5\" y=\"-97.8\" font-family=\"Times,serif\" font-size=\"14.00\" fill=\"#000000\">e</text>\n",
       "<polyline fill=\"none\" stroke=\"#000000\" points=\"390,-83.5 390,-119.5 \"/>\n",
       "<text text-anchor=\"middle\" x=\"443.5\" y=\"-97.8\" font-family=\"Times,serif\" font-size=\"14.00\" fill=\"#000000\">data &#45;6.0000</text>\n",
       "<polyline fill=\"none\" stroke=\"#000000\" points=\"497,-83.5 497,-119.5 \"/>\n",
       "<text text-anchor=\"middle\" x=\"549\" y=\"-97.8\" font-family=\"Times,serif\" font-size=\"14.00\" fill=\"#000000\">grad 0.0000</text>\n",
       "</g>\n",
       "<!-- 140071904511696&#45;&gt;140071904513184+ -->\n",
       "<g id=\"edge5\" class=\"edge\">\n",
       "<title>140071904511696&#45;&gt;140071904513184+</title>\n",
       "<path fill=\"none\" stroke=\"#000000\" d=\"M600.7078,-83.4901C610.9678,-81.9202 620.7477,-80.4239 629.4689,-79.0895\"/>\n",
       "<polygon fill=\"#000000\" stroke=\"#000000\" points=\"630.1874,-82.5203 639.543,-77.5481 629.1286,-75.6009 630.1874,-82.5203\"/>\n",
       "</g>\n",
       "<!-- 140071904511696*&#45;&gt;140071904511696 -->\n",
       "<g id=\"edge2\" class=\"edge\">\n",
       "<title>140071904511696*&#45;&gt;140071904511696</title>\n",
       "<path fill=\"none\" stroke=\"#000000\" d=\"M327.0023,-101.5C335.1394,-101.5 344.6612,-101.5 354.9171,-101.5\"/>\n",
       "<polygon fill=\"#000000\" stroke=\"#000000\" points=\"354.9537,-105.0001 364.9537,-101.5 354.9536,-98.0001 354.9537,-105.0001\"/>\n",
       "</g>\n",
       "<!-- 140071904512224 -->\n",
       "<g id=\"node6\" class=\"node\">\n",
       "<title>140071904512224</title>\n",
       "<polygon fill=\"none\" stroke=\"#000000\" points=\"729,-.5 729,-36.5 962,-36.5 962,-.5 729,-.5\"/>\n",
       "<text text-anchor=\"middle\" x=\"740\" y=\"-14.8\" font-family=\"Times,serif\" font-size=\"14.00\" fill=\"#000000\">f</text>\n",
       "<polyline fill=\"none\" stroke=\"#000000\" points=\"751,-.5 751,-36.5 \"/>\n",
       "<text text-anchor=\"middle\" x=\"804.5\" y=\"-14.8\" font-family=\"Times,serif\" font-size=\"14.00\" fill=\"#000000\">data &#45;2.0000</text>\n",
       "<polyline fill=\"none\" stroke=\"#000000\" points=\"858,-.5 858,-36.5 \"/>\n",
       "<text text-anchor=\"middle\" x=\"910\" y=\"-14.8\" font-family=\"Times,serif\" font-size=\"14.00\" fill=\"#000000\">grad 0.0000</text>\n",
       "</g>\n",
       "<!-- 140071904512224&#45;&gt;140071904511408* -->\n",
       "<g id=\"edge8\" class=\"edge\">\n",
       "<title>140071904512224&#45;&gt;140071904511408*</title>\n",
       "<path fill=\"none\" stroke=\"#000000\" d=\"M962.2196,-36.0567C971.5315,-37.4574 980.4163,-38.7938 988.4192,-39.9976\"/>\n",
       "<polygon fill=\"#000000\" stroke=\"#000000\" points=\"987.984,-43.4714 998.3934,-41.4979 989.0253,-36.5493 987.984,-43.4714\"/>\n",
       "</g>\n",
       "<!-- 140071904512848 -->\n",
       "<g id=\"node7\" class=\"node\">\n",
       "<title>140071904512848</title>\n",
       "<polygon fill=\"none\" stroke=\"#000000\" points=\"363,-28.5 363,-64.5 603,-64.5 603,-28.5 363,-28.5\"/>\n",
       "<text text-anchor=\"middle\" x=\"375.5\" y=\"-42.8\" font-family=\"Times,serif\" font-size=\"14.00\" fill=\"#000000\">c</text>\n",
       "<polyline fill=\"none\" stroke=\"#000000\" points=\"388,-28.5 388,-64.5 \"/>\n",
       "<text text-anchor=\"middle\" x=\"443.5\" y=\"-42.8\" font-family=\"Times,serif\" font-size=\"14.00\" fill=\"#000000\">data 10.0000</text>\n",
       "<polyline fill=\"none\" stroke=\"#000000\" points=\"499,-28.5 499,-64.5 \"/>\n",
       "<text text-anchor=\"middle\" x=\"551\" y=\"-42.8\" font-family=\"Times,serif\" font-size=\"14.00\" fill=\"#000000\">grad 0.0000</text>\n",
       "</g>\n",
       "<!-- 140071904512848&#45;&gt;140071904513184+ -->\n",
       "<g id=\"edge9\" class=\"edge\">\n",
       "<title>140071904512848&#45;&gt;140071904513184+</title>\n",
       "<path fill=\"none\" stroke=\"#000000\" d=\"M603.0218,-64.2081C612.3904,-65.5904 621.3158,-66.9072 629.3476,-68.0923\"/>\n",
       "<polygon fill=\"#000000\" stroke=\"#000000\" points=\"628.9497,-71.5714 639.3535,-69.5686 629.9715,-64.6463 628.9497,-71.5714\"/>\n",
       "</g>\n",
       "<!-- 140071904511408 -->\n",
       "<g id=\"node8\" class=\"node\">\n",
       "<title>140071904511408</title>\n",
       "<polygon fill=\"none\" stroke=\"#000000\" points=\"1088,-27.5 1088,-63.5 1325,-63.5 1325,-27.5 1088,-27.5\"/>\n",
       "<text text-anchor=\"middle\" x=\"1101\" y=\"-41.8\" font-family=\"Times,serif\" font-size=\"14.00\" fill=\"#000000\">L</text>\n",
       "<polyline fill=\"none\" stroke=\"#000000\" points=\"1114,-27.5 1114,-63.5 \"/>\n",
       "<text text-anchor=\"middle\" x=\"1167.5\" y=\"-41.8\" font-family=\"Times,serif\" font-size=\"14.00\" fill=\"#000000\">data &#45;8.0000</text>\n",
       "<polyline fill=\"none\" stroke=\"#000000\" points=\"1221,-27.5 1221,-63.5 \"/>\n",
       "<text text-anchor=\"middle\" x=\"1273\" y=\"-41.8\" font-family=\"Times,serif\" font-size=\"14.00\" fill=\"#000000\">grad 0.0000</text>\n",
       "</g>\n",
       "<!-- 140071904511408*&#45;&gt;140071904511408 -->\n",
       "<g id=\"edge3\" class=\"edge\">\n",
       "<title>140071904511408*&#45;&gt;140071904511408</title>\n",
       "<path fill=\"none\" stroke=\"#000000\" d=\"M1052.1724,-45.5C1059.7322,-45.5 1068.4749,-45.5 1077.8787,-45.5\"/>\n",
       "<polygon fill=\"#000000\" stroke=\"#000000\" points=\"1077.896,-49.0001 1087.896,-45.5 1077.8959,-42.0001 1077.896,-49.0001\"/>\n",
       "</g>\n",
       "<!-- 140071904511936 -->\n",
       "<g id=\"node10\" class=\"node\">\n",
       "<title>140071904511936</title>\n",
       "<polygon fill=\"none\" stroke=\"#000000\" points=\"0,-56.5 0,-92.5 237,-92.5 237,-56.5 0,-56.5\"/>\n",
       "<text text-anchor=\"middle\" x=\"13\" y=\"-70.8\" font-family=\"Times,serif\" font-size=\"14.00\" fill=\"#000000\">b</text>\n",
       "<polyline fill=\"none\" stroke=\"#000000\" points=\"26,-56.5 26,-92.5 \"/>\n",
       "<text text-anchor=\"middle\" x=\"79.5\" y=\"-70.8\" font-family=\"Times,serif\" font-size=\"14.00\" fill=\"#000000\">data &#45;3.0000</text>\n",
       "<polyline fill=\"none\" stroke=\"#000000\" points=\"133,-56.5 133,-92.5 \"/>\n",
       "<text text-anchor=\"middle\" x=\"185\" y=\"-70.8\" font-family=\"Times,serif\" font-size=\"14.00\" fill=\"#000000\">grad 0.0000</text>\n",
       "</g>\n",
       "<!-- 140071904511936&#45;&gt;140071904511696* -->\n",
       "<g id=\"edge6\" class=\"edge\">\n",
       "<title>140071904511936&#45;&gt;140071904511696*</title>\n",
       "<path fill=\"none\" stroke=\"#000000\" d=\"M237.0295,-92.1325C246.4768,-93.5379 255.4796,-94.8771 263.5708,-96.0808\"/>\n",
       "<polygon fill=\"#000000\" stroke=\"#000000\" points=\"263.237,-99.5696 273.6432,-97.5792 264.2671,-92.6458 263.237,-99.5696\"/>\n",
       "</g>\n",
       "</g>\n",
       "</svg>\n"
      ],
      "text/plain": [
       "<graphviz.graphs.Digraph at 0x7f65081c8880>"
      ]
     },
     "execution_count": 11,
     "metadata": {},
     "output_type": "execute_result"
    }
   ],
   "source": [
    "# we will calculate the gradients for each node manually right after this!\n",
    "\n",
    "draw_dot(L)"
   ]
  },
  {
   "cell_type": "markdown",
   "id": "084049b7-c0ea-4282-b68a-2faaed488784",
   "metadata": {},
   "source": [
    "### Back-prop by hand...\n",
    "\n",
    "If you really are rusty, then scroll down to the Intuitive Explanation section of [the Wikipedia page on the Chain rule](https://en.wikipedia.org/wiki/Chain_rule).\n",
    "\n",
    "But using our simple function graph above, it is really nothing more than this:\n",
    "\n",
    "#### Starting from the far right\n",
    "\n",
    "Calculate $\\frac{dL}{dL}$\n",
    "\n",
    "\\begin{align}\n",
    "\\frac{dL}{dL} = 1\n",
    "\\end{align}\n",
    "\n",
    "#### Moving to preceding multiplication operation\n",
    "\n",
    "Since $L = d * f$ we calculate by the Chain rule:\n",
    "\n",
    "\\begin{align}\n",
    "\\frac{dL}{dd} = f = -2\n",
    "\\end{align}\n",
    "\n",
    "... and ...\n",
    "\n",
    "\\begin{align}\n",
    "\\frac{dL}{df} = d = 4\n",
    "\\end{align}\n",
    "\n",
    "#### Continuing backwards to the preceding addition operation\n",
    "\n",
    "Since $d = e + c$ we calculate by the Chain rule:\n",
    "\n",
    "\\begin{align}\n",
    "\\frac{dL}{de} = \\frac{dL}{dd} \\frac{dd}{de} = -2 * 1 = -2\n",
    "\\end{align}\n",
    "\n",
    "... and ...\n",
    "\n",
    "\\begin{align}\n",
    "\\frac{dL}{dc} = \\frac{dL}{dd} \\frac{dd}{dc} = -2 * 1 = -2\n",
    "\\end{align}\n",
    "\n",
    "#### Finish moving backwards to the initial multiplication operation\n",
    "\n",
    "Since $3 = a * b$ we calculate once more by the Chain rule:\n",
    "\n",
    "\\begin{align}\n",
    "\\frac{dL}{da} = \\frac{dL}{de} \\frac{de}{da} = -2 * -3 = 6\n",
    "\\end{align}\n",
    "\n",
    "... and lastly ...\n",
    "\n",
    "\\begin{align}\n",
    "\\frac{dL}{db} = \\frac{dL}{de} \\frac{de}{db} = -2 * 2 = -4\n",
    "\\end{align}\n"
   ]
  },
  {
   "cell_type": "code",
   "execution_count": 12,
   "id": "701ed4b7-e5eb-4f99-a8c8-e08d1565d196",
   "metadata": {
    "tags": []
   },
   "outputs": [
    {
     "data": {
      "image/svg+xml": [
       "<?xml version=\"1.0\" encoding=\"UTF-8\" standalone=\"no\"?>\n",
       "<!DOCTYPE svg PUBLIC \"-//W3C//DTD SVG 1.1//EN\"\n",
       " \"http://www.w3.org/Graphics/SVG/1.1/DTD/svg11.dtd\">\n",
       "<!-- Generated by graphviz version 2.40.1 (20161225.0304)\n",
       " -->\n",
       "<!-- Title: %3 Pages: 1 -->\n",
       "<svg width=\"1344pt\" height=\"156pt\"\n",
       " viewBox=\"0.00 0.00 1344.00 156.00\" xmlns=\"http://www.w3.org/2000/svg\" xmlns:xlink=\"http://www.w3.org/1999/xlink\">\n",
       "<g id=\"graph0\" class=\"graph\" transform=\"scale(1 1) rotate(0) translate(4 152)\">\n",
       "<title>%3</title>\n",
       "<polygon fill=\"#ffffff\" stroke=\"transparent\" points=\"-4,4 -4,-152 1340,-152 1340,4 -4,4\"/>\n",
       "<!-- 140071904510544 -->\n",
       "<g id=\"node1\" class=\"node\">\n",
       "<title>140071904510544</title>\n",
       "<polygon fill=\"none\" stroke=\"#000000\" points=\"5,-111.5 5,-147.5 236,-147.5 236,-111.5 5,-111.5\"/>\n",
       "<text text-anchor=\"middle\" x=\"17.5\" y=\"-125.8\" font-family=\"Times,serif\" font-size=\"14.00\" fill=\"#000000\">a</text>\n",
       "<polyline fill=\"none\" stroke=\"#000000\" points=\"30,-111.5 30,-147.5 \"/>\n",
       "<text text-anchor=\"middle\" x=\"81\" y=\"-125.8\" font-family=\"Times,serif\" font-size=\"14.00\" fill=\"#000000\">data 2.0000</text>\n",
       "<polyline fill=\"none\" stroke=\"#000000\" points=\"132,-111.5 132,-147.5 \"/>\n",
       "<text text-anchor=\"middle\" x=\"184\" y=\"-125.8\" font-family=\"Times,serif\" font-size=\"14.00\" fill=\"#000000\">grad 6.0000</text>\n",
       "</g>\n",
       "<!-- 140071904511696* -->\n",
       "<g id=\"node5\" class=\"node\">\n",
       "<title>140071904511696*</title>\n",
       "<ellipse fill=\"none\" stroke=\"#000000\" cx=\"304\" cy=\"-101.5\" rx=\"27\" ry=\"18\"/>\n",
       "<text text-anchor=\"middle\" x=\"304\" y=\"-97.8\" font-family=\"Times,serif\" font-size=\"14.00\" fill=\"#000000\">*</text>\n",
       "</g>\n",
       "<!-- 140071904510544&#45;&gt;140071904511696* -->\n",
       "<g id=\"edge4\" class=\"edge\">\n",
       "<title>140071904510544&#45;&gt;140071904511696*</title>\n",
       "<path fill=\"none\" stroke=\"#000000\" d=\"M236.1927,-111.8466C247.3204,-110.1487 257.9429,-108.5278 267.3408,-107.0938\"/>\n",
       "<polygon fill=\"#000000\" stroke=\"#000000\" points=\"268.035,-110.5284 277.3926,-105.56 266.9791,-103.6085 268.035,-110.5284\"/>\n",
       "</g>\n",
       "<!-- 140071904513184 -->\n",
       "<g id=\"node2\" class=\"node\">\n",
       "<title>140071904513184</title>\n",
       "<polygon fill=\"none\" stroke=\"#000000\" points=\"737,-55.5 737,-91.5 973,-91.5 973,-55.5 737,-55.5\"/>\n",
       "<text text-anchor=\"middle\" x=\"750\" y=\"-69.8\" font-family=\"Times,serif\" font-size=\"14.00\" fill=\"#000000\">d</text>\n",
       "<polyline fill=\"none\" stroke=\"#000000\" points=\"763,-55.5 763,-91.5 \"/>\n",
       "<text text-anchor=\"middle\" x=\"814\" y=\"-69.8\" font-family=\"Times,serif\" font-size=\"14.00\" fill=\"#000000\">data 4.0000</text>\n",
       "<polyline fill=\"none\" stroke=\"#000000\" points=\"865,-55.5 865,-91.5 \"/>\n",
       "<text text-anchor=\"middle\" x=\"919\" y=\"-69.8\" font-family=\"Times,serif\" font-size=\"14.00\" fill=\"#000000\">grad &#45;2.0000</text>\n",
       "</g>\n",
       "<!-- 140071904511408* -->\n",
       "<g id=\"node9\" class=\"node\">\n",
       "<title>140071904511408*</title>\n",
       "<ellipse fill=\"none\" stroke=\"#000000\" cx=\"1036\" cy=\"-45.5\" rx=\"27\" ry=\"18\"/>\n",
       "<text text-anchor=\"middle\" x=\"1036\" y=\"-41.8\" font-family=\"Times,serif\" font-size=\"14.00\" fill=\"#000000\">*</text>\n",
       "</g>\n",
       "<!-- 140071904513184&#45;&gt;140071904511408* -->\n",
       "<g id=\"edge7\" class=\"edge\">\n",
       "<title>140071904513184&#45;&gt;140071904511408*</title>\n",
       "<path fill=\"none\" stroke=\"#000000\" d=\"M971.4214,-55.4901C981.4717,-53.9353 991.0562,-52.4526 999.619,-51.128\"/>\n",
       "<polygon fill=\"#000000\" stroke=\"#000000\" points=\"1000.1725,-54.5841 1009.5198,-49.5964 999.1022,-47.6664 1000.1725,-54.5841\"/>\n",
       "</g>\n",
       "<!-- 140071904513184+ -->\n",
       "<g id=\"node3\" class=\"node\">\n",
       "<title>140071904513184+</title>\n",
       "<ellipse fill=\"none\" stroke=\"#000000\" cx=\"674\" cy=\"-73.5\" rx=\"27\" ry=\"18\"/>\n",
       "<text text-anchor=\"middle\" x=\"674\" y=\"-69.8\" font-family=\"Times,serif\" font-size=\"14.00\" fill=\"#000000\">+</text>\n",
       "</g>\n",
       "<!-- 140071904513184+&#45;&gt;140071904513184 -->\n",
       "<g id=\"edge1\" class=\"edge\">\n",
       "<title>140071904513184+&#45;&gt;140071904513184</title>\n",
       "<path fill=\"none\" stroke=\"#000000\" d=\"M701.0975,-73.5C708.5571,-73.5 717.1717,-73.5 726.4371,-73.5\"/>\n",
       "<polygon fill=\"#000000\" stroke=\"#000000\" points=\"726.7227,-77.0001 736.7227,-73.5 726.7227,-70.0001 726.7227,-77.0001\"/>\n",
       "</g>\n",
       "<!-- 140071904511696 -->\n",
       "<g id=\"node4\" class=\"node\">\n",
       "<title>140071904511696</title>\n",
       "<polygon fill=\"none\" stroke=\"#000000\" points=\"369,-83.5 369,-119.5 609,-119.5 609,-83.5 369,-83.5\"/>\n",
       "<text text-anchor=\"middle\" x=\"381.5\" y=\"-97.8\" font-family=\"Times,serif\" font-size=\"14.00\" fill=\"#000000\">e</text>\n",
       "<polyline fill=\"none\" stroke=\"#000000\" points=\"394,-83.5 394,-119.5 \"/>\n",
       "<text text-anchor=\"middle\" x=\"447.5\" y=\"-97.8\" font-family=\"Times,serif\" font-size=\"14.00\" fill=\"#000000\">data &#45;6.0000</text>\n",
       "<polyline fill=\"none\" stroke=\"#000000\" points=\"501,-83.5 501,-119.5 \"/>\n",
       "<text text-anchor=\"middle\" x=\"555\" y=\"-97.8\" font-family=\"Times,serif\" font-size=\"14.00\" fill=\"#000000\">grad &#45;2.0000</text>\n",
       "</g>\n",
       "<!-- 140071904511696&#45;&gt;140071904513184+ -->\n",
       "<g id=\"edge5\" class=\"edge\">\n",
       "<title>140071904511696&#45;&gt;140071904513184+</title>\n",
       "<path fill=\"none\" stroke=\"#000000\" d=\"M607.9943,-83.4901C618.5812,-81.8877 628.6624,-80.3619 637.6161,-79.0068\"/>\n",
       "<polygon fill=\"#000000\" stroke=\"#000000\" points=\"638.208,-82.4571 647.5716,-77.5 637.1604,-75.5359 638.208,-82.4571\"/>\n",
       "</g>\n",
       "<!-- 140071904511696*&#45;&gt;140071904511696 -->\n",
       "<g id=\"edge2\" class=\"edge\">\n",
       "<title>140071904511696*&#45;&gt;140071904511696</title>\n",
       "<path fill=\"none\" stroke=\"#000000\" d=\"M331.2974,-101.5C339.2879,-101.5 348.5992,-101.5 358.6284,-101.5\"/>\n",
       "<polygon fill=\"#000000\" stroke=\"#000000\" points=\"358.8746,-105.0001 368.8746,-101.5 358.8745,-98.0001 358.8746,-105.0001\"/>\n",
       "</g>\n",
       "<!-- 140071904512224 -->\n",
       "<g id=\"node6\" class=\"node\">\n",
       "<title>140071904512224</title>\n",
       "<polygon fill=\"none\" stroke=\"#000000\" points=\"738.5,-.5 738.5,-36.5 971.5,-36.5 971.5,-.5 738.5,-.5\"/>\n",
       "<text text-anchor=\"middle\" x=\"749.5\" y=\"-14.8\" font-family=\"Times,serif\" font-size=\"14.00\" fill=\"#000000\">f</text>\n",
       "<polyline fill=\"none\" stroke=\"#000000\" points=\"760.5,-.5 760.5,-36.5 \"/>\n",
       "<text text-anchor=\"middle\" x=\"814\" y=\"-14.8\" font-family=\"Times,serif\" font-size=\"14.00\" fill=\"#000000\">data &#45;2.0000</text>\n",
       "<polyline fill=\"none\" stroke=\"#000000\" points=\"867.5,-.5 867.5,-36.5 \"/>\n",
       "<text text-anchor=\"middle\" x=\"919.5\" y=\"-14.8\" font-family=\"Times,serif\" font-size=\"14.00\" fill=\"#000000\">grad 4.0000</text>\n",
       "</g>\n",
       "<!-- 140071904512224&#45;&gt;140071904511408* -->\n",
       "<g id=\"edge8\" class=\"edge\">\n",
       "<title>140071904512224&#45;&gt;140071904511408*</title>\n",
       "<path fill=\"none\" stroke=\"#000000\" d=\"M971.6765,-35.9048C981.5845,-37.3828 991.0345,-38.7924 999.4926,-40.0541\"/>\n",
       "<polygon fill=\"#000000\" stroke=\"#000000\" points=\"999.2287,-43.5534 1009.6357,-41.5672 1000.2615,-36.63 999.2287,-43.5534\"/>\n",
       "</g>\n",
       "<!-- 140071904512848 -->\n",
       "<g id=\"node7\" class=\"node\">\n",
       "<title>140071904512848</title>\n",
       "<polygon fill=\"none\" stroke=\"#000000\" points=\"367,-28.5 367,-64.5 611,-64.5 611,-28.5 367,-28.5\"/>\n",
       "<text text-anchor=\"middle\" x=\"379.5\" y=\"-42.8\" font-family=\"Times,serif\" font-size=\"14.00\" fill=\"#000000\">c</text>\n",
       "<polyline fill=\"none\" stroke=\"#000000\" points=\"392,-28.5 392,-64.5 \"/>\n",
       "<text text-anchor=\"middle\" x=\"447.5\" y=\"-42.8\" font-family=\"Times,serif\" font-size=\"14.00\" fill=\"#000000\">data 10.0000</text>\n",
       "<polyline fill=\"none\" stroke=\"#000000\" points=\"503,-28.5 503,-64.5 \"/>\n",
       "<text text-anchor=\"middle\" x=\"557\" y=\"-42.8\" font-family=\"Times,serif\" font-size=\"14.00\" fill=\"#000000\">grad &#45;2.0000</text>\n",
       "</g>\n",
       "<!-- 140071904512848&#45;&gt;140071904513184+ -->\n",
       "<g id=\"edge9\" class=\"edge\">\n",
       "<title>140071904512848&#45;&gt;140071904513184+</title>\n",
       "<path fill=\"none\" stroke=\"#000000\" d=\"M611.1093,-64.3214C620.4853,-65.6897 629.4076,-66.9919 637.431,-68.1629\"/>\n",
       "<polygon fill=\"#000000\" stroke=\"#000000\" points=\"637.0226,-71.6403 647.4233,-69.6212 638.0336,-64.7137 637.0226,-71.6403\"/>\n",
       "</g>\n",
       "<!-- 140071904511408 -->\n",
       "<g id=\"node8\" class=\"node\">\n",
       "<title>140071904511408</title>\n",
       "<polygon fill=\"none\" stroke=\"#000000\" points=\"1099,-27.5 1099,-63.5 1336,-63.5 1336,-27.5 1099,-27.5\"/>\n",
       "<text text-anchor=\"middle\" x=\"1112\" y=\"-41.8\" font-family=\"Times,serif\" font-size=\"14.00\" fill=\"#000000\">L</text>\n",
       "<polyline fill=\"none\" stroke=\"#000000\" points=\"1125,-27.5 1125,-63.5 \"/>\n",
       "<text text-anchor=\"middle\" x=\"1178.5\" y=\"-41.8\" font-family=\"Times,serif\" font-size=\"14.00\" fill=\"#000000\">data &#45;8.0000</text>\n",
       "<polyline fill=\"none\" stroke=\"#000000\" points=\"1232,-27.5 1232,-63.5 \"/>\n",
       "<text text-anchor=\"middle\" x=\"1284\" y=\"-41.8\" font-family=\"Times,serif\" font-size=\"14.00\" fill=\"#000000\">grad 1.0000</text>\n",
       "</g>\n",
       "<!-- 140071904511408*&#45;&gt;140071904511408 -->\n",
       "<g id=\"edge3\" class=\"edge\">\n",
       "<title>140071904511408*&#45;&gt;140071904511408</title>\n",
       "<path fill=\"none\" stroke=\"#000000\" d=\"M1063.1724,-45.5C1070.7322,-45.5 1079.4749,-45.5 1088.8787,-45.5\"/>\n",
       "<polygon fill=\"#000000\" stroke=\"#000000\" points=\"1088.896,-49.0001 1098.896,-45.5 1088.8959,-42.0001 1088.896,-49.0001\"/>\n",
       "</g>\n",
       "<!-- 140071904511936 -->\n",
       "<g id=\"node10\" class=\"node\">\n",
       "<title>140071904511936</title>\n",
       "<polygon fill=\"none\" stroke=\"#000000\" points=\"0,-56.5 0,-92.5 241,-92.5 241,-56.5 0,-56.5\"/>\n",
       "<text text-anchor=\"middle\" x=\"13\" y=\"-70.8\" font-family=\"Times,serif\" font-size=\"14.00\" fill=\"#000000\">b</text>\n",
       "<polyline fill=\"none\" stroke=\"#000000\" points=\"26,-56.5 26,-92.5 \"/>\n",
       "<text text-anchor=\"middle\" x=\"79.5\" y=\"-70.8\" font-family=\"Times,serif\" font-size=\"14.00\" fill=\"#000000\">data &#45;3.0000</text>\n",
       "<polyline fill=\"none\" stroke=\"#000000\" points=\"133,-56.5 133,-92.5 \"/>\n",
       "<text text-anchor=\"middle\" x=\"187\" y=\"-70.8\" font-family=\"Times,serif\" font-size=\"14.00\" fill=\"#000000\">grad &#45;4.0000</text>\n",
       "</g>\n",
       "<!-- 140071904511936&#45;&gt;140071904511696* -->\n",
       "<g id=\"edge6\" class=\"edge\">\n",
       "<title>140071904511936&#45;&gt;140071904511696*</title>\n",
       "<path fill=\"none\" stroke=\"#000000\" d=\"M241.1064,-92.2459C250.4693,-93.6235 259.3858,-94.9355 267.4077,-96.1158\"/>\n",
       "<polygon fill=\"#000000\" stroke=\"#000000\" points=\"266.9973,-99.5931 277.4003,-97.5861 268.0163,-92.6676 266.9973,-99.5931\"/>\n",
       "</g>\n",
       "</g>\n",
       "</svg>\n"
      ],
      "text/plain": [
       "<graphviz.graphs.Digraph at 0x7f65081cf3d0>"
      ]
     },
     "execution_count": 12,
     "metadata": {},
     "output_type": "execute_result"
    }
   ],
   "source": [
    "# OK, now let's manually initialize the gradients for the nodes in our function graph\n",
    "\n",
    "L.grad = 1.0\n",
    "\n",
    "d.grad = -2.0\n",
    "f.grad =  4.0\n",
    "\n",
    "c.grad = -2.0\n",
    "e.grad = -2.0\n",
    "\n",
    "a.grad =  6.0\n",
    "b.grad = -4.0\n",
    "\n",
    "draw_dot(L)"
   ]
  },
  {
   "cell_type": "markdown",
   "id": "7fb22b58-b758-4e19-92a3-dfb51fae94e7",
   "metadata": {},
   "source": [
    "Nudging $a$, $b$, $c$ and $f$ _in the direction of the gradient_, we should then see an increase in $L$..."
   ]
  },
  {
   "cell_type": "code",
   "execution_count": 13,
   "id": "051092c6-8847-4e56-b916-b03016db02f0",
   "metadata": {
    "tags": []
   },
   "outputs": [
    {
     "data": {
      "image/svg+xml": [
       "<?xml version=\"1.0\" encoding=\"UTF-8\" standalone=\"no\"?>\n",
       "<!DOCTYPE svg PUBLIC \"-//W3C//DTD SVG 1.1//EN\"\n",
       " \"http://www.w3.org/Graphics/SVG/1.1/DTD/svg11.dtd\">\n",
       "<!-- Generated by graphviz version 2.40.1 (20161225.0304)\n",
       " -->\n",
       "<!-- Title: %3 Pages: 1 -->\n",
       "<svg width=\"1340pt\" height=\"156pt\"\n",
       " viewBox=\"0.00 0.00 1340.00 156.00\" xmlns=\"http://www.w3.org/2000/svg\" xmlns:xlink=\"http://www.w3.org/1999/xlink\">\n",
       "<g id=\"graph0\" class=\"graph\" transform=\"scale(1 1) rotate(0) translate(4 152)\">\n",
       "<title>%3</title>\n",
       "<polygon fill=\"#ffffff\" stroke=\"transparent\" points=\"-4,4 -4,-152 1336,-152 1336,4 -4,4\"/>\n",
       "<!-- 140071904510544 -->\n",
       "<g id=\"node1\" class=\"node\">\n",
       "<title>140071904510544</title>\n",
       "<polygon fill=\"none\" stroke=\"#000000\" points=\"5,-111.5 5,-147.5 236,-147.5 236,-111.5 5,-111.5\"/>\n",
       "<text text-anchor=\"middle\" x=\"17.5\" y=\"-125.8\" font-family=\"Times,serif\" font-size=\"14.00\" fill=\"#000000\">a</text>\n",
       "<polyline fill=\"none\" stroke=\"#000000\" points=\"30,-111.5 30,-147.5 \"/>\n",
       "<text text-anchor=\"middle\" x=\"81\" y=\"-125.8\" font-family=\"Times,serif\" font-size=\"14.00\" fill=\"#000000\">data 2.0600</text>\n",
       "<polyline fill=\"none\" stroke=\"#000000\" points=\"132,-111.5 132,-147.5 \"/>\n",
       "<text text-anchor=\"middle\" x=\"184\" y=\"-125.8\" font-family=\"Times,serif\" font-size=\"14.00\" fill=\"#000000\">grad 6.0000</text>\n",
       "</g>\n",
       "<!-- 140071904511696* -->\n",
       "<g id=\"node5\" class=\"node\">\n",
       "<title>140071904511696*</title>\n",
       "<ellipse fill=\"none\" stroke=\"#000000\" cx=\"304\" cy=\"-101.5\" rx=\"27\" ry=\"18\"/>\n",
       "<text text-anchor=\"middle\" x=\"304\" y=\"-97.8\" font-family=\"Times,serif\" font-size=\"14.00\" fill=\"#000000\">*</text>\n",
       "</g>\n",
       "<!-- 140071904510544&#45;&gt;140071904511696* -->\n",
       "<g id=\"edge4\" class=\"edge\">\n",
       "<title>140071904510544&#45;&gt;140071904511696*</title>\n",
       "<path fill=\"none\" stroke=\"#000000\" d=\"M236.1927,-111.8466C247.3204,-110.1487 257.9429,-108.5278 267.3408,-107.0938\"/>\n",
       "<polygon fill=\"#000000\" stroke=\"#000000\" points=\"268.035,-110.5284 277.3926,-105.56 266.9791,-103.6085 268.035,-110.5284\"/>\n",
       "</g>\n",
       "<!-- 140071904513184 -->\n",
       "<g id=\"node2\" class=\"node\">\n",
       "<title>140071904513184</title>\n",
       "<polygon fill=\"none\" stroke=\"#000000\" points=\"733,-55.5 733,-91.5 969,-91.5 969,-55.5 733,-55.5\"/>\n",
       "<text text-anchor=\"middle\" x=\"746\" y=\"-69.8\" font-family=\"Times,serif\" font-size=\"14.00\" fill=\"#000000\">d</text>\n",
       "<polyline fill=\"none\" stroke=\"#000000\" points=\"759,-55.5 759,-91.5 \"/>\n",
       "<text text-anchor=\"middle\" x=\"810\" y=\"-69.8\" font-family=\"Times,serif\" font-size=\"14.00\" fill=\"#000000\">data 3.7176</text>\n",
       "<polyline fill=\"none\" stroke=\"#000000\" points=\"861,-55.5 861,-91.5 \"/>\n",
       "<text text-anchor=\"middle\" x=\"915\" y=\"-69.8\" font-family=\"Times,serif\" font-size=\"14.00\" fill=\"#000000\">grad &#45;2.0000</text>\n",
       "</g>\n",
       "<!-- 140071904511408* -->\n",
       "<g id=\"node9\" class=\"node\">\n",
       "<title>140071904511408*</title>\n",
       "<ellipse fill=\"none\" stroke=\"#000000\" cx=\"1032\" cy=\"-45.5\" rx=\"27\" ry=\"18\"/>\n",
       "<text text-anchor=\"middle\" x=\"1032\" y=\"-41.8\" font-family=\"Times,serif\" font-size=\"14.00\" fill=\"#000000\">*</text>\n",
       "</g>\n",
       "<!-- 140071904513184&#45;&gt;140071904511408* -->\n",
       "<g id=\"edge7\" class=\"edge\">\n",
       "<title>140071904513184&#45;&gt;140071904511408*</title>\n",
       "<path fill=\"none\" stroke=\"#000000\" d=\"M967.4214,-55.4901C977.4717,-53.9353 987.0562,-52.4526 995.619,-51.128\"/>\n",
       "<polygon fill=\"#000000\" stroke=\"#000000\" points=\"996.1725,-54.5841 1005.5198,-49.5964 995.1022,-47.6664 996.1725,-54.5841\"/>\n",
       "</g>\n",
       "<!-- 140071904513184+ -->\n",
       "<g id=\"node3\" class=\"node\">\n",
       "<title>140071904513184+</title>\n",
       "<ellipse fill=\"none\" stroke=\"#000000\" cx=\"670\" cy=\"-73.5\" rx=\"27\" ry=\"18\"/>\n",
       "<text text-anchor=\"middle\" x=\"670\" y=\"-69.8\" font-family=\"Times,serif\" font-size=\"14.00\" fill=\"#000000\">+</text>\n",
       "</g>\n",
       "<!-- 140071904513184+&#45;&gt;140071904513184 -->\n",
       "<g id=\"edge1\" class=\"edge\">\n",
       "<title>140071904513184+&#45;&gt;140071904513184</title>\n",
       "<path fill=\"none\" stroke=\"#000000\" d=\"M697.0975,-73.5C704.5571,-73.5 713.1717,-73.5 722.4371,-73.5\"/>\n",
       "<polygon fill=\"#000000\" stroke=\"#000000\" points=\"722.7227,-77.0001 732.7227,-73.5 722.7227,-70.0001 722.7227,-77.0001\"/>\n",
       "</g>\n",
       "<!-- 140071904511696 -->\n",
       "<g id=\"node4\" class=\"node\">\n",
       "<title>140071904511696</title>\n",
       "<polygon fill=\"none\" stroke=\"#000000\" points=\"367,-83.5 367,-119.5 607,-119.5 607,-83.5 367,-83.5\"/>\n",
       "<text text-anchor=\"middle\" x=\"379.5\" y=\"-97.8\" font-family=\"Times,serif\" font-size=\"14.00\" fill=\"#000000\">e</text>\n",
       "<polyline fill=\"none\" stroke=\"#000000\" points=\"392,-83.5 392,-119.5 \"/>\n",
       "<text text-anchor=\"middle\" x=\"445.5\" y=\"-97.8\" font-family=\"Times,serif\" font-size=\"14.00\" fill=\"#000000\">data &#45;6.2624</text>\n",
       "<polyline fill=\"none\" stroke=\"#000000\" points=\"499,-83.5 499,-119.5 \"/>\n",
       "<text text-anchor=\"middle\" x=\"553\" y=\"-97.8\" font-family=\"Times,serif\" font-size=\"14.00\" fill=\"#000000\">grad &#45;2.0000</text>\n",
       "</g>\n",
       "<!-- 140071904511696&#45;&gt;140071904513184+ -->\n",
       "<g id=\"edge5\" class=\"edge\">\n",
       "<title>140071904511696&#45;&gt;140071904513184+</title>\n",
       "<path fill=\"none\" stroke=\"#000000\" d=\"M604.7078,-83.4901C614.9678,-81.9202 624.7477,-80.4239 633.4689,-79.0895\"/>\n",
       "<polygon fill=\"#000000\" stroke=\"#000000\" points=\"634.1874,-82.5203 643.543,-77.5481 633.1286,-75.6009 634.1874,-82.5203\"/>\n",
       "</g>\n",
       "<!-- 140071904511696*&#45;&gt;140071904511696 -->\n",
       "<g id=\"edge2\" class=\"edge\">\n",
       "<title>140071904511696*&#45;&gt;140071904511696</title>\n",
       "<path fill=\"none\" stroke=\"#000000\" d=\"M331.0023,-101.5C338.4497,-101.5 347.0569,-101.5 356.3253,-101.5\"/>\n",
       "<polygon fill=\"#000000\" stroke=\"#000000\" points=\"356.6183,-105.0001 366.6182,-101.5 356.6182,-98.0001 356.6183,-105.0001\"/>\n",
       "</g>\n",
       "<!-- 140071904512224 -->\n",
       "<g id=\"node6\" class=\"node\">\n",
       "<title>140071904512224</title>\n",
       "<polygon fill=\"none\" stroke=\"#000000\" points=\"734.5,-.5 734.5,-36.5 967.5,-36.5 967.5,-.5 734.5,-.5\"/>\n",
       "<text text-anchor=\"middle\" x=\"745.5\" y=\"-14.8\" font-family=\"Times,serif\" font-size=\"14.00\" fill=\"#000000\">f</text>\n",
       "<polyline fill=\"none\" stroke=\"#000000\" points=\"756.5,-.5 756.5,-36.5 \"/>\n",
       "<text text-anchor=\"middle\" x=\"810\" y=\"-14.8\" font-family=\"Times,serif\" font-size=\"14.00\" fill=\"#000000\">data &#45;1.9600</text>\n",
       "<polyline fill=\"none\" stroke=\"#000000\" points=\"863.5,-.5 863.5,-36.5 \"/>\n",
       "<text text-anchor=\"middle\" x=\"915.5\" y=\"-14.8\" font-family=\"Times,serif\" font-size=\"14.00\" fill=\"#000000\">grad 4.0000</text>\n",
       "</g>\n",
       "<!-- 140071904512224&#45;&gt;140071904511408* -->\n",
       "<g id=\"edge8\" class=\"edge\">\n",
       "<title>140071904512224&#45;&gt;140071904511408*</title>\n",
       "<path fill=\"none\" stroke=\"#000000\" d=\"M967.6765,-35.9048C977.5845,-37.3828 987.0345,-38.7924 995.4926,-40.0541\"/>\n",
       "<polygon fill=\"#000000\" stroke=\"#000000\" points=\"995.2287,-43.5534 1005.6357,-41.5672 996.2615,-36.63 995.2287,-43.5534\"/>\n",
       "</g>\n",
       "<!-- 140071904512848 -->\n",
       "<g id=\"node7\" class=\"node\">\n",
       "<title>140071904512848</title>\n",
       "<polygon fill=\"none\" stroke=\"#000000\" points=\"369.5,-28.5 369.5,-64.5 604.5,-64.5 604.5,-28.5 369.5,-28.5\"/>\n",
       "<text text-anchor=\"middle\" x=\"382\" y=\"-42.8\" font-family=\"Times,serif\" font-size=\"14.00\" fill=\"#000000\">c</text>\n",
       "<polyline fill=\"none\" stroke=\"#000000\" points=\"394.5,-28.5 394.5,-64.5 \"/>\n",
       "<text text-anchor=\"middle\" x=\"445.5\" y=\"-42.8\" font-family=\"Times,serif\" font-size=\"14.00\" fill=\"#000000\">data 9.9800</text>\n",
       "<polyline fill=\"none\" stroke=\"#000000\" points=\"496.5,-28.5 496.5,-64.5 \"/>\n",
       "<text text-anchor=\"middle\" x=\"550.5\" y=\"-42.8\" font-family=\"Times,serif\" font-size=\"14.00\" fill=\"#000000\">grad &#45;2.0000</text>\n",
       "</g>\n",
       "<!-- 140071904512848&#45;&gt;140071904513184+ -->\n",
       "<g id=\"edge9\" class=\"edge\">\n",
       "<title>140071904512848&#45;&gt;140071904513184+</title>\n",
       "<path fill=\"none\" stroke=\"#000000\" d=\"M604.7078,-63.8667C614.9678,-65.3805 624.7477,-66.8234 633.4689,-68.1102\"/>\n",
       "<polygon fill=\"#000000\" stroke=\"#000000\" points=\"633.1392,-71.5993 643.543,-69.5965 634.161,-64.6743 633.1392,-71.5993\"/>\n",
       "</g>\n",
       "<!-- 140071904511408 -->\n",
       "<g id=\"node8\" class=\"node\">\n",
       "<title>140071904511408</title>\n",
       "<polygon fill=\"none\" stroke=\"#000000\" points=\"1095,-27.5 1095,-63.5 1332,-63.5 1332,-27.5 1095,-27.5\"/>\n",
       "<text text-anchor=\"middle\" x=\"1108\" y=\"-41.8\" font-family=\"Times,serif\" font-size=\"14.00\" fill=\"#000000\">L</text>\n",
       "<polyline fill=\"none\" stroke=\"#000000\" points=\"1121,-27.5 1121,-63.5 \"/>\n",
       "<text text-anchor=\"middle\" x=\"1174.5\" y=\"-41.8\" font-family=\"Times,serif\" font-size=\"14.00\" fill=\"#000000\">data &#45;7.2865</text>\n",
       "<polyline fill=\"none\" stroke=\"#000000\" points=\"1228,-27.5 1228,-63.5 \"/>\n",
       "<text text-anchor=\"middle\" x=\"1280\" y=\"-41.8\" font-family=\"Times,serif\" font-size=\"14.00\" fill=\"#000000\">grad 1.0000</text>\n",
       "</g>\n",
       "<!-- 140071904511408*&#45;&gt;140071904511408 -->\n",
       "<g id=\"edge3\" class=\"edge\">\n",
       "<title>140071904511408*&#45;&gt;140071904511408</title>\n",
       "<path fill=\"none\" stroke=\"#000000\" d=\"M1059.1724,-45.5C1066.7322,-45.5 1075.4749,-45.5 1084.8787,-45.5\"/>\n",
       "<polygon fill=\"#000000\" stroke=\"#000000\" points=\"1084.896,-49.0001 1094.896,-45.5 1084.8959,-42.0001 1084.896,-49.0001\"/>\n",
       "</g>\n",
       "<!-- 140071904511936 -->\n",
       "<g id=\"node10\" class=\"node\">\n",
       "<title>140071904511936</title>\n",
       "<polygon fill=\"none\" stroke=\"#000000\" points=\"0,-56.5 0,-92.5 241,-92.5 241,-56.5 0,-56.5\"/>\n",
       "<text text-anchor=\"middle\" x=\"13\" y=\"-70.8\" font-family=\"Times,serif\" font-size=\"14.00\" fill=\"#000000\">b</text>\n",
       "<polyline fill=\"none\" stroke=\"#000000\" points=\"26,-56.5 26,-92.5 \"/>\n",
       "<text text-anchor=\"middle\" x=\"79.5\" y=\"-70.8\" font-family=\"Times,serif\" font-size=\"14.00\" fill=\"#000000\">data &#45;3.0400</text>\n",
       "<polyline fill=\"none\" stroke=\"#000000\" points=\"133,-56.5 133,-92.5 \"/>\n",
       "<text text-anchor=\"middle\" x=\"187\" y=\"-70.8\" font-family=\"Times,serif\" font-size=\"14.00\" fill=\"#000000\">grad &#45;4.0000</text>\n",
       "</g>\n",
       "<!-- 140071904511936&#45;&gt;140071904511696* -->\n",
       "<g id=\"edge6\" class=\"edge\">\n",
       "<title>140071904511936&#45;&gt;140071904511696*</title>\n",
       "<path fill=\"none\" stroke=\"#000000\" d=\"M241.1064,-92.2459C250.4693,-93.6235 259.3858,-94.9355 267.4077,-96.1158\"/>\n",
       "<polygon fill=\"#000000\" stroke=\"#000000\" points=\"266.9973,-99.5931 277.4003,-97.5861 268.0163,-92.6676 266.9973,-99.5931\"/>\n",
       "</g>\n",
       "</g>\n",
       "</svg>\n"
      ],
      "text/plain": [
       "<graphviz.graphs.Digraph at 0x7f65080a46d0>"
      ]
     },
     "execution_count": 13,
     "metadata": {},
     "output_type": "execute_result"
    }
   ],
   "source": [
    "a.data += 0.01 * a.grad\n",
    "b.data += 0.01 * b.grad\n",
    "c.data += 0.01 * c.grad\n",
    "f.data += 0.01 * f.grad\n",
    "\n",
    "e.data = a.data * b.data\n",
    "d.data = e.data + c.data\n",
    "L.data = d.data * f.data\n",
    "\n",
    "\n",
    "#print(L.data)\n",
    "draw_dot(L)"
   ]
  },
  {
   "cell_type": "markdown",
   "id": "106255ac-f457-4f61-a7da-3edabff19baa",
   "metadata": {},
   "source": [
    "An interesting note, you may have noticed that with an _addition_ operation like $d = e + c$ above, the gradients flowing in are merely distributed to the child nodes at that layer.\n",
    "\n",
    "You can see that using the following function."
   ]
  },
  {
   "cell_type": "code",
   "execution_count": 14,
   "id": "22ebdd20-0142-4bac-bba8-8db6a7f26d33",
   "metadata": {
    "tags": []
   },
   "outputs": [
    {
     "name": "stdout",
     "output_type": "stream",
     "text": [
      "-1.9999999999953388\n"
     ]
    }
   ],
   "source": [
    "def lol():\n",
    "    h = 0.0001\n",
    "    \n",
    "    a = Value(2.0, label='a')\n",
    "    b = Value(-3.0, label='b')\n",
    "    c = Value(10.0, label='c')\n",
    "    e = a*b; e.label = 'e'\n",
    "    d = e + c; d.label = 'd'\n",
    "    f = Value(-2.0, label='f')\n",
    "    L = d * f; L.label = 'L'\n",
    "    L1 = L.data\n",
    "    \n",
    "    a = Value(2.0, label='a')\n",
    "    b = Value(-3.0, label='b')\n",
    "    \n",
    "    c = Value(10.0, label='c')\n",
    "    #c.data += h\n",
    "    \n",
    "    e = a*b; e.label = 'e'\n",
    "    e.data += h\n",
    "    \n",
    "    d = e + c; d.label = 'd'\n",
    "    f = Value(-2.0, label='f')\n",
    "    L = d * f; L.label = 'L'\n",
    "    L2 = L.data\n",
    "    \n",
    "    print((L2 - L1) / h)\n",
    "    \n",
    "lol()"
   ]
  },
  {
   "cell_type": "code",
   "execution_count": null,
   "id": "6a8ed694-2570-4e94-9d17-95ffb935a2ee",
   "metadata": {},
   "outputs": [],
   "source": []
  }
 ],
 "metadata": {
  "kernelspec": {
   "display_name": "Python 3 (ipykernel)",
   "language": "python",
   "name": "python3"
  },
  "language_info": {
   "codemirror_mode": {
    "name": "ipython",
    "version": 3
   },
   "file_extension": ".py",
   "mimetype": "text/x-python",
   "name": "python",
   "nbconvert_exporter": "python",
   "pygments_lexer": "ipython3",
   "version": "3.8.16"
  }
 },
 "nbformat": 4,
 "nbformat_minor": 5
}

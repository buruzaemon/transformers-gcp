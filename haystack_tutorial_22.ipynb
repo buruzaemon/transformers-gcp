{
 "cells": [
  {
   "cell_type": "markdown",
   "id": "6bcb3a8d-63ae-41ff-a794-373d4ca59926",
   "metadata": {},
   "source": [
    "# Tutorial: Creating a Generative QA Pipeline with Retrieval-Augmentation\n",
    "\n",
    "#### Level: Intermediate\n",
    "\n",
    "#### Nodes Used: `InMemoryDocumentStore`, `BM25Retriever`, `PromptNode`, `PromptTemplate`"
   ]
  },
  {
   "cell_type": "code",
   "execution_count": 1,
   "id": "9d7a32c5-56a7-47a6-9c3f-d8ef8a169e92",
   "metadata": {},
   "outputs": [],
   "source": [
    "import logging\n",
    "\n",
    "logging.basicConfig(format=\"%(levelname)s - %(name)s -  %(message)s\", level=logging.WARNING)\n",
    "logging.getLogger(\"haystack\").setLevel(logging.INFO)"
   ]
  },
  {
   "cell_type": "code",
   "execution_count": 2,
   "id": "9f077763-d9aa-4642-aa65-f50f29cf4ab7",
   "metadata": {},
   "outputs": [
    {
     "name": "stderr",
     "output_type": "stream",
     "text": [
      "INFO - haystack.modeling.utils -  Using devices: CUDA:0 - Number of GPUs: 1\n"
     ]
    }
   ],
   "source": [
    "from haystack.document_stores import InMemoryDocumentStore\n",
    "\n",
    "document_store = InMemoryDocumentStore(use_bm25=True)"
   ]
  },
  {
   "cell_type": "code",
   "execution_count": 3,
   "id": "f286a705-26f1-434a-a4c3-e39fe475b17a",
   "metadata": {},
   "outputs": [
    {
     "name": "stderr",
     "output_type": "stream",
     "text": [
      "Updating BM25 representation...: 100%|█████████████████████████████████| 151/151 [00:00<00:00, 14269.88 docs/s]\n"
     ]
    }
   ],
   "source": [
    "from datasets import load_dataset\n",
    "\n",
    "dataset = load_dataset(\"bilgeyucel/seven-wonders\", split=\"train\")\n",
    "\n",
    "document_store.write_documents(dataset)"
   ]
  },
  {
   "cell_type": "code",
   "execution_count": 4,
   "id": "a1cf4f4d-8cac-465e-846b-1a25a354419f",
   "metadata": {},
   "outputs": [],
   "source": [
    "from haystack.nodes import BM25Retriever\n",
    "\n",
    "retriever = BM25Retriever(\n",
    "    document_store=document_store, \n",
    "    top_k=2\n",
    ")"
   ]
  },
  {
   "cell_type": "code",
   "execution_count": 5,
   "id": "6c234bb8-93cc-4ab0-9f02-17cd6df55ee7",
   "metadata": {},
   "outputs": [
    {
     "name": "stderr",
     "output_type": "stream",
     "text": [
      "INFO - haystack.modeling.utils -  Using devices: CUDA:0 - Number of GPUs: 1\n"
     ]
    }
   ],
   "source": [
    "from haystack.nodes import PromptNode, PromptTemplate, AnswerParser\n",
    "\n",
    "rag_prompt = PromptTemplate(\n",
    "    prompt=\"\"\"Synthesize a comprehensive answer from the following text for the given question.\n",
    "                             Provide a clear and concise response that summarizes the key points and information presented in the text.\n",
    "                             Your answer should be in your own words and be no longer than 50 words.\n",
    "                             \\n\\n Related text: {join(documents)} \\n\\n Question: {query} \\n\\n Answer:\"\"\",\n",
    "    output_parser=AnswerParser(),\n",
    ")\n",
    "\n",
    "prompt_node = PromptNode(\n",
    "    model_name_or_path=\"google/flan-t5-large\", \n",
    "    default_prompt_template=rag_prompt\n",
    ")"
   ]
  },
  {
   "cell_type": "code",
   "execution_count": 6,
   "id": "d9bd8a2d-32b6-4968-874b-4a02924fea9a",
   "metadata": {},
   "outputs": [],
   "source": [
    "from haystack.pipelines import Pipeline\n",
    "\n",
    "pipe = Pipeline()\n",
    "\n",
    "pipe.add_node(\n",
    "    component=retriever, \n",
    "    name=\"retriever\", \n",
    "    inputs=[\"Query\"]\n",
    ")\n",
    "\n",
    "pipe.add_node(\n",
    "    component=prompt_node, \n",
    "    name=\"prompt_node\", \n",
    "    inputs=[\"retriever\"]\n",
    ")"
   ]
  },
  {
   "cell_type": "code",
   "execution_count": 7,
   "id": "fd86d816-2acd-4a15-9110-86edee9650ef",
   "metadata": {},
   "outputs": [
    {
     "data": {
      "image/png": "[encoded data removed]",
      "text/plain": [
       "<IPython.core.display.Image object>"
      ]
     },
     "metadata": {},
     "output_type": "display_data"
    }
   ],
   "source": [
    "pipe_png = \"images/pipeline_generative_retrieval_augmentation.png\"\n",
    "\n",
    "pipe.draw(pipe_png)\n",
    "\n",
    "from IPython.display import Image, display\n",
    "display(Image(filename=pipe_png))"
   ]
  },
  {
   "cell_type": "code",
   "execution_count": 8,
   "id": "575e36ab-f53f-4eb2-b5f1-a5da18753910",
   "metadata": {},
   "outputs": [
    {
     "name": "stderr",
     "output_type": "stream",
     "text": [
      "Token indices sequence length is longer than the specified maximum sequence length for this model (560 > 512). Running this sequence through the model will result in indexing errors\n",
      "WARNING - haystack.nodes.prompt.invocation_layer.hugging_face -  The prompt has been truncated from 560 tokens to 412 tokens so that the prompt length and answer length (100 tokens) fit within the max token limit (512 tokens). Shorten the prompt to prevent it from being cut off\n"
     ]
    },
    {
     "name": "stdout",
     "output_type": "stream",
     "text": [
      "The Colossus was a mythical figure, and the mythical figure is the mythical Colossus.\n"
     ]
    }
   ],
   "source": [
    "output = pipe.run(\n",
    "    query=\"What does Rhodes Statue look like?\"\n",
    ")\n",
    "\n",
    "print(output[\"answers\"][0].answer)"
   ]
  }
 ],
 "metadata": {
  "kernelspec": {
   "display_name": "Python 3 (ipykernel)",
   "language": "python",
   "name": "python3"
  },
  "language_info": {
   "codemirror_mode": {
    "name": "ipython",
    "version": 3
   },
   "file_extension": ".py",
   "mimetype": "text/x-python",
   "name": "python",
   "nbconvert_exporter": "python",
   "pygments_lexer": "ipython3",
   "version": "3.8.17"
  }
 },
 "nbformat": 4,
 "nbformat_minor": 5
}

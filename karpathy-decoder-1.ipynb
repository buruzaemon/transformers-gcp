{
 "cells": [
  {
   "cell_type": "code",
   "execution_count": 1,
   "id": "4c32bb1f-cd34-4cb7-a06a-649c2eabb685",
   "metadata": {
    "tags": []
   },
   "outputs": [],
   "source": [
    "with open('input.txt', 'r', encoding='UTF-8') as fin:\n",
    "    text = fin.read()"
   ]
  },
  {
   "cell_type": "code",
   "execution_count": 2,
   "id": "8fdec72f-0166-4fca-b7e2-36aca4875492",
   "metadata": {
    "tags": []
   },
   "outputs": [
    {
     "name": "stdout",
     "output_type": "stream",
     "text": [
      "length of dataset: 1115394\n"
     ]
    }
   ],
   "source": [
    "print(f\"length of dataset: {len(text)}\")"
   ]
  },
  {
   "cell_type": "code",
   "execution_count": 3,
   "id": "145c1f8d-44a0-4c1d-a44d-6d76490699e8",
   "metadata": {
    "tags": []
   },
   "outputs": [
    {
     "name": "stdout",
     "output_type": "stream",
     "text": [
      "First Citizen:\n",
      "Before we proceed any further, hear me speak.\n",
      "\n",
      "All:\n",
      "Speak, speak.\n",
      "\n",
      "First Citizen:\n",
      "You are all resolved rather to die than to famish?\n",
      "\n",
      "All:\n",
      "Resolved. resolved.\n",
      "\n",
      "First Citizen:\n",
      "First, you know Caius Marcius is chief enemy to the people.\n",
      "\n",
      "All:\n",
      "\n"
     ]
    }
   ],
   "source": [
    "print(text[:256])"
   ]
  },
  {
   "cell_type": "code",
   "execution_count": 4,
   "id": "fbcc9a5f-3de1-4247-93fb-eb2adf61deaa",
   "metadata": {
    "tags": []
   },
   "outputs": [
    {
     "name": "stdout",
     "output_type": "stream",
     "text": [
      "\n",
      " !$&',-.3:;?ABCDEFGHIJKLMNOPQRSTUVWXYZabcdefghijklmnopqrstuvwxyz\n",
      "65\n"
     ]
    }
   ],
   "source": [
    "# create \"vocab\"\n",
    "chars = sorted(list(set(text)))\n",
    "vocab_size = len(chars)\n",
    "print(''.join(chars))\n",
    "print(vocab_size)"
   ]
  },
  {
   "cell_type": "code",
   "execution_count": 5,
   "id": "491d9dd8-c745-43ba-9054-2069b4a7e76f",
   "metadata": {
    "tags": []
   },
   "outputs": [
    {
     "name": "stdout",
     "output_type": "stream",
     "text": [
      "[46, 43, 63, 1, 58, 46, 43, 56, 43]\n",
      "hey there\n"
     ]
    }
   ],
   "source": [
    "# character-level tokenization for the character-based transformer\n",
    "stoi = { ch:i for i,ch in enumerate(chars) }\n",
    "itos = { i:ch for i,ch in enumerate(chars) }\n",
    "encode = lambda s: [stoi[c] for c in s]           # encoder: take a string, output a list of int\n",
    "decode = lambda l: ''.join([itos[i] for i in l])  # decoder: take a list of int, output a string\n",
    "\n",
    "print(encode(\"hey there\"))\n",
    "print(decode(encode(\"hey there\")))"
   ]
  },
  {
   "cell_type": "markdown",
   "id": "fe33c8fb-f89d-464a-8248-4daf6e07f8e3",
   "metadata": {},
   "source": [
    "----"
   ]
  },
  {
   "cell_type": "code",
   "execution_count": 6,
   "id": "d040bc3d-86fb-47ce-8f6c-2ae8e90f1937",
   "metadata": {
    "tags": []
   },
   "outputs": [
    {
     "name": "stdout",
     "output_type": "stream",
     "text": [
      "torch.Size([1115394]) torch.int64\n",
      "tensor([18, 47, 56, 57, 58,  1, 15, 47, 58, 47, 64, 43, 52, 10,  0, 14, 43, 44,\n",
      "        53, 56, 43,  1, 61, 43,  1, 54, 56, 53, 41, 43, 43, 42,  1, 39, 52, 63,\n",
      "         1, 44, 59, 56, 58, 46, 43, 56,  6,  1, 46, 43, 39, 56,  1, 51, 43,  1,\n",
      "        57, 54, 43, 39, 49,  8,  0,  0, 13, 50, 50, 10,  0, 31, 54, 43, 39, 49,\n",
      "         6,  1, 57, 54, 43, 39, 49,  8,  0,  0, 18, 47, 56, 57, 58,  1, 15, 47,\n",
      "        58, 47, 64, 43, 52, 10,  0, 37, 53, 59,  1, 39, 56, 43,  1, 39, 50, 50,\n",
      "         1, 56, 43, 57, 53, 50, 60, 43, 42,  1, 56, 39, 58, 46, 43, 56,  1, 58,\n",
      "        53,  1, 42, 47, 43,  1, 58, 46, 39, 52,  1, 58, 53,  1, 44, 39, 51, 47,\n",
      "        57, 46, 12,  0,  0, 13, 50, 50, 10,  0, 30, 43, 57, 53, 50, 60, 43, 42,\n",
      "         8,  1, 56, 43, 57, 53, 50, 60, 43, 42,  8,  0,  0, 18, 47, 56, 57, 58,\n",
      "         1, 15, 47, 58, 47, 64, 43, 52, 10,  0, 18, 47, 56, 57, 58,  6,  1, 63,\n",
      "        53, 59,  1, 49, 52, 53, 61,  1, 15, 39, 47, 59, 57,  1, 25, 39, 56, 41,\n",
      "        47, 59, 57,  1, 47, 57,  1, 41, 46, 47, 43, 44,  1, 43, 52, 43, 51, 63,\n",
      "         1, 58, 53,  1, 58, 46, 43,  1, 54, 43, 53, 54, 50, 43,  8,  0,  0, 13,\n",
      "        50, 50, 10,  0])\n"
     ]
    }
   ],
   "source": [
    "import torch\n",
    "\n",
    "data = torch.tensor(encode(text), dtype=torch.long)\n",
    "\n",
    "print(data.shape, data.dtype)\n",
    "print(data[:256])                                 # the 256 chars# we peeked at earlier"
   ]
  },
  {
   "cell_type": "code",
   "execution_count": 7,
   "id": "fdb81aea-dc05-4c9f-821b-d784627be2c8",
   "metadata": {
    "tags": []
   },
   "outputs": [],
   "source": [
    "# train-validation split: 90-10\n",
    "n = int(0.9*len(data))\n",
    "train_data = data[:n]\n",
    "valid_data = data[n:]"
   ]
  },
  {
   "cell_type": "code",
   "execution_count": 8,
   "id": "6bc337db-346c-4381-8757-c495b802d961",
   "metadata": {
    "tags": []
   },
   "outputs": [
    {
     "data": {
      "text/plain": [
       "tensor([18, 47, 56, 57, 58,  1, 15, 47, 58])"
      ]
     },
     "execution_count": 8,
     "metadata": {},
     "output_type": "execute_result"
    }
   ],
   "source": [
    "block_size = 8\n",
    "\n",
    "train_data[:block_size+1]"
   ]
  },
  {
   "cell_type": "code",
   "execution_count": 9,
   "id": "c2618594-d1bb-41d0-b8f7-88b7bd5cc047",
   "metadata": {
    "tags": []
   },
   "outputs": [
    {
     "name": "stdout",
     "output_type": "stream",
     "text": [
      "when input is tensor([18]), the target is: 47\n",
      "when input is tensor([18, 47]), the target is: 56\n",
      "when input is tensor([18, 47, 56]), the target is: 57\n",
      "when input is tensor([18, 47, 56, 57]), the target is: 58\n",
      "when input is tensor([18, 47, 56, 57, 58]), the target is: 1\n",
      "when input is tensor([18, 47, 56, 57, 58,  1]), the target is: 15\n",
      "when input is tensor([18, 47, 56, 57, 58,  1, 15]), the target is: 47\n",
      "when input is tensor([18, 47, 56, 57, 58,  1, 15, 47]), the target is: 58\n"
     ]
    }
   ],
   "source": [
    "# context size will be allowed to range from 1 to block_size\n",
    "# this will allow the model to make inferences of size ranging from 1 to block_size\n",
    "x = train_data[:block_size]\n",
    "y = train_data[1:block_size+1]                    # shift window 1 step into future!\n",
    "\n",
    "for t in range(block_size):\n",
    "    context = x[:t+1]                             # context up through the present t\n",
    "    target  = y[t]                                # the char following position t\n",
    "    print(f\"when input is {context}, the target is: {target}\")"
   ]
  },
  {
   "cell_type": "markdown",
   "id": "80f9d90a-fbeb-4b06-9bc9-15ad4057a99b",
   "metadata": {},
   "source": [
    "----"
   ]
  },
  {
   "cell_type": "code",
   "execution_count": 10,
   "id": "0998b5ef-9950-44a4-bc9d-7b500d3c0c12",
   "metadata": {
    "tags": []
   },
   "outputs": [
    {
     "name": "stdout",
     "output_type": "stream",
     "text": [
      "inputs:\n",
      "torch.Size([4, 8])\n",
      "tensor([[24, 43, 58,  5, 57,  1, 46, 43],\n",
      "        [44, 53, 56,  1, 58, 46, 39, 58],\n",
      "        [52, 58,  1, 58, 46, 39, 58,  1],\n",
      "        [25, 17, 27, 10,  0, 21,  1, 54]])\n",
      "\n",
      "targets:\n",
      "torch.Size([4, 8])\n",
      "tensor([[43, 58,  5, 57,  1, 46, 43, 39],\n",
      "        [53, 56,  1, 58, 46, 39, 58,  1],\n",
      "        [58,  1, 58, 46, 39, 58,  1, 46],\n",
      "        [17, 27, 10,  0, 21,  1, 54, 39]])\n",
      "\n",
      "----\n",
      "when input is [24], the target: 43\n",
      "when input is [24, 43], the target: 58\n",
      "when input is [24, 43, 58], the target: 5\n",
      "when input is [24, 43, 58, 5], the target: 57\n",
      "when input is [24, 43, 58, 5, 57], the target: 1\n",
      "when input is [24, 43, 58, 5, 57, 1], the target: 46\n",
      "when input is [24, 43, 58, 5, 57, 1, 46], the target: 43\n",
      "when input is [24, 43, 58, 5, 57, 1, 46, 43], the target: 39\n",
      "when input is [44], the target: 53\n",
      "when input is [44, 53], the target: 56\n",
      "when input is [44, 53, 56], the target: 1\n",
      "when input is [44, 53, 56, 1], the target: 58\n",
      "when input is [44, 53, 56, 1, 58], the target: 46\n",
      "when input is [44, 53, 56, 1, 58, 46], the target: 39\n",
      "when input is [44, 53, 56, 1, 58, 46, 39], the target: 58\n",
      "when input is [44, 53, 56, 1, 58, 46, 39, 58], the target: 1\n",
      "when input is [52], the target: 58\n",
      "when input is [52, 58], the target: 1\n",
      "when input is [52, 58, 1], the target: 58\n",
      "when input is [52, 58, 1, 58], the target: 46\n",
      "when input is [52, 58, 1, 58, 46], the target: 39\n",
      "when input is [52, 58, 1, 58, 46, 39], the target: 58\n",
      "when input is [52, 58, 1, 58, 46, 39, 58], the target: 1\n",
      "when input is [52, 58, 1, 58, 46, 39, 58, 1], the target: 46\n",
      "when input is [25], the target: 17\n",
      "when input is [25, 17], the target: 27\n",
      "when input is [25, 17, 27], the target: 10\n",
      "when input is [25, 17, 27, 10], the target: 0\n",
      "when input is [25, 17, 27, 10, 0], the target: 21\n",
      "when input is [25, 17, 27, 10, 0, 21], the target: 1\n",
      "when input is [25, 17, 27, 10, 0, 21, 1], the target: 54\n",
      "when input is [25, 17, 27, 10, 0, 21, 1, 54], the target: 39\n"
     ]
    }
   ],
   "source": [
    "torch.manual_seed(1337)\n",
    "batch_size = 4    # how many independent sequences will we process in parallel?\n",
    "block_size = 8    # what is the maximum context length for predictions?\n",
    "\n",
    "def get_batch(split):\n",
    "    # generate a small batch of data of inputs x and targets y\n",
    "    data = train_data if split == \"train\" else valid_data\n",
    "    \n",
    "    ix = torch.randint(len(data) - block_size, (batch_size,))\n",
    "    \n",
    "    x = torch.stack([data[i:i+block_size] for i in ix])\n",
    "    y = torch.stack([data[i+1:i+block_size+1] for i in ix])\n",
    "    \n",
    "    return x, y\n",
    "\n",
    "\n",
    "xb, yb = get_batch('train')\n",
    "print(\"inputs:\")\n",
    "print(xb.shape)\n",
    "print(xb)\n",
    "print()\n",
    "print(\"targets:\")\n",
    "print(yb.shape)\n",
    "print(yb)\n",
    "print()\n",
    "\n",
    "print(\"----\")\n",
    "\n",
    "# so we each batch contains 32 training examples (4 parallel seq. x 8 max. context)\n",
    "for b in range(batch_size):        # batch dimension\n",
    "    for t in range(block_size):    # time dimension\n",
    "        context = xb[b, :t+1]\n",
    "        target  = yb[b, t]\n",
    "        print(f\"when input is {context.tolist()}, the target: {target}\")"
   ]
  },
  {
   "cell_type": "markdown",
   "id": "98739d75-043b-4235-a4de-34ce8223004e",
   "metadata": {},
   "source": [
    "----"
   ]
  },
  {
   "cell_type": "markdown",
   "id": "a1e2fd1c-081b-48e8-8371-33923b4b0fef",
   "metadata": {},
   "source": [
    "re: [`cross_entropy`](https://pytorch.org/docs/stable/generated/torch.nn.functional.cross_entropy.html), we need to reshape both `logits` and `targets`..."
   ]
  },
  {
   "cell_type": "code",
   "execution_count": 11,
   "id": "8bf5648f-6433-4a46-aeac-ef8913890a63",
   "metadata": {
    "tags": []
   },
   "outputs": [
    {
     "name": "stdout",
     "output_type": "stream",
     "text": [
      "torch.Size([32, 65])\n",
      "tensor(4.8786, grad_fn=<NllLossBackward0>)\n",
      "\n",
      "\n",
      "SKIcLT;AcELMoTbvZv C?nq-QE33:CJqkOKH-q;:la!oiywkHjgChzbQ?u!3bLIgwevmyFJGUGp\n",
      "wnYWmnxKWWev-tDqXErVKLgJ\n"
     ]
    }
   ],
   "source": [
    "import torch\n",
    "import torch.nn as nn\n",
    "from torch.nn import functional as F\n",
    "\n",
    "torch.manual_seed(1337)\n",
    "\n",
    "class BigramLanguageModel(nn.Module):\n",
    "    \n",
    "    def __init__(self, vocab_size):\n",
    "        super().__init__()\n",
    "        \n",
    "        # each token directly reads off the logits\n",
    "        # for the next token from a lookup table\n",
    "        self.token_embedding_table = nn.Embedding(vocab_size, vocab_size)\n",
    "        \n",
    " \n",
    "    def forward(self, idx, targets=None):\n",
    "        # idx and targets are both (B,T) tensor of ints\n",
    "        logits = self.token_embedding_table(idx)    # (B,T,C)\n",
    "        \n",
    "        if targets is None:\n",
    "            loss = None\n",
    "        else:\n",
    "            B,T,C = logits.shape\n",
    "            logits = logits.view(B*T, C)\n",
    "            targets = targets.view(B*T)\n",
    "            loss = F.cross_entropy(logits, targets)\n",
    "        \n",
    "        return logits, loss\n",
    "    \n",
    "    \n",
    "    def generate(self, idx, max_new_tokens):\n",
    "        # idx is (B,T) array of indices in the current context\n",
    "        for _ in range(max_new_tokens):\n",
    "            # get predictions\n",
    "            logits, loss = self(idx)\n",
    "            \n",
    "            # focus only on the last time step (bigram)\n",
    "            logits = logits[:, -1, :] # becomes (B, c)\n",
    "            \n",
    "            # apply softmax to get probabilitis\n",
    "            probs = F.softmax(logits, dim=-1) # (B, C)\n",
    "            \n",
    "            # sample from the distribution\n",
    "            idx_next = torch.multinomial(probs, num_samples=1) # (B, 1)\n",
    "            \n",
    "            # append sampled index to the running sequence\n",
    "            idx = torch.cat((idx, idx_next), dim=1) # (B, T+1)\n",
    "        return idx    \n",
    "            \n",
    "\n",
    "\n",
    "m = BigramLanguageModel(vocab_size)\n",
    "logits, loss = m(xb, yb)\n",
    "print(logits.shape)\n",
    "print(loss)\n",
    "print()\n",
    "\n",
    "# we kick of a test of generate\n",
    "# by passing in a tensor with 0 (the newline char)\n",
    "idx = torch.zeros((1,1), dtype=torch.long)\n",
    "print(decode(m.generate(idx, max_new_tokens=100)[0].tolist()))"
   ]
  },
  {
   "cell_type": "code",
   "execution_count": 12,
   "id": "2b7ae101-c11e-4a8d-8b4c-4861d0cf2fff",
   "metadata": {
    "tags": []
   },
   "outputs": [
    {
     "data": {
      "text/plain": [
       "4.174387269895637"
      ]
     },
     "execution_count": 12,
     "metadata": {},
     "output_type": "execute_result"
    }
   ],
   "source": [
    "# from negative log-likelihood, we can quickly calculate \n",
    "# what our loss should be...\n",
    "\n",
    "import math\n",
    "-math.log(1/vocab_size)\n",
    "\n",
    "# so... we are still not predicting correctly\n",
    "# with this current model implementation..."
   ]
  },
  {
   "cell_type": "markdown",
   "id": "1fdf3c48-f709-4d1e-b4c2-839f831f925d",
   "metadata": {},
   "source": [
    "----"
   ]
  },
  {
   "cell_type": "code",
   "execution_count": 13,
   "id": "321dd4b6-fdc2-42da-9f33-fcb1c25fb565",
   "metadata": {
    "tags": []
   },
   "outputs": [],
   "source": [
    "# OK, the initial results of our Bi-gram model are dismal,\n",
    "# so let's try actually training it and see if we can do \n",
    "# better\n",
    "#\n",
    "# create a PyTorch optimizer\n",
    "optimizer = torch.optim.AdamW(m.parameters(), lr=1e-3)"
   ]
  },
  {
   "cell_type": "code",
   "execution_count": 14,
   "id": "61e9a616-5e6a-426b-bd8a-2820a4af0559",
   "metadata": {
    "tags": []
   },
   "outputs": [
    {
     "name": "stdout",
     "output_type": "stream",
     "text": [
      "2.510111093521118\n"
     ]
    }
   ],
   "source": [
    "torch.manual_seed(1337)\n",
    "\n",
    "# a typical training loop...\n",
    "batch_size = 32\n",
    "\n",
    "for steps in range(10000):\n",
    "    \n",
    "    # sample a batch of data...\n",
    "    xb, yb = get_batch(\"train\")\n",
    "    \n",
    "    # evaluate the loss...\n",
    "    logits, loss = m(xb, yb)\n",
    "    \n",
    "    # zero-out the gradients from the previous step...\n",
    "    optimizer.zero_grad(set_to_none=True)\n",
    "    \n",
    "    # get the gradients for all the parameters...\n",
    "    loss.backward()\n",
    "    \n",
    "    # use those gradients to update our parameters!\n",
    "    optimizer.step()\n",
    "\n",
    "    #print(loss.item())\n",
    "print(loss.item())"
   ]
  },
  {
   "cell_type": "code",
   "execution_count": 16,
   "id": "6dea599c-dc22-4347-ba6f-d4ac3cd6f9be",
   "metadata": {
    "tags": []
   },
   "outputs": [
    {
     "name": "stdout",
     "output_type": "stream",
     "text": [
      "\n",
      "ANA:\n",
      "\n",
      "KI tus!\n",
      "msetpecondall alll casove; t bre mit an. thanouig!\n",
      "\n",
      "Ty at ldaysicome?\n",
      "NTh haveo and ink! I sul Bed hernong! KRTI E:\n",
      "F t d mome garesth oust he ovee perrear hanorerin gew,\n",
      "RI t;\n",
      "MEMe thous mace ffean ck trbeeds y hadowenarng pongox'siche s the nd cke fowe fo ES:\n",
      "S iss, head be?\n",
      "\n",
      "Surpl w\n"
     ]
    }
   ],
   "source": [
    "# now that we should have some improvement \n",
    "# via training our bi-gram model, let's see\n",
    "# what the output looks like now...\n",
    "print(decode(m.generate(idx, max_new_tokens=300)[0].tolist()))"
   ]
  },
  {
   "cell_type": "code",
   "execution_count": null,
   "id": "4920c600-5fdc-4e80-ac65-34bdfd8f0191",
   "metadata": {},
   "outputs": [],
   "source": []
  }
 ],
 "metadata": {
  "kernelspec": {
   "display_name": "Python 3 (ipykernel)",
   "language": "python",
   "name": "python3"
  },
  "language_info": {
   "codemirror_mode": {
    "name": "ipython",
    "version": 3
   },
   "file_extension": ".py",
   "mimetype": "text/x-python",
   "name": "python",
   "nbconvert_exporter": "python",
   "pygments_lexer": "ipython3",
   "version": "3.8.16"
  }
 },
 "nbformat": 4,
 "nbformat_minor": 5
}

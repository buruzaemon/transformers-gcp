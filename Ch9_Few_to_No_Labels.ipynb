{
 "cells": [
  {
   "cell_type": "markdown",
   "id": "c7ad9f87-91b8-4ffb-9ef8-b14246860a68",
   "metadata": {},
   "source": [
    "# Chapter 9: Dealing with Few to No Labels"
   ]
  },
  {
   "cell_type": "markdown",
   "id": "92d06fc4-7671-41d6-a34d-0acaaa348d1d",
   "metadata": {},
   "source": [
    "## Preparing the Data"
   ]
  },
  {
   "cell_type": "code",
   "execution_count": 1,
   "id": "295ffc46-b12e-45b9-821d-640b89bd4762",
   "metadata": {},
   "outputs": [
    {
     "name": "stdout",
     "output_type": "stream",
     "text": [
      "Dataframe shape: (9930, 26)\n"
     ]
    }
   ],
   "source": [
    "import pandas as pd\n",
    "\n",
    "dataset_url = \"https://git.io/nlp-with-transformers\"\n",
    "df_issues = pd.read_json(dataset_url, lines=True)\n",
    "print(f\"Dataframe shape: {df_issues.shape}\")"
   ]
  },
  {
   "cell_type": "code",
   "execution_count": 2,
   "id": "a54dac9b-a779-40d9-8df3-2245428a9efc",
   "metadata": {},
   "outputs": [
    {
     "data": {
      "text/plain": [
       "url                                 object\n",
       "repository_url                      object\n",
       "labels_url                          object\n",
       "comments_url                        object\n",
       "events_url                          object\n",
       "html_url                            object\n",
       "id                                   int64\n",
       "node_id                             object\n",
       "number                               int64\n",
       "title                               object\n",
       "user                                object\n",
       "labels                              object\n",
       "state                               object\n",
       "locked                                bool\n",
       "assignee                            object\n",
       "assignees                           object\n",
       "milestone                          float64\n",
       "comments                             int64\n",
       "created_at                  datetime64[ns]\n",
       "updated_at                  datetime64[ns]\n",
       "closed_at                   datetime64[ns]\n",
       "author_association                  object\n",
       "active_lock_reason                  object\n",
       "body                                object\n",
       "performed_via_github_app           float64\n",
       "pull_request                        object\n",
       "dtype: object"
      ]
     },
     "execution_count": 2,
     "metadata": {},
     "output_type": "execute_result"
    }
   ],
   "source": [
    "df_issues.dtypes"
   ]
  },
  {
   "cell_type": "code",
   "execution_count": 3,
   "id": "1ee68db4-b23f-438b-8cf5-a8a5af885ab4",
   "metadata": {},
   "outputs": [
    {
     "data": {
      "text/html": [
       "<div>\n",
       "<style scoped>\n",
       "    .dataframe tbody tr th:only-of-type {\n",
       "        vertical-align: middle;\n",
       "    }\n",
       "\n",
       "    .dataframe tbody tr th {\n",
       "        vertical-align: top;\n",
       "    }\n",
       "\n",
       "    .dataframe thead th {\n",
       "        text-align: right;\n",
       "    }\n",
       "</style>\n",
       "<table border=\"1\" class=\"dataframe\">\n",
       "  <thead>\n",
       "    <tr style=\"text-align: right;\">\n",
       "      <th></th>\n",
       "      <th>url</th>\n",
       "      <th>repository_url</th>\n",
       "      <th>labels_url</th>\n",
       "      <th>comments_url</th>\n",
       "      <th>events_url</th>\n",
       "      <th>html_url</th>\n",
       "      <th>id</th>\n",
       "      <th>node_id</th>\n",
       "      <th>number</th>\n",
       "      <th>title</th>\n",
       "      <th>...</th>\n",
       "      <th>milestone</th>\n",
       "      <th>comments</th>\n",
       "      <th>created_at</th>\n",
       "      <th>updated_at</th>\n",
       "      <th>closed_at</th>\n",
       "      <th>author_association</th>\n",
       "      <th>active_lock_reason</th>\n",
       "      <th>body</th>\n",
       "      <th>performed_via_github_app</th>\n",
       "      <th>pull_request</th>\n",
       "    </tr>\n",
       "  </thead>\n",
       "  <tbody>\n",
       "    <tr>\n",
       "      <th>0</th>\n",
       "      <td>https://api.github.com/repos/huggingface/trans...</td>\n",
       "      <td>https://api.github.com/repos/huggingface/trans...</td>\n",
       "      <td>https://api.github.com/repos/huggingface/trans...</td>\n",
       "      <td>https://api.github.com/repos/huggingface/trans...</td>\n",
       "      <td>https://api.github.com/repos/huggingface/trans...</td>\n",
       "      <td>https://github.com/huggingface/transformers/is...</td>\n",
       "      <td>849568459</td>\n",
       "      <td>MDU6SXNzdWU4NDk1Njg0NTk=</td>\n",
       "      <td>11046</td>\n",
       "      <td>Potential incorrect application of layer norm ...</td>\n",
       "      <td>...</td>\n",
       "      <td>NaN</td>\n",
       "      <td>0</td>\n",
       "      <td>2021-04-03 03:37:32</td>\n",
       "      <td>2021-04-03 03:37:32</td>\n",
       "      <td>NaT</td>\n",
       "      <td>NONE</td>\n",
       "      <td>None</td>\n",
       "      <td>In BlenderbotSmallDecoder,  layer norm is appl...</td>\n",
       "      <td>NaN</td>\n",
       "      <td>None</td>\n",
       "    </tr>\n",
       "    <tr>\n",
       "      <th>1</th>\n",
       "      <td>https://api.github.com/repos/huggingface/trans...</td>\n",
       "      <td>https://api.github.com/repos/huggingface/trans...</td>\n",
       "      <td>https://api.github.com/repos/huggingface/trans...</td>\n",
       "      <td>https://api.github.com/repos/huggingface/trans...</td>\n",
       "      <td>https://api.github.com/repos/huggingface/trans...</td>\n",
       "      <td>https://github.com/huggingface/transformers/is...</td>\n",
       "      <td>849544374</td>\n",
       "      <td>MDU6SXNzdWU4NDk1NDQzNzQ=</td>\n",
       "      <td>11045</td>\n",
       "      <td>Multi-GPU seq2seq example evaluation significa...</td>\n",
       "      <td>...</td>\n",
       "      <td>NaN</td>\n",
       "      <td>0</td>\n",
       "      <td>2021-04-03 00:52:24</td>\n",
       "      <td>2021-04-03 00:52:24</td>\n",
       "      <td>NaT</td>\n",
       "      <td>NONE</td>\n",
       "      <td>None</td>\n",
       "      <td>\\r\\n### Who can help\\r\\n@patil-suraj @sgugger ...</td>\n",
       "      <td>NaN</td>\n",
       "      <td>None</td>\n",
       "    </tr>\n",
       "    <tr>\n",
       "      <th>2</th>\n",
       "      <td>https://api.github.com/repos/huggingface/trans...</td>\n",
       "      <td>https://api.github.com/repos/huggingface/trans...</td>\n",
       "      <td>https://api.github.com/repos/huggingface/trans...</td>\n",
       "      <td>https://api.github.com/repos/huggingface/trans...</td>\n",
       "      <td>https://api.github.com/repos/huggingface/trans...</td>\n",
       "      <td>https://github.com/huggingface/transformers/is...</td>\n",
       "      <td>849529761</td>\n",
       "      <td>MDU6SXNzdWU4NDk1Mjk3NjE=</td>\n",
       "      <td>11044</td>\n",
       "      <td>[DeepSpeed] ZeRO stage 3 integration: getting ...</td>\n",
       "      <td>...</td>\n",
       "      <td>NaN</td>\n",
       "      <td>0</td>\n",
       "      <td>2021-04-02 23:40:42</td>\n",
       "      <td>2021-04-03 00:00:18</td>\n",
       "      <td>NaT</td>\n",
       "      <td>COLLABORATOR</td>\n",
       "      <td>None</td>\n",
       "      <td>**[This is not yet alive, preparing for the re...</td>\n",
       "      <td>NaN</td>\n",
       "      <td>None</td>\n",
       "    </tr>\n",
       "    <tr>\n",
       "      <th>3</th>\n",
       "      <td>https://api.github.com/repos/huggingface/trans...</td>\n",
       "      <td>https://api.github.com/repos/huggingface/trans...</td>\n",
       "      <td>https://api.github.com/repos/huggingface/trans...</td>\n",
       "      <td>https://api.github.com/repos/huggingface/trans...</td>\n",
       "      <td>https://api.github.com/repos/huggingface/trans...</td>\n",
       "      <td>https://github.com/huggingface/transformers/is...</td>\n",
       "      <td>849499734</td>\n",
       "      <td>MDU6SXNzdWU4NDk0OTk3MzQ=</td>\n",
       "      <td>11043</td>\n",
       "      <td>Can't load model to estimater</td>\n",
       "      <td>...</td>\n",
       "      <td>NaN</td>\n",
       "      <td>0</td>\n",
       "      <td>2021-04-02 21:51:44</td>\n",
       "      <td>2021-04-02 21:51:44</td>\n",
       "      <td>NaT</td>\n",
       "      <td>NONE</td>\n",
       "      <td>None</td>\n",
       "      <td>I was trying to follow the Sagemaker instructi...</td>\n",
       "      <td>NaN</td>\n",
       "      <td>None</td>\n",
       "    </tr>\n",
       "    <tr>\n",
       "      <th>4</th>\n",
       "      <td>https://api.github.com/repos/huggingface/trans...</td>\n",
       "      <td>https://api.github.com/repos/huggingface/trans...</td>\n",
       "      <td>https://api.github.com/repos/huggingface/trans...</td>\n",
       "      <td>https://api.github.com/repos/huggingface/trans...</td>\n",
       "      <td>https://api.github.com/repos/huggingface/trans...</td>\n",
       "      <td>https://github.com/huggingface/transformers/is...</td>\n",
       "      <td>849274362</td>\n",
       "      <td>MDU6SXNzdWU4NDkyNzQzNjI=</td>\n",
       "      <td>11042</td>\n",
       "      <td>[LXMERT] Unclear what img_tensorize does with ...</td>\n",
       "      <td>...</td>\n",
       "      <td>NaN</td>\n",
       "      <td>0</td>\n",
       "      <td>2021-04-02 15:12:57</td>\n",
       "      <td>2021-04-02 15:15:07</td>\n",
       "      <td>NaT</td>\n",
       "      <td>NONE</td>\n",
       "      <td>None</td>\n",
       "      <td>## Environment info\\r\\n\\r\\n- `transformers` ve...</td>\n",
       "      <td>NaN</td>\n",
       "      <td>None</td>\n",
       "    </tr>\n",
       "  </tbody>\n",
       "</table>\n",
       "<p>5 rows × 26 columns</p>\n",
       "</div>"
      ],
      "text/plain": [
       "                                                 url  \\\n",
       "0  https://api.github.com/repos/huggingface/trans...   \n",
       "1  https://api.github.com/repos/huggingface/trans...   \n",
       "2  https://api.github.com/repos/huggingface/trans...   \n",
       "3  https://api.github.com/repos/huggingface/trans...   \n",
       "4  https://api.github.com/repos/huggingface/trans...   \n",
       "\n",
       "                                      repository_url  \\\n",
       "0  https://api.github.com/repos/huggingface/trans...   \n",
       "1  https://api.github.com/repos/huggingface/trans...   \n",
       "2  https://api.github.com/repos/huggingface/trans...   \n",
       "3  https://api.github.com/repos/huggingface/trans...   \n",
       "4  https://api.github.com/repos/huggingface/trans...   \n",
       "\n",
       "                                          labels_url  \\\n",
       "0  https://api.github.com/repos/huggingface/trans...   \n",
       "1  https://api.github.com/repos/huggingface/trans...   \n",
       "2  https://api.github.com/repos/huggingface/trans...   \n",
       "3  https://api.github.com/repos/huggingface/trans...   \n",
       "4  https://api.github.com/repos/huggingface/trans...   \n",
       "\n",
       "                                        comments_url  \\\n",
       "0  https://api.github.com/repos/huggingface/trans...   \n",
       "1  https://api.github.com/repos/huggingface/trans...   \n",
       "2  https://api.github.com/repos/huggingface/trans...   \n",
       "3  https://api.github.com/repos/huggingface/trans...   \n",
       "4  https://api.github.com/repos/huggingface/trans...   \n",
       "\n",
       "                                          events_url  \\\n",
       "0  https://api.github.com/repos/huggingface/trans...   \n",
       "1  https://api.github.com/repos/huggingface/trans...   \n",
       "2  https://api.github.com/repos/huggingface/trans...   \n",
       "3  https://api.github.com/repos/huggingface/trans...   \n",
       "4  https://api.github.com/repos/huggingface/trans...   \n",
       "\n",
       "                                            html_url         id  \\\n",
       "0  https://github.com/huggingface/transformers/is...  849568459   \n",
       "1  https://github.com/huggingface/transformers/is...  849544374   \n",
       "2  https://github.com/huggingface/transformers/is...  849529761   \n",
       "3  https://github.com/huggingface/transformers/is...  849499734   \n",
       "4  https://github.com/huggingface/transformers/is...  849274362   \n",
       "\n",
       "                    node_id  number  \\\n",
       "0  MDU6SXNzdWU4NDk1Njg0NTk=   11046   \n",
       "1  MDU6SXNzdWU4NDk1NDQzNzQ=   11045   \n",
       "2  MDU6SXNzdWU4NDk1Mjk3NjE=   11044   \n",
       "3  MDU6SXNzdWU4NDk0OTk3MzQ=   11043   \n",
       "4  MDU6SXNzdWU4NDkyNzQzNjI=   11042   \n",
       "\n",
       "                                               title  ... milestone comments  \\\n",
       "0  Potential incorrect application of layer norm ...  ...       NaN        0   \n",
       "1  Multi-GPU seq2seq example evaluation significa...  ...       NaN        0   \n",
       "2  [DeepSpeed] ZeRO stage 3 integration: getting ...  ...       NaN        0   \n",
       "3                      Can't load model to estimater  ...       NaN        0   \n",
       "4  [LXMERT] Unclear what img_tensorize does with ...  ...       NaN        0   \n",
       "\n",
       "           created_at          updated_at closed_at author_association  \\\n",
       "0 2021-04-03 03:37:32 2021-04-03 03:37:32       NaT               NONE   \n",
       "1 2021-04-03 00:52:24 2021-04-03 00:52:24       NaT               NONE   \n",
       "2 2021-04-02 23:40:42 2021-04-03 00:00:18       NaT       COLLABORATOR   \n",
       "3 2021-04-02 21:51:44 2021-04-02 21:51:44       NaT               NONE   \n",
       "4 2021-04-02 15:12:57 2021-04-02 15:15:07       NaT               NONE   \n",
       "\n",
       "   active_lock_reason                                               body  \\\n",
       "0                None  In BlenderbotSmallDecoder,  layer norm is appl...   \n",
       "1                None  \\r\\n### Who can help\\r\\n@patil-suraj @sgugger ...   \n",
       "2                None  **[This is not yet alive, preparing for the re...   \n",
       "3                None  I was trying to follow the Sagemaker instructi...   \n",
       "4                None  ## Environment info\\r\\n\\r\\n- `transformers` ve...   \n",
       "\n",
       "  performed_via_github_app pull_request  \n",
       "0                      NaN         None  \n",
       "1                      NaN         None  \n",
       "2                      NaN         None  \n",
       "3                      NaN         None  \n",
       "4                      NaN         None  \n",
       "\n",
       "[5 rows x 26 columns]"
      ]
     },
     "execution_count": 3,
     "metadata": {},
     "output_type": "execute_result"
    }
   ],
   "source": [
    "df_issues.head()"
   ]
  },
  {
   "cell_type": "code",
   "execution_count": 4,
   "id": "834fb962-122b-47cb-a649-1feccb9e366a",
   "metadata": {},
   "outputs": [
    {
     "data": {
      "text/html": [
       "<div>\n",
       "<style scoped>\n",
       "    .dataframe tbody tr th:only-of-type {\n",
       "        vertical-align: middle;\n",
       "    }\n",
       "\n",
       "    .dataframe tbody tr th {\n",
       "        vertical-align: top;\n",
       "    }\n",
       "\n",
       "    .dataframe thead th {\n",
       "        text-align: right;\n",
       "    }\n",
       "</style>\n",
       "<table border=\"1\" class=\"dataframe\">\n",
       "  <thead>\n",
       "    <tr style=\"text-align: right;\">\n",
       "      <th></th>\n",
       "      <th>2</th>\n",
       "    </tr>\n",
       "  </thead>\n",
       "  <tbody>\n",
       "    <tr>\n",
       "      <th>labels</th>\n",
       "      <td>[{'id': 2659267025, 'node_id': 'MDU6TGFiZWwyNj...</td>\n",
       "    </tr>\n",
       "  </tbody>\n",
       "</table>\n",
       "</div>"
      ],
      "text/plain": [
       "                                                        2\n",
       "labels  [{'id': 2659267025, 'node_id': 'MDU6TGFiZWwyNj..."
      ]
     },
     "execution_count": 4,
     "metadata": {},
     "output_type": "execute_result"
    }
   ],
   "source": [
    "cols = [\n",
    "    \"url\",\n",
    "    \"id\",\n",
    "    \"title\",\n",
    "    \"user\",\n",
    "    \"labels\",\n",
    "    \"state\",\n",
    "    \"created_at\",\n",
    "    \"body\"\n",
    "]\n",
    "\n",
    "df_issues.loc[2, [\"labels\"]].to_frame()"
   ]
  },
  {
   "cell_type": "code",
   "execution_count": 5,
   "id": "42e11d81-8854-40d1-8219-a1ddedba6dc0",
   "metadata": {},
   "outputs": [
    {
     "data": {
      "text/html": [
       "<div>\n",
       "<style scoped>\n",
       "    .dataframe tbody tr th:only-of-type {\n",
       "        vertical-align: middle;\n",
       "    }\n",
       "\n",
       "    .dataframe tbody tr th {\n",
       "        vertical-align: top;\n",
       "    }\n",
       "\n",
       "    .dataframe thead th {\n",
       "        text-align: right;\n",
       "    }\n",
       "</style>\n",
       "<table border=\"1\" class=\"dataframe\">\n",
       "  <thead>\n",
       "    <tr style=\"text-align: right;\">\n",
       "      <th></th>\n",
       "      <th>labels</th>\n",
       "    </tr>\n",
       "  </thead>\n",
       "  <tbody>\n",
       "    <tr>\n",
       "      <th>0</th>\n",
       "      <td>[]</td>\n",
       "    </tr>\n",
       "    <tr>\n",
       "      <th>1</th>\n",
       "      <td>[]</td>\n",
       "    </tr>\n",
       "    <tr>\n",
       "      <th>2</th>\n",
       "      <td>[DeepSpeed]</td>\n",
       "    </tr>\n",
       "    <tr>\n",
       "      <th>3</th>\n",
       "      <td>[]</td>\n",
       "    </tr>\n",
       "    <tr>\n",
       "      <th>4</th>\n",
       "      <td>[]</td>\n",
       "    </tr>\n",
       "  </tbody>\n",
       "</table>\n",
       "</div>"
      ],
      "text/plain": [
       "        labels\n",
       "0           []\n",
       "1           []\n",
       "2  [DeepSpeed]\n",
       "3           []\n",
       "4           []"
      ]
     },
     "execution_count": 5,
     "metadata": {},
     "output_type": "execute_result"
    }
   ],
   "source": [
    "df_issues[\"labels\"] = (df_issues[\"labels\"]\n",
    "    .apply(lambda x: [meta[\"name\"] for meta in x])\n",
    ")\n",
    "\n",
    "df_issues[[\"labels\"]].head()"
   ]
  },
  {
   "cell_type": "code",
   "execution_count": 6,
   "id": "7baadf60-eec3-4e62-95ef-1f21e39428a3",
   "metadata": {},
   "outputs": [
    {
     "data": {
      "text/html": [
       "<div>\n",
       "<style scoped>\n",
       "    .dataframe tbody tr th:only-of-type {\n",
       "        vertical-align: middle;\n",
       "    }\n",
       "\n",
       "    .dataframe tbody tr th {\n",
       "        vertical-align: top;\n",
       "    }\n",
       "\n",
       "    .dataframe thead th {\n",
       "        text-align: right;\n",
       "    }\n",
       "</style>\n",
       "<table border=\"1\" class=\"dataframe\">\n",
       "  <thead>\n",
       "    <tr style=\"text-align: right;\">\n",
       "      <th>labels</th>\n",
       "      <th>0</th>\n",
       "      <th>1</th>\n",
       "      <th>2</th>\n",
       "      <th>3</th>\n",
       "      <th>4</th>\n",
       "      <th>5</th>\n",
       "    </tr>\n",
       "  </thead>\n",
       "  <tbody>\n",
       "    <tr>\n",
       "      <th>count</th>\n",
       "      <td>6440</td>\n",
       "      <td>3057</td>\n",
       "      <td>305</td>\n",
       "      <td>100</td>\n",
       "      <td>25</td>\n",
       "      <td>3</td>\n",
       "    </tr>\n",
       "  </tbody>\n",
       "</table>\n",
       "</div>"
      ],
      "text/plain": [
       "labels     0     1    2    3   4  5\n",
       "count   6440  3057  305  100  25  3"
      ]
     },
     "execution_count": 6,
     "metadata": {},
     "output_type": "execute_result"
    }
   ],
   "source": [
    "df_issues[\"labels\"].apply(lambda x: len(x)).value_counts().to_frame().T"
   ]
  },
  {
   "cell_type": "code",
   "execution_count": 7,
   "id": "0e475711-8829-42e9-a449-b8dfd666787b",
   "metadata": {},
   "outputs": [
    {
     "name": "stdout",
     "output_type": "stream",
     "text": [
      "number of labels: 65\n"
     ]
    }
   ],
   "source": [
    "df_counts = df_issues[\"labels\"].explode().value_counts()\n",
    "print(f\"number of labels: {len(df_counts)}\")"
   ]
  },
  {
   "cell_type": "code",
   "execution_count": 8,
   "id": "193569c5-c030-401d-9950-a67a26058938",
   "metadata": {},
   "outputs": [
    {
     "data": {
      "text/html": [
       "<div>\n",
       "<style scoped>\n",
       "    .dataframe tbody tr th:only-of-type {\n",
       "        vertical-align: middle;\n",
       "    }\n",
       "\n",
       "    .dataframe tbody tr th {\n",
       "        vertical-align: top;\n",
       "    }\n",
       "\n",
       "    .dataframe thead th {\n",
       "        text-align: right;\n",
       "    }\n",
       "</style>\n",
       "<table border=\"1\" class=\"dataframe\">\n",
       "  <thead>\n",
       "    <tr style=\"text-align: right;\">\n",
       "      <th>labels</th>\n",
       "      <th>wontfix</th>\n",
       "      <th>model card</th>\n",
       "      <th>Core: Tokenization</th>\n",
       "      <th>New model</th>\n",
       "      <th>Core: Modeling</th>\n",
       "      <th>Help wanted</th>\n",
       "      <th>Good First Issue</th>\n",
       "      <th>Usage</th>\n",
       "    </tr>\n",
       "  </thead>\n",
       "  <tbody>\n",
       "    <tr>\n",
       "      <th>count</th>\n",
       "      <td>2284</td>\n",
       "      <td>649</td>\n",
       "      <td>106</td>\n",
       "      <td>98</td>\n",
       "      <td>64</td>\n",
       "      <td>52</td>\n",
       "      <td>50</td>\n",
       "      <td>46</td>\n",
       "    </tr>\n",
       "  </tbody>\n",
       "</table>\n",
       "</div>"
      ],
      "text/plain": [
       "labels  wontfix  model card  Core: Tokenization  New model  Core: Modeling  \\\n",
       "count      2284         649                 106         98              64   \n",
       "\n",
       "labels  Help wanted  Good First Issue  Usage  \n",
       "count            52                50     46  "
      ]
     },
     "execution_count": 8,
     "metadata": {},
     "output_type": "execute_result"
    }
   ],
   "source": [
    "df_counts.to_frame().head(8).T"
   ]
  },
  {
   "cell_type": "code",
   "execution_count": 9,
   "id": "aa98349e-67fe-4e77-a796-d2de563cd76f",
   "metadata": {},
   "outputs": [],
   "source": [
    "label_map = {\n",
    "    \"Core: Tokenization\": \"tokenization\",\n",
    "    \"New model\": \"new model\",\n",
    "    \"Core: Modeling\": \"model training\",\n",
    "    \"Usage\": \"usage\",\n",
    "    \"Core: Pipeline\": \"pipeline\",\n",
    "    \"TensorFlow\": \"tensorflow or tf\",\n",
    "    \"PyTorch\": \"pytorch\",\n",
    "    \"Examples\": \"examples\",\n",
    "    \"Documentation\": \"documentation\"\n",
    "}\n",
    "\n",
    "def filter_labels(x):\n",
    "    return [label_map[label] for label in x if label in label_map]\n",
    "\n",
    "df_issues[\"labels\"] = df_issues[\"labels\"].apply(filter_labels)\n",
    "all_labels = list(label_map.values())"
   ]
  },
  {
   "cell_type": "code",
   "execution_count": 10,
   "id": "f181eda4-fbf3-470c-af37-a4775373e8f8",
   "metadata": {},
   "outputs": [
    {
     "data": {
      "text/html": [
       "<div>\n",
       "<style scoped>\n",
       "    .dataframe tbody tr th:only-of-type {\n",
       "        vertical-align: middle;\n",
       "    }\n",
       "\n",
       "    .dataframe tbody tr th {\n",
       "        vertical-align: top;\n",
       "    }\n",
       "\n",
       "    .dataframe thead th {\n",
       "        text-align: right;\n",
       "    }\n",
       "</style>\n",
       "<table border=\"1\" class=\"dataframe\">\n",
       "  <thead>\n",
       "    <tr style=\"text-align: right;\">\n",
       "      <th>labels</th>\n",
       "      <th>tokenization</th>\n",
       "      <th>new model</th>\n",
       "      <th>model training</th>\n",
       "      <th>usage</th>\n",
       "      <th>pipeline</th>\n",
       "      <th>tensorflow or tf</th>\n",
       "      <th>pytorch</th>\n",
       "      <th>documentation</th>\n",
       "      <th>examples</th>\n",
       "    </tr>\n",
       "  </thead>\n",
       "  <tbody>\n",
       "    <tr>\n",
       "      <th>count</th>\n",
       "      <td>106</td>\n",
       "      <td>98</td>\n",
       "      <td>64</td>\n",
       "      <td>46</td>\n",
       "      <td>42</td>\n",
       "      <td>41</td>\n",
       "      <td>37</td>\n",
       "      <td>28</td>\n",
       "      <td>24</td>\n",
       "    </tr>\n",
       "  </tbody>\n",
       "</table>\n",
       "</div>"
      ],
      "text/plain": [
       "labels  tokenization  new model  model training  usage  pipeline  \\\n",
       "count            106         98              64     46        42   \n",
       "\n",
       "labels  tensorflow or tf  pytorch  documentation  examples  \n",
       "count                 41       37             28        24  "
      ]
     },
     "execution_count": 10,
     "metadata": {},
     "output_type": "execute_result"
    }
   ],
   "source": [
    "df_counts = df_issues[\"labels\"].explode().value_counts()\n",
    "df_counts.to_frame().T"
   ]
  },
  {
   "cell_type": "code",
   "execution_count": 11,
   "id": "d85027d5-c3e6-43b4-87bd-818a151bf819",
   "metadata": {},
   "outputs": [
    {
     "data": {
      "text/html": [
       "<div>\n",
       "<style scoped>\n",
       "    .dataframe tbody tr th:only-of-type {\n",
       "        vertical-align: middle;\n",
       "    }\n",
       "\n",
       "    .dataframe tbody tr th {\n",
       "        vertical-align: top;\n",
       "    }\n",
       "\n",
       "    .dataframe thead th {\n",
       "        text-align: right;\n",
       "    }\n",
       "</style>\n",
       "<table border=\"1\" class=\"dataframe\">\n",
       "  <thead>\n",
       "    <tr style=\"text-align: right;\">\n",
       "      <th></th>\n",
       "      <th>count</th>\n",
       "    </tr>\n",
       "    <tr>\n",
       "      <th>split</th>\n",
       "      <th></th>\n",
       "    </tr>\n",
       "  </thead>\n",
       "  <tbody>\n",
       "    <tr>\n",
       "      <th>unlabeled</th>\n",
       "      <td>9489</td>\n",
       "    </tr>\n",
       "    <tr>\n",
       "      <th>labeled</th>\n",
       "      <td>441</td>\n",
       "    </tr>\n",
       "  </tbody>\n",
       "</table>\n",
       "</div>"
      ],
      "text/plain": [
       "           count\n",
       "split           \n",
       "unlabeled   9489\n",
       "labeled      441"
      ]
     },
     "execution_count": 11,
     "metadata": {},
     "output_type": "execute_result"
    }
   ],
   "source": [
    "df_issues[\"split\"] = \"unlabeled\"\n",
    "mask = df_issues[\"labels\"].apply(lambda x: len(x)) > 0\n",
    "\n",
    "df_issues.loc[mask, \"split\"] = \"labeled\"\n",
    "\n",
    "df_issues[\"split\"].value_counts().to_frame()"
   ]
  },
  {
   "cell_type": "code",
   "execution_count": 12,
   "id": "2f0f66da-97d2-4fdc-b971-5920cc161687",
   "metadata": {},
   "outputs": [
    {
     "name": "stdout",
     "output_type": "stream",
     "text": [
      "title: Add new CANINE model\n",
      "\n",
      "body: # 🌟 New model addition\n",
      "\n",
      "## Model description\n",
      "\n",
      "Google recently proposed a new **C**haracter **A**rchitecture with **N**o tokenization **I**n **N**eural **E**ncoders architecture (CANINE). Not only the title is exciting:\n",
      "\n",
      "> Pipelined NLP systems have largely been superseded by end-to-end neural modeling, yet nearly all commonly-used models still require an explicit tokenization step. While recent tokenization approaches based on data-derived subword lexicons are less brittle than manually en\n",
      "\n",
      "labels: ['new model']\n",
      "\n"
     ]
    }
   ],
   "source": [
    "for column in [\"title\", \"body\", \"labels\"]:\n",
    "    print(f\"{column}: {df_issues[column].iloc[26][:500]}\\n\")"
   ]
  },
  {
   "cell_type": "code",
   "execution_count": 13,
   "id": "40a3c560-e064-4498-b242-50c07c072d6d",
   "metadata": {},
   "outputs": [],
   "source": [
    "df_issues[\"text\"] = (\n",
    "    df_issues.apply(lambda x: x[\"title\"] + \"\\n\\n\" + x[\"body\"], axis=1)\n",
    ")"
   ]
  },
  {
   "cell_type": "code",
   "execution_count": 14,
   "id": "b40a04e1-aacf-474e-87c5-f9abfe1e8e10",
   "metadata": {},
   "outputs": [
    {
     "name": "stdout",
     "output_type": "stream",
     "text": [
      "removed 1.88% duplicates\n"
     ]
    }
   ],
   "source": [
    "len_before = len(df_issues)\n",
    "df_issues = df_issues.drop_duplicates(subset=\"text\")\n",
    "print(f\"removed {(len_before - len(df_issues))/len_before:.2%} duplicates\")"
   ]
  },
  {
   "cell_type": "code",
   "execution_count": 18,
   "id": "73196482-7358-4b71-8f5c-ab57336e98fe",
   "metadata": {},
   "outputs": [
    {
     "data": {
      "image/png": "[encoded data removed]",
      "text/plain": [
       "<Figure size 640x480 with 1 Axes>"
      ]
     },
     "metadata": {},
     "output_type": "display_data"
    }
   ],
   "source": [
    "import numpy as np\n",
    "import matplotlib.pyplot as plt\n",
    "\n",
    "(\n",
    "    df_issues[\"text\"].str.split().apply(len)\n",
    "        .hist(bins=np.linspace(0, 500, 50), \n",
    "              grid=False, \n",
    "              edgecolor=\"C0\"\n",
    "        )\n",
    ")\n",
    "\n",
    "plt.title(\"words per issue\")\n",
    "plt.xlabel(\"number of words\")\n",
    "plt.ylabel(\"number of issues\")\n",
    "plt.show()"
   ]
  },
  {
   "cell_type": "markdown",
   "id": "88ca7d94-f322-42fe-bd8e-c47f5420fafe",
   "metadata": {},
   "source": [
    "## Creating Training Sets"
   ]
  },
  {
   "cell_type": "code",
   "execution_count": 21,
   "id": "9926331e-8977-473f-a696-25a451da87e0",
   "metadata": {},
   "outputs": [
    {
     "data": {
      "text/plain": [
       "array([[0, 0, 0, 1, 0, 0, 0, 1, 0],\n",
       "       [0, 0, 0, 0, 0, 1, 0, 0, 0]])"
      ]
     },
     "execution_count": 21,
     "metadata": {},
     "output_type": "execute_result"
    }
   ],
   "source": [
    "from sklearn.preprocessing import MultiLabelBinarizer\n",
    "\n",
    "mlb = MultiLabelBinarizer()\n",
    "mlb.fit([all_labels])\n",
    "mlb.transform([[\"tokenization\", \"new model\"], [\"pytorch\"]])"
   ]
  },
  {
   "cell_type": "code",
   "execution_count": 25,
   "id": "30cd5521-cb2d-4d53-b0d6-97f7dd7ff03e",
   "metadata": {},
   "outputs": [],
   "source": [
    "from skmultilearn.model_selection import iterative_train_test_split\n",
    "def balanced_split(df, test_size=0.5):\n",
    "    ind = np.expand_dims(np.arange(len(df)), axis=1)\n",
    "    labels = mlb.transform(df[\"labels\"])\n",
    "    ind_train, _, ind_test, _ = iterative_train_test_split(ind, labels, test_size)\n",
    "    return df.iloc[ind_train[:,0]], df.iloc[ind_test[:,0]]"
   ]
  },
  {
   "cell_type": "code",
   "execution_count": 33,
   "id": "69e7be43-4baa-498b-b7f7-6cb607716685",
   "metadata": {},
   "outputs": [],
   "source": [
    "from sklearn.model_selection import train_test_split\n",
    "\n",
    "df_clean = df_issues[[\"text\", \"labels\", \"split\"]].reset_index(drop=True).copy()\n",
    "df_unsup = df_clean.loc[df_clean[\"split\"] == \"unlabeled\", [\"text\", \"labels\"]]\n",
    "df_sup   = df_clean.loc[df_clean[\"split\"] == \"labeled\", [\"text\", \"labels\"]]\n",
    "\n",
    "np.random.seed(0)\n",
    "df_train, df_tmp = balanced_split(df_sup, test_size=0.5)\n",
    "df_valid, df_test = balanced_split(df_tmp, test_size=0.5)"
   ]
  },
  {
   "cell_type": "code",
   "execution_count": 34,
   "id": "24248e25-0427-44b3-b5ac-dd02698ac4d7",
   "metadata": {},
   "outputs": [],
   "source": [
    "from datasets import Dataset, DatasetDict\n",
    "\n",
    "ds = DatasetDict({\n",
    "    \"train\": Dataset.from_pandas(df_train.reset_index(drop=True)),\n",
    "    \"valid\": Dataset.from_pandas(df_valid.reset_index(drop=True)),\n",
    "    \"test\": Dataset.from_pandas(df_test.reset_index(drop=True)),\n",
    "    \"unsup\": Dataset.from_pandas(df_unsup.reset_index(drop=True))\n",
    "})"
   ]
  },
  {
   "cell_type": "markdown",
   "id": "82b260ca-fa49-4f32-b547-d35a3af763df",
   "metadata": {},
   "source": [
    "## Creating Training Slices"
   ]
  },
  {
   "cell_type": "code",
   "execution_count": null,
   "id": "70a72f89-716c-48f1-ad13-b8242f383792",
   "metadata": {},
   "outputs": [],
   "source": []
  }
 ],
 "metadata": {
  "kernelspec": {
   "display_name": "Python 3 (ipykernel)",
   "language": "python",
   "name": "python3"
  },
  "language_info": {
   "codemirror_mode": {
    "name": "ipython",
    "version": 3
   },
   "file_extension": ".py",
   "mimetype": "text/x-python",
   "name": "python",
   "nbconvert_exporter": "python",
   "pygments_lexer": "ipython3",
   "version": "3.8.18"
  }
 },
 "nbformat": 4,
 "nbformat_minor": 5
}

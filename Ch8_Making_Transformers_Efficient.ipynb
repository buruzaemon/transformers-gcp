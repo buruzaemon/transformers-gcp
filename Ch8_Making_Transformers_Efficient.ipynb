{
 "cells": [
  {
   "cell_type": "markdown",
   "id": "37bed5f6-166b-434e-ac4c-efee0dfa07e6",
   "metadata": {
    "editable": true,
    "slideshow": {
     "slide_type": ""
    },
    "tags": []
   },
   "source": [
    "# Chapter 8: Making Transformers Efficient in Production"
   ]
  },
  {
   "cell_type": "code",
   "execution_count": 1,
   "id": "570a361e-fe0d-4e0b-8e3c-a6a76607ce04",
   "metadata": {
    "editable": true,
    "slideshow": {
     "slide_type": ""
    },
    "tags": [
     "hide-input"
    ]
   },
   "outputs": [
    {
     "data": {
      "text/html": [
       "<style>\n",
       ".pad-left {\n",
       "    padding-left: 20px;\n",
       "}\n",
       "</style>\n"
      ],
      "text/plain": [
       "<IPython.core.display.HTML object>"
      ]
     },
     "metadata": {},
     "output_type": "display_data"
    }
   ],
   "source": [
    "%%html\n",
    "<style>\n",
    ".pad-left {\n",
    "    padding-left: 20px;\n",
    "}\n",
    "</style>"
   ]
  },
  {
   "cell_type": "markdown",
   "id": "e597880b-f340-404f-9502-cc0770d6ee86",
   "metadata": {
    "editable": true,
    "slideshow": {
     "slide_type": ""
    },
    "tags": []
   },
   "source": [
    "## Background\n",
    "\n",
    "> (W)hen developing a new machine learning model for your business, do you first make it accurate, then worry about making it fast in production? Or do you first make sure it can be fast, then make it accurate? \n",
    "> <p/>\n",
    "> ...\n",
    "> <p/>\n",
    "> While this was a stressful experience for us, it doesn’t have to be for you, because in this article we are going to share the optimizations that made Bert inference fast for us. So you can start with an egg (a known playbook for making certain Bert models fast in production), then focus on the chicken (making your Bert model accurate).\n",
    "\n",
    "* Blogpost@Robolox: [How We Scaled BERT to Serve 1+ Billion Daily Requests on CPUs](https://medium.com/@quocnle/how-we-scaled-bert-to-serve-1-billion-daily-requests-on-cpus-d99be090db26)\n",
    "* And the [video from Databricks on YouTube](https://youtu.be/Nw77sEAn_Js)\n",
    "\n",
    "#### Key takeaways\n",
    "\n",
    "1. _Smaller Model_: model distillation\n",
    "1. _Smaller Inputs_: do away with padding inputs and go with dynamically shaped input\n",
    "1. _Smaller Weights_: although this may necessarily trade off accuracy, use quantization \n",
    "1. _Smaller number of requests_: use caching\n",
    "1. _Smaller number of thread per core_: thread tuning with [`torch.set_num_threads`](https://www.theatlantic.com/ideas/archive/2024/01/the-daily-show-jon-stewart/677240/)"
   ]
  },
  {
   "cell_type": "markdown",
   "id": "4e7cda04-461c-47cc-9b74-b1ddc0c22c75",
   "metadata": {
    "editable": true,
    "slideshow": {
     "slide_type": ""
    },
    "tags": []
   },
   "source": [
    "## Intent Detection as a Case Study"
   ]
  },
  {
   "cell_type": "code",
   "execution_count": 2,
   "id": "7ee31293-5fb4-4c02-afe4-407bc2640b8b",
   "metadata": {
    "tags": []
   },
   "outputs": [
    {
     "name": "stderr",
     "output_type": "stream",
     "text": [
      "2024-02-04 23:54:45.793716: I tensorflow/core/platform/cpu_feature_guard.cc:182] This TensorFlow binary is optimized to use available CPU instructions in performance-critical operations.\n",
      "To enable the following instructions: AVX2 AVX512F FMA, in other operations, rebuild TensorFlow with the appropriate compiler flags.\n"
     ]
    }
   ],
   "source": [
    "from transformers import pipeline\n",
    "\n",
    "teacher_ckpt = \"transformersbook/bert-base-uncased-finetuned-clinc\"\n",
    "pipe = pipeline(\"text-classification\", model=teacher_ckpt)"
   ]
  },
  {
   "cell_type": "code",
   "execution_count": 3,
   "id": "70424d28-eac9-406f-9b9d-2b3d58ebc4c8",
   "metadata": {
    "tags": []
   },
   "outputs": [
    {
     "data": {
      "text/plain": [
       "[{'label': 'car_rental', 'score': 0.5490036606788635}]"
      ]
     },
     "execution_count": 3,
     "metadata": {},
     "output_type": "execute_result"
    }
   ],
   "source": [
    "query = \"\"\"Hey, I'd like to rent a vehicle from Nov 1st to Nov 15th in Paris and I need a 15 passenger van\"\"\"\n",
    "\n",
    "pipe(query)"
   ]
  },
  {
   "cell_type": "markdown",
   "id": "050eed3b-cec2-4a70-80c5-41770a222f7a",
   "metadata": {},
   "source": [
    "### CLINC150\n",
    "\n",
    "A dataset for task-oriented dialog systems, this dataset was used to fine-tune the baseline model in this example. \n",
    "\n",
    "The important thing is that it actually includes queries that are out-of-scope.\n",
    "\n",
    "Please see: [`clinc_oos` at 🤗](https://huggingface.co/datasets/clinc_oos)"
   ]
  },
  {
   "cell_type": "code",
   "execution_count": 4,
   "id": "e0ce07bd-94bc-473e-b750-b658699b6d59",
   "metadata": {
    "tags": []
   },
   "outputs": [],
   "source": [
    "from datasets import load_dataset\n",
    "\n",
    "clinc = load_dataset(\"clinc_oos\", \"plus\")"
   ]
  },
  {
   "cell_type": "code",
   "execution_count": 5,
   "id": "1eac08cd-d61b-4856-9935-a98a2039dd83",
   "metadata": {},
   "outputs": [
    {
     "data": {
      "text/plain": [
       "{'text': 'transfer $100 from my checking to saving account', 'intent': 133}"
      ]
     },
     "execution_count": 5,
     "metadata": {},
     "output_type": "execute_result"
    }
   ],
   "source": [
    "sample = clinc[\"test\"][42]\n",
    "sample"
   ]
  },
  {
   "cell_type": "code",
   "execution_count": 6,
   "id": "58852802-a4ec-4e2d-92b0-afc81f74c548",
   "metadata": {},
   "outputs": [
    {
     "data": {
      "text/plain": [
       "'transfer'"
      ]
     },
     "execution_count": 6,
     "metadata": {},
     "output_type": "execute_result"
    }
   ],
   "source": [
    "intents = clinc[\"test\"].features[\"intent\"]\n",
    "intents.int2str(sample[\"intent\"])"
   ]
  },
  {
   "cell_type": "markdown",
   "id": "d7c0f8fe-188d-4d0c-b128-d9d73a34a949",
   "metadata": {},
   "source": [
    "----"
   ]
  },
  {
   "cell_type": "markdown",
   "id": "4a1e1766-76d5-4255-bdaa-244fb222dce6",
   "metadata": {},
   "source": [
    "## Creating a Performance Benchmark"
   ]
  },
  {
   "cell_type": "code",
   "execution_count": 7,
   "id": "05c1b1fb-a497-4033-aed4-281233412b0b",
   "metadata": {
    "tags": []
   },
   "outputs": [],
   "source": [
    "class PerformanceBenchmark:\n",
    "    def __init__(self, pipeline, dataset, optim_type=\"BERT baseline\"):\n",
    "        self.pipeline = pipeline\n",
    "        self.dataset = dataset\n",
    "        self.optim_type = optim_type\n",
    "        \n",
    "    def compute_accuracy(self):\n",
    "        # tbd\n",
    "        pass\n",
    "\n",
    "    def compute_size(self):\n",
    "        # tbd\n",
    "        pass\n",
    "\n",
    "    def time_pipeline(self):\n",
    "        # tbd\n",
    "        pass\n",
    "\n",
    "    def run_benchmark(self):\n",
    "        metrics = {}\n",
    "        metrics[self.optim_type] = self.compute_size()\n",
    "        metrics[self.optim_type].update(self.time_pipeline())\n",
    "        metrics[self.optim_type].update(self.compute_accuracy())\n",
    "        return metrics"
   ]
  },
  {
   "cell_type": "markdown",
   "id": "d03c54a7-1145-4e5e-a5d5-7bfcc87640af",
   "metadata": {},
   "source": [
    "#### Implementing `compute_accuracy`"
   ]
  },
  {
   "cell_type": "code",
   "execution_count": 8,
   "id": "42e411d1-2cd2-4049-a5fc-4e51bd8e8d17",
   "metadata": {},
   "outputs": [
    {
     "name": "stderr",
     "output_type": "stream",
     "text": [
      "/var/tmp/ipykernel_2744/3510557904.py:3: FutureWarning: load_metric is deprecated and will be removed in the next major version of datasets. Use 'evaluate.load' instead, from the new library 🤗 Evaluate: https://huggingface.co/docs/evaluate\n",
      "  accuracy_score = load_metric(\"accuracy\")\n",
      "/opt/conda/envs/transformers-py38/lib/python3.8/site-packages/datasets/load.py:752: FutureWarning: The repository for accuracy contains custom code which must be executed to correctly load the metric. You can inspect the repository content at https://raw.githubusercontent.com/huggingface/datasets/2.16.1/metrics/accuracy/accuracy.py\n",
      "You can avoid this message in future by passing the argument `trust_remote_code=True`.\n",
      "Passing `trust_remote_code=True` will be mandatory to load this metric from the next major release of `datasets`.\n",
      "  warnings.warn(\n"
     ]
    }
   ],
   "source": [
    "from datasets import load_metric\n",
    "\n",
    "accuracy_score = load_metric(\"accuracy\")"
   ]
  },
  {
   "cell_type": "code",
   "execution_count": 9,
   "id": "dd019f56-8a6f-4ba3-88bc-74aa4e5b7fd8",
   "metadata": {},
   "outputs": [],
   "source": [
    "def compute_accuracy(self):\n",
    "    \"\"\"This overrides the PerformanceBenchmark.compute_accuracy() method\"\"\"\n",
    "    preds, labels = [], []\n",
    "    for example in self.dataset:\n",
    "        pred = self.pipeline(example[\"text\"])[0][\"label\"]\n",
    "        label = example[\"intent\"]\n",
    "        preds.append(intents.str2int(pred))\n",
    "        labels.append(label)\n",
    "\n",
    "    accuracy = accuracy_score.compute(predictions=preds, references=labels)\n",
    "    print(f\"Accuracy on test set - {accuracy['accuracy']:.3f}\")\n",
    "    return accuracy\n",
    "\n",
    "PerformanceBenchmark.compute_accuracy = compute_accuracy"
   ]
  },
  {
   "cell_type": "markdown",
   "id": "b01ccd7d-30ec-425c-98e0-6325eac2a68c",
   "metadata": {},
   "source": [
    "#### Implementing `compute_size`"
   ]
  },
  {
   "cell_type": "code",
   "execution_count": 10,
   "id": "8d0294f3-5b7e-403b-8a9c-811229becc4a",
   "metadata": {},
   "outputs": [
    {
     "data": {
      "text/plain": [
       "('bert.encoder.layer.2.attention.self.value.bias',\n",
       " tensor([-2.7834e-02,  4.9434e-02,  8.3551e-02,  4.1092e-02,  6.0157e-01,\n",
       "          1.1774e-01, -5.2112e-02, -6.5143e-02, -2.9358e-02, -4.2250e-02,\n",
       "          7.9177e-02,  8.0409e-02,  2.9921e-03,  1.7816e-01, -5.0480e-02,\n",
       "         -1.5634e-01, -2.1707e-02,  1.4381e-02,  2.5132e-02, -2.4110e-02,\n",
       "         -1.9183e-01, -7.8657e-02,  5.0709e-02,  3.3632e-02, -3.1946e-02,\n",
       "          1.1616e-01,  9.2720e-02, -1.1787e-01,  2.3233e-01, -1.2678e-02,\n",
       "         -1.3138e-01, -4.0024e-02,  7.4823e-02, -5.4148e-02, -1.5184e-01,\n",
       "         -7.4407e-02,  1.1559e-01,  8.2729e-02, -1.3787e-01,  8.3528e-02,\n",
       "          1.2154e-01,  1.6880e-02, -5.6629e-02, -3.9295e-02,  5.3725e-02,\n",
       "          6.8602e-02, -1.1294e-01,  4.4001e-02, -2.5884e-01,  1.6767e-01,\n",
       "          1.8316e-01,  5.6272e-02, -3.6874e-02, -2.7938e-02, -9.3204e-02,\n",
       "         -7.5239e-03,  4.1141e-02, -1.1542e-02, -9.9749e-02, -3.0910e-02,\n",
       "          4.1398e-02, -4.4389e-02, -2.6279e-02,  7.2100e-02,  7.5179e-03,\n",
       "         -7.4382e-03,  2.9311e-02, -1.3391e-02,  6.9966e-03, -9.3249e-03,\n",
       "          9.4272e-03, -1.1783e-02,  1.3849e-02,  1.8157e-03, -1.1522e-02,\n",
       "          1.3364e-02, -2.6307e-02,  2.3725e-03, -4.8451e-03,  6.2261e-03,\n",
       "          1.2653e-02,  1.7601e-02, -1.7971e-02, -2.9247e-03, -3.3447e-03,\n",
       "          1.4263e-02, -3.5629e-03, -9.2794e-03, -2.1326e-02,  1.9390e-02,\n",
       "          1.3287e-02, -8.7034e-03,  1.2936e-02, -2.0574e-02,  3.2204e-03,\n",
       "          5.9970e-03, -5.6524e-02,  3.0851e-02, -2.3233e-02,  4.6271e-02,\n",
       "         -1.4485e-03,  4.4248e-04, -3.1102e-02,  1.9762e-02,  2.0866e-02,\n",
       "          1.7914e-02, -2.0622e-02, -1.6030e-02,  6.2167e-03,  1.6809e-02,\n",
       "          4.6357e-03,  4.7169e-02, -2.1151e-02, -1.8898e-02,  3.5921e-02,\n",
       "          4.8621e-03, -5.9841e-02, -1.3029e-02,  5.6702e-03,  1.6820e-02,\n",
       "          2.1735e-02, -2.8285e-03, -1.5519e-02,  7.1974e-03,  3.5492e-02,\n",
       "         -2.3190e-02, -9.7930e-03,  2.3223e-02,  2.0529e-02,  2.7412e-02,\n",
       "          1.3887e-02,  1.7976e-03, -3.8905e-02,  1.8540e-02,  8.0013e-03,\n",
       "         -8.3682e-03, -8.6805e-03,  2.6464e-02,  1.8968e-03, -1.8028e-03,\n",
       "         -2.4427e-02, -3.5514e-02, -1.8748e-02, -3.0541e-02, -7.9520e-03,\n",
       "         -1.5989e-02,  9.3060e-03,  2.9318e-02,  1.6679e-02, -2.4060e-03,\n",
       "         -7.2656e-03, -2.7699e-03,  1.4280e-02, -6.7352e-02, -1.2329e-02,\n",
       "         -1.1516e-02, -8.0379e-03,  2.5604e-02, -2.9178e-02,  2.6076e-02,\n",
       "         -1.1561e-02, -4.0904e-03, -1.7735e-02, -2.8245e-03,  2.3919e-02,\n",
       "         -3.6326e-03, -1.6407e-03,  9.5295e-03,  2.4161e-02, -5.8965e-02,\n",
       "          4.7633e-02,  1.4403e-03, -4.4763e-02, -3.5462e-03,  3.0613e-02,\n",
       "          2.5047e-02,  1.3757e-02, -2.2238e-02,  8.0453e-03, -2.6188e-03,\n",
       "         -2.2013e-03, -6.0179e-03, -8.5149e-03, -2.8150e-02,  1.9282e-02,\n",
       "         -7.5657e-02,  6.1354e-03,  5.2562e-03, -2.2223e-03,  1.0437e-02,\n",
       "         -1.8630e-02, -7.7628e-02,  1.4377e-02,  1.4977e-02,  1.6090e-02,\n",
       "          2.9399e-02, -2.8604e-02, -3.2916e-02,  2.7902e-03,  1.4113e-02,\n",
       "          8.3836e-03, -6.5914e-03, -4.9576e-03, -1.5955e-02,  4.2381e-03,\n",
       "          3.0032e-02,  8.8986e-03, -1.5336e-02,  4.6771e-03, -1.2364e-02,\n",
       "         -3.7724e-02, -3.9060e-03,  1.4607e-02, -2.1286e-02,  9.7086e-03,\n",
       "         -1.5826e-02, -1.4847e-02,  1.0796e-03, -9.5035e-03, -1.8624e-02,\n",
       "         -3.1673e-02,  8.8388e-03, -1.4921e-02, -1.7855e-03,  3.8781e-02,\n",
       "          2.4269e-02, -1.6465e-03, -7.9774e-03, -1.3907e-02,  1.9653e-03,\n",
       "         -2.6717e-03,  3.0146e-02, -4.3986e-03,  6.0588e-03,  2.1959e-02,\n",
       "          2.0354e-02,  9.3631e-03, -8.4828e-03, -2.3994e-02,  1.8316e-02,\n",
       "         -2.2401e-02, -2.6273e-03,  3.2069e-03, -3.2386e-03,  1.1388e-02,\n",
       "          3.0835e-02,  2.6043e-02, -7.2103e-03, -5.0038e-04, -1.4860e-02,\n",
       "          2.3886e-02,  1.1530e-02, -1.0549e-03,  3.5677e-02,  6.0299e-03,\n",
       "          1.5875e-02,  5.3877e-02,  6.6331e-02,  1.5165e-02, -6.0870e-03,\n",
       "          1.6159e-03, -1.1137e-02,  1.3665e-02,  1.7698e-02,  4.5647e-03,\n",
       "         -4.5349e-02,  2.6634e-02,  4.7289e-03, -1.1664e-02,  8.7302e-03,\n",
       "          1.2051e-02,  2.3455e-02, -2.7151e-03, -1.3474e-02, -4.5949e-02,\n",
       "         -1.3496e-02,  8.1680e-02, -2.9737e-02, -2.8525e-02, -1.4888e-02,\n",
       "          5.4320e-03,  3.9142e-02,  1.4227e-02,  1.1140e-02, -1.0980e-02,\n",
       "          2.1982e-02, -1.1148e-02, -1.0226e-02, -5.8499e-03, -1.9739e-02,\n",
       "         -3.4634e-03, -1.0565e-02,  1.0449e-02,  8.2791e-03,  2.3053e-03,\n",
       "          9.7032e-03, -9.0916e-03,  5.4747e-04, -4.1901e-02,  9.6154e-03,\n",
       "          2.9424e-02,  1.1897e-03,  1.1825e-02,  2.7524e-02,  1.0225e-02,\n",
       "          2.1439e-02,  2.3448e-03, -3.7239e-02,  5.8888e-02, -3.1999e-02,\n",
       "         -7.9128e-03,  3.5337e-02,  2.7251e-02,  1.3948e-02,  1.0896e-02,\n",
       "          1.4326e-05, -2.6835e-03,  4.0720e-03,  1.6469e-02,  3.5876e-02,\n",
       "         -1.6803e-02,  2.8083e-02,  2.2789e-03,  3.1635e-02,  5.7104e-03,\n",
       "          3.0284e-03,  1.2528e-02, -1.7956e-02, -1.4686e-02,  4.4091e-03,\n",
       "         -1.4846e-02, -4.1044e-02, -3.4005e-02, -6.5876e-02,  3.0926e-02,\n",
       "          5.9820e-02, -1.0069e-04, -6.6089e-03,  2.1271e-03,  3.6137e-03,\n",
       "          9.0073e-03,  9.6992e-03,  2.1992e-02,  6.2104e-02,  1.4786e-02,\n",
       "         -2.6120e-02, -1.4990e-02,  1.5148e-02,  3.0313e-02,  2.0834e-02,\n",
       "          1.7836e-02, -5.4321e-03, -5.9164e-03,  1.7840e-02, -4.3020e-03,\n",
       "          8.7374e-03, -2.4993e-02,  3.4310e-02,  2.2652e-02, -5.3760e-03,\n",
       "          1.7668e-02, -8.9518e-04,  1.3691e-03, -2.1373e-02, -6.1878e-03,\n",
       "         -1.2396e-02, -1.7816e-02, -1.8014e-02,  9.5274e-03,  1.1643e-02,\n",
       "         -2.0683e-02, -2.8707e-03,  1.1669e-02,  1.5618e-02,  3.5348e-02,\n",
       "         -1.1234e-02, -4.5453e-03, -3.4890e-02, -3.0010e-02,  1.6433e-02,\n",
       "         -1.2068e-02,  8.2583e-03,  1.4090e-02,  1.8771e-02, -4.9337e-02,\n",
       "         -1.7775e-03,  5.6333e-02,  6.8979e-02,  2.3123e-02, -1.0754e-02,\n",
       "         -4.9530e-02,  4.2980e-02,  2.8846e-02, -3.9176e-02,  8.1903e-02,\n",
       "         -2.9344e-02,  3.0343e-02,  8.4269e-02, -2.4376e-02, -8.4680e-02,\n",
       "          6.7452e-03,  1.2407e-01,  1.5680e-02, -1.6643e-02,  9.0987e-03,\n",
       "         -2.7984e-03,  7.5874e-02, -1.4630e-02,  2.9823e-02, -1.0423e-02,\n",
       "         -6.0341e-02, -3.6580e-02, -5.4615e-02, -1.3628e-01, -5.8373e-02,\n",
       "          4.3453e-02,  3.0439e-02,  1.7298e-02, -1.1724e-01,  1.0805e-01,\n",
       "         -4.6345e-02, -1.1533e-01,  7.4684e-02, -5.9752e-03,  4.3189e-02,\n",
       "          4.4795e-02, -3.7566e-03, -7.5097e-02,  3.5959e-02,  1.3906e-01,\n",
       "          4.6041e-02,  1.1786e-02,  1.1243e-01,  8.4072e-02, -7.7309e-02,\n",
       "          1.3586e-02,  9.5244e-02, -1.2002e-01,  7.0882e-02,  1.0043e-01,\n",
       "          2.5874e-02,  2.3354e-02, -3.5469e-02,  3.0738e-02,  1.0479e-01,\n",
       "         -9.2843e-02,  5.9718e-02, -1.9409e-02, -3.4414e-02, -8.4060e-03,\n",
       "         -9.3654e-03, -2.8030e-02,  7.2026e-03, -5.9461e-03, -1.2284e-02,\n",
       "         -1.7473e-02, -4.9678e-02,  1.0224e-02, -1.4688e-02, -1.7345e-02,\n",
       "          2.6771e-02, -2.6582e-02, -2.9768e-02,  6.2005e-03, -3.3405e-04,\n",
       "          9.1245e-03, -3.7149e-02, -6.7714e-03, -1.8193e-02,  3.4191e-02,\n",
       "         -5.5732e-03, -2.6161e-02, -1.4078e-02,  1.0288e-02, -2.2850e-02,\n",
       "         -2.2642e-02,  1.0270e-02,  6.9930e-03,  1.3614e-03, -2.9319e-04,\n",
       "          9.9593e-03, -6.0532e-03,  1.8669e-03, -5.3395e-03, -2.2013e-02,\n",
       "          8.4485e-03, -1.9142e-02,  1.0449e-02, -1.6700e-02,  1.3038e-02,\n",
       "          7.7479e-03, -1.3329e-02,  1.3052e-02, -2.5305e-03,  1.6191e-02,\n",
       "          1.3152e-02,  2.9897e-02,  8.5553e-03, -6.4898e-04,  1.2359e-02,\n",
       "         -4.2144e-03,  2.1785e-02,  2.1401e-02, -1.3295e-02,  7.4764e-03,\n",
       "          6.3580e-03, -6.2467e-03,  1.8235e-02,  3.0643e-02, -4.9091e-03,\n",
       "         -1.3889e-02,  2.6181e-03,  4.9702e-03, -6.1664e-03, -2.8528e-03,\n",
       "         -4.0556e-04,  5.4844e-03,  9.7783e-03,  1.2326e-02, -1.6844e-02,\n",
       "         -1.6294e-02,  4.9879e-03,  3.7789e-03,  8.0305e-04,  2.0482e-02,\n",
       "         -1.6369e-02,  1.6436e-03, -9.0401e-03, -3.2635e-02, -2.3990e-03,\n",
       "          5.7569e-03, -2.0392e-02,  6.6946e-03, -1.8541e-02,  9.3559e-03,\n",
       "          2.7165e-02,  1.2492e-02,  1.2748e-03, -1.3846e-03,  4.0312e-03,\n",
       "         -8.5552e-03,  3.1621e-03, -3.9514e-02, -3.7938e-03, -1.3551e-02,\n",
       "          2.2692e-02, -1.0217e-02, -1.2839e-02, -4.8771e-03, -4.2620e-03,\n",
       "         -3.0481e-02,  4.6085e-02, -2.8627e-03,  6.6756e-03, -2.6765e-03,\n",
       "         -4.1443e-02,  1.3336e-02, -1.0526e-02, -3.8494e-02,  1.2780e-02,\n",
       "         -3.5214e-02, -2.4758e-02,  7.5220e-03,  1.7225e-02, -1.6440e-02,\n",
       "         -3.6639e-03, -4.7462e-02,  5.3796e-04, -2.8419e-03,  4.5923e-03,\n",
       "         -3.0517e-02, -3.6832e-03,  1.8710e-02, -3.0486e-02, -2.4076e-02,\n",
       "         -2.7601e-02,  1.1921e-01,  1.2020e-01,  5.9805e-02, -6.9238e-03,\n",
       "         -1.3529e-01,  1.1234e-01,  8.3534e-02,  1.9974e-01,  5.3834e-02,\n",
       "         -6.6691e-02,  1.2676e-01,  2.4947e-01,  4.9879e-01, -1.6342e-01,\n",
       "          6.1663e-02, -4.8022e-02, -5.4069e-02,  4.7277e-02, -1.4724e-01,\n",
       "          8.4666e-02,  9.8618e-02,  7.9988e-02, -5.7652e-02,  6.3551e-03,\n",
       "          2.6916e-03,  9.2017e-02,  1.2511e-01,  2.5168e-01, -8.6152e-02,\n",
       "         -2.7570e-02, -6.1548e-02,  9.1371e-02,  8.0129e-02, -1.1662e-01,\n",
       "          1.5206e-01, -1.0687e-01, -1.0758e-01,  9.4138e-02,  1.0322e-01,\n",
       "         -1.5152e-01,  2.5472e-01,  7.0699e-02, -4.1571e-02,  2.7933e-02,\n",
       "         -1.9523e-01, -2.8319e-01,  5.9689e-02, -1.4707e-01, -3.5683e-02,\n",
       "         -5.4465e-02,  1.2570e-01, -1.2280e-01,  2.0263e-01, -1.0653e-02,\n",
       "          1.1058e-01, -9.1731e-04,  8.6605e-02, -1.7707e-02,  1.2616e-02,\n",
       "          1.8871e-01, -1.0594e-01, -3.7989e-03, -6.6359e-02, -5.9799e-02,\n",
       "          4.3201e-03, -2.3140e-02,  4.8008e-03,  1.4294e-02, -9.5453e-03,\n",
       "          5.8454e-03,  8.6512e-03,  2.1151e-02,  1.7098e-02, -1.4637e-03,\n",
       "          1.3778e-02, -1.2843e-02,  2.3742e-02, -1.3895e-02,  1.1327e-03,\n",
       "         -7.0846e-03, -7.6255e-03, -8.2264e-03, -1.5513e-02,  4.2724e-03,\n",
       "         -1.7624e-02, -3.0984e-03, -1.4400e-02,  2.3883e-02,  1.1556e-01,\n",
       "          4.4036e-02,  3.2821e-02,  8.6612e-04,  1.2383e-02, -6.6263e-03,\n",
       "         -2.7201e-03,  4.8125e-03, -2.8362e-03,  3.9830e-02,  5.2414e-02,\n",
       "         -4.6269e-03, -1.5858e-02,  2.1845e-02, -1.3767e-02, -1.0629e-02,\n",
       "          1.0347e-02, -3.4209e-02,  1.6939e-02,  1.8120e-02,  3.0650e-03,\n",
       "         -2.5109e-03,  1.3500e-02, -3.6440e-02, -9.2135e-03,  9.2194e-03,\n",
       "         -3.6276e-02, -1.1555e-02, -1.9569e-02, -1.5417e-02, -2.0485e-02,\n",
       "          2.9770e-03, -6.8246e-03, -6.5039e-03, -1.2597e-02, -1.1409e-02,\n",
       "          1.7139e-02,  4.6424e-03, -5.1774e-02, -1.1679e-02,  5.2761e-03,\n",
       "         -1.3664e-02, -1.4001e-02,  2.0379e-03,  1.2753e-02, -8.1607e-03,\n",
       "         -1.0849e-02, -1.0683e-03, -2.4489e-03,  2.0192e-02,  1.5756e-02,\n",
       "         -6.4964e-03, -4.5603e-02, -2.5999e-02, -1.4307e-02, -7.4639e-03,\n",
       "          9.9480e-03,  1.6763e-02,  2.1737e-02,  4.8181e-02,  1.7739e-02,\n",
       "          1.1469e-02, -4.2359e-03, -1.6419e-02, -1.7318e-02,  1.1498e-03,\n",
       "          2.4485e-02, -3.0614e-03,  1.9017e-02, -1.6453e-02, -1.3444e-02,\n",
       "          2.6748e-02, -6.4994e-03,  5.1485e-03,  1.4132e-02, -1.1573e-02,\n",
       "          1.2583e-02, -1.1401e-02, -2.0003e-02, -3.8115e-03,  7.3728e-03,\n",
       "          1.5500e-02,  2.0623e-02,  3.1582e-03, -1.2794e-02,  4.5499e-03,\n",
       "         -3.3994e-04, -2.3003e-02,  1.2225e-02, -2.7949e-02, -9.6121e-03,\n",
       "         -3.5844e-02, -4.2373e-03,  5.3473e-03,  1.4432e-02, -1.2745e-02,\n",
       "          7.1483e-03,  2.9170e-03,  6.2454e-03,  6.8991e-03,  1.5852e-02,\n",
       "          2.1877e-02, -1.7211e-02, -2.6093e-02]))"
      ]
     },
     "execution_count": 10,
     "metadata": {},
     "output_type": "execute_result"
    }
   ],
   "source": [
    "list(pipe.model.state_dict().items())[42]"
   ]
  },
  {
   "cell_type": "code",
   "execution_count": 11,
   "id": "5bbcb685-e465-4904-96d5-cb4f8a927096",
   "metadata": {},
   "outputs": [],
   "source": [
    "import torch\n",
    "\n",
    "torch.save(pipe.model.state_dict(), \"model.pt\")"
   ]
  },
  {
   "cell_type": "code",
   "execution_count": 12,
   "id": "3a5eecb9-5c6d-458b-beaa-0ec42e9a16c2",
   "metadata": {},
   "outputs": [],
   "source": [
    "from pathlib import Path\n",
    "\n",
    "def compute_size(self):\n",
    "    \"\"\"This overrides the PerformanceBenchmark.compute_size() method\"\"\"\n",
    "    state_dict = self.pipeline.model.state_dict()\n",
    "    tmp_path = Path(\"model.pt\")\n",
    "    torch.save(state_dict, tmp_path)\n",
    "    # calculate size in megabytes\n",
    "    size_mb = Path(tmp_path).stat().st_size / (1024*1024)\n",
    "    # delete tmp file\n",
    "    tmp_path.unlink()\n",
    "    print(f\"Model size (MB) - {size_mb:.2f}\")\n",
    "    return {\"size_mb\": size_mb}\n",
    "\n",
    "PerformanceBenchmark.compute_size = compute_size"
   ]
  },
  {
   "cell_type": "markdown",
   "id": "614a6a24-9699-4c78-a55c-1e5257e09e57",
   "metadata": {},
   "source": [
    "#### Implementing `time_pipeline`"
   ]
  },
  {
   "cell_type": "code",
   "execution_count": 13,
   "id": "9270fb87-87be-4490-b1b7-bcb673fc9e3f",
   "metadata": {},
   "outputs": [
    {
     "name": "stdout",
     "output_type": "stream",
     "text": [
      "Latency (ms) - 46.001\n",
      "Latency (ms) - 43.851\n",
      "Latency (ms) - 40.909\n"
     ]
    }
   ],
   "source": [
    "from time import perf_counter\n",
    "\n",
    "for _ in range(3):\n",
    "    start_time = perf_counter()\n",
    "    _ = pipe(query)\n",
    "    latency = perf_counter() - start_time\n",
    "    print(f\"Latency (ms) - {1000 * latency:.3f}\")"
   ]
  },
  {
   "cell_type": "code",
   "execution_count": 14,
   "id": "844f5595-4454-48bb-b791-3d0509d6135a",
   "metadata": {},
   "outputs": [],
   "source": [
    "import numpy as np\n",
    "\n",
    "def time_pipeline(self, query=\"What is the pin number for my account?\"):\n",
    "    \"\"\"This overrides the PerformanceBenchmark.time_pipeline method\"\"\"\n",
    "    latencies = []\n",
    "\n",
    "    # warm-up\n",
    "    for _ in range(10):\n",
    "        _ = self.pipeline(query)\n",
    "\n",
    "    # now we observed the elapsed time over 100 runs\n",
    "    for _ in range(100):\n",
    "        start_time = perf_counter()\n",
    "        _ = self.pipeline(query)\n",
    "        latency = perf_counter() - start_time\n",
    "        latencies.append(latency)\n",
    "\n",
    "    # compute run stats\n",
    "    time_avg_ms = 1000 * np.mean(latencies)\n",
    "    time_std_ms = 1000 * np.std(latencies)\n",
    "    print(f\"Average latency (ms) - {time_avg_ms:.2f} +\\- {time_std_ms:.2f}\")\n",
    "    return { \"time_avg_ms\": time_avg_ms, \"time_std_ms\": time_std_ms }\n",
    "\n",
    "PerformanceBenchmark.time_pipeline = time_pipeline"
   ]
  },
  {
   "cell_type": "code",
   "execution_count": 15,
   "id": "bb19910e-b81b-4d21-b1a6-5cd3f2330659",
   "metadata": {},
   "outputs": [
    {
     "name": "stdout",
     "output_type": "stream",
     "text": [
      "Model size (MB) - 418.15\n",
      "Average latency (ms) - 24.06 +\\- 0.31\n",
      "Accuracy on test set - 0.867\n"
     ]
    }
   ],
   "source": [
    "pb = PerformanceBenchmark(pipe, clinc[\"test\"])\n",
    "perf_metrics = pb.run_benchmark()"
   ]
  },
  {
   "cell_type": "markdown",
   "id": "04bbda83-15ff-471a-9b6f-f13904a12bd9",
   "metadata": {},
   "source": [
    "## Making Models Smaller via Knowledge Distillation"
   ]
  },
  {
   "cell_type": "markdown",
   "id": "82239c28-989f-44d3-b2f4-3a6ec8a3954a",
   "metadata": {},
   "source": [
    "### Creating a Knowledge Distillation Trainer\n",
    "\n",
    "In addition to the _105_ parameters that [`transformers.TrainingArguments`](https://huggingface.co/docs/transformers/v4.16.2/en/main_classes/trainer#transformers.TrainingArguments), we will add two more to support training of a student model with knowledge distillation:\n",
    "\n",
    "* `alpha` ... $\\alpha$ controls the weighted average of cross-entropy and knowledge-distillation loss for the student model (see below). Ranges from 0.0 to 1.0; $\\alpha = 1.0$ means that we only use the cross-entropy of the student and ignore any signal from the teacher.\n",
    "* `temperature` ... $T$ softens the probability distributions by scaling the logits before applying softmax:\n",
    "\n",
    "<p class=\"pad-left\">\\(p_{i} = \\frac{exp(z_i(x)/T)}{\\sum_\\limits{j}exp(z_{i}(x)/T)}\\)</p>\n",
    "<p>Ranges from 1.0 to $\\infty$. $T=1$ recovers the original softmax distribution. </p>"
   ]
  },
  {
   "cell_type": "code",
   "execution_count": 16,
   "id": "7483a47a-87b3-4701-abdf-c2fab1d4ada5",
   "metadata": {},
   "outputs": [],
   "source": [
    "from transformers import TrainingArguments\n",
    "\n",
    "class DistillationTrainingArguments(TrainingArguments):\n",
    "    def __init__(self, *args, alpha=0.5, temperature=2.0, **kwargs):\n",
    "        super().__init__(*args, **kwargs)\n",
    "        self.alpha = alpha\n",
    "        self.temperature = temperature"
   ]
  },
  {
   "cell_type": "markdown",
   "id": "b6edc9f0-a726-43fb-aedf-6656242ef85c",
   "metadata": {
    "editable": true,
    "slideshow": {
     "slide_type": ""
    },
    "tags": []
   },
   "source": [
    "During training, loss is calculated as a weighted average of the usual cross-entropy loss of the student; and the knowledge-distillation loss between the teacher and student. \n",
    "\n",
    "<p class=\"pad-left\">\\(L_{student} = \\alpha L_{CE} + (1 - \\alpha) L_{KD}\\)</p>\n",
    "<p>where</p>\n",
    "\n",
    "\n",
    "<p class=\"pad-left\">\\(L_{CE}\\)</p>\n",
    "<p>is the cross-entropy loss of the ground truth labels.</p>\n",
    "\n",
    "<p class=\"pad-left\">\\(L_{KD} = T^{2}D_{KL}\\)</p><p>is knowledge-distillation loss where \\(T^{2}\\) is a normalization factor to account for the gradients produced by soft labels scales as \\(\\frac{1}{T^{2}}\\).</p>\n",
    "\n",
    "<p class=\"pad-left\">\\(D_{KL}(p, q) = \\sum_\\limits{i} p_i \\  log\\frac{p_i(x)}{q_i(x)}\\)</p>\n",
    "<p>which is the expectation of the log difference between $p_i(x)$ and $q_i(x)$ when the expectation is taken using the probabilities of $p_i(x)$. For our case, $p_i(x)$ is the <i>teacher</i> and $q_i(x)$ is the <i>student</i>. In other words, we measure loss by seeing how far off the student is from the teacher, and that makes perfect sense.</p>"
   ]
  },
  {
   "cell_type": "code",
   "execution_count": 17,
   "id": "88c4cfc5-ef8b-48ed-bcd4-1794ff7fc1b3",
   "metadata": {
    "editable": true,
    "slideshow": {
     "slide_type": ""
    },
    "tags": []
   },
   "outputs": [],
   "source": [
    "import torch.nn as nn\n",
    "import torch.nn.functional as F\n",
    "\n",
    "from transformers import Trainer\n",
    "\n",
    "class DistillationTrainer(Trainer):\n",
    "    def __init__(self, *args, teacher_model=None, **kwargs):\n",
    "        super().__init__(*args, **kwargs)\n",
    "        self.teacher_model = teacher_model\n",
    "\n",
    "    def compute_loss(self, model, inputs, return_outputs=False):\n",
    "        outputs_stu = model(**inputs)\n",
    "        # extract cross-entropy loss and logits from student\n",
    "        loss_ce = outputs_stu.loss\n",
    "        logits_stu = outputs_stu.logits\n",
    "        \n",
    "        # extract logits from teacher\n",
    "        with torch.no_grad():\n",
    "            outputs_tea = self.teacher_model(**inputs)\n",
    "            logits_tea = outputs_tea.logits\n",
    "\n",
    "        # soften probabilities and compute distillation loss\n",
    "        loss_fct = nn.KLDivLoss(reduction=\"batchmean\")\n",
    "        loss_kd = self.args.temperature ** 2 * loss_fct(\n",
    "            F.log_softmax(logits_stu / self.args.temperature, dim=-1),\n",
    "            F.softmax(logits_tea / self.args.temperature, dim=-1)\n",
    "        )\n",
    "\n",
    "        # return weighted student loss\n",
    "        loss = self.args.alpha * loss_ce + (1. - self.args.alpha) * loss_kd\n",
    "        return (loss, outputs_stu) if return_outputs else loss"
   ]
  },
  {
   "cell_type": "markdown",
   "id": "4151b3da-d2a4-4fee-9362-853737d7dc04",
   "metadata": {},
   "source": [
    "## Choosing a Good Student Initialization\n",
    "\n",
    "> A good rule of thumb from the literature is that knowledge distillation works best when teacher and student are of the same _model type_.\n",
    "\n",
    "So if we are using [BERT (`transformersbook/bert-base-uncased-finetuned-clinc`)](https://huggingface.co/transformersbook/bert-base-uncased-finetuned-clinc) for teacher, then [DistilBERT (`distilbert-base-uncased`)](https://huggingface.co/distilbert-base-uncased) for the student is a natural choice."
   ]
  },
  {
   "cell_type": "code",
   "execution_count": 18,
   "id": "8baac9e7-1c82-455e-8cd1-867537761400",
   "metadata": {},
   "outputs": [],
   "source": [
    "import os\n",
    "\n",
    "os.environ[\"TOKENIZERS_PARALLELISM\"] = \"false\""
   ]
  },
  {
   "cell_type": "code",
   "execution_count": 19,
   "id": "bf0be30d-9766-4890-9793-907f6d3afb2f",
   "metadata": {},
   "outputs": [],
   "source": [
    "from transformers import AutoTokenizer\n",
    "\n",
    "student_ckpt = \"distilbert-base-uncased\"\n",
    "student_tokenizer = AutoTokenizer.from_pretrained(student_ckpt)\n",
    "\n",
    "def tokenize_text(batch):\n",
    "    return student_tokenizer(batch[\"text\"], truncation=True)\n",
    "\n",
    "\n",
    "clinc_enc = clinc.map(tokenize_text, batched=True, remove_columns=[\"text\"])\n",
    "clinc_enc = clinc_enc.rename_column(\"intent\", \"labels\")"
   ]
  },
  {
   "cell_type": "code",
   "execution_count": 20,
   "id": "a40ddc06-303f-46ba-9e9a-699f5d572b6e",
   "metadata": {},
   "outputs": [
    {
     "data": {
      "application/vnd.jupyter.widget-view+json": {
       "model_id": "874f88e12fc54d1aae5b41d140673496",
       "version_major": 2,
       "version_minor": 0
      },
      "text/plain": [
       "VBox(children=(HTML(value='<center> <img\\nsrc=https://huggingface.co/front/assets/huggingface_logo-noborder.sv…"
      ]
     },
     "metadata": {},
     "output_type": "display_data"
    }
   ],
   "source": [
    "from huggingface_hub import notebook_login\n",
    "\n",
    "notebook_login()"
   ]
  },
  {
   "cell_type": "markdown",
   "id": "f86bafb8-7792-431d-9d1e-7c416b3e5aa3",
   "metadata": {},
   "source": [
    "We implement `compute_metrics` for tracking metrics during training. Here, we can reuse `accuracy_score` which we use above in `PerformanceBenchmark.compute_accuracy`."
   ]
  },
  {
   "cell_type": "code",
   "execution_count": 21,
   "id": "25319fbb-cdc9-4ab4-8c51-c2361562089a",
   "metadata": {},
   "outputs": [],
   "source": [
    "def compute_metrics(pred):\n",
    "    predictions, labels = pred\n",
    "    predictions = np.argmax(predictions, axis=1)\n",
    "    return accuracy_score.compute(predictions=predictions, references=labels)"
   ]
  },
  {
   "cell_type": "markdown",
   "id": "57b9700d-f9a8-4434-a4d0-1ceb429f9965",
   "metadata": {},
   "source": [
    "#### Training arguments\n",
    "\n",
    "* [`output_dir`](https://huggingface.co/docs/transformers/v4.16.2/en/main_classes/trainer#transformers.TrainingArguments.output_dir) ... output directory where the model predictions and checkpoints will be written.\n",
    "* [`evaluation_strategy`](https://huggingface.co/docs/transformers/v4.16.2/en/main_classes/trainer#transformers.TrainingArguments.evaluation_strategy) ... `\"no\"`: No evaluation is done during training; `\"steps\"`: Evaluation is done (and logged) every eval_steps; or `\"epoch\"`: Evaluation is done at the end of each epoch.\n",
    "* [`num_train_epochs`](https://huggingface.co/docs/transformers/v4.16.2/en/main_classes/trainer#transformers.TrainingArguments.num_train_epochs(float,) ... number of training epochs to perform (if not an integer, will perform the decimal part percents of the last epoch before stopping training); defaults to 3.0.\n",
    "* [`learning_rate`](https://huggingface.co/docs/transformers/v4.16.2/en/main_classes/trainer#transformers.TrainingArguments.learning_rate) ... initial learning rate for [`transformers.AdamW`](https://huggingface.co/docs/transformers/v4.16.2/en/main_classes/optimizer_schedules#transformers.AdamW) optimizer.\n",
    "* [`weight_decay`](https://huggingface.co/docs/transformers/v4.16.2/en/main_classes/trainer#transformers.TrainingArguments.weight_decay) ... weight decay to apply (if not zero) to all layers except all bias and `LayerNorm` weights in `transformers.AdamW` optimizer.\n",
    "* [`per_device_train_batch_size`](https://huggingface.co/docs/transformers/v4.16.2/en/main_classes/trainer#transformers.TrainingArguments.per_device_train_batch_size) ... batch size per GPU/TPU core/CPU for _training_; defaults to 8.\n",
    "* [`per_device_eval_batch_size`](https://huggingface.co/docs/transformers/v4.16.2/en/main_classes/trainer#transformers.TrainingArguments.per_device_eval_batch_size) ... batch size per GPU/TPU core/CPU for _evaluation_; defaults to 8.\n",
    "* `alpha` ... controls the weighted average of cross-entropy and knowledge-distillation loss for the student model (see explanation above).\n",
    "* `temperature` ... controls the softening of the probability distributions by scaling the logits before applying softmax (see explanation above).\n",
    "* [`push_to_hub`](https://huggingface.co/docs/transformers/v4.16.2/en/main_classes/trainer#transformers.TrainingArguments.push_to_hub) ... push the model to the Hub every time the model is saved."
   ]
  },
  {
   "cell_type": "code",
   "execution_count": 22,
   "id": "dfa22bd3-7ecd-4c15-91f3-16ffd4f4d8d9",
   "metadata": {},
   "outputs": [],
   "source": [
    "SEED = 8675309"
   ]
  },
  {
   "cell_type": "code",
   "execution_count": 23,
   "id": "d7068223-596f-4b60-9af8-a03a06e8763f",
   "metadata": {},
   "outputs": [],
   "source": [
    "batch_size = 48\n",
    "\n",
    "finetuned_ckpt = \"distilbert-base-uncased-finetuned-clinc\"\n",
    "\n",
    "student_training_args = DistillationTrainingArguments(\n",
    "    seed=SEED,\n",
    "    output_dir=finetuned_ckpt,\n",
    "    evaluation_strategy=\"epoch\",\n",
    "    num_train_epochs=5,\n",
    "    learning_rate=2e-5,\n",
    "    weight_decay=0.01,\n",
    "    per_device_train_batch_size=batch_size,\n",
    "    per_device_eval_batch_size=batch_size,\n",
    "    # here are the 2 hyperparams for knowledge-distillation\n",
    "    alpha=1,\n",
    "    temperature=2.0,\n",
    "    # to avoid those deprecation warnings\n",
    "    optim=\"adamw_torch\",\n",
    "    #\n",
    "    push_to_hub=True\n",
    ")"
   ]
  },
  {
   "cell_type": "markdown",
   "id": "fd2d0666-36e1-4ee2-af98-7fe442f177ed",
   "metadata": {},
   "source": [
    "#### Student model configuration"
   ]
  },
  {
   "cell_type": "code",
   "execution_count": 24,
   "id": "4f17bc5b-4200-4dc4-9c96-6df9f12f46fa",
   "metadata": {},
   "outputs": [],
   "source": [
    "id2label = pipe.model.config.id2label\n",
    "label2id = pipe.model.config.label2id\n",
    "\n",
    "num_labels = intents.num_classes"
   ]
  },
  {
   "cell_type": "code",
   "execution_count": 25,
   "id": "7454d3d7-6ddb-427b-8246-4ccb9276aa08",
   "metadata": {},
   "outputs": [],
   "source": [
    "from transformers import AutoConfig\n",
    "\n",
    "student_config = AutoConfig.from_pretrained(\n",
    "    student_ckpt,\n",
    "    num_labels=num_labels,\n",
    "    id2label=id2label,\n",
    "    label2id=label2id\n",
    ")"
   ]
  },
  {
   "cell_type": "code",
   "execution_count": 26,
   "id": "bfb4fb67-194e-46fb-acda-1809ff1e2925",
   "metadata": {},
   "outputs": [],
   "source": [
    "device = torch.device(\"cuda\" if torch.cuda.is_available() else \"cpu\")"
   ]
  },
  {
   "cell_type": "code",
   "execution_count": 27,
   "id": "6899940a-08df-487c-b3c2-b09ab6e12cca",
   "metadata": {},
   "outputs": [],
   "source": [
    "from transformers import AutoModelForSequenceClassification\n",
    "\n",
    "def student_init():\n",
    "    return (AutoModelForSequenceClassification.from_pretrained(\n",
    "        student_ckpt,\n",
    "        config=student_config\n",
    "    ).to(device))"
   ]
  },
  {
   "cell_type": "code",
   "execution_count": 28,
   "id": "693a7068-eec9-4eef-9190-6ac645947295",
   "metadata": {},
   "outputs": [],
   "source": [
    "teacher_model = (AutoModelForSequenceClassification.from_pretrained(\n",
    "    teacher_ckpt,\n",
    "    num_labels=num_labels\n",
    ").to(device))"
   ]
  },
  {
   "cell_type": "code",
   "execution_count": 29,
   "id": "12eb147c-5c75-4a90-8c3a-7da459af8662",
   "metadata": {},
   "outputs": [
    {
     "name": "stderr",
     "output_type": "stream",
     "text": [
      "Some weights of DistilBertForSequenceClassification were not initialized from the model checkpoint at distilbert-base-uncased and are newly initialized: ['classifier.bias', 'classifier.weight', 'pre_classifier.bias', 'pre_classifier.weight']\n",
      "You should probably TRAIN this model on a down-stream task to be able to use it for predictions and inference.\n",
      "Some weights of DistilBertForSequenceClassification were not initialized from the model checkpoint at distilbert-base-uncased and are newly initialized: ['classifier.bias', 'classifier.weight', 'pre_classifier.bias', 'pre_classifier.weight']\n",
      "You should probably TRAIN this model on a down-stream task to be able to use it for predictions and inference.\n"
     ]
    },
    {
     "data": {
      "text/html": [
       "\n",
       "    <div>\n",
       "      \n",
       "      <progress value='1590' max='1590' style='width:300px; height:20px; vertical-align: middle;'></progress>\n",
       "      [1590/1590 05:17, Epoch 5/5]\n",
       "    </div>\n",
       "    <table border=\"1\" class=\"dataframe\">\n",
       "  <thead>\n",
       " <tr style=\"text-align: left;\">\n",
       "      <th>Epoch</th>\n",
       "      <th>Training Loss</th>\n",
       "      <th>Validation Loss</th>\n",
       "      <th>Accuracy</th>\n",
       "    </tr>\n",
       "  </thead>\n",
       "  <tbody>\n",
       "    <tr>\n",
       "      <td>1</td>\n",
       "      <td>No log</td>\n",
       "      <td>3.299764</td>\n",
       "      <td>0.713226</td>\n",
       "    </tr>\n",
       "    <tr>\n",
       "      <td>2</td>\n",
       "      <td>3.799600</td>\n",
       "      <td>1.873893</td>\n",
       "      <td>0.839032</td>\n",
       "    </tr>\n",
       "    <tr>\n",
       "      <td>3</td>\n",
       "      <td>3.799600</td>\n",
       "      <td>1.156364</td>\n",
       "      <td>0.890323</td>\n",
       "    </tr>\n",
       "    <tr>\n",
       "      <td>4</td>\n",
       "      <td>1.689000</td>\n",
       "      <td>0.857065</td>\n",
       "      <td>0.912581</td>\n",
       "    </tr>\n",
       "    <tr>\n",
       "      <td>5</td>\n",
       "      <td>0.901700</td>\n",
       "      <td>0.776097</td>\n",
       "      <td>0.917419</td>\n",
       "    </tr>\n",
       "  </tbody>\n",
       "</table><p>"
      ],
      "text/plain": [
       "<IPython.core.display.HTML object>"
      ]
     },
     "metadata": {},
     "output_type": "display_data"
    },
    {
     "name": "stderr",
     "output_type": "stream",
     "text": [
      "Checkpoint destination directory distilbert-base-uncased-finetuned-clinc/checkpoint-500 already exists and is non-empty.Saving will proceed but saved results may be invalid.\n",
      "Checkpoint destination directory distilbert-base-uncased-finetuned-clinc/checkpoint-1000 already exists and is non-empty.Saving will proceed but saved results may be invalid.\n",
      "Checkpoint destination directory distilbert-base-uncased-finetuned-clinc/checkpoint-1500 already exists and is non-empty.Saving will proceed but saved results may be invalid.\n"
     ]
    },
    {
     "name": "stdout",
     "output_type": "stream",
     "text": [
      "CPU times: user 6min 19s, sys: 29.8 s, total: 6min 49s\n",
      "Wall time: 11min 51s\n"
     ]
    },
    {
     "data": {
      "text/plain": [
       "TrainOutput(global_step=1590, training_loss=2.053109031053459, metrics={'train_runtime': 329.3826, 'train_samples_per_second': 231.494, 'train_steps_per_second': 4.827, 'total_flos': 413143018435392.0, 'train_loss': 2.053109031053459, 'epoch': 5.0})"
      ]
     },
     "execution_count": 29,
     "metadata": {},
     "output_type": "execute_result"
    }
   ],
   "source": [
    "%%time\n",
    "\n",
    "distilbert_trainer = DistillationTrainer(\n",
    "    model_init=student_init,\n",
    "    teacher_model=teacher_model,\n",
    "    args=student_training_args,\n",
    "    train_dataset=clinc_enc[\"train\"],\n",
    "    eval_dataset=clinc_enc[\"validation\"],\n",
    "    compute_metrics=compute_metrics,\n",
    "    tokenizer=student_tokenizer\n",
    ")\n",
    "\n",
    "distilbert_trainer.train()"
   ]
  },
  {
   "cell_type": "code",
   "execution_count": 30,
   "id": "d2760b1d-6252-449f-892f-e8771daf5dc8",
   "metadata": {},
   "outputs": [
    {
     "name": "stdout",
     "output_type": "stream",
     "text": [
      "don't forget to add the knowledge-distillation hyperparameters to your model card!\n"
     ]
    }
   ],
   "source": [
    "distilbert_trainer.push_to_hub(\"Fine-tuned student model training completed\")\n",
    "\n",
    "print(\"don't forget to add the knowledge-distillation hyperparameters to your model card!\")"
   ]
  },
  {
   "cell_type": "markdown",
   "id": "b09d99b5-bcaf-46ad-a6bd-4194b58016fb",
   "metadata": {},
   "source": [
    "----"
   ]
  },
  {
   "cell_type": "markdown",
   "id": "237333b7-7717-4b96-a4b4-49491ababaef",
   "metadata": {},
   "source": [
    "#### ???\n",
    "\n",
    "So, how is that fine-tuned model of ours?"
   ]
  },
  {
   "cell_type": "code",
   "execution_count": 31,
   "id": "18ec9f59-7e34-4824-8cae-1d81eb711a29",
   "metadata": {},
   "outputs": [
    {
     "data": {
      "application/vnd.jupyter.widget-view+json": {
       "model_id": "8a3e9f85418740d385b022aae24d57de",
       "version_major": 2,
       "version_minor": 0
      },
      "text/plain": [
       "tokenizer.json:   0%|          | 0.00/711k [00:00<?, ?B/s]"
      ]
     },
     "metadata": {},
     "output_type": "display_data"
    }
   ],
   "source": [
    "finetuned_ckpt = \"buruzaemon/distilbert-base-uncased-finetuned-clinc\"\n",
    "\n",
    "pipe = pipeline(\n",
    "    \"text-classification\",\n",
    "    model=finetuned_ckpt\n",
    ")"
   ]
  },
  {
   "cell_type": "code",
   "execution_count": 32,
   "id": "c9692b5a-1cac-4ea4-9e0c-69cb8fff6147",
   "metadata": {},
   "outputs": [
    {
     "name": "stdout",
     "output_type": "stream",
     "text": [
      "Model size (MB) - 255.88\n",
      "Average latency (ms) - 12.59 +\\- 0.20\n",
      "Accuracy on test set - 0.857\n"
     ]
    }
   ],
   "source": [
    "optim_type = \"DistilBERT\"\n",
    "pb = PerformanceBenchmark(\n",
    "    pipe,\n",
    "    clinc[\"test\"],\n",
    "    optim_type=optim_type\n",
    ")\n",
    "perf_metrics.update(pb.run_benchmark())"
   ]
  },
  {
   "cell_type": "markdown",
   "id": "510b5118-570c-4f55-a35b-02085434e1a8",
   "metadata": {},
   "source": [
    "### Comparison: base-line model (Teacher) vs. fine-tuned (Student)"
   ]
  },
  {
   "cell_type": "code",
   "execution_count": 33,
   "id": "c848824e-20fb-4e96-9453-66f3278df011",
   "metadata": {},
   "outputs": [
    {
     "data": {
      "image/png": "[encoded data removed]",
      "text/plain": [
       "<Figure size 640x480 with 1 Axes>"
      ]
     },
     "metadata": {},
     "output_type": "display_data"
    }
   ],
   "source": [
    "import matplotlib.pyplot as plt\n",
    "import pandas as pd\n",
    "\n",
    "def plot_metrics(perf_metrics, current_optim_type):\n",
    "    df = pd.DataFrame.from_dict(perf_metrics, orient=\"index\")\n",
    "\n",
    "    for idx in df.index:\n",
    "        df_opt = df.loc[idx]\n",
    "        # add a dashed circle around the current optimization type\n",
    "        if idx == current_optim_type:\n",
    "            plt.scatter(\n",
    "                df_opt[\"time_avg_ms\"], df_opt[\"accuracy\"] * 100,\n",
    "                alpha=0.5,\n",
    "                s=df_opt[\"size_mb\"],\n",
    "                label=idx,\n",
    "                marker='$\\u25CC$'\n",
    "            )\n",
    "        else:\n",
    "            plt.scatter(\n",
    "                df_opt[\"time_avg_ms\"], df_opt[\"accuracy\"] * 100,\n",
    "                alpha=0.5,\n",
    "                s=df_opt[\"size_mb\"],\n",
    "                label=idx\n",
    "            )\n",
    "   \n",
    "    legend = plt.legend(loc='center left', bbox_to_anchor=(1,0.5))\n",
    "    #for handle in legend.legendHandles:\n",
    "    for handle in legend.legend_handles:\n",
    "        handle.set_sizes([20])\n",
    "\n",
    "    plt.ylim(80, 90)\n",
    "\n",
    "    # use the slowest model to define the x-axis range\n",
    "    xlim = int(perf_metrics[\"BERT baseline\"][\"time_avg_ms\"] + 3)\n",
    "    plt.xlim(1, xlim)\n",
    "    plt.ylabel(\"Accuracy (%)\")\n",
    "    plt.xlabel(\"Average latency (ms)\")\n",
    "    plt.show()\n",
    "\n",
    "plot_metrics(perf_metrics, optim_type)         "
   ]
  },
  {
   "cell_type": "markdown",
   "id": "64f4a82a-2bb6-42c5-b7f0-9bb16253cd9f",
   "metadata": {},
   "source": [
    "#### Optuna\n",
    "\n",
    "The default backend for hyperparameter search in HF is Optuna. Pretty neat!"
   ]
  },
  {
   "cell_type": "code",
   "execution_count": 34,
   "id": "f07d5065-eb88-4c70-abd0-f1669de62c32",
   "metadata": {},
   "outputs": [],
   "source": [
    "def objective(trial):\n",
    "    x = trial.suggest_float(\"x\", -2, 2)\n",
    "    y = trial.suggest_float(\"y\", -2, 2)\n",
    "    return (1 - x)**2 + 100*(y - x**2)**2"
   ]
  },
  {
   "cell_type": "code",
   "execution_count": 35,
   "id": "1a89ec71-9bb7-4c91-90d8-8fb82a464fc1",
   "metadata": {},
   "outputs": [
    {
     "name": "stderr",
     "output_type": "stream",
     "text": [
      "[I 2024-02-05 00:13:24,050] A new study created in memory with name: no-name-39577331-11cd-434c-af1c-b2f1852ff751\n",
      "[I 2024-02-05 00:13:24,053] Trial 0 finished with value: 64.26248821176874 and parameters: {'x': 0.5238635663825528, 'y': -0.5257905719937597}. Best is trial 0 with value: 64.26248821176874.\n",
      "[I 2024-02-05 00:13:24,055] Trial 1 finished with value: 15.581697253254482 and parameters: {'x': -1.1718259829386408, 'y': 1.0435571246276365}. Best is trial 1 with value: 15.581697253254482.\n",
      "[I 2024-02-05 00:13:24,056] Trial 2 finished with value: 421.04887059907935 and parameters: {'x': 0.30925421136899933, 'y': -1.9551464164027754}. Best is trial 1 with value: 15.581697253254482.\n",
      "[I 2024-02-05 00:13:24,057] Trial 3 finished with value: 483.2237285317853 and parameters: {'x': 1.7144642571453024, 'y': 0.7423140230880105}. Best is trial 1 with value: 15.581697253254482.\n",
      "[I 2024-02-05 00:13:24,059] Trial 4 finished with value: 385.16901184904845 and parameters: {'x': 0.5293353253987871, 'y': -1.6818119792557646}. Best is trial 1 with value: 15.581697253254482.\n",
      "[I 2024-02-05 00:13:24,061] Trial 5 finished with value: 2098.565610801632 and parameters: {'x': -1.7745642626599993, 'y': -1.4235220362977552}. Best is trial 1 with value: 15.581697253254482.\n",
      "[I 2024-02-05 00:13:24,062] Trial 6 finished with value: 332.0072728621554 and parameters: {'x': -0.018176238426836022, 'y': 1.8195900877506075}. Best is trial 1 with value: 15.581697253254482.\n",
      "[I 2024-02-05 00:13:24,063] Trial 7 finished with value: 11.298740010394624 and parameters: {'x': 1.0721515779476563, 'y': 1.4855675450467416}. Best is trial 7 with value: 11.298740010394624.\n",
      "[I 2024-02-05 00:13:24,065] Trial 8 finished with value: 101.63429342914142 and parameters: {'x': 0.06319886407381459, 'y': 1.007770451296489}. Best is trial 7 with value: 11.298740010394624.\n",
      "[I 2024-02-05 00:13:24,067] Trial 9 finished with value: 544.6504583690252 and parameters: {'x': 1.8902650783580532, 'y': 1.241025981810762}. Best is trial 7 with value: 11.298740010394624.\n",
      "[I 2024-02-05 00:13:24,119] Trial 10 finished with value: 249.90804585096242 and parameters: {'x': 1.2414574072278248, 'y': -0.03944711405782808}. Best is trial 7 with value: 11.298740010394624.\n",
      "[I 2024-02-05 00:13:24,129] Trial 11 finished with value: 49.002775248991945 and parameters: {'x': -1.1333276354208408, 'y': 1.951152523695356}. Best is trial 7 with value: 11.298740010394624.\n",
      "[I 2024-02-05 00:13:24,140] Trial 12 finished with value: 3.3720858123739426 and parameters: {'x': -0.7252142137780135, 'y': 0.4630292389471752}. Best is trial 12 with value: 3.3720858123739426.\n",
      "[I 2024-02-05 00:13:24,150] Trial 13 finished with value: 2.582956237151639 and parameters: {'x': -0.5534944575307708, 'y': 0.265172233256185}. Best is trial 13 with value: 2.582956237151639.\n",
      "[I 2024-02-05 00:13:24,161] Trial 14 finished with value: 2.4520321058043044 and parameters: {'x': -0.5614507146379463, 'y': 0.32701833047965007}. Best is trial 14 with value: 2.4520321058043044.\n",
      "[I 2024-02-05 00:13:24,171] Trial 15 finished with value: 22.169668234742673 and parameters: {'x': -0.46728988705692615, 'y': -0.2290407495415912}. Best is trial 14 with value: 2.4520321058043044.\n",
      "[I 2024-02-05 00:13:24,181] Trial 16 finished with value: 88.70919156283158 and parameters: {'x': -0.497744339695422, 'y': -0.6821212808179056}. Best is trial 14 with value: 2.4520321058043044.\n",
      "[I 2024-02-05 00:13:24,192] Trial 17 finished with value: 671.3676151206568 and parameters: {'x': -1.7444164899945291, 'y': 0.4664877878091932}. Best is trial 14 with value: 2.4520321058043044.\n",
      "[I 2024-02-05 00:13:24,202] Trial 18 finished with value: 445.5270718839038 and parameters: {'x': -1.0775768804575274, 'y': -0.9393297834122962}. Best is trial 14 with value: 2.4520321058043044.\n",
      "[I 2024-02-05 00:13:24,212] Trial 19 finished with value: 5.121729455992697 and parameters: {'x': -0.25914013460740737, 'y': 0.25520401689949357}. Best is trial 14 with value: 2.4520321058043044.\n",
      "[I 2024-02-05 00:13:24,222] Trial 20 finished with value: 344.07709194132303 and parameters: {'x': -0.8274679031180822, 'y': -1.1612043778384242}. Best is trial 14 with value: 2.4520321058043044.\n",
      "[I 2024-02-05 00:13:24,232] Trial 21 finished with value: 3.3373705052074314 and parameters: {'x': -0.6696376612787764, 'y': 0.37427415059774305}. Best is trial 14 with value: 2.4520321058043044.\n",
      "[I 2024-02-05 00:13:24,242] Trial 22 finished with value: 379.35036117035236 and parameters: {'x': -1.4507461083097992, 'y': 0.17245257253238894}. Best is trial 14 with value: 2.4520321058043044.\n",
      "[I 2024-02-05 00:13:24,253] Trial 23 finished with value: 20.415682612263073 and parameters: {'x': -0.3273573000184655, 'y': -0.32473770993666673}. Best is trial 14 with value: 2.4520321058043044.\n",
      "[I 2024-02-05 00:13:24,264] Trial 24 finished with value: 3.5560835806777904 and parameters: {'x': -0.7967135470182622, 'y': 0.6920153794075787}. Best is trial 14 with value: 2.4520321058043044.\n",
      "[I 2024-02-05 00:13:24,274] Trial 25 finished with value: 335.2315136752703 and parameters: {'x': -1.3742533852714054, 'y': 0.07309877985188573}. Best is trial 14 with value: 2.4520321058043044.\n",
      "[I 2024-02-05 00:13:24,285] Trial 26 finished with value: 35.22854935622419 and parameters: {'x': -0.10960595640638815, 'y': 0.5950857080111159}. Best is trial 14 with value: 2.4520321058043044.\n",
      "[I 2024-02-05 00:13:24,295] Trial 27 finished with value: 43.09047082245729 and parameters: {'x': -0.6513459557601563, 'y': -0.2110714138363376}. Best is trial 14 with value: 2.4520321058043044.\n",
      "[I 2024-02-05 00:13:24,306] Trial 28 finished with value: 39.89176002226625 and parameters: {'x': -0.9515529306542796, 'y': 0.3047600368024477}. Best is trial 14 with value: 2.4520321058043044.\n",
      "[I 2024-02-05 00:13:24,317] Trial 29 finished with value: 126.16160863081801 and parameters: {'x': 0.5965204385812237, 'y': -0.766655294496601}. Best is trial 14 with value: 2.4520321058043044.\n",
      "[I 2024-02-05 00:13:24,328] Trial 30 finished with value: 78.2336927387042 and parameters: {'x': 0.20482471410876846, 'y': 0.9228696692207625}. Best is trial 14 with value: 2.4520321058043044.\n",
      "[I 2024-02-05 00:13:24,338] Trial 31 finished with value: 3.059690947741217 and parameters: {'x': -0.6240495395547234, 'y': 0.4544112101233191}. Best is trial 14 with value: 2.4520321058043044.\n",
      "[I 2024-02-05 00:13:24,348] Trial 32 finished with value: 568.44258307437 and parameters: {'x': -1.3819334248720727, 'y': -0.46253523826591425}. Best is trial 14 with value: 2.4520321058043044.\n",
      "[I 2024-02-05 00:13:24,359] Trial 33 finished with value: 13.32316752690721 and parameters: {'x': -0.5159096134518046, 'y': -0.06587921946460784}. Best is trial 14 with value: 2.4520321058043044.\n",
      "[I 2024-02-05 00:13:24,369] Trial 34 finished with value: 145.44230451739554 and parameters: {'x': -0.27455804340220846, 'y': 1.2746227385530908}. Best is trial 14 with value: 2.4520321058043044.\n",
      "[I 2024-02-05 00:13:24,380] Trial 35 finished with value: 54.571554404667104 and parameters: {'x': 0.36127499710745237, 'y': 0.8664787581025757}. Best is trial 14 with value: 2.4520321058043044.\n",
      "[I 2024-02-05 00:13:24,390] Trial 36 finished with value: 47.67464168885563 and parameters: {'x': -1.0228062817521262, 'y': 0.38595925493564065}. Best is trial 14 with value: 2.4520321058043044.\n",
      "[I 2024-02-05 00:13:24,400] Trial 37 finished with value: 6.706482157665075 and parameters: {'x': -0.635503251556569, 'y': 0.6046531093102852}. Best is trial 14 with value: 2.4520321058043044.\n",
      "[I 2024-02-05 00:13:24,411] Trial 38 finished with value: 2.910699838227509 and parameters: {'x': -0.05938961358877248, 'y': 0.13725795603767116}. Best is trial 14 with value: 2.4520321058043044.\n",
      "[I 2024-02-05 00:13:24,422] Trial 39 finished with value: 48.01543068145746 and parameters: {'x': 0.8721479923477795, 'y': 0.0678284042832894}. Best is trial 14 with value: 2.4520321058043044.\n",
      "[I 2024-02-05 00:13:24,433] Trial 40 finished with value: 125.47415477864152 and parameters: {'x': -0.0686623066529587, 'y': 1.1197576310412662}. Best is trial 14 with value: 2.4520321058043044.\n",
      "[I 2024-02-05 00:13:24,445] Trial 41 finished with value: 57.77112962966345 and parameters: {'x': 0.17004579796921315, 'y': 0.7844439028043353}. Best is trial 14 with value: 2.4520321058043044.\n",
      "[I 2024-02-05 00:13:24,456] Trial 42 finished with value: 3.9745006565353362 and parameters: {'x': -0.31053731475209007, 'y': 0.24666632980874917}. Best is trial 14 with value: 2.4520321058043044.\n",
      "[I 2024-02-05 00:13:24,467] Trial 43 finished with value: 92.22177500145358 and parameters: {'x': -0.9072848516999903, 'y': -0.11802514288066729}. Best is trial 14 with value: 2.4520321058043044.\n",
      "[I 2024-02-05 00:13:24,479] Trial 44 finished with value: 22.01561680527011 and parameters: {'x': -0.12148747824127082, 'y': 0.4703674013411532}. Best is trial 14 with value: 2.4520321058043044.\n",
      "[I 2024-02-05 00:13:24,490] Trial 45 finished with value: 35.59267218999711 and parameters: {'x': -0.46919154378646183, 'y': -0.35808198934305757}. Best is trial 14 with value: 2.4520321058043044.\n",
      "[I 2024-02-05 00:13:24,501] Trial 46 finished with value: 18.815216201344686 and parameters: {'x': 0.4891234907925257, 'y': 0.6699879023289181}. Best is trial 14 with value: 2.4520321058043044.\n",
      "[I 2024-02-05 00:13:24,511] Trial 47 finished with value: 170.29102495618767 and parameters: {'x': -1.1871031810432324, 'y': 0.12271637351534032}. Best is trial 14 with value: 2.4520321058043044.\n",
      "[I 2024-02-05 00:13:24,522] Trial 48 finished with value: 103.32259729177386 and parameters: {'x': -0.6274125758823507, 'y': 1.3970115068737279}. Best is trial 14 with value: 2.4520321058043044.\n",
      "[I 2024-02-05 00:13:24,533] Trial 49 finished with value: 26.276923079296292 and parameters: {'x': 0.07893165671380731, 'y': 0.5104975580050579}. Best is trial 14 with value: 2.4520321058043044.\n",
      "[I 2024-02-05 00:13:24,543] Trial 50 finished with value: 452.54495374712525 and parameters: {'x': -1.2345421169988957, 'y': -0.591447713845798}. Best is trial 14 with value: 2.4520321058043044.\n",
      "[I 2024-02-05 00:13:24,554] Trial 51 finished with value: 4.8796317716246955 and parameters: {'x': -0.7506693755187988, 'y': 0.42879042487547064}. Best is trial 14 with value: 2.4520321058043044.\n",
      "[I 2024-02-05 00:13:24,564] Trial 52 finished with value: 458.57533266124784 and parameters: {'x': -0.3993083952207458, 'y': -1.977413279838407}. Best is trial 14 with value: 2.4520321058043044.\n",
      "[I 2024-02-05 00:13:24,575] Trial 53 finished with value: 6.388065602484913 and parameters: {'x': -0.700802039412082, 'y': 0.30416526714054465}. Best is trial 14 with value: 2.4520321058043044.\n",
      "[I 2024-02-05 00:13:24,585] Trial 54 finished with value: 100.11716292616083 and parameters: {'x': -0.16881018170542772, 'y': 1.0222324845648387}. Best is trial 14 with value: 2.4520321058043044.\n",
      "[I 2024-02-05 00:13:24,595] Trial 55 finished with value: 584.3299156741305 and parameters: {'x': -1.546453111272612, 'y': -0.012324475384748845}. Best is trial 14 with value: 2.4520321058043044.\n",
      "[I 2024-02-05 00:13:24,605] Trial 56 finished with value: 44.06435903913799 and parameters: {'x': -0.8859110430230293, 'y': 0.1483817902234933}. Best is trial 14 with value: 2.4520321058043044.\n",
      "[I 2024-02-05 00:13:24,616] Trial 57 finished with value: 21.270951936280028 and parameters: {'x': -0.5499722066450207, 'y': 0.7368487334696694}. Best is trial 14 with value: 2.4520321058043044.\n",
      "[I 2024-02-05 00:13:24,626] Trial 58 finished with value: 405.38114529121583 and parameters: {'x': 1.3463828463293712, 'y': -0.20036317399685827}. Best is trial 14 with value: 2.4520321058043044.\n",
      "[I 2024-02-05 00:13:24,637] Trial 59 finished with value: 2725.18518450269 and parameters: {'x': -1.8912773704667647, 'y': -1.6353877222054547}. Best is trial 14 with value: 2.4520321058043044.\n",
      "[I 2024-02-05 00:13:24,647] Trial 60 finished with value: 16.335414723442625 and parameters: {'x': -0.3843536544007215, 'y': 0.5274510478037531}. Best is trial 14 with value: 2.4520321058043044.\n",
      "[I 2024-02-05 00:13:24,658] Trial 61 finished with value: 5.301448710476809 and parameters: {'x': -0.7971949583587008, 'y': 0.7794482210682654}. Best is trial 14 with value: 2.4520321058043044.\n",
      "[I 2024-02-05 00:13:24,669] Trial 62 finished with value: 26.74456354655183 and parameters: {'x': -1.0488105797570801, 'y': 0.6251674630443502}. Best is trial 14 with value: 2.4520321058043044.\n",
      "[I 2024-02-05 00:13:24,679] Trial 63 finished with value: 2.6023931000592384 and parameters: {'x': -0.5562071899789243, 'y': 0.35186494191286943}. Best is trial 14 with value: 2.4520321058043044.\n",
      "[I 2024-02-05 00:13:24,689] Trial 64 finished with value: 11.427792435230595 and parameters: {'x': -0.22681575668007553, 'y': 0.3664488086406037}. Best is trial 14 with value: 2.4520321058043044.\n",
      "[I 2024-02-05 00:13:24,700] Trial 65 finished with value: 6.04168356516267 and parameters: {'x': 0.043191799372180845, 'y': 0.2282766980503414}. Best is trial 14 with value: 2.4520321058043044.\n",
      "[I 2024-02-05 00:13:24,710] Trial 66 finished with value: 18.61079878598367 and parameters: {'x': -0.6085023057237962, 'y': -0.03001882495206521}. Best is trial 14 with value: 2.4520321058043044.\n",
      "[I 2024-02-05 00:13:24,720] Trial 67 finished with value: 207.4834287302549 and parameters: {'x': -0.4417975231561191, 'y': 1.628379555476982}. Best is trial 14 with value: 2.4520321058043044.\n",
      "[I 2024-02-05 00:13:24,731] Trial 68 finished with value: 5.009731803008657 and parameters: {'x': -0.7318799218656552, 'y': 0.3938623342992592}. Best is trial 14 with value: 2.4520321058043044.\n",
      "[I 2024-02-05 00:13:24,741] Trial 69 finished with value: 54.856070341081036 and parameters: {'x': -0.9333717008737332, 'y': 0.15621319272929646}. Best is trial 14 with value: 2.4520321058043044.\n",
      "[I 2024-02-05 00:13:24,752] Trial 70 finished with value: 60.4015055013941 and parameters: {'x': -0.34376177568351535, 'y': 0.8836511574250143}. Best is trial 14 with value: 2.4520321058043044.\n",
      "[I 2024-02-05 00:13:24,763] Trial 71 finished with value: 4.729623756449286 and parameters: {'x': -0.816634823783285, 'y': 0.5473323386663841}. Best is trial 14 with value: 2.4520321058043044.\n",
      "[I 2024-02-05 00:13:24,774] Trial 72 finished with value: 73.69221497719913 and parameters: {'x': -0.5174563917527097, 'y': 1.1126844338645032}. Best is trial 14 with value: 2.4520321058043044.\n",
      "[I 2024-02-05 00:13:24,784] Trial 73 finished with value: 112.57901601463793 and parameters: {'x': -1.1587527112175873, 'y': 0.30386809513590807}. Best is trial 14 with value: 2.4520321058043044.\n",
      "[I 2024-02-05 00:13:24,795] Trial 74 finished with value: 99.56804095840198 and parameters: {'x': -1.0232991272246035, 'y': 0.07003158279250668}. Best is trial 14 with value: 2.4520321058043044.\n",
      "[I 2024-02-05 00:13:24,805] Trial 75 finished with value: 4.999505414700941 and parameters: {'x': -0.7112189286081589, 'y': 0.6497502296349107}. Best is trial 14 with value: 2.4520321058043044.\n",
      "[I 2024-02-05 00:13:24,816] Trial 76 finished with value: 32.64829377355973 and parameters: {'x': -0.594791414878131, 'y': 0.9024564615768154}. Best is trial 14 with value: 2.4520321058043044.\n",
      "[I 2024-02-05 00:13:24,827] Trial 77 finished with value: 94.6157852464659 and parameters: {'x': -1.2954604539347359, 'y': 0.7329842369347641}. Best is trial 14 with value: 2.4520321058043044.\n",
      "[I 2024-02-05 00:13:24,837] Trial 78 finished with value: 2.741690437390025 and parameters: {'x': -0.025028722214843535, 'y': -0.12941227099483993}. Best is trial 14 with value: 2.4520321058043044.\n",
      "[I 2024-02-05 00:13:24,848] Trial 79 finished with value: 4.075241635304771 and parameters: {'x': 0.17825151215377405, 'y': -0.15261650275965466}. Best is trial 14 with value: 2.4520321058043044.\n",
      "[I 2024-02-05 00:13:24,858] Trial 80 finished with value: 20.675647439722304 and parameters: {'x': 0.33701411011232474, 'y': -0.3362669869454821}. Best is trial 14 with value: 2.4520321058043044.\n",
      "[I 2024-02-05 00:13:24,870] Trial 81 finished with value: 6.354778972068078 and parameters: {'x': -0.03562133109412913, 'y': 0.23110071842120405}. Best is trial 14 with value: 2.4520321058043044.\n",
      "[I 2024-02-05 00:13:24,881] Trial 82 finished with value: 18.79833877693183 and parameters: {'x': -0.21561086937159074, 'y': 0.4626686447032418}. Best is trial 14 with value: 2.4520321058043044.\n",
      "[I 2024-02-05 00:13:24,892] Trial 83 finished with value: 20.98862734465398 and parameters: {'x': -0.8938892620302079, 'y': 0.3818832356479119}. Best is trial 14 with value: 2.4520321058043044.\n",
      "[I 2024-02-05 00:13:24,903] Trial 84 finished with value: 4.792501147575541 and parameters: {'x': -0.47236980461743866, 'y': 0.06112618598526559}. Best is trial 14 with value: 2.4520321058043044.\n",
      "[I 2024-02-05 00:13:24,914] Trial 85 finished with value: 3.470970432551828 and parameters: {'x': -0.28543491367934387, 'y': 0.21632958831654958}. Best is trial 14 with value: 2.4520321058043044.\n",
      "[I 2024-02-05 00:13:24,926] Trial 86 finished with value: 4.073085491750328 and parameters: {'x': -0.2948592631352634, 'y': -0.06786192253041629}. Best is trial 14 with value: 2.4520321058043044.\n",
      "[I 2024-02-05 00:13:24,937] Trial 87 finished with value: 8.291468540616169 and parameters: {'x': -0.15115034523715487, 'y': -0.24109147157438907}. Best is trial 14 with value: 2.4520321058043044.\n",
      "[I 2024-02-05 00:13:24,948] Trial 88 finished with value: 26.79315355461923 and parameters: {'x': -0.011784516947813163, 'y': -0.5074972708974272}. Best is trial 14 with value: 2.4520321058043044.\n",
      "[I 2024-02-05 00:13:24,959] Trial 89 finished with value: 2.2329631536423458 and parameters: {'x': -0.3769817564580069, 'y': 0.20015698795856252}. Best is trial 89 with value: 2.2329631536423458.\n",
      "[I 2024-02-05 00:13:24,970] Trial 90 finished with value: 3.8664554367620085 and parameters: {'x': -0.41474754640334555, 'y': 0.03545254482894267}. Best is trial 89 with value: 2.2329631536423458.\n",
      "[I 2024-02-05 00:13:24,982] Trial 91 finished with value: 6.529630121799929 and parameters: {'x': -0.6306643938505909, 'y': 0.20100009378878603}. Best is trial 89 with value: 2.2329631536423458.\n",
      "[I 2024-02-05 00:13:24,993] Trial 92 finished with value: 5.0933888549974755 and parameters: {'x': -0.27633387176166624, 'y': 0.2624883405681323}. Best is trial 89 with value: 2.2329631536423458.\n",
      "[I 2024-02-05 00:13:25,004] Trial 93 finished with value: 11.080811332846565 and parameters: {'x': 0.10535186633130966, 'y': 0.3317298946293702}. Best is trial 89 with value: 2.2329631536423458.\n",
      "[I 2024-02-05 00:13:25,016] Trial 94 finished with value: 19.922499243014183 and parameters: {'x': -0.3617793101260085, 'y': 0.5559496330738833}. Best is trial 89 with value: 2.2329631536423458.\n",
      "[I 2024-02-05 00:13:25,027] Trial 95 finished with value: 17.39283519086021 and parameters: {'x': -0.548482849375231, 'y': -0.08640080901842873}. Best is trial 89 with value: 2.2329631536423458.\n",
      "[I 2024-02-05 00:13:25,038] Trial 96 finished with value: 2.975156435907839 and parameters: {'x': -0.09350385035347653, 'y': 0.14213733892144334}. Best is trial 89 with value: 2.2329631536423458.\n",
      "[I 2024-02-05 00:13:25,049] Trial 97 finished with value: 26.148341147666248 and parameters: {'x': 0.2963221731771012, 'y': -0.41868284049342075}. Best is trial 89 with value: 2.2329631536423458.\n",
      "[I 2024-02-05 00:13:25,061] Trial 98 finished with value: 2.380138699975511 and parameters: {'x': -0.08636628007764104, 'y': 0.11700122695120482}. Best is trial 89 with value: 2.2329631536423458.\n",
      "[I 2024-02-05 00:13:25,072] Trial 99 finished with value: 1.1846980599172119 and parameters: {'x': -0.08769242742610639, 'y': 0.011718911116613509}. Best is trial 99 with value: 1.1846980599172119.\n",
      "[I 2024-02-05 00:13:25,084] Trial 100 finished with value: 1.1419118468967702 and parameters: {'x': -0.06860177269354534, 'y': 0.004561348358903039}. Best is trial 100 with value: 1.1419118468967702.\n",
      "[I 2024-02-05 00:13:25,097] Trial 101 finished with value: 3.1117526961636983 and parameters: {'x': -0.07097006386201313, 'y': 0.14520721113507926}. Best is trial 100 with value: 1.1419118468967702.\n",
      "[I 2024-02-05 00:13:25,108] Trial 102 finished with value: 0.7016182348542774 and parameters: {'x': 0.22943689451788224, 'y': 0.019800652865093193}. Best is trial 102 with value: 0.7016182348542774.\n",
      "[I 2024-02-05 00:13:25,120] Trial 103 finished with value: 0.7768698511416205 and parameters: {'x': 0.25253998196045224, 'y': 0.017067409895955288}. Best is trial 102 with value: 0.7016182348542774.\n",
      "[I 2024-02-05 00:13:25,131] Trial 104 finished with value: 13.076396258625724 and parameters: {'x': 0.2869665540633987, 'y': -0.27216366011379584}. Best is trial 102 with value: 0.7016182348542774.\n",
      "[I 2024-02-05 00:13:25,142] Trial 105 finished with value: 0.8195097887444233 and parameters: {'x': 0.21007509760156617, 'y': -8.705096138010571e-05}. Best is trial 102 with value: 0.7016182348542774.\n",
      "[I 2024-02-05 00:13:25,153] Trial 106 finished with value: 29.288803834850693 and parameters: {'x': 0.5912402001247429, 'y': -0.19008045806230275}. Best is trial 102 with value: 0.7016182348542774.\n",
      "[I 2024-02-05 00:13:25,165] Trial 107 finished with value: 45.59572647064055 and parameters: {'x': 0.8040010845505063, 'y': -0.02854381713811503}. Best is trial 102 with value: 0.7016182348542774.\n",
      "[I 2024-02-05 00:13:25,175] Trial 108 finished with value: 13.036181610787814 and parameters: {'x': 0.4532033745211144, 'y': -0.15149877269934037}. Best is trial 102 with value: 0.7016182348542774.\n",
      "[I 2024-02-05 00:13:25,186] Trial 109 finished with value: 0.6648123918884352 and parameters: {'x': 0.2230227745153343, 'y': 0.025016944668390717}. Best is trial 109 with value: 0.6648123918884352.\n",
      "[I 2024-02-05 00:13:25,197] Trial 110 finished with value: 0.8580490654477897 and parameters: {'x': 0.11186602329622139, 'y': 0.038832651675782814}. Best is trial 109 with value: 0.6648123918884352.\n",
      "[I 2024-02-05 00:13:25,208] Trial 111 finished with value: 3.200904411247 and parameters: {'x': 0.4234288586565272, 'y': 0.009926413580004219}. Best is trial 109 with value: 0.6648123918884352.\n",
      "[I 2024-02-05 00:13:25,218] Trial 112 finished with value: 1.1949302472097785 and parameters: {'x': 0.13008881632236136, 'y': 0.08311862715040018}. Best is trial 109 with value: 0.6648123918884352.\n",
      "[I 2024-02-05 00:13:25,228] Trial 113 finished with value: 1.1452106460347835 and parameters: {'x': 0.12302749032407498, 'y': 0.07646519051343775}. Best is trial 109 with value: 0.6648123918884352.\n",
      "[I 2024-02-05 00:13:25,239] Trial 114 finished with value: 8.771960598278696 and parameters: {'x': 0.0902124092405063, 'y': -0.2737171298593178}. Best is trial 109 with value: 0.6648123918884352.\n",
      "[I 2024-02-05 00:13:25,249] Trial 115 finished with value: 0.7749973689100684 and parameters: {'x': 0.19199166449879945, 'y': 0.0718064568600559}. Best is trial 109 with value: 0.6648123918884352.\n",
      "[I 2024-02-05 00:13:25,260] Trial 116 finished with value: 0.6202945810456038 and parameters: {'x': 0.22704298057067987, 'y': 0.03643824462495099}. Best is trial 116 with value: 0.6202945810456038.\n",
      "[I 2024-02-05 00:13:25,270] Trial 117 finished with value: 0.7198557602277529 and parameters: {'x': 0.2210188483709256, 'y': 0.015227296055591272}. Best is trial 116 with value: 0.6202945810456038.\n",
      "[I 2024-02-05 00:13:25,281] Trial 118 finished with value: 2.2033954436830636 and parameters: {'x': 0.2198241407632796, 'y': -0.07795961320649333}. Best is trial 116 with value: 0.6202945810456038.\n",
      "[I 2024-02-05 00:13:25,291] Trial 119 finished with value: 0.6439513002284205 and parameters: {'x': 0.23756827699564947, 'y': 0.03140887041733333}. Best is trial 116 with value: 0.6202945810456038.\n",
      "[I 2024-02-05 00:13:25,302] Trial 120 finished with value: 75.66953002835285 and parameters: {'x': 0.7037908230767371, 'y': -0.3740563592424226}. Best is trial 116 with value: 0.6202945810456038.\n",
      "[I 2024-02-05 00:13:25,313] Trial 121 finished with value: 0.6974439159480847 and parameters: {'x': 0.2157238207236439, 'y': 0.017839242445220546}. Best is trial 116 with value: 0.6202945810456038.\n",
      "[I 2024-02-05 00:13:25,323] Trial 122 finished with value: 0.6200838804734181 and parameters: {'x': 0.23890799179641264, 'y': 0.03687236682417366}. Best is trial 122 with value: 0.6200838804734181.\n",
      "[I 2024-02-05 00:13:25,334] Trial 123 finished with value: 3.6643233950872744 and parameters: {'x': 0.24754946418241774, 'y': -0.1147346480831218}. Best is trial 122 with value: 0.6200838804734181.\n",
      "[I 2024-02-05 00:13:25,345] Trial 124 finished with value: 2.71523016992413 and parameters: {'x': 0.37865726766856833, 'y': -0.009234641970879278}. Best is trial 122 with value: 0.6200838804734181.\n",
      "[I 2024-02-05 00:13:25,356] Trial 125 finished with value: 22.479831246132555 and parameters: {'x': 0.5090544912874049, 'y': -0.21244388659479044}. Best is trial 122 with value: 0.6200838804734181.\n",
      "[I 2024-02-05 00:13:25,366] Trial 126 finished with value: 0.657990523771773 and parameters: {'x': 0.195685782626879, 'y': 0.04881393474348429}. Best is trial 122 with value: 0.6200838804734181.\n",
      "[I 2024-02-05 00:13:25,377] Trial 127 finished with value: 2.0534835106298233 and parameters: {'x': 0.2236216231974189, 'y': -0.0704392133469674}. Best is trial 122 with value: 0.6200838804734181.\n",
      "[I 2024-02-05 00:13:25,388] Trial 128 finished with value: 0.9878487365397939 and parameters: {'x': 0.315489581282266, 'y': 0.027471603820410306}. Best is trial 122 with value: 0.6200838804734181.\n",
      "[I 2024-02-05 00:13:25,398] Trial 129 finished with value: 9.098136453329518 and parameters: {'x': 0.37274174417241085, 'y': -0.15610059887801864}. Best is trial 122 with value: 0.6200838804734181.\n",
      "[I 2024-02-05 00:13:25,408] Trial 130 finished with value: 36.6253049245999 and parameters: {'x': 0.5536808451524987, 'y': -0.29697794402455174}. Best is trial 122 with value: 0.6200838804734181.\n",
      "[I 2024-02-05 00:13:25,418] Trial 131 finished with value: 0.9727346116306275 and parameters: {'x': 0.02274304962111351, 'y': 0.013822683001940561}. Best is trial 122 with value: 0.6200838804734181.\n",
      "[I 2024-02-05 00:13:25,429] Trial 132 finished with value: 1.5649869531238996 and parameters: {'x': 0.04493704469086374, 'y': 0.08281795830298222}. Best is trial 122 with value: 0.6200838804734181.\n",
      "[I 2024-02-05 00:13:25,439] Trial 133 finished with value: 1.0464046267080858 and parameters: {'x': 0.2791305665878574, 'y': 0.15049154791703984}. Best is trial 122 with value: 0.6200838804734181.\n",
      "[I 2024-02-05 00:13:25,450] Trial 134 finished with value: 2.1949424954890113 and parameters: {'x': 0.6468823882021817, 'y': 0.2745731750698408}. Best is trial 122 with value: 0.6200838804734181.\n",
      "[I 2024-02-05 00:13:25,461] Trial 135 finished with value: 7.88826734263662 and parameters: {'x': 0.44147208870657173, 'y': -0.08035344239229562}. Best is trial 122 with value: 0.6200838804734181.\n",
      "[I 2024-02-05 00:13:25,473] Trial 136 finished with value: 0.644293499173934 and parameters: {'x': 0.20246822729473202, 'y': 0.050068938528704705}. Best is trial 122 with value: 0.6200838804734181.\n",
      "[I 2024-02-05 00:13:25,484] Trial 137 finished with value: 4.620271400188226 and parameters: {'x': 0.1999107923870086, 'y': -0.15953827306650892}. Best is trial 122 with value: 0.6200838804734181.\n",
      "[I 2024-02-05 00:13:25,495] Trial 138 finished with value: 39.72351063145585 and parameters: {'x': 0.04451781247638498, 'y': -0.6209994194737927}. Best is trial 122 with value: 0.6200838804734181.\n",
      "[I 2024-02-05 00:13:25,505] Trial 139 finished with value: 1.0640450246766844 and parameters: {'x': 0.15212796673519918, 'y': -0.03560723406737806}. Best is trial 122 with value: 0.6200838804734181.\n",
      "[I 2024-02-05 00:13:25,516] Trial 140 finished with value: 0.6709812928773209 and parameters: {'x': 0.38307318481700803, 'y': 0.20063222458243646}. Best is trial 122 with value: 0.6200838804734181.\n",
      "[I 2024-02-05 00:13:25,526] Trial 141 finished with value: 0.48716722650139244 and parameters: {'x': 0.4003234963586209, 'y': 0.19597378903632504}. Best is trial 141 with value: 0.48716722650139244.\n",
      "[I 2024-02-05 00:13:25,536] Trial 142 finished with value: 0.8411535529265248 and parameters: {'x': 0.3669961892148363, 'y': 0.2010533429946471}. Best is trial 141 with value: 0.48716722650139244.\n",
      "[I 2024-02-05 00:13:25,546] Trial 143 finished with value: 0.9873186698125265 and parameters: {'x': 0.3691537480841076, 'y': 0.21304373332223805}. Best is trial 141 with value: 0.48716722650139244.\n",
      "[I 2024-02-05 00:13:25,557] Trial 144 finished with value: 0.6121401603405361 and parameters: {'x': 0.48864534859754594, 'y': 0.17955801366708415}. Best is trial 141 with value: 0.48716722650139244.\n",
      "[I 2024-02-05 00:13:25,568] Trial 145 finished with value: 0.3601638633999026 and parameters: {'x': 0.5060530067140074, 'y': 0.29017486692139627}. Best is trial 145 with value: 0.3601638633999026.\n",
      "[I 2024-02-05 00:13:25,578] Trial 146 finished with value: 2.6241720197989022 and parameters: {'x': 0.6753247175082622, 'y': 0.29735752016479416}. Best is trial 145 with value: 0.3601638633999026.\n",
      "[I 2024-02-05 00:13:25,588] Trial 147 finished with value: 2.658298981971966 and parameters: {'x': 0.5127667298925598, 'y': 0.41852222303962605}. Best is trial 145 with value: 0.3601638633999026.\n",
      "[I 2024-02-05 00:13:25,598] Trial 148 finished with value: 1.3289201109372695 and parameters: {'x': 0.4679628058869124, 'y': 0.11672206027630513}. Best is trial 145 with value: 0.3601638633999026.\n",
      "[I 2024-02-05 00:13:25,608] Trial 149 finished with value: 1.1462202589089485 and parameters: {'x': 0.26600706239251903, 'y': 0.14870041585239166}. Best is trial 145 with value: 0.3601638633999026.\n",
      "[I 2024-02-05 00:13:25,619] Trial 150 finished with value: 10.389472112697787 and parameters: {'x': 0.7751707849333926, 'y': 0.2793477744209311}. Best is trial 145 with value: 0.3601638633999026.\n",
      "[I 2024-02-05 00:13:25,629] Trial 151 finished with value: 1.1910087448506554 and parameters: {'x': 0.20093952086663058, 'y': 0.11470778114559807}. Best is trial 145 with value: 0.3601638633999026.\n",
      "[I 2024-02-05 00:13:25,639] Trial 152 finished with value: 3.6701012942326923 and parameters: {'x': 0.4076782717118723, 'y': 0.34838983476964885}. Best is trial 145 with value: 0.3601638633999026.\n",
      "[I 2024-02-05 00:13:25,649] Trial 153 finished with value: 3.5988452487200266 and parameters: {'x': 0.30260806818472974, 'y': -0.08485085399546469}. Best is trial 145 with value: 0.3601638633999026.\n",
      "[I 2024-02-05 00:13:25,660] Trial 154 finished with value: 1.2320740208254424 and parameters: {'x': 0.5674470663985502, 'y': 0.21977230215278926}. Best is trial 145 with value: 0.3601638633999026.\n",
      "[I 2024-02-05 00:13:25,670] Trial 155 finished with value: 0.6808408166646736 and parameters: {'x': 0.18710155797709763, 'y': 0.04916218272469561}. Best is trial 145 with value: 0.3601638633999026.\n",
      "[I 2024-02-05 00:13:25,680] Trial 156 finished with value: 0.5127501662442616 and parameters: {'x': 0.32877185995178504, 'y': 0.08315041660491534}. Best is trial 145 with value: 0.3601638633999026.\n",
      "[I 2024-02-05 00:13:25,690] Trial 157 finished with value: 0.48484815034378004 and parameters: {'x': 0.47170459096049766, 'y': 0.1771453147034607}. Best is trial 145 with value: 0.3601638633999026.\n",
      "[I 2024-02-05 00:13:25,701] Trial 158 finished with value: 0.8651432358038081 and parameters: {'x': 0.4826677373880569, 'y': 0.31026695232995294}. Best is trial 145 with value: 0.3601638633999026.\n",
      "[I 2024-02-05 00:13:25,710] Trial 159 finished with value: 213.99727768587408 and parameters: {'x': 0.5888591178890871, 'y': -1.1155316446172447}. Best is trial 145 with value: 0.3601638633999026.\n",
      "[I 2024-02-05 00:13:25,720] Trial 160 finished with value: 1.0208851552727045 and parameters: {'x': 0.3330689926961651, 'y': 0.18683542733088065}. Best is trial 145 with value: 0.3601638633999026.\n",
      "[I 2024-02-05 00:13:25,730] Trial 161 finished with value: 1.1457229772392143 and parameters: {'x': 0.14087268525590863, 'y': 0.0836904918508894}. Best is trial 145 with value: 0.3601638633999026.\n",
      "[I 2024-02-05 00:13:25,740] Trial 162 finished with value: 2.1810249134964232 and parameters: {'x': 0.46053265956817524, 'y': 0.07461306324071064}. Best is trial 145 with value: 0.3601638633999026.\n",
      "[I 2024-02-05 00:13:25,751] Trial 163 finished with value: 0.36938634285812927 and parameters: {'x': 0.39384459773915115, 'y': 0.15954298154057317}. Best is trial 145 with value: 0.3601638633999026.\n",
      "[I 2024-02-05 00:13:25,761] Trial 164 finished with value: 36.07812775921616 and parameters: {'x': 1.018248462080395, 'y': 0.4361819907769596}. Best is trial 145 with value: 0.3601638633999026.\n",
      "[I 2024-02-05 00:13:25,772] Trial 165 finished with value: 1.0163542863517878 and parameters: {'x': 0.3924235893560922, 'y': 0.2344453375908419}. Best is trial 145 with value: 0.3601638633999026.\n",
      "[I 2024-02-05 00:13:25,783] Trial 166 finished with value: 1.0993080021170964 and parameters: {'x': 0.31309628745383533, 'y': 0.1772423707403735}. Best is trial 145 with value: 0.3601638633999026.\n",
      "[I 2024-02-05 00:13:25,794] Trial 167 finished with value: 9.633932627796955 and parameters: {'x': 0.5231153462753497, 'y': -0.03305073642833734}. Best is trial 145 with value: 0.3601638633999026.\n",
      "[I 2024-02-05 00:13:25,805] Trial 168 finished with value: 0.589727851369462 and parameters: {'x': 0.6314491233770667, 'y': 0.3313560351698131}. Best is trial 145 with value: 0.3601638633999026.\n",
      "[I 2024-02-05 00:13:25,815] Trial 169 finished with value: 2.03785152775623 and parameters: {'x': 0.6808378587980264, 'y': 0.32440043809064}. Best is trial 145 with value: 0.3601638633999026.\n",
      "[I 2024-02-05 00:13:25,825] Trial 170 finished with value: 12.395383431687469 and parameters: {'x': 0.8842181300482888, 'y': 0.429961352661802}. Best is trial 145 with value: 0.3601638633999026.\n",
      "[I 2024-02-05 00:13:25,836] Trial 171 finished with value: 1.0668919635199887 and parameters: {'x': 0.2785759699058048, 'y': 0.15152610591744498}. Best is trial 145 with value: 0.3601638633999026.\n",
      "[I 2024-02-05 00:13:25,847] Trial 172 finished with value: 0.7558398384325204 and parameters: {'x': 0.4196593861332048, 'y': 0.24084765547500125}. Best is trial 145 with value: 0.3601638633999026.\n",
      "[I 2024-02-05 00:13:25,857] Trial 173 finished with value: 2.4676091426398084 and parameters: {'x': 0.12530602369005583, 'y': -0.1147790346393831}. Best is trial 145 with value: 0.3601638633999026.\n",
      "[I 2024-02-05 00:13:25,868] Trial 174 finished with value: 6.840915647716875 and parameters: {'x': 0.5964126796072264, 'y': 0.09728918178783179}. Best is trial 145 with value: 0.3601638633999026.\n",
      "[I 2024-02-05 00:13:25,879] Trial 175 finished with value: 11.068196084531104 and parameters: {'x': 0.3381545902108942, 'y': -0.21169068453523288}. Best is trial 145 with value: 0.3601638633999026.\n",
      "[I 2024-02-05 00:13:25,889] Trial 176 finished with value: 1128.0270139261588 and parameters: {'x': 1.9287088145741902, 'y': 0.3625906089532687}. Best is trial 145 with value: 0.3601638633999026.\n",
      "[I 2024-02-05 00:13:25,900] Trial 177 finished with value: 0.6340286815426437 and parameters: {'x': 0.22806979417370704, 'y': 0.03248318171240416}. Best is trial 145 with value: 0.3601638633999026.\n",
      "[I 2024-02-05 00:13:25,910] Trial 178 finished with value: 7.947317465560209 and parameters: {'x': 0.0330975943765425, 'y': 0.2659051409757524}. Best is trial 145 with value: 0.3601638633999026.\n",
      "[I 2024-02-05 00:13:25,921] Trial 179 finished with value: 0.16592879829524576 and parameters: {'x': 0.7346968788919177, 'y': 0.5088694646711567}. Best is trial 179 with value: 0.16592879829524576.\n",
      "[I 2024-02-05 00:13:25,931] Trial 180 finished with value: 0.8636700092089167 and parameters: {'x': 0.7674798324461963, 'y': 0.49904727473547883}. Best is trial 179 with value: 0.16592879829524576.\n",
      "[I 2024-02-05 00:13:25,942] Trial 181 finished with value: 44.36486791071792 and parameters: {'x': 0.9133982743804875, 'y': 0.16828313411107992}. Best is trial 179 with value: 0.16592879829524576.\n",
      "[I 2024-02-05 00:13:25,952] Trial 182 finished with value: 5.767739945452352 and parameters: {'x': 0.43546383583853354, 'y': -0.043803012113557346}. Best is trial 179 with value: 0.16592879829524576.\n",
      "[I 2024-02-05 00:13:25,961] Trial 183 finished with value: 61.80166332371118 and parameters: {'x': 1.6585275881597985, 'y': 1.9673364267072708}. Best is trial 179 with value: 0.16592879829524576.\n",
      "[I 2024-02-05 00:13:25,972] Trial 184 finished with value: 5.286535042798975 and parameters: {'x': 0.5312135351926877, 'y': 0.057092855718768404}. Best is trial 179 with value: 0.16592879829524576.\n",
      "[I 2024-02-05 00:13:25,983] Trial 185 finished with value: 0.9511493409349716 and parameters: {'x': 0.25286269636834535, 'y': 0.1266240860029039}. Best is trial 179 with value: 0.16592879829524576.\n",
      "[I 2024-02-05 00:13:25,993] Trial 186 finished with value: 1.2469846716084065 and parameters: {'x': 0.6740153139682199, 'y': 0.3474922120911377}. Best is trial 179 with value: 0.16592879829524576.\n",
      "[I 2024-02-05 00:13:26,004] Trial 187 finished with value: 2.0222775217574203 and parameters: {'x': 0.37516817524386553, 'y': 0.2684955416873623}. Best is trial 179 with value: 0.16592879829524576.\n",
      "[I 2024-02-05 00:13:26,014] Trial 188 finished with value: 26.743999411437013 and parameters: {'x': 0.17175582038848908, 'y': 0.5399705408111483}. Best is trial 179 with value: 0.16592879829524576.\n",
      "[I 2024-02-05 00:13:26,024] Trial 189 finished with value: 19.326846286360276 and parameters: {'x': 0.6210003463302309, 'y': -0.05234493435871258}. Best is trial 179 with value: 0.16592879829524576.\n",
      "[I 2024-02-05 00:13:26,035] Trial 190 finished with value: 1.1663378621944194 and parameters: {'x': 0.10070879856358772, 'y': 0.06994303110095895}. Best is trial 179 with value: 0.16592879829524576.\n",
      "[I 2024-02-05 00:13:26,046] Trial 191 finished with value: 0.7674355122342686 and parameters: {'x': 0.23542846590391786, 'y': 0.01266374208444786}. Best is trial 179 with value: 0.16592879829524576.\n",
      "[I 2024-02-05 00:13:26,057] Trial 192 finished with value: 1.0118831189035855 and parameters: {'x': 0.31890667466925743, 'y': 0.17572815160046168}. Best is trial 179 with value: 0.16592879829524576.\n",
      "[I 2024-02-05 00:13:26,067] Trial 193 finished with value: 2.966964747433275 and parameters: {'x': 0.17848961069902292, 'y': -0.1195378071674365}. Best is trial 179 with value: 0.16592879829524576.\n",
      "[I 2024-02-05 00:13:26,077] Trial 194 finished with value: 4.135092737853167 and parameters: {'x': 0.4290223618115869, 'y': -0.011108388265150343}. Best is trial 179 with value: 0.16592879829524576.\n",
      "[I 2024-02-05 00:13:26,087] Trial 195 finished with value: 4.736963136028795 and parameters: {'x': 0.5153324537977806, 'y': 0.05338694255474409}. Best is trial 179 with value: 0.16592879829524576.\n",
      "[I 2024-02-05 00:13:26,099] Trial 196 finished with value: 1.0090447932541806 and parameters: {'x': 0.2611832908652214, 'y': 0.1362751174882633}. Best is trial 179 with value: 0.16592879829524576.\n",
      "[I 2024-02-05 00:13:26,109] Trial 197 finished with value: 1.6226744807192541 and parameters: {'x': 0.34833269410546386, 'y': 0.23078904412932563}. Best is trial 179 with value: 0.16592879829524576.\n",
      "[I 2024-02-05 00:13:26,120] Trial 198 finished with value: 4.738414517335705 and parameters: {'x': 0.19772959609551882, 'y': -0.16325855323952582}. Best is trial 179 with value: 0.16592879829524576.\n",
      "[I 2024-02-05 00:13:26,131] Trial 199 finished with value: 0.9029727635935967 and parameters: {'x': 0.0662638689812928, 'y': 0.022028814388122774}. Best is trial 179 with value: 0.16592879829524576.\n",
      "[I 2024-02-05 00:13:26,141] Trial 200 finished with value: 1.4693207108010544 and parameters: {'x': 0.47256384410061564, 'y': 0.11417760140443195}. Best is trial 179 with value: 0.16592879829524576.\n",
      "[I 2024-02-05 00:13:26,152] Trial 201 finished with value: 1.6852602347911743 and parameters: {'x': 0.3847888435979637, 'y': 0.26237673444778953}. Best is trial 179 with value: 0.16592879829524576.\n",
      "[I 2024-02-05 00:13:26,163] Trial 202 finished with value: 0.7349873826476432 and parameters: {'x': 0.4107473509579251, 'y': 0.23098446293117636}. Best is trial 179 with value: 0.16592879829524576.\n",
      "[I 2024-02-05 00:13:26,176] Trial 203 finished with value: 13.487906476988423 and parameters: {'x': 0.7404203623582284, 'y': 0.18188196729536402}. Best is trial 179 with value: 0.16592879829524576.\n",
      "[I 2024-02-05 00:13:26,187] Trial 204 finished with value: 10.058803909035124 and parameters: {'x': 0.26801291316615294, 'y': 0.38042448626415515}. Best is trial 179 with value: 0.16592879829524576.\n",
      "[I 2024-02-05 00:13:26,197] Trial 205 finished with value: 13.022714078135483 and parameters: {'x': 0.5514349176722139, 'y': -0.05399080164319964}. Best is trial 179 with value: 0.16592879829524576.\n",
      "[I 2024-02-05 00:13:26,209] Trial 206 finished with value: 0.7840150852631491 and parameters: {'x': 0.18049058546457913, 'y': 0.06610585452091346}. Best is trial 179 with value: 0.16592879829524576.\n",
      "[I 2024-02-05 00:13:26,220] Trial 207 finished with value: 1.2174986355055393 and parameters: {'x': 0.3243147883020526, 'y': 0.1924124228291084}. Best is trial 179 with value: 0.16592879829524576.\n",
      "[I 2024-02-05 00:13:26,231] Trial 208 finished with value: 3.4349767050386917 and parameters: {'x': 0.4155110581619855, 'y': -0.0032297628945540113}. Best is trial 179 with value: 0.16592879829524576.\n",
      "[I 2024-02-05 00:13:26,242] Trial 209 finished with value: 10.982117800008375 and parameters: {'x': 0.09852511050723081, 'y': 0.3286031180959513}. Best is trial 179 with value: 0.16592879829524576.\n",
      "[I 2024-02-05 00:13:26,253] Trial 210 finished with value: 0.8633379688525402 and parameters: {'x': 0.2623764510167244, 'y': 0.12534356739051977}. Best is trial 179 with value: 0.16592879829524576.\n",
      "[I 2024-02-05 00:13:26,264] Trial 211 finished with value: 0.900027462535439 and parameters: {'x': 0.41863895110620386, 'y': 0.25022835151933764}. Best is trial 179 with value: 0.16592879829524576.\n",
      "[I 2024-02-05 00:13:26,275] Trial 212 finished with value: 0.46691003629292926 and parameters: {'x': 0.5075743269230879, 'y': 0.21025797121681822}. Best is trial 179 with value: 0.16592879829524576.\n",
      "[I 2024-02-05 00:13:26,285] Trial 213 finished with value: 9.92721021692102 and parameters: {'x': 0.6216598785796585, 'y': 0.073666040330867}. Best is trial 179 with value: 0.16592879829524576.\n",
      "[I 2024-02-05 00:13:26,296] Trial 214 finished with value: 1.0281431169805928 and parameters: {'x': 0.3140116052291736, 'y': 0.17327343213304366}. Best is trial 179 with value: 0.16592879829524576.\n",
      "[I 2024-02-05 00:13:26,307] Trial 215 finished with value: 13.55415180434338 and parameters: {'x': 0.5357102418928861, 'y': -0.07823483771199694}. Best is trial 179 with value: 0.16592879829524576.\n",
      "[I 2024-02-05 00:13:26,317] Trial 216 finished with value: 21.038183470486633 and parameters: {'x': 0.18487096337676248, 'y': 0.4855501580202948}. Best is trial 179 with value: 0.16592879829524576.\n",
      "[I 2024-02-05 00:13:26,329] Trial 217 finished with value: 1.345517445148959 and parameters: {'x': 0.45395816846315584, 'y': 0.3084184195032047}. Best is trial 179 with value: 0.16592879829524576.\n",
      "[I 2024-02-05 00:13:26,341] Trial 218 finished with value: 0.9870521964656384 and parameters: {'x': 0.011385604757440382, 'y': 0.00997532850981821}. Best is trial 179 with value: 0.16592879829524576.\n",
      "[I 2024-02-05 00:13:26,352] Trial 219 finished with value: 0.4194101830256015 and parameters: {'x': 0.35395364973792853, 'y': 0.12979350360025224}. Best is trial 179 with value: 0.16592879829524576.\n",
      "[I 2024-02-05 00:13:26,363] Trial 220 finished with value: 0.5973751477933997 and parameters: {'x': 0.3298463444470188, 'y': 0.07029286777051974}. Best is trial 179 with value: 0.16592879829524576.\n",
      "[I 2024-02-05 00:13:26,374] Trial 221 finished with value: 0.501758168630786 and parameters: {'x': 0.3164720650526748, 'y': 0.0815675480853005}. Best is trial 179 with value: 0.16592879829524576.\n",
      "[I 2024-02-05 00:13:26,385] Trial 222 finished with value: 0.47400690959128733 and parameters: {'x': 0.32250310089472645, 'y': 0.11625768325483504}. Best is trial 179 with value: 0.16592879829524576.\n",
      "[I 2024-02-05 00:13:26,399] Trial 223 finished with value: 369.4401830049326 and parameters: {'x': 0.36196981406521356, 'y': -1.7900012801290432}. Best is trial 179 with value: 0.16592879829524576.\n",
      "[I 2024-02-05 00:13:26,412] Trial 224 finished with value: 1.9586325222201508 and parameters: {'x': 0.49590321332811316, 'y': 0.11536277000085653}. Best is trial 179 with value: 0.16592879829524576.\n",
      "[I 2024-02-05 00:13:26,423] Trial 225 finished with value: 0.5493456606838231 and parameters: {'x': 0.306181616300891, 'y': 0.11981664919103906}. Best is trial 179 with value: 0.16592879829524576.\n",
      "[I 2024-02-05 00:13:26,434] Trial 226 finished with value: 0.5693517495995539 and parameters: {'x': 0.36365024508018334, 'y': 0.17278909488180028}. Best is trial 179 with value: 0.16592879829524576.\n",
      "[I 2024-02-05 00:13:26,445] Trial 227 finished with value: 0.6073707489701036 and parameters: {'x': 0.3433635395042271, 'y': 0.15987462152309953}. Best is trial 179 with value: 0.16592879829524576.\n",
      "[I 2024-02-05 00:13:26,456] Trial 228 finished with value: 0.47890847609613507 and parameters: {'x': 0.3232091378324305, 'y': 0.11890803994560528}. Best is trial 179 with value: 0.16592879829524576.\n",
      "[I 2024-02-05 00:13:26,468] Trial 229 finished with value: 4.135012107682495 and parameters: {'x': 0.5822509191789635, 'y': 0.1400061378303368}. Best is trial 179 with value: 0.16592879829524576.\n",
      "[I 2024-02-05 00:13:26,480] Trial 230 finished with value: 3.318090672443179 and parameters: {'x': 0.33475815139578796, 'y': 0.28163730911237095}. Best is trial 179 with value: 0.16592879829524576.\n",
      "[I 2024-02-05 00:13:26,491] Trial 231 finished with value: 0.486629130721619 and parameters: {'x': 0.3195793910978709, 'y': 0.11751179528912067}. Best is trial 179 with value: 0.16592879829524576.\n",
      "[I 2024-02-05 00:13:26,502] Trial 232 finished with value: 1.1840903115317234 and parameters: {'x': 0.4893811428950766, 'y': 0.14340234801771237}. Best is trial 179 with value: 0.16592879829524576.\n",
      "[I 2024-02-05 00:13:26,513] Trial 233 finished with value: 1.5528869920133892 and parameters: {'x': 0.31851434625560043, 'y': 0.20578088104170406}. Best is trial 179 with value: 0.16592879829524576.\n",
      "[I 2024-02-05 00:13:26,524] Trial 234 finished with value: 0.48782077009457936 and parameters: {'x': 0.3016638938015765, 'y': 0.08978680307271236}. Best is trial 179 with value: 0.16592879829524576.\n",
      "[I 2024-02-05 00:13:26,535] Trial 235 finished with value: 1.3231584921560398 and parameters: {'x': 0.4619431749400194, 'y': 0.11172275314372579}. Best is trial 179 with value: 0.16592879829524576.\n",
      "[I 2024-02-05 00:13:26,546] Trial 236 finished with value: 0.9641208692257307 and parameters: {'x': 0.3574933011884797, 'y': 0.20205144431436955}. Best is trial 179 with value: 0.16592879829524576.\n",
      "[I 2024-02-05 00:13:26,558] Trial 237 finished with value: 5.343971549111554 and parameters: {'x': 0.3859136827739758, 'y': 0.37179411752008906}. Best is trial 179 with value: 0.16592879829524576.\n",
      "[I 2024-02-05 00:13:26,569] Trial 238 finished with value: 0.5306374548800297 and parameters: {'x': 0.2969868248204059, 'y': 0.10728256044073921}. Best is trial 179 with value: 0.16592879829524576.\n",
      "[I 2024-02-05 00:13:26,580] Trial 239 finished with value: 4.447484170270732 and parameters: {'x': 0.28595334139695566, 'y': 0.280203724272569}. Best is trial 179 with value: 0.16592879829524576.\n",
      "[I 2024-02-05 00:13:26,591] Trial 240 finished with value: 1.9015598350525034 and parameters: {'x': 0.492921142403871, 'y': 0.11473588826962192}. Best is trial 179 with value: 0.16592879829524576.\n",
      "[I 2024-02-05 00:13:26,602] Trial 241 finished with value: 0.5175475737421663 and parameters: {'x': 0.2907946245321878, 'y': 0.09663433816052096}. Best is trial 179 with value: 0.16592879829524576.\n",
      "[I 2024-02-05 00:13:26,614] Trial 242 finished with value: 1.7044456578285563 and parameters: {'x': 0.29596372777232005, 'y': 0.19753899528535734}. Best is trial 179 with value: 0.16592879829524576.\n",
      "[I 2024-02-05 00:13:26,625] Trial 243 finished with value: 0.5662047021323718 and parameters: {'x': 0.4147970887261477, 'y': 0.1247552236980696}. Best is trial 179 with value: 0.16592879829524576.\n",
      "[I 2024-02-05 00:13:26,636] Trial 244 finished with value: 5.321889531556826 and parameters: {'x': 0.594282343434041, 'y': 0.12607498866917352}. Best is trial 179 with value: 0.16592879829524576.\n",
      "[I 2024-02-05 00:13:26,647] Trial 245 finished with value: 0.8847888240028523 and parameters: {'x': 0.4145227801781734, 'y': 0.2454501410575876}. Best is trial 179 with value: 0.16592879829524576.\n",
      "[I 2024-02-05 00:13:26,658] Trial 246 finished with value: 1.37323337135488 and parameters: {'x': 0.45042058863632095, 'y': 0.09938011527803992}. Best is trial 179 with value: 0.16592879829524576.\n",
      "[I 2024-02-05 00:13:26,669] Trial 247 finished with value: 0.8078022245170641 and parameters: {'x': 0.3460655799049051, 'y': 0.1814194749856832}. Best is trial 179 with value: 0.16592879829524576.\n",
      "[I 2024-02-05 00:13:26,680] Trial 248 finished with value: 0.20674829394706248 and parameters: {'x': 0.5453232575391942, 'y': 0.29696087614152167}. Best is trial 179 with value: 0.16592879829524576.\n",
      "[I 2024-02-05 00:13:26,691] Trial 249 finished with value: 1.0766940274100898 and parameters: {'x': 0.6539926820514095, 'y': 0.3298814332452289}. Best is trial 179 with value: 0.16592879829524576.\n",
      "[I 2024-02-05 00:13:26,703] Trial 250 finished with value: 3.0714786503089604 and parameters: {'x': 0.48693035857734546, 'y': 0.40467916172075646}. Best is trial 179 with value: 0.16592879829524576.\n",
      "[I 2024-02-05 00:13:26,714] Trial 251 finished with value: 5.471266984023777 and parameters: {'x': 0.7151943561958225, 'y': 0.27933594257485883}. Best is trial 179 with value: 0.16592879829524576.\n",
      "[I 2024-02-05 00:13:26,725] Trial 252 finished with value: 0.4489745498596637 and parameters: {'x': 0.38864200009783484, 'y': 0.17846812990780392}. Best is trial 179 with value: 0.16592879829524576.\n",
      "[I 2024-02-05 00:13:26,737] Trial 253 finished with value: 1.653474927234646 and parameters: {'x': 0.5701766341832322, 'y': 0.20391035483670278}. Best is trial 179 with value: 0.16592879829524576.\n",
      "[I 2024-02-05 00:13:26,749] Trial 254 finished with value: 2.8791732682602436 and parameters: {'x': 0.5298424914376294, 'y': 0.4437706437755258}. Best is trial 179 with value: 0.16592879829524576.\n",
      "[I 2024-02-05 00:13:26,760] Trial 255 finished with value: 1.880342702937976 and parameters: {'x': 0.4093056833982803, 'y': 0.29128181628948674}. Best is trial 179 with value: 0.16592879829524576.\n",
      "[I 2024-02-05 00:13:26,772] Trial 256 finished with value: 0.4131990916044527 and parameters: {'x': 0.35789301655989186, 'y': 0.1310835979151811}. Best is trial 179 with value: 0.16592879829524576.\n",
      "[I 2024-02-05 00:13:26,784] Trial 257 finished with value: 5.0074523615554005 and parameters: {'x': 0.6216449648544711, 'y': 0.16589088493860574}. Best is trial 179 with value: 0.16592879829524576.\n",
      "[I 2024-02-05 00:13:26,795] Trial 258 finished with value: 15.214800524311048 and parameters: {'x': 0.7957078939975895, 'y': 0.24362486269658484}. Best is trial 179 with value: 0.16592879829524576.\n",
      "[I 2024-02-05 00:13:26,807] Trial 259 finished with value: 3.215882041402577 and parameters: {'x': 0.4449896231614173, 'y': 0.36853982528183915}. Best is trial 179 with value: 0.16592879829524576.\n",
      "[I 2024-02-05 00:13:26,818] Trial 260 finished with value: 0.4190839464466275 and parameters: {'x': 0.368659257206876, 'y': 0.12159433691266604}. Best is trial 179 with value: 0.16592879829524576.\n",
      "[I 2024-02-05 00:13:26,830] Trial 261 finished with value: 0.49283459396319174 and parameters: {'x': 0.34931058166149986, 'y': 0.09566681515299488}. Best is trial 179 with value: 0.16592879829524576.\n",
      "[I 2024-02-05 00:13:26,841] Trial 262 finished with value: 280.5725243523898 and parameters: {'x': 0.40964763393133663, 'y': 1.8418004564609274}. Best is trial 179 with value: 0.16592879829524576.\n",
      "[I 2024-02-05 00:13:26,853] Trial 263 finished with value: 0.4659628980415285 and parameters: {'x': 0.32370113562511, 'y': 0.1140467352638962}. Best is trial 179 with value: 0.16592879829524576.\n",
      "[I 2024-02-05 00:13:26,865] Trial 264 finished with value: 4.0517443616323705 and parameters: {'x': 0.5608123609225367, 'y': 0.11807072765900598}. Best is trial 179 with value: 0.16592879829524576.\n",
      "[I 2024-02-05 00:13:26,876] Trial 265 finished with value: 2.7061742344806134 and parameters: {'x': 0.3767713413559694, 'y': 0.2941985654077199}. Best is trial 179 with value: 0.16592879829524576.\n",
      "[I 2024-02-05 00:13:26,887] Trial 266 finished with value: 2.2518225526169164 and parameters: {'x': 0.30297230038101963, 'y': 0.2246822045859905}. Best is trial 179 with value: 0.16592879829524576.\n",
      "[I 2024-02-05 00:13:26,899] Trial 267 finished with value: 2.604685523858613 and parameters: {'x': 0.49878266782270586, 'y': 0.09537402261708064}. Best is trial 179 with value: 0.16592879829524576.\n",
      "[I 2024-02-05 00:13:26,910] Trial 268 finished with value: 4.903744327240176 and parameters: {'x': 0.4074931357612531, 'y': -0.04731944397163934}. Best is trial 179 with value: 0.16592879829524576.\n",
      "[I 2024-02-05 00:13:26,922] Trial 269 finished with value: 6.822815218357002 and parameters: {'x': 0.29096337128618266, 'y': 0.33605742163602004}. Best is trial 179 with value: 0.16592879829524576.\n",
      "[I 2024-02-05 00:13:26,933] Trial 270 finished with value: 10.996239015505106 and parameters: {'x': 0.5164179179206827, 'y': 0.5947482436325248}. Best is trial 179 with value: 0.16592879829524576.\n",
      "[I 2024-02-05 00:13:26,945] Trial 271 finished with value: 8.529413532748197 and parameters: {'x': 0.6582038667262412, 'y': 0.14318769678004226}. Best is trial 179 with value: 0.16592879829524576.\n",
      "[I 2024-02-05 00:13:26,956] Trial 272 finished with value: 1.2154193552221497 and parameters: {'x': 0.3697213581420691, 'y': 0.22714653264638474}. Best is trial 179 with value: 0.16592879829524576.\n",
      "[I 2024-02-05 00:13:26,968] Trial 273 finished with value: 1.6971524037278973 and parameters: {'x': 0.4408783238637478, 'y': 0.07670741602378539}. Best is trial 179 with value: 0.16592879829524576.\n",
      "[I 2024-02-05 00:13:26,979] Trial 274 finished with value: 1.512731990942028 and parameters: {'x': 0.28271099301062635, 'y': 0.17983688987505964}. Best is trial 179 with value: 0.16592879829524576.\n",
      "[I 2024-02-05 00:13:26,991] Trial 275 finished with value: 1.3340017379655376 and parameters: {'x': 0.5653881553544085, 'y': 0.42667377894561287}. Best is trial 179 with value: 0.16592879829524576.\n",
      "[I 2024-02-05 00:13:27,003] Trial 276 finished with value: 3.7934731545486438 and parameters: {'x': 0.37004032569810613, 'y': -0.04736947811838875}. Best is trial 179 with value: 0.16592879829524576.\n",
      "[I 2024-02-05 00:13:27,014] Trial 277 finished with value: 22.339855371639327 and parameters: {'x': 0.8667674719986036, 'y': 0.27882310632096463}. Best is trial 179 with value: 0.16592879829524576.\n",
      "[I 2024-02-05 00:13:27,025] Trial 278 finished with value: 1.1125371269837303 and parameters: {'x': 0.4362026217965167, 'y': 0.10112848216946219}. Best is trial 179 with value: 0.16592879829524576.\n",
      "[I 2024-02-05 00:13:27,037] Trial 279 finished with value: 1.2354178055332892 and parameters: {'x': 0.2886497870302011, 'y': 0.16872354016721489}. Best is trial 179 with value: 0.16592879829524576.\n",
      "[I 2024-02-05 00:13:27,049] Trial 280 finished with value: 5.849620018425632 and parameters: {'x': 0.47998415878176615, 'y': -0.005818584587127862}. Best is trial 179 with value: 0.16592879829524576.\n",
      "[I 2024-02-05 00:13:27,060] Trial 281 finished with value: 4.230603025335521 and parameters: {'x': 0.7292156944802579, 'y': 0.3278614662588972}. Best is trial 179 with value: 0.16592879829524576.\n",
      "[I 2024-02-05 00:13:27,072] Trial 282 finished with value: 0.485454869597351 and parameters: {'x': 0.339064675315288, 'y': 0.09291505445998395}. Best is trial 179 with value: 0.16592879829524576.\n",
      "[I 2024-02-05 00:13:27,084] Trial 283 finished with value: 0.5823195526539591 and parameters: {'x': 0.33929919848596374, 'y': 0.07694096512883106}. Best is trial 179 with value: 0.16592879829524576.\n",
      "[I 2024-02-05 00:13:27,096] Trial 284 finished with value: 1.0397260039415264 and parameters: {'x': 0.26991788178475495, 'y': 0.0016723710049348084}. Best is trial 179 with value: 0.16592879829524576.\n",
      "[I 2024-02-05 00:13:27,108] Trial 285 finished with value: 1.783864184721319 and parameters: {'x': 0.1348771954551439, 'y': 0.11994777747416799}. Best is trial 179 with value: 0.16592879829524576.\n",
      "[I 2024-02-05 00:13:27,120] Trial 286 finished with value: 1.1570973831739586 and parameters: {'x': 0.3747129495126354, 'y': 0.22793770366244837}. Best is trial 179 with value: 0.16592879829524576.\n",
      "[I 2024-02-05 00:13:27,131] Trial 287 finished with value: 82.97466695715073 and parameters: {'x': 0.26140976008718225, 'y': -0.8395699511660688}. Best is trial 179 with value: 0.16592879829524576.\n",
      "[I 2024-02-05 00:13:27,143] Trial 288 finished with value: 8.325288820864168 and parameters: {'x': 0.43505606151150455, 'y': -0.09367722912276798}. Best is trial 179 with value: 0.16592879829524576.\n",
      "[I 2024-02-05 00:13:27,155] Trial 289 finished with value: 0.72550447832639 and parameters: {'x': 0.3404515827057196, 'y': 0.062009194526335715}. Best is trial 179 with value: 0.16592879829524576.\n",
      "[I 2024-02-05 00:13:27,167] Trial 290 finished with value: 1.6023569016036028 and parameters: {'x': 0.5147630438039545, 'y': 0.14806640714845273}. Best is trial 179 with value: 0.16592879829524576.\n",
      "[I 2024-02-05 00:13:27,180] Trial 291 finished with value: 1.0780150574822986 and parameters: {'x': 0.2542150958827066, 'y': -0.007611790052683753}. Best is trial 179 with value: 0.16592879829524576.\n",
      "[I 2024-02-05 00:13:27,193] Trial 292 finished with value: 0.5410688584041217 and parameters: {'x': 0.39668838384337174, 'y': 0.19944301798676237}. Best is trial 179 with value: 0.16592879829524576.\n",
      "[I 2024-02-05 00:13:27,206] Trial 293 finished with value: 2.0625811710619373 and parameters: {'x': 0.45206934893981593, 'y': 0.07161304572890789}. Best is trial 179 with value: 0.16592879829524576.\n",
      "[I 2024-02-05 00:13:27,219] Trial 294 finished with value: 4.526858632739646 and parameters: {'x': 0.16668842403119158, 'y': 0.22355148467848523}. Best is trial 179 with value: 0.16592879829524576.\n",
      "[I 2024-02-05 00:13:27,233] Trial 295 finished with value: 0.6569360902899359 and parameters: {'x': 0.30665310874023466, 'y': 0.13601304879056048}. Best is trial 179 with value: 0.16592879829524576.\n",
      "[I 2024-02-05 00:13:27,246] Trial 296 finished with value: 0.929226212239203 and parameters: {'x': 0.4010057231858131, 'y': 0.2363325434009306}. Best is trial 179 with value: 0.16592879829524576.\n",
      "[I 2024-02-05 00:13:27,259] Trial 297 finished with value: 6.2252713501240375 and parameters: {'x': 0.46018943885320157, 'y': -0.03182116284247488}. Best is trial 179 with value: 0.16592879829524576.\n",
      "[I 2024-02-05 00:13:27,272] Trial 298 finished with value: 76.9648469793634 and parameters: {'x': 0.969584257918653, 'y': 0.06280279282063078}. Best is trial 179 with value: 0.16592879829524576.\n",
      "[I 2024-02-05 00:13:27,286] Trial 299 finished with value: 1.6545984120785497 and parameters: {'x': 0.5217841934763342, 'y': 0.1528473525394851}. Best is trial 179 with value: 0.16592879829524576.\n",
      "[I 2024-02-05 00:13:27,299] Trial 300 finished with value: 4.478797907540483 and parameters: {'x': 0.23927995951546793, 'y': 0.2547416815592823}. Best is trial 179 with value: 0.16592879829524576.\n",
      "[I 2024-02-05 00:13:27,312] Trial 301 finished with value: 34.4910571521115 and parameters: {'x': 0.34043263725987094, 'y': 0.699469808765159}. Best is trial 179 with value: 0.16592879829524576.\n",
      "[I 2024-02-05 00:13:27,325] Trial 302 finished with value: 9.058737000156894 and parameters: {'x': 0.5686562312962412, 'y': 0.025499475254022838}. Best is trial 179 with value: 0.16592879829524576.\n",
      "[I 2024-02-05 00:13:27,338] Trial 303 finished with value: 2.3449630260835828 and parameters: {'x': 0.15035723891010389, 'y': -0.10479247325858376}. Best is trial 179 with value: 0.16592879829524576.\n",
      "[I 2024-02-05 00:13:27,351] Trial 304 finished with value: 584.0592033697909 and parameters: {'x': -1.5857532613814254, 'y': 0.11175451823780026}. Best is trial 179 with value: 0.16592879829524576.\n",
      "[I 2024-02-05 00:13:27,363] Trial 305 finished with value: 2.6274803502039026 and parameters: {'x': 0.38634879701815455, 'y': 0.29929580824983637}. Best is trial 179 with value: 0.16592879829524576.\n",
      "[I 2024-02-05 00:13:27,375] Trial 306 finished with value: 1.7557070481505335 and parameters: {'x': 0.29016995561245135, 'y': 0.19608463248407215}. Best is trial 179 with value: 0.16592879829524576.\n",
      "[I 2024-02-05 00:13:27,387] Trial 307 finished with value: 1.8245538916612802 and parameters: {'x': 0.43864433671412656, 'y': 0.06954984099199918}. Best is trial 179 with value: 0.16592879829524576.\n",
      "[I 2024-02-05 00:13:27,399] Trial 308 finished with value: 1.5125837694755377 and parameters: {'x': 0.22835193492501377, 'y': -0.043622978788244726}. Best is trial 179 with value: 0.16592879829524576.\n",
      "[I 2024-02-05 00:13:27,412] Trial 309 finished with value: 2.0347150852820124 and parameters: {'x': 0.5278660462703434, 'y': 0.4132458545559778}. Best is trial 179 with value: 0.16592879829524576.\n",
      "[I 2024-02-05 00:13:27,423] Trial 310 finished with value: 1.521754737098683 and parameters: {'x': 0.33502165443493204, 'y': 0.2161413153263597}. Best is trial 179 with value: 0.16592879829524576.\n",
      "[I 2024-02-05 00:13:27,435] Trial 311 finished with value: 0.37399420689091956 and parameters: {'x': 0.3911485941492496, 'y': 0.15873671090902053}. Best is trial 179 with value: 0.16592879829524576.\n",
      "[I 2024-02-05 00:13:27,447] Trial 312 finished with value: 77.79940568565132 and parameters: {'x': 1.0987934322604755, 'y': 0.32536262175035036}. Best is trial 179 with value: 0.16592879829524576.\n",
      "[I 2024-02-05 00:13:27,459] Trial 313 finished with value: 1.0026955413668754 and parameters: {'x': 0.29767958921502485, 'y': 0.15998831432969768}. Best is trial 179 with value: 0.16592879829524576.\n",
      "[I 2024-02-05 00:13:27,472] Trial 314 finished with value: 1.3283071667055655 and parameters: {'x': 0.6154036333082259, 'y': 0.48736751544803314}. Best is trial 179 with value: 0.16592879829524576.\n",
      "[I 2024-02-05 00:13:27,485] Trial 315 finished with value: 6.451728727746595 and parameters: {'x': 0.16873408583612298, 'y': 0.2684863101571018}. Best is trial 179 with value: 0.16592879829524576.\n",
      "[I 2024-02-05 00:13:27,497] Trial 316 finished with value: 2.962365147169608 and parameters: {'x': 0.4752508597194186, 'y': 0.061942560762224326}. Best is trial 179 with value: 0.16592879829524576.\n",
      "[I 2024-02-05 00:13:27,509] Trial 317 finished with value: 2.5631416266935405 and parameters: {'x': 0.37820660245866, 'y': -0.004489918621037023}. Best is trial 179 with value: 0.16592879829524576.\n",
      "[I 2024-02-05 00:13:27,520] Trial 318 finished with value: 228.91363404240332 and parameters: {'x': 0.2416551582407489, 'y': -1.4526902973266473}. Best is trial 179 with value: 0.16592879829524576.\n",
      "[I 2024-02-05 00:13:27,532] Trial 319 finished with value: 6.131549996727235 and parameters: {'x': 0.3758001409105688, 'y': 0.3808488777767597}. Best is trial 179 with value: 0.16592879829524576.\n",
      "[I 2024-02-05 00:13:27,544] Trial 320 finished with value: 1.1917983670546164 and parameters: {'x': 0.536976261997843, 'y': 0.18947959013045457}. Best is trial 179 with value: 0.16592879829524576.\n",
      "[I 2024-02-05 00:13:27,556] Trial 321 finished with value: 1.7263853286706856 and parameters: {'x': 0.10331858921796436, 'y': 0.1067136696595401}. Best is trial 179 with value: 0.16592879829524576.\n",
      "[I 2024-02-05 00:13:27,569] Trial 322 finished with value: 3.2490345429390626 and parameters: {'x': 0.2904471424552868, 'y': 0.25005713715038114}. Best is trial 179 with value: 0.16592879829524576.\n",
      "[I 2024-02-05 00:13:27,581] Trial 323 finished with value: 189.409850652964 and parameters: {'x': 0.45456934000309246, 'y': 1.5818145676408655}. Best is trial 179 with value: 0.16592879829524576.\n",
      "[I 2024-02-05 00:13:27,593] Trial 324 finished with value: 1.170360282445834 and parameters: {'x': 0.3370269041178424, 'y': 0.02809871637017189}. Best is trial 179 with value: 0.16592879829524576.\n",
      "[I 2024-02-05 00:13:27,605] Trial 325 finished with value: 1.8876016368746102 and parameters: {'x': 0.2069316595513659, 'y': 0.15501002691345872}. Best is trial 179 with value: 0.16592879829524576.\n",
      "[I 2024-02-05 00:13:27,617] Trial 326 finished with value: 2.6071808124978837 and parameters: {'x': 0.6699283249788501, 'y': 0.29074594904844564}. Best is trial 179 with value: 0.16592879829524576.\n",
      "[I 2024-02-05 00:13:27,629] Trial 327 finished with value: 11.009008132156351 and parameters: {'x': 0.4222077855685574, 'y': -0.14846928502069545}. Best is trial 179 with value: 0.16592879829524576.\n",
      "[I 2024-02-05 00:13:27,641] Trial 328 finished with value: 14.841447367097153 and parameters: {'x': 0.5762158838148372, 'y': -0.05088326494895018}. Best is trial 179 with value: 0.16592879829524576.\n",
      "[I 2024-02-05 00:13:27,653] Trial 329 finished with value: 0.49396616550983646 and parameters: {'x': 0.310535100169264, 'y': 0.11007181288203256}. Best is trial 179 with value: 0.16592879829524576.\n",
      "[I 2024-02-05 00:13:27,666] Trial 330 finished with value: 3.7862492764878333 and parameters: {'x': 0.4922819571133753, 'y': 0.054499259943167025}. Best is trial 179 with value: 0.16592879829524576.\n",
      "[I 2024-02-05 00:13:27,678] Trial 331 finished with value: 0.6160155471143185 and parameters: {'x': 0.3844389873708206, 'y': 0.19648626949254006}. Best is trial 179 with value: 0.16592879829524576.\n",
      "[I 2024-02-05 00:13:27,690] Trial 332 finished with value: 9.611850927796203 and parameters: {'x': 0.24050168937942445, 'y': 0.3584240502027828}. Best is trial 179 with value: 0.16592879829524576.\n",
      "[I 2024-02-05 00:13:27,702] Trial 333 finished with value: 1.534025122360529 and parameters: {'x': 0.13347803201052655, 'y': 0.1063129839105002}. Best is trial 179 with value: 0.16592879829524576.\n",
      "[I 2024-02-05 00:13:27,714] Trial 334 finished with value: 1.9050429952900758 and parameters: {'x': 0.32829341570901277, 'y': 0.2283524043405016}. Best is trial 179 with value: 0.16592879829524576.\n",
      "[I 2024-02-05 00:13:27,726] Trial 335 finished with value: 4.978693516214386 and parameters: {'x': 0.4671103847703527, 'y': 0.0015190358403462112}. Best is trial 179 with value: 0.16592879829524576.\n",
      "[I 2024-02-05 00:13:27,738] Trial 336 finished with value: 0.3996255490304078 and parameters: {'x': 0.3889640090566931, 'y': 0.16749811274536613}. Best is trial 179 with value: 0.16592879829524576.\n",
      "[I 2024-02-05 00:13:27,751] Trial 337 finished with value: 2.2822254385887426 and parameters: {'x': 0.220704660238551, 'y': -0.0807083160260052}. Best is trial 179 with value: 0.16592879829524576.\n",
      "[I 2024-02-05 00:13:27,763] Trial 338 finished with value: 7.159766011642681 and parameters: {'x': 0.5923298830272486, 'y': 0.08640108215788866}. Best is trial 179 with value: 0.16592879829524576.\n",
      "[I 2024-02-05 00:13:27,775] Trial 339 finished with value: 0.9288122264819414 and parameters: {'x': 0.29146063021270563, 'y': 0.1502780206676429}. Best is trial 179 with value: 0.16592879829524576.\n",
      "[I 2024-02-05 00:13:27,787] Trial 340 finished with value: 9.36482199321555 and parameters: {'x': 0.5151563997322222, 'y': 0.5675408559541928}. Best is trial 179 with value: 0.16592879829524576.\n",
      "[I 2024-02-05 00:13:27,799] Trial 341 finished with value: 1.8242312902992444 and parameters: {'x': 0.3933640274803866, 'y': 0.27540936831096025}. Best is trial 179 with value: 0.16592879829524576.\n",
      "[I 2024-02-05 00:13:27,811] Trial 342 finished with value: 1.1817729290019334 and parameters: {'x': 0.3305531020023788, 'y': 0.02361409640712346}. Best is trial 179 with value: 0.16592879829524576.\n",
      "[I 2024-02-05 00:13:27,823] Trial 343 finished with value: 0.8783942550820586 and parameters: {'x': 0.447925919040872, 'y': 0.12490068524111703}. Best is trial 179 with value: 0.16592879829524576.\n",
      "[I 2024-02-05 00:13:27,835] Trial 344 finished with value: 11.799426548319378 and parameters: {'x': 0.18032504480090727, 'y': 0.36609708994808626}. Best is trial 179 with value: 0.16592879829524576.\n",
      "[I 2024-02-05 00:13:27,847] Trial 345 finished with value: 1.9118459447943443 and parameters: {'x': 0.2707080132911243, 'y': -0.04418968504490116}. Best is trial 179 with value: 0.16592879829524576.\n",
      "[I 2024-02-05 00:13:27,859] Trial 346 finished with value: 17.431350781300374 and parameters: {'x': 0.6868655529679893, 'y': 0.05545151711188655}. Best is trial 179 with value: 0.16592879829524576.\n",
      "[I 2024-02-05 00:13:27,871] Trial 347 finished with value: 23.63704390813465 and parameters: {'x': 0.8218596408108017, 'y': 0.18960030871525968}. Best is trial 179 with value: 0.16592879829524576.\n",
      "[I 2024-02-05 00:13:27,884] Trial 348 finished with value: 0.2219735582173024 and parameters: {'x': 0.5298907161240084, 'y': 0.2776683734946106}. Best is trial 179 with value: 0.16592879829524576.\n",
      "[I 2024-02-05 00:13:27,896] Trial 349 finished with value: 1.4121362658040302 and parameters: {'x': 0.5846238217307497, 'y': 0.4531222886485705}. Best is trial 179 with value: 0.16592879829524576.\n",
      "[I 2024-02-05 00:13:27,909] Trial 350 finished with value: 0.4512521105030596 and parameters: {'x': 0.5029697676942567, 'y': 0.2981685262138377}. Best is trial 179 with value: 0.16592879829524576.\n",
      "[I 2024-02-05 00:13:27,921] Trial 351 finished with value: 0.7819675257730951 and parameters: {'x': 0.6363336061665466, 'y': 0.3243156024181082}. Best is trial 179 with value: 0.16592879829524576.\n",
      "[I 2024-02-05 00:13:27,933] Trial 352 finished with value: 2.668142233205009 and parameters: {'x': 0.5073556400219553, 'y': 0.4131481083591863}. Best is trial 179 with value: 0.16592879829524576.\n",
      "[I 2024-02-05 00:13:27,946] Trial 353 finished with value: 0.23314060581583557 and parameters: {'x': 0.5533080861761921, 'y': 0.28781764252197384}. Best is trial 179 with value: 0.16592879829524576.\n",
      "[I 2024-02-05 00:13:27,958] Trial 354 finished with value: 0.26566251981514877 and parameters: {'x': 0.6660072284473263, 'y': 0.4828226466167129}. Best is trial 179 with value: 0.16592879829524576.\n",
      "[I 2024-02-05 00:13:27,971] Trial 355 finished with value: 0.13812791235218524 and parameters: {'x': 0.7009176969213249, 'y': 0.5133486385793584}. Best is trial 355 with value: 0.13812791235218524.\n",
      "[I 2024-02-05 00:13:27,983] Trial 356 finished with value: 0.5121085910950351 and parameters: {'x': 0.8202520391527984, 'y': 0.6035458639878977}. Best is trial 355 with value: 0.13812791235218524.\n",
      "[I 2024-02-05 00:13:27,996] Trial 357 finished with value: 0.3503226840432524 and parameters: {'x': 0.7584057551564375, 'y': 0.5211464378822634}. Best is trial 355 with value: 0.13812791235218524.\n",
      "[I 2024-02-05 00:13:28,008] Trial 358 finished with value: 4.285382854354661 and parameters: {'x': 0.667854246016107, 'y': 0.6503589797842021}. Best is trial 355 with value: 0.13812791235218524.\n",
      "[I 2024-02-05 00:13:28,020] Trial 359 finished with value: 1.1873596717385997 and parameters: {'x': 0.7602473563089438, 'y': 0.47168030713206294}. Best is trial 355 with value: 0.13812791235218524.\n",
      "[I 2024-02-05 00:13:28,032] Trial 360 finished with value: 0.09738415918670396 and parameters: {'x': 0.7465894107929502, 'y': 0.539183875130361}. Best is trial 360 with value: 0.09738415918670396.\n",
      "[I 2024-02-05 00:13:28,045] Trial 361 finished with value: 0.26724577162660273 and parameters: {'x': 0.7727967011352298, 'y': 0.5507793633273497}. Best is trial 360 with value: 0.09738415918670396.\n",
      "[I 2024-02-05 00:13:28,058] Trial 362 finished with value: 3.927105165565965 and parameters: {'x': 0.9306655876488761, 'y': 0.6680905149432522}. Best is trial 360 with value: 0.09738415918670396.\n",
      "[I 2024-02-05 00:13:28,070] Trial 363 finished with value: 0.29878063374506764 and parameters: {'x': 0.7577879352654223, 'y': 0.5252411314420486}. Best is trial 360 with value: 0.09738415918670396.\n",
      "[I 2024-02-05 00:13:28,083] Trial 364 finished with value: 0.17623803416970302 and parameters: {'x': 0.7650291422992774, 'y': 0.5504806923212263}. Best is trial 360 with value: 0.09738415918670396.\n",
      "[I 2024-02-05 00:13:28,095] Trial 365 finished with value: 0.11786954893509036 and parameters: {'x': 0.7604236242923418, 'y': 0.5536528889117907}. Best is trial 360 with value: 0.09738415918670396.\n",
      "[I 2024-02-05 00:13:28,107] Trial 366 finished with value: 2.143214860424811 and parameters: {'x': 0.8371222225718167, 'y': 0.5552852761267432}. Best is trial 360 with value: 0.09738415918670396.\n",
      "[I 2024-02-05 00:13:28,120] Trial 367 finished with value: 1.5911805554216323 and parameters: {'x': 0.8114783579227834, 'y': 0.5337718213730122}. Best is trial 360 with value: 0.09738415918670396.\n",
      "[I 2024-02-05 00:13:28,132] Trial 368 finished with value: 5.044099498760678 and parameters: {'x': 0.7337510360645239, 'y': 0.7613975556410556}. Best is trial 360 with value: 0.09738415918670396.\n",
      "[I 2024-02-05 00:13:28,145] Trial 369 finished with value: 0.6369281189225642 and parameters: {'x': 0.7335620179076328, 'y': 0.6133421461533222}. Best is trial 360 with value: 0.09738415918670396.\n",
      "[I 2024-02-05 00:13:28,158] Trial 370 finished with value: 0.4582208420398322 and parameters: {'x': 0.8844357245578023, 'y': 0.8489248072441992}. Best is trial 360 with value: 0.09738415918670396.\n",
      "[I 2024-02-05 00:13:28,172] Trial 371 finished with value: 0.5990715056763571 and parameters: {'x': 0.9321637910561196, 'y': 0.791827468629479}. Best is trial 360 with value: 0.09738415918670396.\n",
      "[I 2024-02-05 00:13:28,185] Trial 372 finished with value: 0.31351191989672306 and parameters: {'x': 1.1365253310125019, 'y': 1.237387640794564}. Best is trial 360 with value: 0.09738415918670396.\n",
      "[I 2024-02-05 00:13:28,198] Trial 373 finished with value: 25.074765839351706 and parameters: {'x': 0.8820358642954161, 'y': 1.2785953990977714}. Best is trial 360 with value: 0.09738415918670396.\n",
      "[I 2024-02-05 00:13:28,211] Trial 374 finished with value: 167.82303311887597 and parameters: {'x': 1.349233391233333, 'y': 0.525436268519882}. Best is trial 360 with value: 0.09738415918670396.\n",
      "[I 2024-02-05 00:13:28,224] Trial 375 finished with value: 17.172962534347057 and parameters: {'x': 1.0318171347592946, 'y': 0.6502560808172747}. Best is trial 360 with value: 0.09738415918670396.\n",
      "[I 2024-02-05 00:13:28,236] Trial 376 finished with value: 7.4338908402558515 and parameters: {'x': 0.755646152043049, 'y': 0.842555559044852}. Best is trial 360 with value: 0.09738415918670396.\n",
      "[I 2024-02-05 00:13:28,249] Trial 377 finished with value: 97.28148153784149 and parameters: {'x': 1.3051425142054658, 'y': 0.7175553643572491}. Best is trial 360 with value: 0.09738415918670396.\n",
      "[I 2024-02-05 00:13:28,261] Trial 378 finished with value: 65.18058178306337 and parameters: {'x': 0.7607030340807333, 'y': 1.3856593088822275}. Best is trial 360 with value: 0.09738415918670396.\n",
      "[I 2024-02-05 00:13:28,274] Trial 379 finished with value: 11.011540088471715 and parameters: {'x': 0.8756685348465058, 'y': 1.098398787233941}. Best is trial 360 with value: 0.09738415918670396.\n",
      "[I 2024-02-05 00:13:28,287] Trial 380 finished with value: 8.461055853840342 and parameters: {'x': 1.1319198284368543, 'y': 0.9906628529418763}. Best is trial 360 with value: 0.09738415918670396.\n",
      "[I 2024-02-05 00:13:28,301] Trial 381 finished with value: 0.5225163500776232 and parameters: {'x': 0.7518439446672043, 'y': 0.4973771289017468}. Best is trial 360 with value: 0.09738415918670396.\n",
      "[I 2024-02-05 00:13:28,314] Trial 382 finished with value: 15.617389567845345 and parameters: {'x': 0.9821685412460067, 'y': 0.5694706357385619}. Best is trial 360 with value: 0.09738415918670396.\n",
      "[I 2024-02-05 00:13:28,327] Trial 383 finished with value: 0.38471610883584084 and parameters: {'x': 0.6648077916991788, 'y': 0.49415774077910546}. Best is trial 360 with value: 0.09738415918670396.\n",
      "[I 2024-02-05 00:13:28,339] Trial 384 finished with value: 80.1326448391467 and parameters: {'x': 1.1833779400424993, 'y': 0.5054028052228159}. Best is trial 360 with value: 0.09738415918670396.\n",
      "[I 2024-02-05 00:13:28,352] Trial 385 finished with value: 1.6867635180825251 and parameters: {'x': 0.6964655223822614, 'y': 0.6113428974023524}. Best is trial 360 with value: 0.09738415918670396.\n",
      "[I 2024-02-05 00:13:28,364] Trial 386 finished with value: 7.637581403075799 and parameters: {'x': 0.8773195460725529, 'y': 0.4936002723048678}. Best is trial 360 with value: 0.09738415918670396.\n",
      "[I 2024-02-05 00:13:28,377] Trial 387 finished with value: 0.17855913408116894 and parameters: {'x': 0.8117687690602378, 'y': 0.6968008139960417}. Best is trial 360 with value: 0.09738415918670396.\n",
      "[I 2024-02-05 00:13:28,389] Trial 388 finished with value: 0.061538562374832066 and parameters: {'x': 0.8430864872060508, 'y': 0.730008547057293}. Best is trial 388 with value: 0.061538562374832066.\n",
      "[I 2024-02-05 00:13:28,402] Trial 389 finished with value: 0.39667754241060127 and parameters: {'x': 0.7795244441711866, 'y': 0.6666556532095851}. Best is trial 388 with value: 0.061538562374832066.\n",
      "[I 2024-02-05 00:13:28,415] Trial 390 finished with value: 0.14111779309189484 and parameters: {'x': 0.7898716129870311, 'y': 0.655036184586405}. Best is trial 388 with value: 0.061538562374832066.\n",
      "[I 2024-02-05 00:13:28,429] Trial 391 finished with value: 0.187433333025776 and parameters: {'x': 0.8100198544479281, 'y': 0.6950347194416252}. Best is trial 388 with value: 0.061538562374832066.\n",
      "[I 2024-02-05 00:13:28,442] Trial 392 finished with value: 0.5457856516398074 and parameters: {'x': 0.8094427171161044, 'y': 0.726574929840131}. Best is trial 388 with value: 0.061538562374832066.\n",
      "[I 2024-02-05 00:13:28,456] Trial 393 finished with value: 5.79068806199941 and parameters: {'x': 0.9595469865556807, 'y': 0.6801259386579844}. Best is trial 388 with value: 0.061538562374832066.\n",
      "[I 2024-02-05 00:13:28,470] Trial 394 finished with value: 9.551004149834592 and parameters: {'x': 0.7811326125925471, 'y': 0.9184391628748871}. Best is trial 388 with value: 0.061538562374832066.\n",
      "[I 2024-02-05 00:13:28,483] Trial 395 finished with value: 7.557661483408552 and parameters: {'x': 0.698122519375008, 'y': 0.7606245986290391}. Best is trial 388 with value: 0.061538562374832066.\n",
      "[I 2024-02-05 00:13:28,496] Trial 396 finished with value: 1.630858604589183 and parameters: {'x': 0.8385047042144301, 'y': 0.5764103113126945}. Best is trial 388 with value: 0.061538562374832066.\n",
      "[I 2024-02-05 00:13:28,509] Trial 397 finished with value: 2.7473690883590813 and parameters: {'x': 0.6951863327354517, 'y': 0.6462091033294972}. Best is trial 388 with value: 0.061538562374832066.\n",
      "[I 2024-02-05 00:13:28,522] Trial 398 finished with value: 14.617081176223499 and parameters: {'x': 1.0385651324442153, 'y': 0.6963140696992252}. Best is trial 388 with value: 0.061538562374832066.\n",
      "[I 2024-02-05 00:13:28,535] Trial 399 finished with value: 0.17054540651195527 and parameters: {'x': 0.7912970781483841, 'y': 0.5905156204809904}. Best is trial 388 with value: 0.061538562374832066.\n",
      "[I 2024-02-05 00:13:28,547] Trial 400 finished with value: 209.615975042469 and parameters: {'x': 1.4951954317533624, 'y': 0.788644429571555}. Best is trial 388 with value: 0.061538562374832066.\n",
      "[I 2024-02-05 00:13:28,560] Trial 401 finished with value: 0.863469778866075 and parameters: {'x': 0.8184240140203256, 'y': 0.5786860972821216}. Best is trial 388 with value: 0.061538562374832066.\n",
      "[I 2024-02-05 00:13:28,573] Trial 402 finished with value: 13.318862008559783 and parameters: {'x': 0.9359957615353842, 'y': 0.5111940335149613}. Best is trial 388 with value: 0.061538562374832066.\n",
      "[I 2024-02-05 00:13:28,586] Trial 403 finished with value: 0.421747855454267 and parameters: {'x': 0.7592287824921392, 'y': 0.6367422792271372}. Best is trial 388 with value: 0.061538562374832066.\n",
      "[I 2024-02-05 00:13:28,599] Trial 404 finished with value: 0.17447527839195592 and parameters: {'x': 0.7023403902690947, 'y': 0.4639777519088233}. Best is trial 388 with value: 0.061538562374832066.\n",
      "[I 2024-02-05 00:13:28,612] Trial 405 finished with value: 0.1369619054291634 and parameters: {'x': 0.6929157345584893, 'y': 0.45947763717171436}. Best is trial 388 with value: 0.061538562374832066.\n",
      "[I 2024-02-05 00:13:28,625] Trial 406 finished with value: 0.2143204175116844 and parameters: {'x': 0.6633301484921694, 'y': 0.4717832652703372}. Best is trial 388 with value: 0.061538562374832066.\n",
      "[I 2024-02-05 00:13:28,638] Trial 407 finished with value: 0.178200849406001 and parameters: {'x': 0.6641362060574766, 'y': 0.4666496124742622}. Best is trial 388 with value: 0.061538562374832066.\n",
      "[I 2024-02-05 00:13:28,651] Trial 408 finished with value: 0.2124563517095026 and parameters: {'x': 0.6915371955395822, 'y': 0.443973576030436}. Best is trial 388 with value: 0.061538562374832066.\n",
      "[I 2024-02-05 00:13:28,664] Trial 409 finished with value: 0.2518109917194305 and parameters: {'x': 0.6996549307605973, 'y': 0.4493170431447101}. Best is trial 388 with value: 0.061538562374832066.\n",
      "[I 2024-02-05 00:13:28,677] Trial 410 finished with value: 0.20649918535077783 and parameters: {'x': 0.6923919319276224, 'y': 0.4459586484772765}. Best is trial 388 with value: 0.061538562374832066.\n",
      "[I 2024-02-05 00:13:28,690] Trial 411 finished with value: 0.10940048674626908 and parameters: {'x': 0.6699538491163162, 'y': 0.45100616601848453}. Best is trial 388 with value: 0.061538562374832066.\n",
      "[I 2024-02-05 00:13:28,704] Trial 412 finished with value: 0.36009265609275126 and parameters: {'x': 0.70019036491759, 'y': 0.43828512363344413}. Best is trial 388 with value: 0.061538562374832066.\n",
      "[I 2024-02-05 00:13:28,717] Trial 413 finished with value: 2.8761204563500287 and parameters: {'x': 0.8627678971502832, 'y': 0.5753333058079815}. Best is trial 388 with value: 0.061538562374832066.\n",
      "[I 2024-02-05 00:13:28,729] Trial 414 finished with value: 0.15632848724417536 and parameters: {'x': 0.6508925096008673, 'y': 0.44222242952961605}. Best is trial 388 with value: 0.061538562374832066.\n",
      "[I 2024-02-05 00:13:28,742] Trial 415 finished with value: 0.21875632646854798 and parameters: {'x': 0.6604716520110818, 'y': 0.46839061736307863}. Best is trial 388 with value: 0.061538562374832066.\n",
      "[I 2024-02-05 00:13:28,755] Trial 416 finished with value: 0.26004529062414783 and parameters: {'x': 0.6548177351532585, 'y': 0.46632218169359835}. Best is trial 388 with value: 0.061538562374832066.\n",
      "[I 2024-02-05 00:13:28,768] Trial 417 finished with value: 0.177480655889147 and parameters: {'x': 0.645792685733855, 'y': 0.43985561156706476}. Best is trial 388 with value: 0.061538562374832066.\n",
      "[I 2024-02-05 00:13:28,781] Trial 418 finished with value: 0.3070487287615066 and parameters: {'x': 0.6387825594281852, 'y': 0.45006347348168335}. Best is trial 388 with value: 0.061538562374832066.\n",
      "[I 2024-02-05 00:13:28,794] Trial 419 finished with value: 0.12124551072528938 and parameters: {'x': 0.6578843285256665, 'y': 0.43929436486921625}. Best is trial 388 with value: 0.061538562374832066.\n",
      "[I 2024-02-05 00:13:28,806] Trial 420 finished with value: 0.2992974779275839 and parameters: {'x': 0.6858624624427861, 'y': 0.4256172419890528}. Best is trial 388 with value: 0.061538562374832066.\n",
      "[I 2024-02-05 00:13:28,820] Trial 421 finished with value: 1.9501577432914379 and parameters: {'x': 0.8412716300931242, 'y': 0.5689949180128533}. Best is trial 388 with value: 0.061538562374832066.\n",
      "[I 2024-02-05 00:13:28,833] Trial 422 finished with value: 0.3488916508414769 and parameters: {'x': 0.6200547317069092, 'y': 0.4296932220457696}. Best is trial 388 with value: 0.061538562374832066.\n",
      "[I 2024-02-05 00:13:28,847] Trial 423 finished with value: 1.2426119412339336 and parameters: {'x': 0.7040538977995318, 'y': 0.6031641128050128}. Best is trial 388 with value: 0.061538562374832066.\n",
      "[I 2024-02-05 00:13:28,860] Trial 424 finished with value: 7.583216780962737 and parameters: {'x': 0.8284427223343159, 'y': 0.41147584656792424}. Best is trial 388 with value: 0.061538562374832066.\n",
      "[I 2024-02-05 00:13:28,873] Trial 425 finished with value: 4.80204144265672 and parameters: {'x': 0.7209618354906577, 'y': 0.7371377371572482}. Best is trial 388 with value: 0.061538562374832066.\n",
      "[I 2024-02-05 00:13:28,886] Trial 426 finished with value: 4.862013694680213 and parameters: {'x': 0.9267063138303782, 'y': 0.6384066955097892}. Best is trial 388 with value: 0.061538562374832066.\n",
      "[I 2024-02-05 00:13:28,899] Trial 427 finished with value: 5.665339567027586 and parameters: {'x': 0.8067583978612461, 'y': 0.4136251088390923}. Best is trial 388 with value: 0.061538562374832066.\n",
      "[I 2024-02-05 00:13:28,912] Trial 428 finished with value: 1.9852754979895266 and parameters: {'x': 0.6165368606154856, 'y': 0.5156990974045085}. Best is trial 388 with value: 0.061538562374832066.\n",
      "[I 2024-02-05 00:13:28,926] Trial 429 finished with value: 0.3711053447087573 and parameters: {'x': 0.7249028008875354, 'y': 0.5798372560827623}. Best is trial 388 with value: 0.061538562374832066.\n",
      "[I 2024-02-05 00:13:28,939] Trial 430 finished with value: 17.09126451109846 and parameters: {'x': 0.6278353773978107, 'y': 0.8059145317689388}. Best is trial 388 with value: 0.061538562374832066.\n",
      "[I 2024-02-05 00:13:28,952] Trial 431 finished with value: 7.511926233473418 and parameters: {'x': 0.8580978432357272, 'y': 0.4626205640552245}. Best is trial 388 with value: 0.061538562374832066.\n",
      "[I 2024-02-05 00:13:28,965] Trial 432 finished with value: 2.483845575643136 and parameters: {'x': 0.7375189857825961, 'y': 0.699335325583605}. Best is trial 388 with value: 0.061538562374832066.\n",
      "[I 2024-02-05 00:13:28,978] Trial 433 finished with value: 0.2425449830275101 and parameters: {'x': 0.6615839778443495, 'y': 0.40191353595992363}. Best is trial 388 with value: 0.061538562374832066.\n",
      "[I 2024-02-05 00:13:28,992] Trial 434 finished with value: 0.16765374788406057 and parameters: {'x': 0.6455718045446062, 'y': 0.39626066174383956}. Best is trial 388 with value: 0.061538562374832066.\n",
      "[I 2024-02-05 00:13:29,004] Trial 435 finished with value: 3.1333343799984443 and parameters: {'x': 0.6067412675924939, 'y': 0.5407235502827209}. Best is trial 388 with value: 0.061538562374832066.\n",
      "[I 2024-02-05 00:13:29,018] Trial 436 finished with value: 4.3212621714319335 and parameters: {'x': 0.9206702639234785, 'y': 0.639908701128654}. Best is trial 388 with value: 0.061538562374832066.\n",
      "[I 2024-02-05 00:13:29,031] Trial 437 finished with value: 5.432783203524791 and parameters: {'x': 0.7939437705496816, 'y': 0.3981759970121033}. Best is trial 388 with value: 0.061538562374832066.\n",
      "[I 2024-02-05 00:13:29,045] Trial 438 finished with value: 1.3732417087252313 and parameters: {'x': 0.6295520283731249, 'y': 0.5075117434512183}. Best is trial 388 with value: 0.061538562374832066.\n",
      "[I 2024-02-05 00:13:29,058] Trial 439 finished with value: 0.2327532751329952 and parameters: {'x': 0.7912711990488267, 'y': 0.5826146436934271}. Best is trial 388 with value: 0.061538562374832066.\n",
      "[I 2024-02-05 00:13:29,071] Trial 440 finished with value: 10.198634374838958 and parameters: {'x': 1.0151216068900042, 'y': 0.7111224488461623}. Best is trial 388 with value: 0.061538562374832066.\n",
      "[I 2024-02-05 00:13:29,085] Trial 441 finished with value: 0.29688996737632867 and parameters: {'x': 0.7900304614547551, 'y': 0.5738686351741948}. Best is trial 388 with value: 0.061538562374832066.\n",
      "[I 2024-02-05 00:13:29,098] Trial 442 finished with value: 3.1634414368797774 and parameters: {'x': 0.8771071554235892, 'y': 0.591881374187093}. Best is trial 388 with value: 0.061538562374832066.\n",
      "[I 2024-02-05 00:13:29,112] Trial 443 finished with value: 1.3208575412762498 and parameters: {'x': 0.7282663081588547, 'y': 0.6420417910625039}. Best is trial 388 with value: 0.061538562374832066.\n",
      "[I 2024-02-05 00:13:29,125] Trial 444 finished with value: 3.107009716178295 and parameters: {'x': 0.8098333472719257, 'y': 0.4805917451698676}. Best is trial 388 with value: 0.061538562374832066.\n",
      "[I 2024-02-05 00:13:29,139] Trial 445 finished with value: 2.912435816565431 and parameters: {'x': 0.963226131075136, 'y': 0.7571856035273394}. Best is trial 388 with value: 0.061538562374832066.\n",
      "[I 2024-02-05 00:13:29,152] Trial 446 finished with value: 11.83028335880393 and parameters: {'x': 0.7255160714584833, 'y': 0.8692283778702434}. Best is trial 388 with value: 0.061538562374832066.\n",
      "[I 2024-02-05 00:13:29,166] Trial 447 finished with value: 5.184086355783991 and parameters: {'x': 0.8657151873327652, 'y': 0.5221732357776754}. Best is trial 388 with value: 0.061538562374832066.\n",
      "[I 2024-02-05 00:13:29,179] Trial 448 finished with value: 0.18301815376855324 and parameters: {'x': 0.6516071111445325, 'y': 0.3997643125647961}. Best is trial 388 with value: 0.061538562374832066.\n",
      "[I 2024-02-05 00:13:29,193] Trial 449 finished with value: 0.16981693298070494 and parameters: {'x': 0.6355791574386696, 'y': 0.38472174312238516}. Best is trial 388 with value: 0.061538562374832066.\n",
      "[I 2024-02-05 00:13:29,206] Trial 450 finished with value: 0.12123154385273725 and parameters: {'x': 0.6605194250961708, 'y': 0.4440218550318775}. Best is trial 388 with value: 0.061538562374832066.\n",
      "[I 2024-02-05 00:13:29,220] Trial 451 finished with value: 0.14027797493509375 and parameters: {'x': 0.6341239186084359, 'y': 0.3941052305649667}. Best is trial 388 with value: 0.061538562374832066.\n",
      "[I 2024-02-05 00:13:29,233] Trial 452 finished with value: 0.19333529888481832 and parameters: {'x': 0.6105130914352962, 'y': 0.393130951656203}. Best is trial 388 with value: 0.061538562374832066.\n",
      "[I 2024-02-05 00:13:29,246] Trial 453 finished with value: 0.31967657954210515 and parameters: {'x': 0.6208483556655713, 'y': 0.42739557168458026}. Best is trial 388 with value: 0.061538562374832066.\n",
      "[I 2024-02-05 00:13:29,259] Trial 454 finished with value: 0.16736506301496384 and parameters: {'x': 0.6017268912628321, 'y': 0.3714259702892355}. Best is trial 388 with value: 0.061538562374832066.\n",
      "[I 2024-02-05 00:13:29,272] Trial 455 finished with value: 3.3389123338487696 and parameters: {'x': 0.7464000669800245, 'y': 0.3761545175582818}. Best is trial 388 with value: 0.061538562374832066.\n",
      "[I 2024-02-05 00:13:29,285] Trial 456 finished with value: 3.7443682873139013 and parameters: {'x': 0.6627440213087373, 'y': 0.6297716723070051}. Best is trial 388 with value: 0.061538562374832066.\n",
      "[I 2024-02-05 00:13:29,299] Trial 457 finished with value: 0.4131503744818146 and parameters: {'x': 0.5989095868328089, 'y': 0.40891986263544167}. Best is trial 388 with value: 0.061538562374832066.\n",
      "[I 2024-02-05 00:13:29,313] Trial 458 finished with value: 2.906019092036211 and parameters: {'x': 0.8352438509642108, 'y': 0.5279598265909708}. Best is trial 388 with value: 0.061538562374832066.\n",
      "[I 2024-02-05 00:13:29,327] Trial 459 finished with value: 3.4461317413481396 and parameters: {'x': 0.72801022518326, 'y': 0.7136331250771908}. Best is trial 388 with value: 0.061538562374832066.\n",
      "[I 2024-02-05 00:13:29,342] Trial 460 finished with value: 0.1577156095216436 and parameters: {'x': 0.6032175785908129, 'y': 0.3655427328006302}. Best is trial 388 with value: 0.061538562374832066.\n",
      "[I 2024-02-05 00:13:29,356] Trial 461 finished with value: 0.24691093515159412 and parameters: {'x': 0.5957228136758599, 'y': 0.3837770001891767}. Best is trial 388 with value: 0.061538562374832066.\n",
      "[I 2024-02-05 00:13:29,371] Trial 462 finished with value: 18.77726015519229 and parameters: {'x': 0.8886540497278597, 'y': 0.356521737897294}. Best is trial 388 with value: 0.061538562374832066.\n",
      "[I 2024-02-05 00:13:29,384] Trial 463 finished with value: 34.43071632176039 and parameters: {'x': 0.6009174517454603, 'y': 0.9465200056113323}. Best is trial 388 with value: 0.061538562374832066.\n",
      "[I 2024-02-05 00:13:29,397] Trial 464 finished with value: 0.8825919341502764 and parameters: {'x': 0.7811836313168619, 'y': 0.5188853280581426}. Best is trial 388 with value: 0.061538562374832066.\n",
      "[I 2024-02-05 00:13:29,410] Trial 465 finished with value: 810.9101225781703 and parameters: {'x': 1.7931676659309432, 'y': 0.3689067467114663}. Best is trial 388 with value: 0.061538562374832066.\n",
      "[I 2024-02-05 00:13:29,423] Trial 466 finished with value: 6.639059462986927 and parameters: {'x': 0.7440506206973544, 'y': 0.810000666387467}. Best is trial 388 with value: 0.061538562374832066.\n",
      "[I 2024-02-05 00:13:29,437] Trial 467 finished with value: 4.667642758982032 and parameters: {'x': 0.9309339122445374, 'y': 0.6507010916566363}. Best is trial 388 with value: 0.061538562374832066.\n",
      "[I 2024-02-05 00:13:29,450] Trial 468 finished with value: 4.181904971717379 and parameters: {'x': 0.593229895072966, 'y': 0.5523323631513629}. Best is trial 388 with value: 0.061538562374832066.\n",
      "[I 2024-02-05 00:13:29,464] Trial 469 finished with value: 0.4483212892656778 and parameters: {'x': 0.6607304140796038, 'y': 0.3788396909312885}. Best is trial 388 with value: 0.061538562374832066.\n",
      "[I 2024-02-05 00:13:29,479] Trial 470 finished with value: 0.1200588904926714 and parameters: {'x': 0.8151425240935934, 'y': 0.6937637509640351}. Best is trial 388 with value: 0.061538562374832066.\n",
      "[I 2024-02-05 00:13:29,493] Trial 471 finished with value: 0.09886347431677518 and parameters: {'x': 0.8327292282356635, 'y': 0.7200620099313786}. Best is trial 388 with value: 0.061538562374832066.\n",
      "[I 2024-02-05 00:13:29,506] Trial 472 finished with value: 3.165281542716166 and parameters: {'x': 0.9936661047435899, 'y': 0.8094610738708199}. Best is trial 388 with value: 0.061538562374832066.\n",
      "[I 2024-02-05 00:13:29,520] Trial 473 finished with value: 1.3303794406804152 and parameters: {'x': 0.8606494342437646, 'y': 0.6262202495497307}. Best is trial 388 with value: 0.061538562374832066.\n",
      "[I 2024-02-05 00:13:29,534] Trial 474 finished with value: 1.382949920821764 and parameters: {'x': 0.7704421441912553, 'y': 0.7089176967527867}. Best is trial 388 with value: 0.061538562374832066.\n",
      "[I 2024-02-05 00:13:29,547] Trial 475 finished with value: 9.844908022264825 and parameters: {'x': 0.9226654106181262, 'y': 0.5376408144716578}. Best is trial 388 with value: 0.061538562374832066.\n",
      "[I 2024-02-05 00:13:29,561] Trial 476 finished with value: 15.192772602146354 and parameters: {'x': 0.717162276465076, 'y': 0.9030732635698691}. Best is trial 388 with value: 0.061538562374832066.\n",
      "[I 2024-02-05 00:13:29,575] Trial 477 finished with value: 0.3318249341877081 and parameters: {'x': 0.8448071049648003, 'y': 0.7691733719512428}. Best is trial 388 with value: 0.061538562374832066.\n",
      "[I 2024-02-05 00:13:29,588] Trial 478 finished with value: 0.060437174928962445 and parameters: {'x': 0.7748435802167074, 'y': 0.5905125375521835}. Best is trial 478 with value: 0.060437174928962445.\n",
      "[I 2024-02-05 00:13:29,601] Trial 479 finished with value: 0.08056904259009748 and parameters: {'x': 0.7988781666225003, 'y': 0.6181765845364219}. Best is trial 478 with value: 0.060437174928962445.\n",
      "[I 2024-02-05 00:13:29,615] Trial 480 finished with value: 15.59837776453672 and parameters: {'x': 1.0055430245354622, 'y': 0.6161693468118279}. Best is trial 478 with value: 0.060437174928962445.\n",
      "[I 2024-02-05 00:13:29,628] Trial 481 finished with value: 5.483708968636698 and parameters: {'x': 0.9042262388966114, 'y': 0.5836478196633405}. Best is trial 478 with value: 0.060437174928962445.\n",
      "[I 2024-02-05 00:13:29,641] Trial 482 finished with value: 0.3168996326992791 and parameters: {'x': 0.7423883653217066, 'y': 0.5010869258130976}. Best is trial 478 with value: 0.060437174928962445.\n",
      "[I 2024-02-05 00:13:29,655] Trial 483 finished with value: 0.040558458669567456 and parameters: {'x': 0.7986843641152778, 'y': 0.6384487408175759}. Best is trial 483 with value: 0.040558458669567456.\n",
      "[I 2024-02-05 00:13:29,669] Trial 484 finished with value: 0.03320811207684713 and parameters: {'x': 0.8224474245284402, 'y': 0.672317090132762}. Best is trial 484 with value: 0.03320811207684713.\n",
      "[I 2024-02-05 00:13:29,682] Trial 485 finished with value: 1.9282923686046836 and parameters: {'x': 0.9362152937620074, 'y': 0.7377826792670817}. Best is trial 484 with value: 0.03320811207684713.\n",
      "[I 2024-02-05 00:13:29,696] Trial 486 finished with value: 0.7958675853013071 and parameters: {'x': 0.8540044979106053, 'y': 0.81733236944726}. Best is trial 484 with value: 0.03320811207684713.\n",
      "[I 2024-02-05 00:13:29,710] Trial 487 finished with value: 0.28826675906653687 and parameters: {'x': 0.7883704701725899, 'y': 0.6708716605658803}. Best is trial 484 with value: 0.03320811207684713.\n",
      "[I 2024-02-05 00:13:29,724] Trial 488 finished with value: 29.921008406550495 and parameters: {'x': 1.087599392125095, 'y': 0.6359415942884711}. Best is trial 484 with value: 0.03320811207684713.\n",
      "[I 2024-02-05 00:13:29,738] Trial 489 finished with value: 0.08450514168811091 and parameters: {'x': 0.8823475143898843, 'y': 0.7519546166460414}. Best is trial 484 with value: 0.03320811207684713.\n",
      "[I 2024-02-05 00:13:29,752] Trial 490 finished with value: 8.326319854796674 and parameters: {'x': 1.051771790025485, 'y': 0.8177167140405034}. Best is trial 484 with value: 0.03320811207684713.\n",
      "[I 2024-02-05 00:13:29,766] Trial 491 finished with value: 0.8383982860011516 and parameters: {'x': 0.9923607865988415, 'y': 0.8932190259987143}. Best is trial 484 with value: 0.03320811207684713.\n",
      "[I 2024-02-05 00:13:29,780] Trial 492 finished with value: 0.6221126449520762 and parameters: {'x': 0.8985341458578578, 'y': 0.7291448587002988}. Best is trial 484 with value: 0.03320811207684713.\n",
      "[I 2024-02-05 00:13:29,794] Trial 493 finished with value: 1.1375837358556407 and parameters: {'x': 0.8915012483724941, 'y': 0.6886701989919509}. Best is trial 484 with value: 0.03320811207684713.\n",
      "[I 2024-02-05 00:13:29,808] Trial 494 finished with value: 1.236640529187923 and parameters: {'x': 0.8214855081315863, 'y': 0.784600596817465}. Best is trial 484 with value: 0.03320811207684713.\n",
      "[I 2024-02-05 00:13:29,822] Trial 495 finished with value: 8.396590929258108 and parameters: {'x': 0.9498683165455837, 'y': 0.6125244704975656}. Best is trial 484 with value: 0.03320811207684713.\n",
      "[I 2024-02-05 00:13:29,836] Trial 496 finished with value: 0.3601925833921038 and parameters: {'x': 0.7445334947656119, 'y': 0.6086375320662669}. Best is trial 484 with value: 0.03320811207684713.\n",
      "[I 2024-02-05 00:13:29,849] Trial 497 finished with value: 11.341681213427336 and parameters: {'x': 0.8315182084156381, 'y': 1.027774951749494}. Best is trial 484 with value: 0.03320811207684713.\n",
      "[I 2024-02-05 00:13:29,863] Trial 498 finished with value: 2.7691159589485026 and parameters: {'x': 0.7334597070310944, 'y': 0.7022212384779256}. Best is trial 484 with value: 0.03320811207684713.\n",
      "[I 2024-02-05 00:13:29,877] Trial 499 finished with value: 4.288974519151786 and parameters: {'x': 0.815805151963684, 'y': 0.8718156932594933}. Best is trial 484 with value: 0.03320811207684713.\n",
      "[I 2024-02-05 00:13:29,891] Trial 500 finished with value: 0.7650600986472211 and parameters: {'x': 0.696719032001908, 'y': 0.5674589083879462}. Best is trial 484 with value: 0.03320811207684713.\n",
      "[I 2024-02-05 00:13:29,905] Trial 501 finished with value: 0.1942978966497611 and parameters: {'x': 0.881436143088896, 'y': 0.7344749327373225}. Best is trial 484 with value: 0.03320811207684713.\n",
      "[I 2024-02-05 00:13:29,919] Trial 502 finished with value: 17.905137242376195 and parameters: {'x': 0.9713333813180467, 'y': 0.5203536245753335}. Best is trial 484 with value: 0.03320811207684713.\n",
      "[I 2024-02-05 00:13:29,933] Trial 503 finished with value: 0.08334950138685532 and parameters: {'x': 0.7861994332613897, 'y': 0.637510275405973}. Best is trial 484 with value: 0.03320811207684713.\n",
      "[I 2024-02-05 00:13:29,948] Trial 504 finished with value: 0.04087808668547327 and parameters: {'x': 0.8009245883981508, 'y': 0.6379488124628906}. Best is trial 484 with value: 0.03320811207684713.\n",
      "[I 2024-02-05 00:13:29,961] Trial 505 finished with value: 0.17155983181725692 and parameters: {'x': 0.8629702216160481, 'y': 0.783805027416227}. Best is trial 484 with value: 0.03320811207684713.\n",
      "[I 2024-02-05 00:13:29,976] Trial 506 finished with value: 0.24691596209126732 and parameters: {'x': 0.7933022404573332, 'y': 0.6745160534465888}. Best is trial 484 with value: 0.03320811207684713.\n",
      "[I 2024-02-05 00:13:29,990] Trial 507 finished with value: 4.83213416604048 and parameters: {'x': 0.9346941852647388, 'y': 0.6539290902822775}. Best is trial 484 with value: 0.03320811207684713.\n",
      "[I 2024-02-05 00:13:30,004] Trial 508 finished with value: 1.2232760692948617 and parameters: {'x': 1.0321921899667177, 'y': 0.9548657654340696}. Best is trial 484 with value: 0.03320811207684713.\n",
      "[I 2024-02-05 00:13:30,018] Trial 509 finished with value: 11.557205287717526 and parameters: {'x': 0.7187868748610867, 'y': 0.8554483799456141}. Best is trial 484 with value: 0.03320811207684713.\n",
      "[I 2024-02-05 00:13:30,032] Trial 510 finished with value: 0.918069118055483 and parameters: {'x': 0.7914757165142068, 'y': 0.71995315228297}. Best is trial 484 with value: 0.03320811207684713.\n",
      "[I 2024-02-05 00:13:30,046] Trial 511 finished with value: 2.785458010508418 and parameters: {'x': 0.88099723850442, 'y': 0.6096840238775874}. Best is trial 484 with value: 0.03320811207684713.\n",
      "[I 2024-02-05 00:13:30,059] Trial 512 finished with value: 18.72008215913482 and parameters: {'x': 0.5872784157076588, 'y': 0.7755900639729092}. Best is trial 484 with value: 0.03320811207684713.\n",
      "[I 2024-02-05 00:13:30,074] Trial 513 finished with value: 0.674536421706447 and parameters: {'x': 0.6816382354450442, 'y': 0.5403394819622137}. Best is trial 484 with value: 0.03320811207684713.\n",
      "[I 2024-02-05 00:13:30,088] Trial 514 finished with value: 0.5574429962754976 and parameters: {'x': 0.7553449119238108, 'y': 0.6410857746530092}. Best is trial 484 with value: 0.03320811207684713.\n",
      "[I 2024-02-05 00:13:30,102] Trial 515 finished with value: 1214.8248623209752 and parameters: {'x': -1.9971878966056456, 'y': 0.5162363093521701}. Best is trial 484 with value: 0.03320811207684713.\n",
      "[I 2024-02-05 00:13:30,116] Trial 516 finished with value: 0.17694231325285678 and parameters: {'x': 0.854308203764782, 'y': 0.6903816132434868}. Best is trial 484 with value: 0.03320811207684713.\n",
      "[I 2024-02-05 00:13:30,130] Trial 517 finished with value: 5.19203694035363 and parameters: {'x': 0.5947095781954188, 'y': 0.5779065239054635}. Best is trial 484 with value: 0.03320811207684713.\n",
      "[I 2024-02-05 00:13:30,144] Trial 518 finished with value: 22.463635085613202 and parameters: {'x': 0.9800815411268415, 'y': 0.4866058385560315}. Best is trial 484 with value: 0.03320811207684713.\n",
      "[I 2024-02-05 00:13:30,158] Trial 519 finished with value: 8.393994582932716 and parameters: {'x': 0.6882399197971908, 'y': 0.761715854940371}. Best is trial 484 with value: 0.03320811207684713.\n",
      "[I 2024-02-05 00:13:30,172] Trial 520 finished with value: 0.2024634384431852 and parameters: {'x': 0.7854003113255406, 'y': 0.6564024052766932}. Best is trial 484 with value: 0.03320811207684713.\n",
      "[I 2024-02-05 00:13:30,186] Trial 521 finished with value: 3.460112376191315 and parameters: {'x': 0.5788382604503066, 'y': 0.5162369309085963}. Best is trial 484 with value: 0.03320811207684713.\n",
      "[I 2024-02-05 00:13:30,200] Trial 522 finished with value: 22.895575699832673 and parameters: {'x': 0.917063501672559, 'y': 0.3625841325760442}. Best is trial 484 with value: 0.03320811207684713.\n",
      "[I 2024-02-05 00:13:30,213] Trial 523 finished with value: 16.363425300817283 and parameters: {'x': 0.6684776233755201, 'y': 0.8500188560885897}. Best is trial 484 with value: 0.03320811207684713.\n",
      "[I 2024-02-05 00:13:30,227] Trial 524 finished with value: 0.787002920418019 and parameters: {'x': 0.8126186368963599, 'y': 0.5736373920768009}. Best is trial 484 with value: 0.03320811207684713.\n",
      "[I 2024-02-05 00:13:30,242] Trial 525 finished with value: 1.1958863917597706 and parameters: {'x': 0.7329906634517775, 'y': 0.6433221139772866}. Best is trial 484 with value: 0.03320811207684713.\n",
      "[I 2024-02-05 00:13:30,256] Trial 526 finished with value: 0.26328644714432825 and parameters: {'x': 0.6367712551836056, 'y': 0.44172005492370353}. Best is trial 484 with value: 0.03320811207684713.\n",
      "[I 2024-02-05 00:13:30,270] Trial 527 finished with value: 0.052754055770090305 and parameters: {'x': 0.8676936464859334, 'y': 0.7341175245826501}. Best is trial 484 with value: 0.03320811207684713.\n",
      "[I 2024-02-05 00:13:30,284] Trial 528 finished with value: 13.479637479783726 and parameters: {'x': 1.0686666929526372, 'y': 0.7749664612255585}. Best is trial 484 with value: 0.03320811207684713.\n",
      "[I 2024-02-05 00:13:30,299] Trial 529 finished with value: 0.39250763549508916 and parameters: {'x': 0.8850524187828264, 'y': 0.8449046891816432}. Best is trial 484 with value: 0.03320811207684713.\n",
      "[I 2024-02-05 00:13:30,313] Trial 530 finished with value: 4.80082500007635 and parameters: {'x': 0.9775629741633034, 'y': 0.7365330065512065}. Best is trial 484 with value: 0.03320811207684713.\n",
      "[I 2024-02-05 00:13:30,327] Trial 531 finished with value: 0.1691303433422047 and parameters: {'x': 0.8464071249709868, 'y': 0.678255372175412}. Best is trial 484 with value: 0.03320811207684713.\n",
      "[I 2024-02-05 00:13:30,341] Trial 532 finished with value: 0.06275927256789979 and parameters: {'x': 0.7631042297952433, 'y': 0.5904764804858442}. Best is trial 484 with value: 0.03320811207684713.\n",
      "[I 2024-02-05 00:13:30,355] Trial 533 finished with value: 1.7650106355844442 and parameters: {'x': 0.9368223220463351, 'y': 0.7449326638590666}. Best is trial 484 with value: 0.03320811207684713.\n",
      "[I 2024-02-05 00:13:30,369] Trial 534 finished with value: 7.93209816876734 and parameters: {'x': 0.7913361148569144, 'y': 0.9070786073491598}. Best is trial 484 with value: 0.03320811207684713.\n",
      "[I 2024-02-05 00:13:30,383] Trial 535 finished with value: 25.70430150048715 and parameters: {'x': 1.0650866759908797, 'y': 0.6274573098414092}. Best is trial 484 with value: 0.03320811207684713.\n",
      "[I 2024-02-05 00:13:30,397] Trial 536 finished with value: 2.4605298709690473 and parameters: {'x': 0.866904277148618, 'y': 0.5952279394585533}. Best is trial 484 with value: 0.03320811207684713.\n",
      "[I 2024-02-05 00:13:30,411] Trial 537 finished with value: 1.0778922861918074 and parameters: {'x': 0.7703230914798961, 'y': 0.6946469024931331}. Best is trial 484 with value: 0.03320811207684713.\n",
      "[I 2024-02-05 00:13:30,425] Trial 538 finished with value: 0.1228980789190079 and parameters: {'x': 0.9145784279883102, 'y': 0.8024535194782207}. Best is trial 484 with value: 0.03320811207684713.\n",
      "[I 2024-02-05 00:13:30,440] Trial 539 finished with value: 33.802715426481875 and parameters: {'x': 1.174782376536836, 'y': 0.7989753823417506}. Best is trial 484 with value: 0.03320811207684713.\n",
      "[I 2024-02-05 00:13:30,454] Trial 540 finished with value: 0.17964824462824647 and parameters: {'x': 0.9365473542016576, 'y': 0.8352136672981009}. Best is trial 484 with value: 0.03320811207684713.\n",
      "[I 2024-02-05 00:13:30,468] Trial 541 finished with value: 1.3802033691950277 and parameters: {'x': 1.0177259205400728, 'y': 0.9182973658130159}. Best is trial 484 with value: 0.03320811207684713.\n",
      "[I 2024-02-05 00:13:30,483] Trial 542 finished with value: 0.058722559293806265 and parameters: {'x': 0.8739941573744454, 'y': 0.7431667323351288}. Best is trial 484 with value: 0.03320811207684713.\n",
      "[I 2024-02-05 00:13:30,497] Trial 543 finished with value: 1.648666531131979 and parameters: {'x': 0.9253700672997683, 'y': 0.9844931029725773}. Best is trial 484 with value: 0.03320811207684713.\n",
      "[I 2024-02-05 00:13:30,511] Trial 544 finished with value: 11.495538213589132 and parameters: {'x': 1.0609957512315358, 'y': 0.786716147402941}. Best is trial 484 with value: 0.03320811207684713.\n",
      "[I 2024-02-05 00:13:30,525] Trial 545 finished with value: 6.944801971134801 and parameters: {'x': 0.9988956567607026, 'y': 0.7342626343825394}. Best is trial 484 with value: 0.03320811207684713.\n",
      "[I 2024-02-05 00:13:30,539] Trial 546 finished with value: 0.9994943562887703 and parameters: {'x': 0.8690548382102293, 'y': 0.8543697680620956}. Best is trial 484 with value: 0.03320811207684713.\n",
      "[I 2024-02-05 00:13:30,554] Trial 547 finished with value: 0.029830500291966676 and parameters: {'x': 0.836829852159196, 'y': 0.6946220436203052}. Best is trial 547 with value: 0.029830500291966676.\n",
      "[I 2024-02-05 00:13:30,568] Trial 548 finished with value: 2.344259847634285 and parameters: {'x': 0.932411136680852, 'y': 0.7164300233228206}. Best is trial 547 with value: 0.029830500291966676.\n",
      "[I 2024-02-05 00:13:30,583] Trial 549 finished with value: 14.235084892935184 and parameters: {'x': 0.8349416610566883, 'y': 1.074060471099605}. Best is trial 547 with value: 0.029830500291966676.\n",
      "[I 2024-02-05 00:13:30,596] Trial 550 finished with value: 2.9761272057453154 and parameters: {'x': 0.8808404534520922, 'y': 0.947982438068422}. Best is trial 547 with value: 0.029830500291966676.\n",
      "[I 2024-02-05 00:13:30,610] Trial 551 finished with value: 1.9769010646622331 and parameters: {'x': 0.977903907132529, 'y': 0.8157111012047984}. Best is trial 547 with value: 0.029830500291966676.\n",
      "[I 2024-02-05 00:13:30,625] Trial 552 finished with value: 0.46375324553378283 and parameters: {'x': 0.8561163649108744, 'y': 0.666373173126973}. Best is trial 547 with value: 0.029830500291966676.\n",
      "[I 2024-02-05 00:13:30,639] Trial 553 finished with value: 516.8844775968375 and parameters: {'x': 1.1168588200580563, 'y': -1.0261056955444374}. Best is trial 547 with value: 0.029830500291966676.\n",
      "[I 2024-02-05 00:13:30,654] Trial 554 finished with value: 1.0047807354468448 and parameters: {'x': 0.8067719179924232, 'y': 0.7492396407358428}. Best is trial 547 with value: 0.029830500291966676.\n",
      "[I 2024-02-05 00:13:30,667] Trial 555 finished with value: 7.732922580800734 and parameters: {'x': 0.9790759212481824, 'y': 0.6805162022994143}. Best is trial 547 with value: 0.029830500291966676.\n",
      "[I 2024-02-05 00:13:30,681] Trial 556 finished with value: 6.567239321413136 and parameters: {'x': 0.7832763711061516, 'y': 0.8688700709048149}. Best is trial 547 with value: 0.029830500291966676.\n",
      "[I 2024-02-05 00:13:30,695] Trial 557 finished with value: 4.297416073525277 and parameters: {'x': 0.9118958339941784, 'y': 0.6244392195022025}. Best is trial 547 with value: 0.029830500291966676.\n",
      "[I 2024-02-05 00:13:30,709] Trial 558 finished with value: 4.090681492903434 and parameters: {'x': 0.747256706364903, 'y': 0.7590615245184659}. Best is trial 547 with value: 0.029830500291966676.\n",
      "[I 2024-02-05 00:13:30,723] Trial 559 finished with value: 0.6764416842067074 and parameters: {'x': 0.8255311715920352, 'y': 0.6011274462457183}. Best is trial 547 with value: 0.029830500291966676.\n",
      "[I 2024-02-05 00:13:30,738] Trial 560 finished with value: 1.703347744040519 and parameters: {'x': 0.9057542179302744, 'y': 0.6902190675016404}. Best is trial 547 with value: 0.029830500291966676.\n",
      "[I 2024-02-05 00:13:30,752] Trial 561 finished with value: 6.644633543774777 and parameters: {'x': 0.7226729037029948, 'y': 0.7785318215398227}. Best is trial 547 with value: 0.029830500291966676.\n",
      "[I 2024-02-05 00:13:30,767] Trial 562 finished with value: 28.591562039839445 and parameters: {'x': 1.0630035929261754, 'y': 0.5953029756063696}. Best is trial 547 with value: 0.029830500291966676.\n",
      "[I 2024-02-05 00:13:30,782] Trial 563 finished with value: 41.13150052184478 and parameters: {'x': 1.237375940882334, 'y': 0.8902002162312865}. Best is trial 547 with value: 0.029830500291966676.\n",
      "[I 2024-02-05 00:13:30,797] Trial 564 finished with value: 0.06709121679446915 and parameters: {'x': 0.8332046572739756, 'y': 0.6744132074087926}. Best is trial 547 with value: 0.029830500291966676.\n",
      "[I 2024-02-05 00:13:30,811] Trial 565 finished with value: 8.746110473802856 and parameters: {'x': 0.992092781423128, 'y': 0.6885109071841455}. Best is trial 547 with value: 0.029830500291966676.\n",
      "[I 2024-02-05 00:13:30,825] Trial 566 finished with value: 1.910641157536889 and parameters: {'x': 0.821251014048179, 'y': 0.8115185394255577}. Best is trial 547 with value: 0.029830500291966676.\n",
      "[I 2024-02-05 00:13:30,840] Trial 567 finished with value: 1.9687045512264891 and parameters: {'x': 0.8945715734663049, 'y': 0.6603444194664878}. Best is trial 547 with value: 0.029830500291966676.\n",
      "[I 2024-02-05 00:13:30,855] Trial 568 finished with value: 0.17702378741545452 and parameters: {'x': 0.828844434221957, 'y': 0.7254186993906524}. Best is trial 547 with value: 0.029830500291966676.\n",
      "[I 2024-02-05 00:13:30,869] Trial 569 finished with value: 12.261859244662597 and parameters: {'x': 0.9561982456901743, 'y': 0.5641731045590286}. Best is trial 547 with value: 0.029830500291966676.\n",
      "[I 2024-02-05 00:13:30,884] Trial 570 finished with value: 4.413107344990146 and parameters: {'x': 0.7583026377035654, 'y': 0.7837018238812343}. Best is trial 547 with value: 0.029830500291966676.\n",
      "[I 2024-02-05 00:13:30,898] Trial 571 finished with value: 5.034113587047471 and parameters: {'x': 0.8762462481755442, 'y': 0.9918342402181847}. Best is trial 547 with value: 0.029830500291966676.\n",
      "[I 2024-02-05 00:13:30,913] Trial 572 finished with value: 0.19008441049593555 and parameters: {'x': 0.7699572459256375, 'y': 0.6298699191920135}. Best is trial 547 with value: 0.029830500291966676.\n",
      "[I 2024-02-05 00:13:30,927] Trial 573 finished with value: 988.4312376418123 and parameters: {'x': 1.9965995983857852, 'y': 0.8440572916576708}. Best is trial 547 with value: 0.029830500291966676.\n",
      "[I 2024-02-05 00:13:30,942] Trial 574 finished with value: 0.0878967287447976 and parameters: {'x': 0.8340490905923231, 'y': 0.7202055521575038}. Best is trial 547 with value: 0.029830500291966676.\n",
      "[I 2024-02-05 00:13:30,957] Trial 575 finished with value: 6.998945680796594 and parameters: {'x': 1.000154554229105, 'y': 0.7357539272006303}. Best is trial 547 with value: 0.029830500291966676.\n",
      "[I 2024-02-05 00:13:30,971] Trial 576 finished with value: 0.22804582643963808 and parameters: {'x': 0.9245126597706151, 'y': 0.9018773947154249}. Best is trial 547 with value: 0.029830500291966676.\n",
      "[I 2024-02-05 00:13:30,986] Trial 577 finished with value: 37.519095274604304 and parameters: {'x': 1.095592739100553, 'y': 0.5878697186330636}. Best is trial 547 with value: 0.029830500291966676.\n",
      "[I 2024-02-05 00:13:31,000] Trial 578 finished with value: 0.09945857185778348 and parameters: {'x': 0.844590711855574, 'y': 0.7407755049190248}. Best is trial 547 with value: 0.029830500291966676.\n",
      "[I 2024-02-05 00:13:31,014] Trial 579 finished with value: 415.1659221284915 and parameters: {'x': 0.8662645458799948, 'y': -1.2871039253211904}. Best is trial 547 with value: 0.029830500291966676.\n",
      "[I 2024-02-05 00:13:31,028] Trial 580 finished with value: 0.3971288447852811 and parameters: {'x': 0.9456295230885581, 'y': 0.8314320207555723}. Best is trial 547 with value: 0.029830500291966676.\n",
      "[I 2024-02-05 00:13:31,043] Trial 581 finished with value: 0.5616893708419565 and parameters: {'x': 0.825864202329635, 'y': 0.7549465429784569}. Best is trial 547 with value: 0.029830500291966676.\n",
      "[I 2024-02-05 00:13:31,057] Trial 582 finished with value: 10.543171332526672 and parameters: {'x': 1.0086240431164801, 'y': 0.6926211058989311}. Best is trial 547 with value: 0.029830500291966676.\n",
      "[I 2024-02-05 00:13:31,072] Trial 583 finished with value: 0.0666547962622257 and parameters: {'x': 0.8828560474444048, 'y': 0.8024417756779789}. Best is trial 547 with value: 0.029830500291966676.\n",
      "[I 2024-02-05 00:13:31,086] Trial 584 finished with value: 0.36998189587931335 and parameters: {'x': 0.9185728151002915, 'y': 0.9040546620672146}. Best is trial 547 with value: 0.029830500291966676.\n",
      "[I 2024-02-05 00:13:31,100] Trial 585 finished with value: 7.19612530877117 and parameters: {'x': 1.0412197300169106, 'y': 0.8159142498212615}. Best is trial 547 with value: 0.029830500291966676.\n",
      "[I 2024-02-05 00:13:31,115] Trial 586 finished with value: 11.864021534740955 and parameters: {'x': 1.1384330282336395, 'y': 0.951866167401287}. Best is trial 547 with value: 0.029830500291966676.\n",
      "[I 2024-02-05 00:13:31,129] Trial 587 finished with value: 0.6172239979679587 and parameters: {'x': 0.9246510349740684, 'y': 0.7767780958628907}. Best is trial 547 with value: 0.029830500291966676.\n",
      "[I 2024-02-05 00:13:31,144] Trial 588 finished with value: 114.14520162362322 and parameters: {'x': 1.4494229505777425, 'y': 1.0333849913123694}. Best is trial 547 with value: 0.029830500291966676.\n",
      "[I 2024-02-05 00:13:31,158] Trial 589 finished with value: 1.438028203731159 and parameters: {'x': 0.8599558459729583, 'y': 0.8586213214187698}. Best is trial 547 with value: 0.029830500291966676.\n",
      "[I 2024-02-05 00:13:31,174] Trial 590 finished with value: 0.13030312014054615 and parameters: {'x': 0.8235810077270248, 'y': 0.7097784467774475}. Best is trial 547 with value: 0.029830500291966676.\n",
      "[I 2024-02-05 00:13:31,189] Trial 591 finished with value: 0.0683966304516539 and parameters: {'x': 0.8423348575102332, 'y': 0.7303938534719101}. Best is trial 547 with value: 0.029830500291966676.\n",
      "[I 2024-02-05 00:13:31,204] Trial 592 finished with value: 6.211662120254992 and parameters: {'x': 1.0106354916339593, 'y': 0.7721543032542623}. Best is trial 547 with value: 0.029830500291966676.\n",
      "[I 2024-02-05 00:13:31,218] Trial 593 finished with value: 0.15211050490175065 and parameters: {'x': 0.9312572504145346, 'y': 0.9056308126368625}. Best is trial 547 with value: 0.029830500291966676.\n",
      "[I 2024-02-05 00:13:31,233] Trial 594 finished with value: 0.3416498164904114 and parameters: {'x': 0.8735922250518942, 'y': 0.8202309576177096}. Best is trial 547 with value: 0.029830500291966676.\n",
      "[I 2024-02-05 00:13:31,248] Trial 595 finished with value: 6.820287135080788 and parameters: {'x': 0.9827306014583449, 'y': 0.7046083503626661}. Best is trial 547 with value: 0.029830500291966676.\n",
      "[I 2024-02-05 00:13:31,262] Trial 596 finished with value: 0.24852286770098747 and parameters: {'x': 0.7913821858585295, 'y': 0.6715628527068792}. Best is trial 547 with value: 0.029830500291966676.\n",
      "[I 2024-02-05 00:13:31,277] Trial 597 finished with value: 0.04191237409095776 and parameters: {'x': 0.8673405391316549, 'y': 0.7678725071310732}. Best is trial 547 with value: 0.029830500291966676.\n",
      "[I 2024-02-05 00:13:31,292] Trial 598 finished with value: 0.40730295767056984 and parameters: {'x': 0.8283192006985811, 'y': 0.747580467102614}. Best is trial 547 with value: 0.029830500291966676.\n",
      "[I 2024-02-05 00:13:31,307] Trial 599 finished with value: 0.7434900683710137 and parameters: {'x': 0.7459936960014759, 'y': 0.6389062829381608}. Best is trial 547 with value: 0.029830500291966676.\n",
      "[I 2024-02-05 00:13:31,322] Trial 600 finished with value: 0.03232790615395328 and parameters: {'x': 0.8649028263758672, 'y': 0.7361923890397915}. Best is trial 547 with value: 0.029830500291966676.\n",
      "[I 2024-02-05 00:13:31,337] Trial 601 finished with value: 0.8589543541857719 and parameters: {'x': 0.8672777398140645, 'y': 0.8438952197222039}. Best is trial 547 with value: 0.029830500291966676.\n",
      "[I 2024-02-05 00:13:31,351] Trial 602 finished with value: 10.945217821405711 and parameters: {'x': 1.0346812824278302, 'y': 0.7397479589908319}. Best is trial 547 with value: 0.029830500291966676.\n",
      "[I 2024-02-05 00:13:31,367] Trial 603 finished with value: 0.04905784560498484 and parameters: {'x': 0.9658526910840738, 'y': 0.9547556176607923}. Best is trial 547 with value: 0.029830500291966676.\n",
      "[I 2024-02-05 00:13:31,382] Trial 604 finished with value: 3.4743594435070575 and parameters: {'x': 1.1158536116653148, 'y': 1.0590933349528888}. Best is trial 547 with value: 0.029830500291966676.\n",
      "[I 2024-02-05 00:13:31,397] Trial 605 finished with value: 1.0132340944944844 and parameters: {'x': 1.0420380718784665, 'y': 0.9852716327582296}. Best is trial 547 with value: 0.029830500291966676.\n",
      "[I 2024-02-05 00:13:31,412] Trial 606 finished with value: 18.95071503281032 and parameters: {'x': 1.178093124730664, 'y': 0.9529436667482607}. Best is trial 547 with value: 0.029830500291966676.\n",
      "[I 2024-02-05 00:13:31,427] Trial 607 finished with value: 5.829589476891198 and parameters: {'x': 0.9762450876815614, 'y': 1.1944882132931998}. Best is trial 547 with value: 0.029830500291966676.\n",
      "[I 2024-02-05 00:13:31,441] Trial 608 finished with value: 0.003937085505041107 and parameters: {'x': 0.9486043345760544, 'y': 0.8962507793470669}. Best is trial 608 with value: 0.003937085505041107.\n",
      "[I 2024-02-05 00:13:31,456] Trial 609 finished with value: 2.5589161069158823 and parameters: {'x': 1.0824368150392067, 'y': 1.0119158896267648}. Best is trial 608 with value: 0.003937085505041107.\n",
      "[I 2024-02-05 00:13:31,472] Trial 610 finished with value: 0.10933344112834344 and parameters: {'x': 0.9786143425026145, 'y': 0.924689653553383}. Best is trial 608 with value: 0.003937085505041107.\n",
      "[I 2024-02-05 00:13:31,488] Trial 611 finished with value: 23.552494943090775 and parameters: {'x': 1.1913246841942435, 'y': 0.9343226542648277}. Best is trial 608 with value: 0.003937085505041107.\n",
      "[I 2024-02-05 00:13:31,502] Trial 612 finished with value: 0.4257045644794986 and parameters: {'x': 1.0596306905138784, 'y': 1.187790175062927}. Best is trial 608 with value: 0.003937085505041107.\n",
      "[I 2024-02-05 00:13:31,517] Trial 613 finished with value: 1.025588982609788 and parameters: {'x': 0.9637700934137887, 'y': 1.0300593330873415}. Best is trial 608 with value: 0.003937085505041107.\n",
      "[I 2024-02-05 00:13:31,532] Trial 614 finished with value: 0.0017109933576239288 and parameters: {'x': 0.9591125336235817, 'y': 0.9192706856349298}. Best is trial 614 with value: 0.0017109933576239288.\n",
      "[I 2024-02-05 00:13:31,546] Trial 615 finished with value: 43.295885693282116 and parameters: {'x': 1.2606112241261047, 'y': 0.9316608679569826}. Best is trial 614 with value: 0.0017109933576239288.\n",
      "[I 2024-02-05 00:13:31,561] Trial 616 finished with value: 1.5969118524322323 and parameters: {'x': 1.1063530458656319, 'y': 1.098096417161848}. Best is trial 614 with value: 0.0017109933576239288.\n",
      "[I 2024-02-05 00:13:31,576] Trial 617 finished with value: 2.048002887822615 and parameters: {'x': 0.9921798092360089, 'y': 1.1275270886163091}. Best is trial 614 with value: 0.0017109933576239288.\n",
      "[I 2024-02-05 00:13:31,590] Trial 618 finished with value: 2.5444688963713387 and parameters: {'x': 1.0286338504368198, 'y': 0.8985993855658428}. Best is trial 614 with value: 0.0017109933576239288.\n",
      "[I 2024-02-05 00:13:31,604] Trial 619 finished with value: 0.3440197313966271 and parameters: {'x': 0.9509762670040917, 'y': 0.9628038205918372}. Best is trial 614 with value: 0.0017109933576239288.\n",
      "[I 2024-02-05 00:13:31,619] Trial 620 finished with value: 0.12171029874298446 and parameters: {'x': 0.9382970852181124, 'y': 0.8460644067102796}. Best is trial 614 with value: 0.0017109933576239288.\n",
      "[I 2024-02-05 00:13:31,632] Trial 621 finished with value: 6.111825585756673 and parameters: {'x': 1.1266992008382088, 'y': 1.0225548984685155}. Best is trial 614 with value: 0.0017109933576239288.\n",
      "[I 2024-02-05 00:13:31,647] Trial 622 finished with value: 0.4423370876708025 and parameters: {'x': 1.0315784169379316, 'y': 1.1305874474295177}. Best is trial 614 with value: 0.0017109933576239288.\n",
      "[I 2024-02-05 00:13:31,662] Trial 623 finished with value: 0.02878093081092568 and parameters: {'x': 0.9220311312277354, 'y': 0.865208518923644}. Best is trial 614 with value: 0.0017109933576239288.\n",
      "[I 2024-02-05 00:13:31,676] Trial 624 finished with value: 0.33130990752296574 and parameters: {'x': 0.9005788901586171, 'y': 0.8677367242855849}. Best is trial 614 with value: 0.0017109933576239288.\n",
      "[I 2024-02-05 00:13:31,690] Trial 625 finished with value: 0.34589129082971226 and parameters: {'x': 0.8839943724999696, 'y': 0.8391031390932611}. Best is trial 614 with value: 0.0017109933576239288.\n",
      "[I 2024-02-05 00:13:31,706] Trial 626 finished with value: 0.4790561217421455 and parameters: {'x': 0.897682434796463, 'y': 0.8742871859126675}. Best is trial 614 with value: 0.0017109933576239288.\n",
      "[I 2024-02-05 00:13:31,720] Trial 627 finished with value: 410.26634076388547 and parameters: {'x': 1.6765716399675954, 'y': 0.786519495392933}. Best is trial 614 with value: 0.0017109933576239288.\n",
      "[I 2024-02-05 00:13:31,735] Trial 628 finished with value: 0.7368364273601196 and parameters: {'x': 0.9460979506894786, 'y': 0.9807711050568023}. Best is trial 614 with value: 0.0017109933576239288.\n",
      "[I 2024-02-05 00:13:31,750] Trial 629 finished with value: 0.479466639907095 and parameters: {'x': 0.8649106846133299, 'y': 0.8159834894041852}. Best is trial 614 with value: 0.0017109933576239288.\n",
      "[I 2024-02-05 00:13:31,765] Trial 630 finished with value: 7.967901482400315 and parameters: {'x': 1.0824174635778832, 'y': 0.889473195580864}. Best is trial 614 with value: 0.0017109933576239288.\n",
      "[I 2024-02-05 00:13:31,780] Trial 631 finished with value: 3.7447829648931767 and parameters: {'x': 0.9835091715874731, 'y': 0.7737829001054758}. Best is trial 614 with value: 0.0017109933576239288.\n",
      "[I 2024-02-05 00:13:31,795] Trial 632 finished with value: 0.24750294177413848 and parameters: {'x': 0.842194401336405, 'y': 0.7564719495719543}. Best is trial 614 with value: 0.0017109933576239288.\n",
      "[I 2024-02-05 00:13:31,809] Trial 633 finished with value: 0.5354389249262866 and parameters: {'x': 0.8964786414808016, 'y': 0.8761116694804101}. Best is trial 614 with value: 0.0017109933576239288.\n",
      "[I 2024-02-05 00:13:31,824] Trial 634 finished with value: 0.4963652295847415 and parameters: {'x': 1.025033090495973, 'y': 0.9802841316126304}. Best is trial 614 with value: 0.0017109933576239288.\n",
      "[I 2024-02-05 00:13:31,839] Trial 635 finished with value: 0.13270278605170582 and parameters: {'x': 0.9172971420608006, 'y': 0.8059568677820925}. Best is trial 614 with value: 0.0017109933576239288.\n",
      "[I 2024-02-05 00:13:31,853] Trial 636 finished with value: 0.17709907854881102 and parameters: {'x': 0.8415584277346105, 'y': 0.7472071678961325}. Best is trial 614 with value: 0.0017109933576239288.\n",
      "[I 2024-02-05 00:13:31,869] Trial 637 finished with value: 0.7638626181543429 and parameters: {'x': 0.8093732103174326, 'y': 0.7403800136692135}. Best is trial 614 with value: 0.0017109933576239288.\n",
      "[I 2024-02-05 00:13:31,884] Trial 638 finished with value: 0.06302635723464386 and parameters: {'x': 0.9500742916935575, 'y': 0.8780375460014793}. Best is trial 614 with value: 0.0017109933576239288.\n",
      "[I 2024-02-05 00:13:31,899] Trial 639 finished with value: 323.82500509822603 and parameters: {'x': -1.645993703319613, 'y': 0.9293409954937991}. Best is trial 614 with value: 0.0017109933576239288.\n",
      "[I 2024-02-05 00:13:31,915] Trial 640 finished with value: 1.6732947457750416 and parameters: {'x': 1.0764881327259237, 'y': 1.029697140490324}. Best is trial 614 with value: 0.0017109933576239288.\n",
      "[I 2024-02-05 00:13:31,930] Trial 641 finished with value: 31.89657059680234 and parameters: {'x': 1.191476246821805, 'y': 0.8551698349596264}. Best is trial 614 with value: 0.0017109933576239288.\n",
      "[I 2024-02-05 00:13:31,945] Trial 642 finished with value: 0.35470639015247196 and parameters: {'x': 1.0127803292703053, 'y': 1.0852675133362597}. Best is trial 614 with value: 0.0017109933576239288.\n",
      "[I 2024-02-05 00:13:31,960] Trial 643 finished with value: 0.06710786235834798 and parameters: {'x': 0.9574523312395364, 'y': 0.9422683535029279}. Best is trial 614 with value: 0.0017109933576239288.\n",
      "[I 2024-02-05 00:13:31,974] Trial 644 finished with value: 0.014143240173964799 and parameters: {'x': 0.975940707679524, 'y': 0.9641068912960866}. Best is trial 614 with value: 0.0017109933576239288.\n",
      "[I 2024-02-05 00:13:31,990] Trial 645 finished with value: 2.892091514689375 and parameters: {'x': 1.134589430474707, 'y': 1.1177650895794158}. Best is trial 614 with value: 0.0017109933576239288.\n",
      "[I 2024-02-05 00:13:32,005] Trial 646 finished with value: 1.249668568182946 and parameters: {'x': 1.0425087941047027, 'y': 0.9751168613165291}. Best is trial 614 with value: 0.0017109933576239288.\n",
      "[I 2024-02-05 00:13:32,020] Trial 647 finished with value: 0.5923267206505309 and parameters: {'x': 0.9850649007314756, 'y': 1.0473011311132763}. Best is trial 614 with value: 0.0017109933576239288.\n",
      "[I 2024-02-05 00:13:32,035] Trial 648 finished with value: 0.010714148596477752 and parameters: {'x': 0.9574015923500058, 'y': 0.9260515380224642}. Best is trial 614 with value: 0.0017109933576239288.\n",
      "[I 2024-02-05 00:13:32,050] Trial 649 finished with value: 19.983813182340274 and parameters: {'x': 1.2022273187132024, 'y': 0.9987755904474052}. Best is trial 614 with value: 0.0017109933576239288.\n",
      "[I 2024-02-05 00:13:32,066] Trial 650 finished with value: 40.51307170632573 and parameters: {'x': -1.3169522228042658, 'y': 1.1415326239984491}. Best is trial 614 with value: 0.0017109933576239288.\n",
      "[I 2024-02-05 00:13:32,080] Trial 651 finished with value: 8.104044938667313 and parameters: {'x': 1.1032574409230032, 'y': 0.9326882669480374}. Best is trial 614 with value: 0.0017109933576239288.\n",
      "[I 2024-02-05 00:13:32,095] Trial 652 finished with value: 0.6726205215794648 and parameters: {'x': 0.970564098169999, 'y': 1.0239552719524514}. Best is trial 614 with value: 0.0017109933576239288.\n",
      "[I 2024-02-05 00:13:32,110] Trial 653 finished with value: 1.9245034526819562 and parameters: {'x': 1.069694852325767, 'y': 1.2827983701299221}. Best is trial 614 with value: 0.0017109933576239288.\n",
      "[I 2024-02-05 00:13:32,125] Trial 654 finished with value: 0.646242613888382 and parameters: {'x': 0.9893506576566504, 'y': 1.0591968863416246}. Best is trial 614 with value: 0.0017109933576239288.\n",
      "[I 2024-02-05 00:13:32,140] Trial 655 finished with value: 11.6719466499647 and parameters: {'x': 1.1317314481975989, 'y': 0.939427824475848}. Best is trial 614 with value: 0.0017109933576239288.\n",
      "[I 2024-02-05 00:13:32,155] Trial 656 finished with value: 0.04988157234815978 and parameters: {'x': 0.9440392225297836, 'y': 0.9128317935984022}. Best is trial 614 with value: 0.0017109933576239288.\n",
      "[I 2024-02-05 00:13:32,170] Trial 657 finished with value: 3.735168103711518 and parameters: {'x': 1.0623541403285575, 'y': 0.9354311035337273}. Best is trial 614 with value: 0.0017109933576239288.\n",
      "[I 2024-02-05 00:13:32,185] Trial 658 finished with value: 0.00786768747505231 and parameters: {'x': 0.9552243438146144, 'y': 0.9047966363542986}. Best is trial 614 with value: 0.0017109933576239288.\n",
      "[I 2024-02-05 00:13:32,200] Trial 659 finished with value: 60.34333720129112 and parameters: {'x': 0.9696126626917168, 'y': 1.7169525120577669}. Best is trial 614 with value: 0.0017109933576239288.\n",
      "[I 2024-02-05 00:13:32,214] Trial 660 finished with value: 45.745923372475545 and parameters: {'x': 1.3127557659142868, 'y': 1.0476938710942767}. Best is trial 614 with value: 0.0017109933576239288.\n",
      "[I 2024-02-05 00:13:32,230] Trial 661 finished with value: 14.23414299488024 and parameters: {'x': 1.1603850672550102, 'y': 0.9695529304100632}. Best is trial 614 with value: 0.0017109933576239288.\n",
      "[I 2024-02-05 00:13:32,245] Trial 662 finished with value: 2.6736537079118294 and parameters: {'x': 1.0297867739399809, 'y': 0.8969748231350884}. Best is trial 614 with value: 0.0017109933576239288.\n",
      "[I 2024-02-05 00:13:32,260] Trial 663 finished with value: 6.401531480791768 and parameters: {'x': 0.9427452875736053, 'y': 1.1417163670655852}. Best is trial 614 with value: 0.0017109933576239288.\n",
      "[I 2024-02-05 00:13:32,275] Trial 664 finished with value: 8.835412812851477 and parameters: {'x': 1.0928241420096032, 'y': 0.8971653544089151}. Best is trial 614 with value: 0.0017109933576239288.\n",
      "[I 2024-02-05 00:13:32,290] Trial 665 finished with value: 1.1856977727233717 and parameters: {'x': 0.9349638191739521, 'y': 0.9828527003746178}. Best is trial 614 with value: 0.0017109933576239288.\n",
      "[I 2024-02-05 00:13:32,305] Trial 666 finished with value: 3.3535287914460774 and parameters: {'x': 1.033245571534814, 'y': 0.8845001652740754}. Best is trial 614 with value: 0.0017109933576239288.\n",
      "[I 2024-02-05 00:13:32,320] Trial 667 finished with value: 3.996137654211065 and parameters: {'x': 0.9321575951667905, 'y': 1.0687060467052438}. Best is trial 614 with value: 0.0017109933576239288.\n",
      "[I 2024-02-05 00:13:32,335] Trial 668 finished with value: 0.926612206347529 and parameters: {'x': 0.9801095060449014, 'y': 0.8643744976116291}. Best is trial 614 with value: 0.0017109933576239288.\n",
      "[I 2024-02-05 00:13:32,351] Trial 669 finished with value: 1.517376124424059 and parameters: {'x': 0.9312200938284676, 'y': 0.9901605151101806}. Best is trial 614 with value: 0.0017109933576239288.\n",
      "[I 2024-02-05 00:13:32,366] Trial 670 finished with value: 898.824040633709 and parameters: {'x': 1.5672244570280585, 'y': -0.5413102903644675}. Best is trial 614 with value: 0.0017109933576239288.\n",
      "[I 2024-02-05 00:13:32,381] Trial 671 finished with value: 7.359185334669398 and parameters: {'x': 1.0598567120394902, 'y': 0.8520841096798943}. Best is trial 614 with value: 0.0017109933576239288.\n",
      "[I 2024-02-05 00:13:32,396] Trial 672 finished with value: 23.05229340837502 and parameters: {'x': 1.1493244380138252, 'y': 0.8410508874165141}. Best is trial 614 with value: 0.0017109933576239288.\n",
      "[I 2024-02-05 00:13:32,411] Trial 673 finished with value: 1.326187183205657 and parameters: {'x': 0.911299883463039, 'y': 0.9452855716673643}. Best is trial 614 with value: 0.0017109933576239288.\n",
      "[I 2024-02-05 00:13:32,426] Trial 674 finished with value: 0.00835174821645762 and parameters: {'x': 0.9920360634584023, 'y': 0.993239574450706}. Best is trial 614 with value: 0.0017109933576239288.\n",
      "[I 2024-02-05 00:13:32,442] Trial 675 finished with value: 0.07446433336853718 and parameters: {'x': 1.033695505355008, 'y': 1.0956057157824481}. Best is trial 614 with value: 0.0017109933576239288.\n",
      "[I 2024-02-05 00:13:32,457] Trial 676 finished with value: 9.489450604436222 and parameters: {'x': 1.1556798355989257, 'y': 1.027939996829591}. Best is trial 614 with value: 0.0017109933576239288.\n",
      "[I 2024-02-05 00:13:32,473] Trial 677 finished with value: 7.438324225846146 and parameters: {'x': 1.2107928598414064, 'y': 1.1941022555321952}. Best is trial 614 with value: 0.0017109933576239288.\n",
      "[I 2024-02-05 00:13:32,489] Trial 678 finished with value: 0.02095508067536295 and parameters: {'x': 0.9799785273839305, 'y': 0.9746946575956213}. Best is trial 614 with value: 0.0017109933576239288.\n",
      "[I 2024-02-05 00:13:32,505] Trial 679 finished with value: 11.594849581904771 and parameters: {'x': 1.2378303734948934, 'y': 1.1925435028217093}. Best is trial 614 with value: 0.0017109933576239288.\n",
      "[I 2024-02-05 00:13:32,520] Trial 680 finished with value: 1.5489248381922376 and parameters: {'x': 1.0921123845252265, 'y': 1.0685949912201007}. Best is trial 614 with value: 0.0017109933576239288.\n",
      "[I 2024-02-05 00:13:32,534] Trial 681 finished with value: 0.650387689453839 and parameters: {'x': 1.0084259737081498, 'y': 0.9362807289277733}. Best is trial 614 with value: 0.0017109933576239288.\n",
      "[I 2024-02-05 00:13:32,550] Trial 682 finished with value: 0.001998889447165422 and parameters: {'x': 0.9897378216208628, 'y': 0.9752294303635214}. Best is trial 614 with value: 0.0017109933576239288.\n",
      "[I 2024-02-05 00:13:32,565] Trial 683 finished with value: 4.096715557390969 and parameters: {'x': 1.110741539409767, 'y': 1.0316464984729794}. Best is trial 614 with value: 0.0017109933576239288.\n",
      "[I 2024-02-05 00:13:32,581] Trial 684 finished with value: 0.6875991218247405 and parameters: {'x': 1.0398125436185088, 'y': 0.9983841587307561}. Best is trial 614 with value: 0.0017109933576239288.\n",
      "[I 2024-02-05 00:13:32,597] Trial 685 finished with value: 2.496697049701881 and parameters: {'x': 0.9974751601515339, 'y': 1.1529658934239086}. Best is trial 614 with value: 0.0017109933576239288.\n",
      "[I 2024-02-05 00:13:32,612] Trial 686 finished with value: 5.75092496792504 and parameters: {'x': 0.9149001966900268, 'y': 1.0767021911376657}. Best is trial 614 with value: 0.0017109933576239288.\n",
      "[I 2024-02-05 00:13:32,627] Trial 687 finished with value: 3.2191775658139585 and parameters: {'x': 1.0477068433907097, 'y': 0.9183323989188584}. Best is trial 614 with value: 0.0017109933576239288.\n",
      "[I 2024-02-05 00:13:32,643] Trial 688 finished with value: 0.020370968468192047 and parameters: {'x': 0.9703737303634362, 'y': 0.9555870004630319}. Best is trial 614 with value: 0.0017109933576239288.\n",
      "[I 2024-02-05 00:13:32,657] Trial 689 finished with value: 2.6851972503656083 and parameters: {'x': 1.1048845465631962, 'y': 1.384299567473052}. Best is trial 614 with value: 0.0017109933576239288.\n",
      "[I 2024-02-05 00:13:32,673] Trial 690 finished with value: 11.381558141098543 and parameters: {'x': 1.268054492024262, 'y': 1.2716631473103577}. Best is trial 614 with value: 0.0017109933576239288.\n",
      "[I 2024-02-05 00:13:32,689] Trial 691 finished with value: 0.06885171515241685 and parameters: {'x': 0.9837223471606893, 'y': 0.9938987290571504}. Best is trial 614 with value: 0.0017109933576239288.\n",
      "[I 2024-02-05 00:13:32,705] Trial 692 finished with value: 6.104896514136502 and parameters: {'x': 1.145966089922442, 'y': 1.0665889246061218}. Best is trial 614 with value: 0.0017109933576239288.\n",
      "[I 2024-02-05 00:13:32,720] Trial 693 finished with value: 90.58163971173643 and parameters: {'x': -0.18117510825430777, 'y': 0.9772102788904571}. Best is trial 614 with value: 0.0017109933576239288.\n",
      "[I 2024-02-05 00:13:32,736] Trial 694 finished with value: 0.16879139065133053 and parameters: {'x': 0.9604588267637562, 'y': 0.881587651544878}. Best is trial 614 with value: 0.0017109933576239288.\n",
      "[I 2024-02-05 00:13:32,752] Trial 695 finished with value: 2.7728560139581324 and parameters: {'x': 1.0315859837923058, 'y': 0.8976806531440854}. Best is trial 614 with value: 0.0017109933576239288.\n",
      "[I 2024-02-05 00:13:32,769] Trial 696 finished with value: 2.171185108692655 and parameters: {'x': 0.9369898130487868, 'y': 1.025164543032328}. Best is trial 614 with value: 0.0017109933576239288.\n",
      "[I 2024-02-05 00:13:32,784] Trial 697 finished with value: 4.197043996075857 and parameters: {'x': 1.0778177343400688, 'y': 0.9569720318175422}. Best is trial 614 with value: 0.0017109933576239288.\n",
      "[I 2024-02-05 00:13:32,800] Trial 698 finished with value: 8.80335863302575 and parameters: {'x': 0.909333085407231, 'y': 1.1234526418058965}. Best is trial 614 with value: 0.0017109933576239288.\n",
      "[I 2024-02-05 00:13:32,816] Trial 699 finished with value: 1.5723721795203067 and parameters: {'x': 0.9870936952550441, 'y': 0.8489663399467163}. Best is trial 614 with value: 0.0017109933576239288.\n",
      "[I 2024-02-05 00:13:32,832] Trial 700 finished with value: 31.828212209946148 and parameters: {'x': 1.1851111117123756, 'y': 0.8406271400126568}. Best is trial 614 with value: 0.0017109933576239288.\n",
      "[I 2024-02-05 00:13:32,847] Trial 701 finished with value: 1.4432372799661048 and parameters: {'x': 0.9004939488658081, 'y': 0.9306113560097634}. Best is trial 614 with value: 0.0017109933576239288.\n",
      "[I 2024-02-05 00:13:32,862] Trial 702 finished with value: 0.002999737457625304 and parameters: {'x': 1.0543005770758473, 'y': 1.1108342713826431}. Best is trial 614 with value: 0.0017109933576239288.\n",
      "[I 2024-02-05 00:13:32,877] Trial 703 finished with value: 3.531061424628982 and parameters: {'x': 1.0986165095757574, 'y': 1.0193059980176262}. Best is trial 614 with value: 0.0017109933576239288.\n",
      "[I 2024-02-05 00:13:32,892] Trial 704 finished with value: 0.05572593293257966 and parameters: {'x': 1.0823295463033675, 'y': 1.1935613916972854}. Best is trial 614 with value: 0.0017109933576239288.\n",
      "[I 2024-02-05 00:13:32,908] Trial 705 finished with value: 17.153319726425707 and parameters: {'x': 1.3387444336740306, 'y': 1.3794586077374777}. Best is trial 614 with value: 0.0017109933576239288.\n",
      "[I 2024-02-05 00:13:32,924] Trial 706 finished with value: 3.477805803965804 and parameters: {'x': 1.2168256562938067, 'y': 1.2954406934408376}. Best is trial 614 with value: 0.0017109933576239288.\n",
      "[I 2024-02-05 00:13:32,939] Trial 707 finished with value: 2.1405898590796766 and parameters: {'x': 1.1692714005065814, 'y': 1.221870556793699}. Best is trial 614 with value: 0.0017109933576239288.\n",
      "[I 2024-02-05 00:13:32,955] Trial 708 finished with value: 0.28710410771802003 and parameters: {'x': 1.1141489277985892, 'y': 1.1889757435760877}. Best is trial 614 with value: 0.0017109933576239288.\n",
      "[I 2024-02-05 00:13:32,969] Trial 709 finished with value: 4.535310003732717 and parameters: {'x': -1.1282219086541945, 'y': 1.265150652115231}. Best is trial 614 with value: 0.0017109933576239288.\n",
      "[I 2024-02-05 00:13:32,985] Trial 710 finished with value: 59.24501912779427 and parameters: {'x': 1.3871416983574396, 'y': 1.1554284545322921}. Best is trial 614 with value: 0.0017109933576239288.\n",
      "[I 2024-02-05 00:13:33,000] Trial 711 finished with value: 28.731151883015894 and parameters: {'x': 1.2664572484509908, 'y': 1.0685621860501193}. Best is trial 614 with value: 0.0017109933576239288.\n",
      "[I 2024-02-05 00:13:33,016] Trial 712 finished with value: 11.630422975084741 and parameters: {'x': 1.0580584244725733, 'y': 1.4604722655332645}. Best is trial 614 with value: 0.0017109933576239288.\n",
      "[I 2024-02-05 00:13:33,031] Trial 713 finished with value: 0.45624590498904355 and parameters: {'x': 1.12255405753644, 'y': 1.3265524875502266}. Best is trial 614 with value: 0.0017109933576239288.\n",
      "[I 2024-02-05 00:13:33,047] Trial 714 finished with value: 0.12392555151908768 and parameters: {'x': 1.0414919320486353, 'y': 1.1196631290987493}. Best is trial 614 with value: 0.0017109933576239288.\n",
      "[I 2024-02-05 00:13:33,063] Trial 715 finished with value: 1.9913223965501858 and parameters: {'x': 1.0174452991979253, 'y': 1.1762983761548955}. Best is trial 614 with value: 0.0017109933576239288.\n",
      "[I 2024-02-05 00:13:33,078] Trial 716 finished with value: 4.535530961932446 and parameters: {'x': 1.1579475294556996, 'y': 1.1284611366913035}. Best is trial 614 with value: 0.0017109933576239288.\n",
      "[I 2024-02-05 00:13:33,094] Trial 717 finished with value: 0.261650708762158 and parameters: {'x': 1.0117155087479748, 'y': 1.074706656968563}. Best is trial 614 with value: 0.0017109933576239288.\n",
      "[I 2024-02-05 00:13:33,110] Trial 718 finished with value: 0.11145131260888429 and parameters: {'x': 0.9844565053379766, 'y': 1.0025027311465236}. Best is trial 614 with value: 0.0017109933576239288.\n",
      "[I 2024-02-05 00:13:33,126] Trial 719 finished with value: 2.0792408154825015 and parameters: {'x': 1.0868178174386318, 'y': 1.0372388346833326}. Best is trial 614 with value: 0.0017109933576239288.\n",
      "[I 2024-02-05 00:13:33,143] Trial 720 finished with value: 7.317556773947784 and parameters: {'x': 1.2093881530898938, 'y': 1.1929214776376864}. Best is trial 614 with value: 0.0017109933576239288.\n",
      "[I 2024-02-05 00:13:33,159] Trial 721 finished with value: 9.547033289217781 and parameters: {'x': 0.8952927776561581, 'y': 1.1103544311045284}. Best is trial 614 with value: 0.0017109933576239288.\n",
      "[I 2024-02-05 00:13:33,175] Trial 722 finished with value: 8.46986738311679 and parameters: {'x': 0.9741074049136941, 'y': 1.2399040837495108}. Best is trial 614 with value: 0.0017109933576239288.\n",
      "[I 2024-02-05 00:13:33,190] Trial 723 finished with value: 2.5609591155044784 and parameters: {'x': 0.8950646955950391, 'y': 0.9608263658608348}. Best is trial 614 with value: 0.0017109933576239288.\n",
      "[I 2024-02-05 00:13:33,206] Trial 724 finished with value: 2.6238721651771852 and parameters: {'x': 1.0715567088175828, 'y': 0.9864082011893575}. Best is trial 614 with value: 0.0017109933576239288.\n",
      "[I 2024-02-05 00:13:33,222] Trial 725 finished with value: 267.2525485717695 and parameters: {'x': 0.9825852151702036, 'y': -0.6693114346247775}. Best is trial 614 with value: 0.0017109933576239288.\n",
      "[I 2024-02-05 00:13:33,238] Trial 726 finished with value: 8.354333773832398 and parameters: {'x': 0.8964537187696657, 'y': 1.0924823803427048}. Best is trial 614 with value: 0.0017109933576239288.\n",
      "[I 2024-02-05 00:13:33,255] Trial 727 finished with value: 3.9799897468565173 and parameters: {'x': 1.0611402704878254, 'y': 0.9266132671500183}. Best is trial 614 with value: 0.0017109933576239288.\n",
      "[I 2024-02-05 00:13:33,270] Trial 728 finished with value: 22.81688791295419 and parameters: {'x': 1.148319994936938, 'y': 0.8411988764131424}. Best is trial 614 with value: 0.0017109933576239288.\n",
      "[I 2024-02-05 00:13:33,286] Trial 729 finished with value: 0.04968077065295492 and parameters: {'x': 0.9455478314199524, 'y': 0.9156745239298119}. Best is trial 614 with value: 0.0017109933576239288.\n",
      "[I 2024-02-05 00:13:33,303] Trial 730 finished with value: 0.06907945577845004 and parameters: {'x': 0.9980912501867525, 'y': 0.9699038659341759}. Best is trial 614 with value: 0.0017109933576239288.\n",
      "[I 2024-02-05 00:13:33,319] Trial 731 finished with value: 49.2327719189609 and parameters: {'x': 1.2637150695497068, 'y': 0.8958108443338775}. Best is trial 614 with value: 0.0017109933576239288.\n",
      "[I 2024-02-05 00:13:33,335] Trial 732 finished with value: 3.861142132536897 and parameters: {'x': 0.9395559308169419, 'y': 1.0791702515282031}. Best is trial 614 with value: 0.0017109933576239288.\n",
      "[I 2024-02-05 00:13:33,351] Trial 733 finished with value: 4.072397058007555 and parameters: {'x': 1.08271155968833, 'y': 0.9706320855703834}. Best is trial 614 with value: 0.0017109933576239288.\n",
      "[I 2024-02-05 00:13:33,367] Trial 734 finished with value: 3.7794144553619446 and parameters: {'x': 1.0149214551593253, 'y': 0.835664124820401}. Best is trial 614 with value: 0.0017109933576239288.\n",
      "[I 2024-02-05 00:13:33,383] Trial 735 finished with value: 4.68227045133401 and parameters: {'x': 0.8884237748988364, 'y': 1.0053944946151454}. Best is trial 614 with value: 0.0017109933576239288.\n",
      "[I 2024-02-05 00:13:33,399] Trial 736 finished with value: 0.016721657720306753 and parameters: {'x': 0.9576006419067986, 'y': 0.9292153522406699}. Best is trial 614 with value: 0.0017109933576239288.\n",
      "[I 2024-02-05 00:13:33,415] Trial 737 finished with value: 2.9723112012598576 and parameters: {'x': 1.142856596761701, 'y': 1.1343101652016918}. Best is trial 614 with value: 0.0017109933576239288.\n",
      "[I 2024-02-05 00:13:33,430] Trial 738 finished with value: 707.9129477541434 and parameters: {'x': 1.0599110939597296, 'y': -1.5372450806108553}. Best is trial 614 with value: 0.0017109933576239288.\n",
      "[I 2024-02-05 00:13:33,446] Trial 739 finished with value: 1.020848853330978 and parameters: {'x': 0.9637110528990752, 'y': 1.0297108690516728}. Best is trial 614 with value: 0.0017109933576239288.\n",
      "[I 2024-02-05 00:13:33,463] Trial 740 finished with value: 1.364596584901847 and parameters: {'x': 1.0130127659949923, 'y': 0.909386163501487}. Best is trial 614 with value: 0.0017109933576239288.\n",
      "[I 2024-02-05 00:13:33,480] Trial 741 finished with value: 31.15240353531171 and parameters: {'x': 1.2207189727636845, 'y': 0.9324480176934867}. Best is trial 614 with value: 0.0017109933576239288.\n",
      "[I 2024-02-05 00:13:33,496] Trial 742 finished with value: 2.0224171467880128 and parameters: {'x': 0.9590319373539281, 'y': 1.0618949481735422}. Best is trial 614 with value: 0.0017109933576239288.\n",
      "[I 2024-02-05 00:13:33,511] Trial 743 finished with value: 0.3673966464706943 and parameters: {'x': 1.1169407419496917, 'y': 1.1880821299117807}. Best is trial 614 with value: 0.0017109933576239288.\n",
      "[I 2024-02-05 00:13:33,527] Trial 744 finished with value: 0.2310074928705215 and parameters: {'x': 0.920499130251482, 'y': 0.8947198201484335}. Best is trial 614 with value: 0.0017109933576239288.\n",
      "[I 2024-02-05 00:13:33,543] Trial 745 finished with value: 2.7197274771660016 and parameters: {'x': 1.0776226907037456, 'y': 0.9965374793988968}. Best is trial 614 with value: 0.0017109933576239288.\n",
      "[I 2024-02-05 00:13:33,559] Trial 746 finished with value: 0.008566878694479712 and parameters: {'x': 0.9116257029851446, 'y': 0.828310309256407}. Best is trial 614 with value: 0.0017109933576239288.\n",
      "[I 2024-02-05 00:13:33,574] Trial 747 finished with value: 3.8227701276535897 and parameters: {'x': 1.0087926831372986, 'y': 0.82214559859463}. Best is trial 614 with value: 0.0017109933576239288.\n",
      "[I 2024-02-05 00:13:33,590] Trial 748 finished with value: 0.9943332782214288 and parameters: {'x': 0.9102055226082589, 'y': 0.9277852322407513}. Best is trial 614 with value: 0.0017109933576239288.\n",
      "[I 2024-02-05 00:13:33,606] Trial 749 finished with value: 5.99590432314887 and parameters: {'x': 1.1510002561854749, 'y': 1.0804022598344485}. Best is trial 614 with value: 0.0017109933576239288.\n",
      "[I 2024-02-05 00:13:33,622] Trial 750 finished with value: 5.437745129568153 and parameters: {'x': 1.0372060389670315, 'y': 0.8426363183712339}. Best is trial 614 with value: 0.0017109933576239288.\n",
      "[I 2024-02-05 00:13:33,638] Trial 751 finished with value: 45.177368610439494 and parameters: {'x': 0.9468729618001425, 'y': 1.5686885299345323}. Best is trial 614 with value: 0.0017109933576239288.\n",
      "[I 2024-02-05 00:13:33,654] Trial 752 finished with value: 5.7475897212164195 and parameters: {'x': 0.8731473656468396, 'y': 1.0017917968097183}. Best is trial 614 with value: 0.0017109933576239288.\n",
      "[I 2024-02-05 00:13:33,670] Trial 753 finished with value: 0.4064792154441648 and parameters: {'x': 0.9937695334158648, 'y': 0.923825207426913}. Best is trial 614 with value: 0.0017109933576239288.\n",
      "[I 2024-02-05 00:13:33,687] Trial 754 finished with value: 2553.5896572386227 and parameters: {'x': 1.8058032221837532, 'y': -1.7917377220074444}. Best is trial 614 with value: 0.0017109933576239288.\n",
      "[I 2024-02-05 00:13:33,702] Trial 755 finished with value: 43.44147288648344 and parameters: {'x': -0.8370926331481077, 'y': 1.3337056207809046}. Best is trial 614 with value: 0.0017109933576239288.\n",
      "[I 2024-02-05 00:13:33,719] Trial 756 finished with value: 0.092983460282108 and parameters: {'x': 0.8915925832430739, 'y': 0.8234384383804334}. Best is trial 614 with value: 0.0017109933576239288.\n",
      "[I 2024-02-05 00:13:33,735] Trial 757 finished with value: 0.031315840758417 and parameters: {'x': 1.073407595691816, 'y': 1.1361019518036177}. Best is trial 614 with value: 0.0017109933576239288.\n",
      "[I 2024-02-05 00:13:33,751] Trial 758 finished with value: 5.443347049840468 and parameters: {'x': 1.2137844575863583, 'y': 1.240944423306789}. Best is trial 614 with value: 0.0017109933576239288.\n",
      "[I 2024-02-05 00:13:33,768] Trial 759 finished with value: 0.6537048396666605 and parameters: {'x': 1.1184681657424687, 'y': 1.1709916571007828}. Best is trial 614 with value: 0.0017109933576239288.\n",
      "[I 2024-02-05 00:13:33,784] Trial 760 finished with value: 0.23294708439706663 and parameters: {'x': 1.0805582721327869, 'y': 1.1200186339203162}. Best is trial 614 with value: 0.0017109933576239288.\n",
      "[I 2024-02-05 00:13:33,800] Trial 761 finished with value: 32.93361423227233 and parameters: {'x': 1.2786311284414693, 'y': 1.0616962112033055}. Best is trial 614 with value: 0.0017109933576239288.\n",
      "[I 2024-02-05 00:13:33,817] Trial 762 finished with value: 1.7503211437309554 and parameters: {'x': 1.1773762433488553, 'y': 1.2551095625188162}. Best is trial 614 with value: 0.0017109933576239288.\n",
      "[I 2024-02-05 00:13:33,833] Trial 763 finished with value: 0.5737950371186661 and parameters: {'x': 1.0486663797078917, 'y': 1.175293941496527}. Best is trial 614 with value: 0.0017109933576239288.\n",
      "[I 2024-02-05 00:13:33,850] Trial 764 finished with value: 121.23546161303942 and parameters: {'x': -1.4374576636423408, 'y': 0.9925328793474889}. Best is trial 614 with value: 0.0017109933576239288.\n",
      "[I 2024-02-05 00:13:33,866] Trial 765 finished with value: 5.53637013653577 and parameters: {'x': 1.1536056257844032, 'y': 1.0960129363625484}. Best is trial 614 with value: 0.0017109933576239288.\n",
      "[I 2024-02-05 00:13:33,882] Trial 766 finished with value: 0.010175384965952185 and parameters: {'x': 1.00706901348287, 'y': 1.0242505095393821}. Best is trial 614 with value: 0.0017109933576239288.\n",
      "[I 2024-02-05 00:13:33,899] Trial 767 finished with value: 0.4992224419978655 and parameters: {'x': 0.9735988457159986, 'y': 1.0185010450310894}. Best is trial 614 with value: 0.0017109933576239288.\n",
      "[I 2024-02-05 00:13:33,915] Trial 768 finished with value: 0.1508553574160319 and parameters: {'x': 0.9871126138250533, 'y': 0.935572596178712}. Best is trial 614 with value: 0.0017109933576239288.\n",
      "[I 2024-02-05 00:13:33,931] Trial 769 finished with value: 0.07663239339976023 and parameters: {'x': 0.9392693869756101, 'y': 0.9092351626702747}. Best is trial 614 with value: 0.0017109933576239288.\n",
      "[I 2024-02-05 00:13:33,948] Trial 770 finished with value: 0.15336692267009477 and parameters: {'x': 1.0351283687198225, 'y': 1.0324865193952202}. Best is trial 614 with value: 0.0017109933576239288.\n",
      "[I 2024-02-05 00:13:33,964] Trial 771 finished with value: 5.025119933230188 and parameters: {'x': 0.8642806742144126, 'y': 0.9707376523908856}. Best is trial 614 with value: 0.0017109933576239288.\n",
      "[I 2024-02-05 00:13:33,980] Trial 772 finished with value: 0.10127265798442006 and parameters: {'x': 0.9537311369494872, 'y': 0.8781178707259186}. Best is trial 614 with value: 0.0017109933576239288.\n",
      "[I 2024-02-05 00:13:33,997] Trial 773 finished with value: 65.2344596969866 and parameters: {'x': 1.035512666240771, 'y': 1.879957197939671}. Best is trial 614 with value: 0.0017109933576239288.\n",
      "[I 2024-02-05 00:13:34,013] Trial 774 finished with value: 5.664040303510555 and parameters: {'x': 0.8909879364791485, 'y': 1.0316021510715072}. Best is trial 614 with value: 0.0017109933576239288.\n",
      "[I 2024-02-05 00:13:34,030] Trial 775 finished with value: 397.34622108545005 and parameters: {'x': 1.0929045913872018, 'y': -0.798892415997946}. Best is trial 614 with value: 0.0017109933576239288.\n",
      "[I 2024-02-05 00:13:34,046] Trial 776 finished with value: 0.2992529932236369 and parameters: {'x': 0.9696560377229788, 'y': 0.8856130331428557}. Best is trial 614 with value: 0.0017109933576239288.\n",
      "[I 2024-02-05 00:13:34,063] Trial 777 finished with value: 13.742836904635023 and parameters: {'x': 0.8625698810074075, 'y': 1.1144852975264816}. Best is trial 614 with value: 0.0017109933576239288.\n",
      "[I 2024-02-05 00:13:34,080] Trial 778 finished with value: 5.611342549159662 and parameters: {'x': 1.025660518768014, 'y': 0.8151106734666006}. Best is trial 614 with value: 0.0017109933576239288.\n",
      "[I 2024-02-05 00:13:34,096] Trial 779 finished with value: 0.5324711662540763 and parameters: {'x': 0.9412811817932207, 'y': 0.9587442488335397}. Best is trial 614 with value: 0.0017109933576239288.\n",
      "[I 2024-02-05 00:13:34,113] Trial 780 finished with value: 12.975582879225035 and parameters: {'x': 1.1496813480562729, 'y': 0.9618619593549504}. Best is trial 614 with value: 0.0017109933576239288.\n",
      "[I 2024-02-05 00:13:34,129] Trial 781 finished with value: 16.50312290840441 and parameters: {'x': 0.819540932344634, 'y': 1.0774866852602039}. Best is trial 614 with value: 0.0017109933576239288.\n",
      "[I 2024-02-05 00:13:34,146] Trial 782 finished with value: 4.320730000727876 and parameters: {'x': 1.0201579955728244, 'y': 0.83286845321683}. Best is trial 614 with value: 0.0017109933576239288.\n",
      "[I 2024-02-05 00:13:34,163] Trial 783 finished with value: 0.05143759811286234 and parameters: {'x': 0.9294875887963447, 'y': 0.885503058125793}. Best is trial 614 with value: 0.0017109933576239288.\n",
      "[I 2024-02-05 00:13:34,180] Trial 784 finished with value: 36.986894190013054 and parameters: {'x': 1.2283732322586487, 'y': 0.9011612165206282}. Best is trial 614 with value: 0.0017109933576239288.\n",
      "[I 2024-02-05 00:13:34,196] Trial 785 finished with value: 5.12504175295345 and parameters: {'x': 1.1061231743940314, 'y': 0.9973718008966586}. Best is trial 614 with value: 0.0017109933576239288.\n",
      "[I 2024-02-05 00:13:34,213] Trial 786 finished with value: 2.426263775517784 and parameters: {'x': 0.9489925883247454, 'y': 1.056268081826207}. Best is trial 614 with value: 0.0017109933576239288.\n",
      "[I 2024-02-05 00:13:34,230] Trial 787 finished with value: 237.91742440053346 and parameters: {'x': 1.0454398853433724, 'y': -0.4495059627377509}. Best is trial 614 with value: 0.0017109933576239288.\n",
      "[I 2024-02-05 00:13:34,248] Trial 788 finished with value: 0.004157926178371402 and parameters: {'x': 0.9473090954313265, 'y': 0.9011115032582256}. Best is trial 614 with value: 0.0017109933576239288.\n",
      "[I 2024-02-05 00:13:34,265] Trial 789 finished with value: 6.7838201900215855 and parameters: {'x': 1.1053305062629206, 'y': 0.9615109186313296}. Best is trial 614 with value: 0.0017109933576239288.\n",
      "[I 2024-02-05 00:13:34,282] Trial 790 finished with value: 0.3484569992243428 and parameters: {'x': 1.0032980707228987, 'y': 1.065636343797461}. Best is trial 614 with value: 0.0017109933576239288.\n",
      "[I 2024-02-05 00:13:34,299] Trial 791 finished with value: 13.871438292400223 and parameters: {'x': 0.866154494220452, 'y': 1.1224268275244103}. Best is trial 614 with value: 0.0017109933576239288.\n",
      "[I 2024-02-05 00:13:34,316] Trial 792 finished with value: 1.1099976877453646 and parameters: {'x': 0.9657311906469399, 'y': 0.8273360518473996}. Best is trial 614 with value: 0.0017109933576239288.\n",
      "[I 2024-02-05 00:13:34,333] Trial 793 finished with value: 4.396805909112173 and parameters: {'x': 1.0755666262967976, 'y': 0.9472941559101397}. Best is trial 614 with value: 0.0017109933576239288.\n",
      "[I 2024-02-05 00:13:34,350] Trial 794 finished with value: 3.2512462618758784 and parameters: {'x': 0.8416556740255157, 'y': 0.8879997889933674}. Best is trial 614 with value: 0.0017109933576239288.\n",
      "[I 2024-02-05 00:13:34,367] Trial 795 finished with value: 9.690518575336892 and parameters: {'x': 1.1451008219943644, 'y': 1.0002982695866387}. Best is trial 614 with value: 0.0017109933576239288.\n",
      "[I 2024-02-05 00:13:34,385] Trial 796 finished with value: 0.1610994207238297 and parameters: {'x': 0.927112228960776, 'y': 0.8200672493204317}. Best is trial 614 with value: 0.0017109933576239288.\n",
      "[I 2024-02-05 00:13:34,402] Trial 797 finished with value: 0.5299520036544955 and parameters: {'x': 1.0340087417900747, 'y': 0.9964557579075498}. Best is trial 614 with value: 0.0017109933576239288.\n",
      "[I 2024-02-05 00:13:34,419] Trial 798 finished with value: 74.2928075018329 and parameters: {'x': 1.413482015884051, 'y': 1.1369909924485622}. Best is trial 614 with value: 0.0017109933576239288.\n",
      "[I 2024-02-05 00:13:34,436] Trial 799 finished with value: 4.070268169322976 and parameters: {'x': 0.8332747358315573, 'y': 0.8954057532331146}. Best is trial 614 with value: 0.0017109933576239288.\n",
      "[I 2024-02-05 00:13:34,453] Trial 800 finished with value: 35.46963848210716 and parameters: {'x': 1.1865127349017586, 'y': 0.8125406709718586}. Best is trial 614 with value: 0.0017109933576239288.\n",
      "[I 2024-02-05 00:13:34,471] Trial 801 finished with value: 0.3831791546252997 and parameters: {'x': 0.9918473666229947, 'y': 1.0456572962271637}. Best is trial 614 with value: 0.0017109933576239288.\n",
      "[I 2024-02-05 00:13:34,488] Trial 802 finished with value: 60.723396683102266 and parameters: {'x': 1.311044749243783, 'y': 0.9402071776355747}. Best is trial 614 with value: 0.0017109933576239288.\n",
      "[I 2024-02-05 00:13:34,505] Trial 803 finished with value: 0.17404034683202857 and parameters: {'x': 0.9187730691896714, 'y': 0.8850636951580098}. Best is trial 614 with value: 0.0017109933576239288.\n",
      "[I 2024-02-05 00:13:34,522] Trial 804 finished with value: 1.316249426664471 and parameters: {'x': 1.078522307438083, 'y': 1.0487514809660854}. Best is trial 614 with value: 0.0017109933576239288.\n",
      "[I 2024-02-05 00:13:34,539] Trial 805 finished with value: 2.959600049346207 and parameters: {'x': 0.984747458359834, 'y': 0.7976994366808648}. Best is trial 614 with value: 0.0017109933576239288.\n",
      "[I 2024-02-05 00:13:34,555] Trial 806 finished with value: 21.738822359045624 and parameters: {'x': 0.8153663577614481, 'y': 1.1307056816747205}. Best is trial 614 with value: 0.0017109933576239288.\n",
      "[I 2024-02-05 00:13:34,572] Trial 807 finished with value: 2.7139084889130327 and parameters: {'x': 0.8948538271664435, 'y': 0.9651669233931611}. Best is trial 614 with value: 0.0017109933576239288.\n",
      "[I 2024-02-05 00:13:34,589] Trial 808 finished with value: 4.082901929957653 and parameters: {'x': 1.040663758364514, 'y': 0.8809600593441702}. Best is trial 614 with value: 0.0017109933576239288.\n",
      "[I 2024-02-05 00:13:34,606] Trial 809 finished with value: 2.038847434414082 and parameters: {'x': 0.9271157894258172, 'y': 1.0021457671509857}. Best is trial 614 with value: 0.0017109933576239288.\n",
      "[I 2024-02-05 00:13:34,622] Trial 810 finished with value: 21.121045682326855 and parameters: {'x': 1.1278278814484464, 'y': 0.8125971481649791}. Best is trial 614 with value: 0.0017109933576239288.\n",
      "[I 2024-02-05 00:13:34,639] Trial 811 finished with value: 7.355749464482495 and parameters: {'x': 0.8152041641988269, 'y': 0.9351423810582266}. Best is trial 614 with value: 0.0017109933576239288.\n",
      "[I 2024-02-05 00:13:34,655] Trial 812 finished with value: 5.402682191750339 and parameters: {'x': 0.9950480249934711, 'y': 1.2225567497286782}. Best is trial 614 with value: 0.0017109933576239288.\n",
      "[I 2024-02-05 00:13:34,671] Trial 813 finished with value: 17.185528931253472 and parameters: {'x': 1.220617735028588, 'y': 1.075940787476119}. Best is trial 614 with value: 0.0017109933576239288.\n",
      "[I 2024-02-05 00:13:34,688] Trial 814 finished with value: 0.31233803823424683 and parameters: {'x': 0.8894683013048382, 'y': 0.8459371394881139}. Best is trial 614 with value: 0.0017109933576239288.\n",
      "[I 2024-02-05 00:13:34,704] Trial 815 finished with value: 0.053356037219077716 and parameters: {'x': 0.9647970073388216, 'y': 0.9536623666502801}. Best is trial 614 with value: 0.0017109933576239288.\n",
      "[I 2024-02-05 00:13:34,720] Trial 816 finished with value: 12.89695541008279 and parameters: {'x': 1.0723650465996077, 'y': 0.7909163968435863}. Best is trial 614 with value: 0.0017109933576239288.\n",
      "[I 2024-02-05 00:13:34,737] Trial 817 finished with value: 23.774553889063355 and parameters: {'x': 0.7978784266343381, 'y': 1.1237824455399705}. Best is trial 614 with value: 0.0017109933576239288.\n",
      "[I 2024-02-05 00:13:34,753] Trial 818 finished with value: 1.4729320354265467 and parameters: {'x': 0.876522144728912, 'y': 0.889025707097965}. Best is trial 614 with value: 0.0017109933576239288.\n",
      "[I 2024-02-05 00:13:34,771] Trial 819 finished with value: 68.65320370645554 and parameters: {'x': -0.4712519900627027, 'y': 1.0374839893099397}. Best is trial 614 with value: 0.0017109933576239288.\n",
      "[I 2024-02-05 00:13:34,788] Trial 820 finished with value: 0.15743995459414917 and parameters: {'x': 1.0053606444425478, 'y': 0.9710749427745743}. Best is trial 614 with value: 0.0017109933576239288.\n",
      "[I 2024-02-05 00:13:34,805] Trial 821 finished with value: 0.46086058580347194 and parameters: {'x': 0.9332531173718139, 'y': 0.8034035954882546}. Best is trial 614 with value: 0.0017109933576239288.\n",
      "[I 2024-02-05 00:13:34,821] Trial 822 finished with value: 15.668853692548034 and parameters: {'x': 1.1363503541993265, 'y': 0.8956880037306283}. Best is trial 614 with value: 0.0017109933576239288.\n",
      "[I 2024-02-05 00:13:34,838] Trial 823 finished with value: 16.48161991946718 and parameters: {'x': 0.7853916212607235, 'y': 1.0222479804543834}. Best is trial 614 with value: 0.0017109933576239288.\n",
      "[I 2024-02-05 00:13:34,855] Trial 824 finished with value: 0.7733755365404814 and parameters: {'x': 1.0512475702878468, 'y': 1.1929137784773687}. Best is trial 614 with value: 0.0017109933576239288.\n",
      "[I 2024-02-05 00:13:34,872] Trial 825 finished with value: 0.2827552704258494 and parameters: {'x': 0.9209736189175944, 'y': 0.7956081789244238}. Best is trial 614 with value: 0.0017109933576239288.\n",
      "[I 2024-02-05 00:13:34,889] Trial 826 finished with value: 4.510651804435884 and parameters: {'x': -0.9999862525428891, 'y': 0.9285087526392328}. Best is trial 614 with value: 0.0017109933576239288.\n",
      "[I 2024-02-05 00:13:34,906] Trial 827 finished with value: 16.417365227262 and parameters: {'x': 0.84038142692033, 'y': 1.111109898529097}. Best is trial 614 with value: 0.0017109933576239288.\n",
      "[I 2024-02-05 00:13:34,924] Trial 828 finished with value: 0.06004555844380317 and parameters: {'x': 0.9949662984505948, 'y': 1.0144569595825517}. Best is trial 614 with value: 0.0017109933576239288.\n",
      "[I 2024-02-05 00:13:34,940] Trial 829 finished with value: 15.295165494709662 and parameters: {'x': 1.1157583480732927, 'y': 0.8539977035297341}. Best is trial 614 with value: 0.0017109933576239288.\n",
      "[I 2024-02-05 00:13:34,958] Trial 830 finished with value: 0.795214302066392 and parameters: {'x': 0.9285715987428741, 'y': 0.9511334744968841}. Best is trial 614 with value: 0.0017109933576239288.\n",
      "[I 2024-02-05 00:13:34,975] Trial 831 finished with value: 16.63259405965646 and parameters: {'x': 1.2106474010136854, 'y': 1.0583807225884874}. Best is trial 614 with value: 0.0017109933576239288.\n",
      "[I 2024-02-05 00:13:34,992] Trial 832 finished with value: 2.2210053949934996 and parameters: {'x': 0.8559046513816005, 'y': 0.8809048970813256}. Best is trial 614 with value: 0.0017109933576239288.\n",
      "[I 2024-02-05 00:13:35,009] Trial 833 finished with value: 7.8817391826096745 and parameters: {'x': 1.0385902284971353, 'y': 0.7979518332839659}. Best is trial 614 with value: 0.0017109933576239288.\n",
      "[I 2024-02-05 00:13:35,026] Trial 834 finished with value: 28.95725255382571 and parameters: {'x': 0.7770015798850372, 'y': 1.1413886345663076}. Best is trial 614 with value: 0.0017109933576239288.\n",
      "[I 2024-02-05 00:13:35,043] Trial 835 finished with value: 0.7029436838746083 and parameters: {'x': 0.9488227678596723, 'y': 0.9839500422677692}. Best is trial 614 with value: 0.0017109933576239288.\n",
      "[I 2024-02-05 00:13:35,061] Trial 836 finished with value: 2.747338814940116 and parameters: {'x': 1.0670172320288973, 'y': 1.304141216734707}. Best is trial 614 with value: 0.0017109933576239288.\n",
      "[I 2024-02-05 00:13:35,078] Trial 837 finished with value: 0.016149955428610068 and parameters: {'x': 0.886515446841315, 'y': 0.791629088181272}. Best is trial 614 with value: 0.0017109933576239288.\n",
      "[I 2024-02-05 00:13:35,095] Trial 838 finished with value: 1.6136205748147106 and parameters: {'x': 0.8077348875181245, 'y': 0.778000560067147}. Best is trial 614 with value: 0.0017109933576239288.\n",
      "[I 2024-02-05 00:13:35,113] Trial 839 finished with value: 121.31306105075791 and parameters: {'x': 0.8677972043482105, 'y': -0.34827075383474815}. Best is trial 614 with value: 0.0017109933576239288.\n",
      "[I 2024-02-05 00:13:35,130] Trial 840 finished with value: 3.0757948822384424 and parameters: {'x': 0.7804649517942025, 'y': 0.7831255192793474}. Best is trial 614 with value: 0.0017109933576239288.\n",
      "[I 2024-02-05 00:13:35,149] Trial 841 finished with value: 2.1996609095206145 and parameters: {'x': 0.8561800424579842, 'y': 0.8806578393210822}. Best is trial 614 with value: 0.0017109933576239288.\n",
      "[I 2024-02-05 00:13:35,166] Trial 842 finished with value: 6.218389687554043 and parameters: {'x': 1.0141056806203448, 'y': 0.7790473286507127}. Best is trial 614 with value: 0.0017109933576239288.\n",
      "[I 2024-02-05 00:13:35,184] Trial 843 finished with value: 0.07269232761506857 and parameters: {'x': 0.9074013955382196, 'y': 0.8486987906188634}. Best is trial 614 with value: 0.0017109933576239288.\n",
      "[I 2024-02-05 00:13:35,201] Trial 844 finished with value: 0.4299882287890429 and parameters: {'x': 0.9935443546568498, 'y': 1.0527006945242894}. Best is trial 614 with value: 0.0017109933576239288.\n",
      "[I 2024-02-05 00:13:35,218] Trial 845 finished with value: 2.973875763796662 and parameters: {'x': 0.763244261611667, 'y': 0.7533581511679812}. Best is trial 614 with value: 0.0017109933576239288.\n",
      "[I 2024-02-05 00:13:35,235] Trial 846 finished with value: 26.696157726728103 and parameters: {'x': -0.6770039383256423, 'y': 0.9470450395485807}. Best is trial 614 with value: 0.0017109933576239288.\n",
      "[I 2024-02-05 00:13:35,253] Trial 847 finished with value: 1.644212054269557 and parameters: {'x': 1.1490902741195874, 'y': 1.4477655993927838}. Best is trial 614 with value: 0.0017109933576239288.\n",
      "[I 2024-02-05 00:13:35,270] Trial 848 finished with value: 1.9214421143809886 and parameters: {'x': 0.8769996923033918, 'y': 0.9071977558980534}. Best is trial 614 with value: 0.0017109933576239288.\n",
      "[I 2024-02-05 00:13:35,287] Trial 849 finished with value: 0.05195877760452964 and parameters: {'x': 1.0890558931867746, 'y': 1.2070255470416682}. Best is trial 614 with value: 0.0017109933576239288.\n",
      "[I 2024-02-05 00:13:35,304] Trial 850 finished with value: 0.2969728692804916 and parameters: {'x': 0.9743838870102448, 'y': 1.003858937361615}. Best is trial 614 with value: 0.0017109933576239288.\n",
      "[I 2024-02-05 00:13:35,322] Trial 851 finished with value: 1.4240207628535637 and parameters: {'x': 0.8471407555668076, 'y': 0.8359967231217108}. Best is trial 614 with value: 0.0017109933576239288.\n",
      "[I 2024-02-05 00:13:35,340] Trial 852 finished with value: 3.8810122089394525 and parameters: {'x': 0.9453829236780517, 'y': 1.090675995549833}. Best is trial 614 with value: 0.0017109933576239288.\n",
      "[I 2024-02-05 00:13:35,357] Trial 853 finished with value: 3.4378515460877446 and parameters: {'x': 0.7610797476848924, 'y': 0.7631110490284272}. Best is trial 614 with value: 0.0017109933576239288.\n",
      "[I 2024-02-05 00:13:35,375] Trial 854 finished with value: 40.86341397400366 and parameters: {'x': 1.2673307777635439, 'y': 0.9674415541500536}. Best is trial 614 with value: 0.0017109933576239288.\n",
      "[I 2024-02-05 00:13:35,392] Trial 855 finished with value: 3.361254196101101 and parameters: {'x': 1.021009585185813, 'y': 0.859135375825227}. Best is trial 614 with value: 0.0017109933576239288.\n",
      "[I 2024-02-05 00:13:35,410] Trial 856 finished with value: 6.347756886758674 and parameters: {'x': 1.1738262042612018, 'y': 1.1265207609396606}. Best is trial 614 with value: 0.0017109933576239288.\n",
      "[I 2024-02-05 00:13:35,427] Trial 857 finished with value: 0.8667593738974371 and parameters: {'x': 0.9104881741622791, 'y': 0.736320111818032}. Best is trial 614 with value: 0.0017109933576239288.\n",
      "[I 2024-02-05 00:13:35,445] Trial 858 finished with value: 5.0146027534756 and parameters: {'x': 1.0762404656338633, 'y': 0.934490274813964}. Best is trial 614 with value: 0.0017109933576239288.\n",
      "[I 2024-02-05 00:13:35,464] Trial 859 finished with value: 11.492200269858692 and parameters: {'x': 0.8292434978021482, 'y': 1.026215930501753}. Best is trial 614 with value: 0.0017109933576239288.\n",
      "[I 2024-02-05 00:13:35,482] Trial 860 finished with value: 0.9477184139009655 and parameters: {'x': 0.9786384954333892, 'y': 0.8604059139425854}. Best is trial 614 with value: 0.0017109933576239288.\n",
      "[I 2024-02-05 00:13:35,500] Trial 861 finished with value: 18.249716559583472 and parameters: {'x': 0.8944032860448473, 'y': 1.2270235782925407}. Best is trial 614 with value: 0.0017109933576239288.\n",
      "[I 2024-02-05 00:13:35,518] Trial 862 finished with value: 5.2900114197624335 and parameters: {'x': 0.7495489018974696, 'y': 0.7904561364117203}. Best is trial 614 with value: 0.0017109933576239288.\n",
      "[I 2024-02-05 00:13:35,534] Trial 863 finished with value: 555.777873767863 and parameters: {'x': 1.0542255585019906, 'y': -1.2460964004164286}. Best is trial 614 with value: 0.0017109933576239288.\n",
      "[I 2024-02-05 00:13:35,552] Trial 864 finished with value: 0.6667236621529447 and parameters: {'x': 0.9661847335662846, 'y': 1.0150960374979747}. Best is trial 614 with value: 0.0017109933576239288.\n",
      "[I 2024-02-05 00:13:35,570] Trial 865 finished with value: 14.120327434788658 and parameters: {'x': 1.133652657448767, 'y': 0.909635867095561}. Best is trial 614 with value: 0.0017109933576239288.\n",
      "[I 2024-02-05 00:13:35,588] Trial 866 finished with value: 0.14679729251145052 and parameters: {'x': 0.861533968142078, 'y': 0.7065162138100107}. Best is trial 614 with value: 0.0017109933576239288.\n",
      "[I 2024-02-05 00:13:35,605] Trial 867 finished with value: 0.08531736244617434 and parameters: {'x': 1.0277470148696093, 'y': 1.0853409734681516}. Best is trial 614 with value: 0.0017109933576239288.\n",
      "[I 2024-02-05 00:13:35,622] Trial 868 finished with value: 0.012693325278181112 and parameters: {'x': 0.9106373754800028, 'y': 0.8361216588237207}. Best is trial 614 with value: 0.0017109933576239288.\n",
      "[I 2024-02-05 00:13:35,640] Trial 869 finished with value: 2.9157184497893955 and parameters: {'x': 0.794968049811787, 'y': 0.8014935309538183}. Best is trial 614 with value: 0.0017109933576239288.\n",
      "[I 2024-02-05 00:13:35,657] Trial 870 finished with value: 2.7171025692520896 and parameters: {'x': 0.7475028380420682, 'y': 0.7216514917868184}. Best is trial 614 with value: 0.0017109933576239288.\n",
      "[I 2024-02-05 00:13:35,674] Trial 871 finished with value: 246.8518009683933 and parameters: {'x': 1.5092309666081356, 'y': 0.7074517598028179}. Best is trial 614 with value: 0.0017109933576239288.\n",
      "[I 2024-02-05 00:13:35,691] Trial 872 finished with value: 0.04208253079307156 and parameters: {'x': 0.8829008341901868, 'y': 0.796357373198282}. Best is trial 614 with value: 0.0017109933576239288.\n",
      "[I 2024-02-05 00:13:35,709] Trial 873 finished with value: 1.3732838889926817 and parameters: {'x': 0.8149973141414932, 'y': 0.7799382912020982}. Best is trial 614 with value: 0.0017109933576239288.\n",
      "[I 2024-02-05 00:13:35,727] Trial 874 finished with value: 2.8538258291416723 and parameters: {'x': 0.7249898656191662, 'y': 0.6922894957671748}. Best is trial 614 with value: 0.0017109933576239288.\n",
      "[I 2024-02-05 00:13:35,745] Trial 875 finished with value: 0.33384018137177945 and parameters: {'x': 0.8757513961748695, 'y': 0.823367670317092}. Best is trial 614 with value: 0.0017109933576239288.\n",
      "[I 2024-02-05 00:13:35,762] Trial 876 finished with value: 0.14269261395966443 and parameters: {'x': 0.867309792509492, 'y': 0.7875937644730647}. Best is trial 614 with value: 0.0017109933576239288.\n",
      "[I 2024-02-05 00:13:35,780] Trial 877 finished with value: 0.23334288297164824 and parameters: {'x': 0.7914122376826733, 'y': 0.6699032769796959}. Best is trial 614 with value: 0.0017109933576239288.\n",
      "[I 2024-02-05 00:13:35,797] Trial 878 finished with value: 0.10227777510232086 and parameters: {'x': 0.9115195553677514, 'y': 0.8616004535711319}. Best is trial 614 with value: 0.0017109933576239288.\n",
      "[I 2024-02-05 00:13:35,815] Trial 879 finished with value: 738.3357370985589 and parameters: {'x': 0.8483381375303671, 'y': -1.9975134830403758}. Best is trial 614 with value: 0.0017109933576239288.\n",
      "[I 2024-02-05 00:13:35,832] Trial 880 finished with value: 4.214139674227041 and parameters: {'x': 0.738844843410027, 'y': 0.7495074598434238}. Best is trial 614 with value: 0.0017109933576239288.\n",
      "[I 2024-02-05 00:13:35,850] Trial 881 finished with value: 2.4950273445506803 and parameters: {'x': 0.9986670757883799, 'y': 0.8393794289398895}. Best is trial 614 with value: 0.0017109933576239288.\n",
      "[I 2024-02-05 00:13:35,868] Trial 882 finished with value: 2.9759604620183344 and parameters: {'x': 0.9221629286220127, 'y': 0.6780504351046125}. Best is trial 614 with value: 0.0017109933576239288.\n",
      "[I 2024-02-05 00:13:35,885] Trial 883 finished with value: 5.469565830656389 and parameters: {'x': 1.0500639178070423, 'y': 0.8688167934053915}. Best is trial 614 with value: 0.0017109933576239288.\n",
      "[I 2024-02-05 00:13:35,903] Trial 884 finished with value: 0.9586748541249644 and parameters: {'x': 0.8214782717105898, 'y': 0.771097254985479}. Best is trial 614 with value: 0.0017109933576239288.\n",
      "[I 2024-02-05 00:13:35,920] Trial 885 finished with value: 0.6760211384747075 and parameters: {'x': 0.9270835684428065, 'y': 0.9413804832482455}. Best is trial 614 with value: 0.0017109933576239288.\n",
      "[I 2024-02-05 00:13:35,939] Trial 886 finished with value: 89.82672122639127 and parameters: {'x': 1.3516333156709046, 'y': 0.8797955457598071}. Best is trial 614 with value: 0.0017109933576239288.\n",
      "[I 2024-02-05 00:13:35,957] Trial 887 finished with value: 33.70677934406581 and parameters: {'x': 1.1355131127044271, 'y': 0.7089728038421677}. Best is trial 614 with value: 0.0017109933576239288.\n",
      "[I 2024-02-05 00:13:35,974] Trial 888 finished with value: 9.433672579004236e-05 and parameters: {'x': 1.0025420052288243, 'y': 1.0041530559308645}. Best is trial 888 with value: 9.433672579004236e-05.\n",
      "[I 2024-02-05 00:13:35,992] Trial 889 finished with value: 101.82605269226765 and parameters: {'x': -0.3403988081606767, 'y': 1.116018256442997}. Best is trial 888 with value: 9.433672579004236e-05.\n",
      "[I 2024-02-05 00:13:36,009] Trial 890 finished with value: 4.336125626530244 and parameters: {'x': 1.1840707262982437, 'y': 1.1946049805367873}. Best is trial 888 with value: 9.433672579004236e-05.\n",
      "[I 2024-02-05 00:13:36,026] Trial 891 finished with value: 3.520490460060751 and parameters: {'x': 1.1037988651226325, 'y': 1.0310295674233245}. Best is trial 888 with value: 9.433672579004236e-05.\n",
      "[I 2024-02-05 00:13:36,043] Trial 892 finished with value: 0.6380872384598967 and parameters: {'x': 1.0316347314486531, 'y': 1.144087916556334}. Best is trial 888 with value: 9.433672579004236e-05.\n",
      "[I 2024-02-05 00:13:36,060] Trial 893 finished with value: 0.09795830082872527 and parameters: {'x': 0.9868897298549708, 'y': 1.0052221594205795}. Best is trial 888 with value: 9.433672579004236e-05.\n",
      "[I 2024-02-05 00:13:36,078] Trial 894 finished with value: 36.01284695084185 and parameters: {'x': 1.2763260012073454, 'y': 1.029537537546306}. Best is trial 888 with value: 9.433672579004236e-05.\n",
      "[I 2024-02-05 00:13:36,095] Trial 895 finished with value: 0.4700326679577975 and parameters: {'x': 1.0927572296039052, 'y': 1.2620469109233814}. Best is trial 888 with value: 9.433672579004236e-05.\n",
      "[I 2024-02-05 00:13:36,112] Trial 896 finished with value: 0.1974023829307605 and parameters: {'x': 1.0016633559976558, 'y': 0.9588998021597935}. Best is trial 888 with value: 9.433672579004236e-05.\n",
      "[I 2024-02-05 00:13:36,129] Trial 897 finished with value: 0.34206538388442154 and parameters: {'x': 1.0853509765799303, 'y': 1.1201265146861945}. Best is trial 888 with value: 9.433672579004236e-05.\n",
      "[I 2024-02-05 00:13:36,147] Trial 898 finished with value: 2.0514369252922133 and parameters: {'x': 0.963248163220775, 'y': 1.0710282457541853}. Best is trial 888 with value: 9.433672579004236e-05.\n",
      "[I 2024-02-05 00:13:36,165] Trial 899 finished with value: 16.45553405483335 and parameters: {'x': 1.1558625051987739, 'y': 0.9306634598731379}. Best is trial 888 with value: 9.433672579004236e-05.\n",
      "[I 2024-02-05 00:13:36,183] Trial 900 finished with value: 6.344925376764583 and parameters: {'x': 1.0302153312998465, 'y': 1.3132168590726634}. Best is trial 888 with value: 9.433672579004236e-05.\n",
      "[I 2024-02-05 00:13:36,201] Trial 901 finished with value: 21.316139404851846 and parameters: {'x': 1.204597945112767, 'y': 0.9898157180239279}. Best is trial 888 with value: 9.433672579004236e-05.\n",
      "[I 2024-02-05 00:13:36,218] Trial 902 finished with value: 0.14161611017756331 and parameters: {'x': 0.9110455188926684, 'y': 0.8665693870976213}. Best is trial 888 with value: 9.433672579004236e-05.\n",
      "[I 2024-02-05 00:13:36,236] Trial 903 finished with value: 5.825265539884572 and parameters: {'x': 0.9578402388223121, 'y': 1.1587769669976735}. Best is trial 888 with value: 9.433672579004236e-05.\n",
      "[I 2024-02-05 00:13:36,253] Trial 904 finished with value: 7.457602191670664 and parameters: {'x': 0.8207630933957019, 'y': 0.9461493274481397}. Best is trial 888 with value: 9.433672579004236e-05.\n",
      "[I 2024-02-05 00:13:36,271] Trial 905 finished with value: 1.0447981564499433 and parameters: {'x': 1.0606118604371912, 'y': 1.0228620168927913}. Best is trial 888 with value: 9.433672579004236e-05.\n",
      "[I 2024-02-05 00:13:36,288] Trial 906 finished with value: 0.8992313966643031 and parameters: {'x': 0.8860248652762512, 'y': 0.8791804392680183}. Best is trial 888 with value: 9.433672579004236e-05.\n",
      "[I 2024-02-05 00:13:36,306] Trial 907 finished with value: 27.245092632087353 and parameters: {'x': 0.7447555980851344, 'y': 1.076004769428288}. Best is trial 888 with value: 9.433672579004236e-05.\n",
      "[I 2024-02-05 00:13:36,323] Trial 908 finished with value: 0.14571749721643304 and parameters: {'x': 0.9633204910081357, 'y': 0.9659826985921822}. Best is trial 888 with value: 9.433672579004236e-05.\n",
      "[I 2024-02-05 00:13:36,341] Trial 909 finished with value: 9.588785457070513 and parameters: {'x': 1.0726494301100098, 'y': 0.8410043929185939}. Best is trial 888 with value: 9.433672579004236e-05.\n",
      "[I 2024-02-05 00:13:36,359] Trial 910 finished with value: 13.163369658354352 and parameters: {'x': 0.8315998655331289, 'y': 1.0539808943318105}. Best is trial 888 with value: 9.433672579004236e-05.\n",
      "[I 2024-02-05 00:13:36,377] Trial 911 finished with value: 1.372987146961655 and parameters: {'x': 1.013688514433404, 'y': 0.9103978659168022}. Best is trial 888 with value: 9.433672579004236e-05.\n",
      "[I 2024-02-05 00:13:36,394] Trial 912 finished with value: 0.17581612395226617 and parameters: {'x': 0.9028641041787585, 'y': 0.774373795114256}. Best is trial 888 with value: 9.433672579004236e-05.\n",
      "[I 2024-02-05 00:13:36,411] Trial 913 finished with value: 6.363106127376446 and parameters: {'x': 1.2084520298681196, 'y': 1.2089670907717234}. Best is trial 888 with value: 9.433672579004236e-05.\n",
      "[I 2024-02-05 00:13:36,428] Trial 914 finished with value: 0.030081465397830805 and parameters: {'x': 0.9812317115534666, 'y': 0.9800578342520493}. Best is trial 888 with value: 9.433672579004236e-05.\n",
      "[I 2024-02-05 00:13:36,446] Trial 915 finished with value: 1.0019282488473953 and parameters: {'x': 1.115602360070678, 'y': 1.1451420527278273}. Best is trial 888 with value: 9.433672579004236e-05.\n",
      "[I 2024-02-05 00:13:36,464] Trial 916 finished with value: 0.06415051675447511 and parameters: {'x': 1.0214910367348478, 'y': 1.0686805488558264}. Best is trial 888 with value: 9.433672579004236e-05.\n",
      "[I 2024-02-05 00:13:36,482] Trial 917 finished with value: 7.351358611566259 and parameters: {'x': 1.122661796014257, 'y': 0.9895132235444286}. Best is trial 888 with value: 9.433672579004236e-05.\n",
      "[I 2024-02-05 00:13:36,500] Trial 918 finished with value: 0.29821671903702307 and parameters: {'x': 0.9683325160184322, 'y': 0.9921851881358662}. Best is trial 888 with value: 9.433672579004236e-05.\n",
      "[I 2024-02-05 00:13:36,517] Trial 919 finished with value: 21.343694071124776 and parameters: {'x': 1.2448069094345264, 'y': 1.0882009460815283}. Best is trial 888 with value: 9.433672579004236e-05.\n",
      "[I 2024-02-05 00:13:36,535] Trial 920 finished with value: 2.2853289091056355 and parameters: {'x': 1.0402377537291012, 'y': 0.9309751006857682}. Best is trial 888 with value: 9.433672579004236e-05.\n",
      "[I 2024-02-05 00:13:36,553] Trial 921 finished with value: 6.177429219467677 and parameters: {'x': 0.9553811120911414, 'y': 1.1612573625490834}. Best is trial 888 with value: 9.433672579004236e-05.\n",
      "[I 2024-02-05 00:13:36,570] Trial 922 finished with value: 4.59903285493907 and parameters: {'x': 1.1085709893472309, 'y': 1.0147510868534908}. Best is trial 888 with value: 9.433672579004236e-05.\n",
      "[I 2024-02-05 00:13:36,588] Trial 923 finished with value: 73.71645498629114 and parameters: {'x': -0.24232039787087356, 'y': 0.9082666725152098}. Best is trial 888 with value: 9.433672579004236e-05.\n",
      "[I 2024-02-05 00:13:36,605] Trial 924 finished with value: 0.2738018007321336 and parameters: {'x': 1.0051667721280941, 'y': 1.0626837627220638}. Best is trial 888 with value: 9.433672579004236e-05.\n",
      "[I 2024-02-05 00:13:36,622] Trial 925 finished with value: 15.154294954589005 and parameters: {'x': 0.9218345113387599, 'y': 1.238985560880083}. Best is trial 888 with value: 9.433672579004236e-05.\n",
      "[I 2024-02-05 00:13:36,639] Trial 926 finished with value: 13.914547868793797 and parameters: {'x': 1.1652675179621519, 'y': 0.9851925885661162}. Best is trial 888 with value: 9.433672579004236e-05.\n",
      "[I 2024-02-05 00:13:36,656] Trial 927 finished with value: 2.794721634050899 and parameters: {'x': 1.0339392130702938, 'y': 0.9018905415122533}. Best is trial 888 with value: 9.433672579004236e-05.\n",
      "[I 2024-02-05 00:13:36,674] Trial 928 finished with value: 7.209715891703498 and parameters: {'x': 0.908550180547897, 'y': 1.093816795043408}. Best is trial 888 with value: 9.433672579004236e-05.\n",
      "[I 2024-02-05 00:13:36,692] Trial 929 finished with value: 28.584036874641797 and parameters: {'x': 1.0797317705972962, 'y': 1.7004016511989297}. Best is trial 888 with value: 9.433672579004236e-05.\n",
      "[I 2024-02-05 00:13:36,710] Trial 930 finished with value: 2.5954779866142017 and parameters: {'x': 0.8273049033989383, 'y': 0.8446100054188439}. Best is trial 888 with value: 9.433672579004236e-05.\n",
      "[I 2024-02-05 00:13:36,728] Trial 931 finished with value: 1.0797820251391135 and parameters: {'x': 0.9286770476014276, 'y': 0.9661085590298979}. Best is trial 888 with value: 9.433672579004236e-05.\n",
      "[I 2024-02-05 00:13:36,746] Trial 932 finished with value: 12.329776719830637 and parameters: {'x': 0.7322249152231166, 'y': 0.8862686392463548}. Best is trial 888 with value: 9.433672579004236e-05.\n",
      "[I 2024-02-05 00:13:36,765] Trial 933 finished with value: 17.175334331177236 and parameters: {'x': -1.2332628232612701, 'y': 1.1718258695454589}. Best is trial 888 with value: 9.433672579004236e-05.\n",
      "[I 2024-02-05 00:13:36,783] Trial 934 finished with value: 0.09555462272276785 and parameters: {'x': 0.9955287279803324, 'y': 1.02198612508212}. Best is trial 888 with value: 9.433672579004236e-05.\n",
      "[I 2024-02-05 00:13:36,800] Trial 935 finished with value: 4.073083567057892 and parameters: {'x': 0.8071708323202541, 'y': 0.8524202596946956}. Best is trial 888 with value: 9.433672579004236e-05.\n",
      "[I 2024-02-05 00:13:36,818] Trial 936 finished with value: 20.251978584787448 and parameters: {'x': 1.1897717262270149, 'y': 0.9659350831524158}. Best is trial 888 with value: 9.433672579004236e-05.\n",
      "[I 2024-02-05 00:13:36,835] Trial 937 finished with value: 0.4898270013926837 and parameters: {'x': 1.0729129906892965, 'y': 1.081535482963855}. Best is trial 888 with value: 9.433672579004236e-05.\n",
      "[I 2024-02-05 00:13:36,853] Trial 938 finished with value: 30.80507420465491 and parameters: {'x': 0.8926081716837516, 'y': 1.351668632376088}. Best is trial 888 with value: 9.433672579004236e-05.\n",
      "[I 2024-02-05 00:13:36,871] Trial 939 finished with value: 1.4688206522445002 and parameters: {'x': 0.9745736731256539, 'y': 0.8286256078292363}. Best is trial 888 with value: 9.433672579004236e-05.\n",
      "[I 2024-02-05 00:13:36,888] Trial 940 finished with value: 3.834598331813485 and parameters: {'x': 0.8588769979746567, 'y': 0.9329818229804877}. Best is trial 888 with value: 9.433672579004236e-05.\n",
      "[I 2024-02-05 00:13:36,906] Trial 941 finished with value: 18.405410667660874 and parameters: {'x': 1.0946255631904669, 'y': 0.7692942159361174}. Best is trial 888 with value: 9.433672579004236e-05.\n",
      "[I 2024-02-05 00:13:36,925] Trial 942 finished with value: 44.96273491849938 and parameters: {'x': 1.2997065013718812, 'y': 1.0193645322096354}. Best is trial 888 with value: 9.433672579004236e-05.\n",
      "[I 2024-02-05 00:13:36,943] Trial 943 finished with value: 2.3703602611546124 and parameters: {'x': 0.9921390106740106, 'y': 1.1382975531045147}. Best is trial 888 with value: 9.433672579004236e-05.\n",
      "[I 2024-02-05 00:13:36,961] Trial 944 finished with value: 7.379254887322526 and parameters: {'x': 0.8015404595600759, 'y': 0.9133890287636101}. Best is trial 888 with value: 9.433672579004236e-05.\n",
      "[I 2024-02-05 00:13:36,979] Trial 945 finished with value: 2.01535731498874 and parameters: {'x': 0.9107856262389302, 'y': 0.6878477794582788}. Best is trial 888 with value: 9.433672579004236e-05.\n",
      "[I 2024-02-05 00:13:36,996] Trial 946 finished with value: 24.673931769238283 and parameters: {'x': 1.1479743393572426, 'y': 0.8213369231230967}. Best is trial 888 with value: 9.433672579004236e-05.\n",
      "[I 2024-02-05 00:13:37,014] Trial 947 finished with value: 19.958161433273865 and parameters: {'x': 0.731762930905999, 'y': 0.9814165603990317}. Best is trial 888 with value: 9.433672579004236e-05.\n",
      "[I 2024-02-05 00:13:37,032] Trial 948 finished with value: 265.87597482176574 and parameters: {'x': -1.6864496688876613, 'y': 1.2358246911772142}. Best is trial 888 with value: 9.433672579004236e-05.\n",
      "[I 2024-02-05 00:13:37,049] Trial 949 finished with value: 0.01006305004289103 and parameters: {'x': 1.0311402251652577, 'y': 1.0727860626632344}. Best is trial 888 with value: 9.433672579004236e-05.\n",
      "[I 2024-02-05 00:13:37,067] Trial 950 finished with value: 0.10363535001766397 and parameters: {'x': 1.0881723200502362, 'y': 1.1531575718006484}. Best is trial 888 with value: 9.433672579004236e-05.\n",
      "[I 2024-02-05 00:13:37,085] Trial 951 finished with value: 6.045617365134472 and parameters: {'x': 1.2397905860311695, 'y': 1.292374386708792}. Best is trial 888 with value: 9.433672579004236e-05.\n",
      "[I 2024-02-05 00:13:37,102] Trial 952 finished with value: 6.235167528493829 and parameters: {'x': 1.1490922946521336, 'y': 1.0711554233887122}. Best is trial 888 with value: 9.433672579004236e-05.\n",
      "[I 2024-02-05 00:13:37,120] Trial 953 finished with value: 0.8492829001500728 and parameters: {'x': 1.0435419385514266, 'y': 1.1810334031768708}. Best is trial 888 with value: 9.433672579004236e-05.\n",
      "[I 2024-02-05 00:13:37,137] Trial 954 finished with value: 0.008982548523602309 and parameters: {'x': 1.0448666092263403, 'y': 1.0833978564438438}. Best is trial 888 with value: 9.433672579004236e-05.\n",
      "[I 2024-02-05 00:13:37,155] Trial 955 finished with value: 2.3175945976086254 and parameters: {'x': 1.1906098380965398, 'y': 1.2665132985227177}. Best is trial 888 with value: 9.433672579004236e-05.\n",
      "[I 2024-02-05 00:13:37,172] Trial 956 finished with value: 50.66546128842706 and parameters: {'x': 1.3651273040791168, 'y': 1.1527129123883018}. Best is trial 888 with value: 9.433672579004236e-05.\n",
      "[I 2024-02-05 00:13:37,190] Trial 957 finished with value: 1.9395145151751487 and parameters: {'x': 1.1140235673203995, 'y': 1.1022496201754162}. Best is trial 888 with value: 9.433672579004236e-05.\n",
      "[I 2024-02-05 00:13:37,209] Trial 958 finished with value: 0.008091244491768419 and parameters: {'x': 1.0375840518547639, 'y': 1.0684083433664675}. Best is trial 888 with value: 9.433672579004236e-05.\n",
      "[I 2024-02-05 00:13:37,226] Trial 959 finished with value: 0.3612395525103738 and parameters: {'x': 1.1354120241174162, 'y': 1.2306025328328976}. Best is trial 888 with value: 9.433672579004236e-05.\n",
      "[I 2024-02-05 00:13:37,244] Trial 960 finished with value: 473.10823542418626 and parameters: {'x': -1.8036645124083046, 'y': 1.0962455421966184}. Best is trial 888 with value: 9.433672579004236e-05.\n",
      "[I 2024-02-05 00:13:37,261] Trial 961 finished with value: 26.90083672874577 and parameters: {'x': 1.2612450500924766, 'y': 1.0727372641026627}. Best is trial 888 with value: 9.433672579004236e-05.\n",
      "[I 2024-02-05 00:13:37,280] Trial 962 finished with value: 5.938790297473599 and parameters: {'x': 1.1854608396796371, 'y': 1.162327802339813}. Best is trial 888 with value: 9.433672579004236e-05.\n",
      "[I 2024-02-05 00:13:37,298] Trial 963 finished with value: 2.552502588083587 and parameters: {'x': 1.0956549407586889, 'y': 1.0409808251972548}. Best is trial 888 with value: 9.433672579004236e-05.\n",
      "[I 2024-02-05 00:13:37,316] Trial 964 finished with value: 0.4595818044301375 and parameters: {'x': 1.0633866672091252, 'y': 1.198286680502135}. Best is trial 888 with value: 9.433672579004236e-05.\n",
      "[I 2024-02-05 00:13:37,334] Trial 965 finished with value: 385.25233223039044 and parameters: {'x': 1.028532411843049, 'y': -0.9049035877263545}. Best is trial 888 with value: 9.433672579004236e-05.\n",
      "[I 2024-02-05 00:13:37,352] Trial 966 finished with value: 8.894839250449026 and parameters: {'x': 1.1550312293267235, 'y': 1.036258181408389}. Best is trial 888 with value: 9.433672579004236e-05.\n",
      "[I 2024-02-05 00:13:37,370] Trial 967 finished with value: 9.504544483854746 and parameters: {'x': 1.0177105545160956, 'y': 1.3440240982473304}. Best is trial 888 with value: 9.433672579004236e-05.\n",
      "[I 2024-02-05 00:13:37,388] Trial 968 finished with value: 0.029563760710015104 and parameters: {'x': 1.0704019840389256, 'y': 1.1300736865045231}. Best is trial 888 with value: 9.433672579004236e-05.\n",
      "[I 2024-02-05 00:13:37,406] Trial 969 finished with value: 14.951530803980349 and parameters: {'x': 1.2982990744760174, 'y': 1.300060727678865}. Best is trial 888 with value: 9.433672579004236e-05.\n",
      "[I 2024-02-05 00:13:37,424] Trial 970 finished with value: 9.727177667335239 and parameters: {'x': 1.2377341255910501, 'y': 1.2210089151819883}. Best is trial 888 with value: 9.433672579004236e-05.\n",
      "[I 2024-02-05 00:13:37,441] Trial 971 finished with value: 4.018192500133889 and parameters: {'x': 1.1472994556444114, 'y': 1.1163836758591494}. Best is trial 888 with value: 9.433672579004236e-05.\n",
      "[I 2024-02-05 00:13:37,459] Trial 972 finished with value: 6.522446365988467 and parameters: {'x': 1.1856202610758129, 'y': 1.1509800430284005}. Best is trial 888 with value: 9.433672579004236e-05.\n",
      "[I 2024-02-05 00:13:37,479] Trial 973 finished with value: 0.5404131145708314 and parameters: {'x': 1.0735451749170064, 'y': 1.225643225376142}. Best is trial 888 with value: 9.433672579004236e-05.\n",
      "[I 2024-02-05 00:13:37,498] Trial 974 finished with value: 0.36430847120671606 and parameters: {'x': 1.0757463245164438, 'y': 1.0973493593310704}. Best is trial 888 with value: 9.433672579004236e-05.\n",
      "[I 2024-02-05 00:13:37,516] Trial 975 finished with value: 4.716980205127091 and parameters: {'x': 1.1190224809330178, 'y': 1.0353515919501548}. Best is trial 888 with value: 9.433672579004236e-05.\n",
      "[I 2024-02-05 00:13:37,533] Trial 976 finished with value: 11.5635410112138 and parameters: {'x': 1.213846546085399, 'y': 1.1340444359430486}. Best is trial 888 with value: 9.433672579004236e-05.\n",
      "[I 2024-02-05 00:13:37,550] Trial 977 finished with value: 375.1068796628963 and parameters: {'x': 1.8340810415715185, 'y': 1.4288824960092912}. Best is trial 888 with value: 9.433672579004236e-05.\n",
      "[I 2024-02-05 00:13:37,568] Trial 978 finished with value: 0.39273866012524955 and parameters: {'x': 1.0471376516062376, 'y': 1.0340059258579035}. Best is trial 888 with value: 9.433672579004236e-05.\n",
      "[I 2024-02-05 00:13:37,586] Trial 979 finished with value: 32.64034765061409 and parameters: {'x': 0.9899532291402741, 'y': 1.5513238293353133}. Best is trial 888 with value: 9.433672579004236e-05.\n",
      "[I 2024-02-05 00:13:37,604] Trial 980 finished with value: 3.7422865544798314 and parameters: {'x': 1.0338357884243021, 'y': 1.262236749025798}. Best is trial 888 with value: 9.433672579004236e-05.\n",
      "[I 2024-02-05 00:13:37,621] Trial 981 finished with value: 1.0806160217967298 and parameters: {'x': 1.1290256569659585, 'y': 1.17155009009771}. Best is trial 888 with value: 9.433672579004236e-05.\n",
      "[I 2024-02-05 00:13:37,639] Trial 982 finished with value: 49.57405615043133 and parameters: {'x': 1.3121252620197235, 'y': 1.0182764139933114}. Best is trial 888 with value: 9.433672579004236e-05.\n",
      "[I 2024-02-05 00:13:37,657] Trial 983 finished with value: 0.38542779830718016 and parameters: {'x': 0.996892989388575, 'y': 1.055877686445624}. Best is trial 888 with value: 9.433672579004236e-05.\n",
      "[I 2024-02-05 00:13:37,675] Trial 984 finished with value: 8.099770836407496 and parameters: {'x': 1.1806063007913585, 'y': 1.1098039113089238}. Best is trial 888 with value: 9.433672579004236e-05.\n",
      "[I 2024-02-05 00:13:37,694] Trial 985 finished with value: 2.5002029246488053 and parameters: {'x': 1.067501307575463, 'y': 0.9815828884709735}. Best is trial 888 with value: 9.433672579004236e-05.\n",
      "[I 2024-02-05 00:13:37,711] Trial 986 finished with value: 0.009026000201788245 and parameters: {'x': 0.9884612273691548, 'y': 0.9864857925636612}. Best is trial 888 with value: 9.433672579004236e-05.\n",
      "[I 2024-02-05 00:13:37,729] Trial 987 finished with value: 0.09080418975377672 and parameters: {'x': 0.9795348072852922, 'y': 0.9895525976839664}. Best is trial 888 with value: 9.433672579004236e-05.\n",
      "[I 2024-02-05 00:13:37,747] Trial 988 finished with value: 0.2817434323268424 and parameters: {'x': 0.9772885043848281, 'y': 1.0081237193708108}. Best is trial 888 with value: 9.433672579004236e-05.\n",
      "[I 2024-02-05 00:13:37,765] Trial 989 finished with value: 0.07503899639439607 and parameters: {'x': 0.9599080566245795, 'y': 0.9485217487912359}. Best is trial 888 with value: 9.433672579004236e-05.\n",
      "[I 2024-02-05 00:13:37,783] Trial 990 finished with value: 1.3819907886759344 and parameters: {'x': 1.0384816707189308, 'y': 0.9609490762788554}. Best is trial 888 with value: 9.433672579004236e-05.\n",
      "[I 2024-02-05 00:13:37,802] Trial 991 finished with value: 1.7613245373658162 and parameters: {'x': 0.967394052794877, 'y': 1.068526096121552}. Best is trial 888 with value: 9.433672579004236e-05.\n",
      "[I 2024-02-05 00:13:37,820] Trial 992 finished with value: 6.595813416001596 and parameters: {'x': 1.095543454382707, 'y': 0.94357008517901}. Best is trial 888 with value: 9.433672579004236e-05.\n",
      "[I 2024-02-05 00:13:37,838] Trial 993 finished with value: 0.6775218117132422 and parameters: {'x': 1.0114427257392424, 'y': 0.9407126283786634}. Best is trial 888 with value: 9.433672579004236e-05.\n",
      "[I 2024-02-05 00:13:37,856] Trial 994 finished with value: 2.157522769853149 and parameters: {'x': 0.9570375325794384, 'y': 1.0627430780977387}. Best is trial 888 with value: 9.433672579004236e-05.\n",
      "[I 2024-02-05 00:13:37,873] Trial 995 finished with value: 5.6003244564381784 and parameters: {'x': 1.1054269037136168, 'y': 0.9855535463567636}. Best is trial 888 with value: 9.433672579004236e-05.\n",
      "[I 2024-02-05 00:13:37,891] Trial 996 finished with value: 2.393611265228313 and parameters: {'x': 1.035005375805664, 'y': 0.9165627336962547}. Best is trial 888 with value: 9.433672579004236e-05.\n",
      "[I 2024-02-05 00:13:37,913] Trial 997 finished with value: 778.9662107528228 and parameters: {'x': 0.9536618110319671, 'y': -1.8815219189356545}. Best is trial 888 with value: 9.433672579004236e-05.\n",
      "[I 2024-02-05 00:13:37,935] Trial 998 finished with value: 20.081985012302326 and parameters: {'x': 1.2265264610633528, 'y': 1.0568107858680373}. Best is trial 888 with value: 9.433672579004236e-05.\n",
      "[I 2024-02-05 00:13:37,957] Trial 999 finished with value: 0.9006224366554032 and parameters: {'x': 0.9425959663832796, 'y': 0.9832145126920926}. Best is trial 888 with value: 9.433672579004236e-05.\n"
     ]
    }
   ],
   "source": [
    "import optuna\n",
    "\n",
    "# while the logging from Optuna is very interesting,\n",
    "#                                  ^^^^\n",
    "# it is also very verbose!\n",
    "#            ^^^^^^^^^^^^\n",
    "# uncomment the line below to see it in all its glory\n",
    "#\n",
    "#optuna.logging.set_verbosity(optuna.logging.WARNING)\n",
    "\n",
    "study = optuna.create_study()\n",
    "study.optimize(objective, n_trials=1000)"
   ]
  },
  {
   "cell_type": "code",
   "execution_count": 36,
   "id": "0165f97d-69bb-4be2-bc55-b577f6e3b7f9",
   "metadata": {},
   "outputs": [
    {
     "data": {
      "text/plain": [
       "{'x': 1.0025420052288243, 'y': 1.0041530559308645}"
      ]
     },
     "execution_count": 36,
     "metadata": {},
     "output_type": "execute_result"
    }
   ],
   "source": [
    "study.best_params"
   ]
  },
  {
   "cell_type": "markdown",
   "id": "110333d2-8616-4f71-8d24-902c76235463",
   "metadata": {},
   "source": [
    "Right, let's use `transformers.Trainer.hyperparameter_search` and Optuna to do a hyperparameter search for the best values (given a range) of:\n",
    "\n",
    "1. `num_train_epochs`\n",
    "2. `alpha`\n",
    "3. `temperature`\n",
    "\n",
    "We set up a function `hp_space` which returns a `dict` with the target hyperparameter names as keys, with `suggest_*` values. This function is what we pass to `hyperparameter_search` as the [`hp_space`](optuna.logging.set_verbosity(optuna.logging.WARNING)) argument."
   ]
  },
  {
   "cell_type": "code",
   "execution_count": 37,
   "id": "ea88ba72-25dd-4631-ab13-fb5edbeb92ac",
   "metadata": {},
   "outputs": [],
   "source": [
    "def hp_space(trial):\n",
    "    return {\n",
    "        \"num_train_epochs\": trial.suggest_int(\"num_train_epochs\", 5, 10),\n",
    "        \"alpha\": trial.suggest_float(\"alpha\", 0, 1),\n",
    "        \"temperature\": trial.suggest_float(\"temperature\", 2, 20)\n",
    "    }"
   ]
  },
  {
   "cell_type": "markdown",
   "id": "ddc8350b-43a1-4f93-8df9-ec3fd2a99988",
   "metadata": {},
   "source": [
    "#### For reproducing the results of `hyperparameter_search`\n",
    "\n",
    "In order to reproduce the results of `hyperparameter_search`, we pass in an additional keyword argument which will automagically be passed to the default Optuna backend as an argument to [`optuna.create_study`](https://optuna.readthedocs.io/en/stable/reference/generated/optuna.study.create_study.html#optuna-study-create-study). \n",
    "\n",
    "From this [blogpost Optunaでrandomのseedを固定する方法](https://qiita.com/phorizon20/items/1b795beb202c2dc378ed), something like this is possible for setting the seed that Optuna will use:\n",
    "\n",
    "    study = optuna.create_study(sampler=optuna.samplers.RandomSampler(seed=123))"
   ]
  },
  {
   "cell_type": "code",
   "execution_count": 38,
   "id": "e5ebab0e-3726-4d78-9d35-00fe39739961",
   "metadata": {},
   "outputs": [
    {
     "name": "stderr",
     "output_type": "stream",
     "text": [
      "[I 2024-02-05 00:13:38,038] A new study created in memory with name: no-name-994d99ec-3a09-41a4-bf65-87198445fe23\n",
      "Some weights of DistilBertForSequenceClassification were not initialized from the model checkpoint at distilbert-base-uncased and are newly initialized: ['classifier.bias', 'classifier.weight', 'pre_classifier.bias', 'pre_classifier.weight']\n",
      "You should probably TRAIN this model on a down-stream task to be able to use it for predictions and inference.\n"
     ]
    },
    {
     "data": {
      "text/html": [
       "\n",
       "    <div>\n",
       "      \n",
       "      <progress value='2862' max='2862' style='width:300px; height:20px; vertical-align: middle;'></progress>\n",
       "      [2862/2862 09:35, Epoch 9/9]\n",
       "    </div>\n",
       "    <table border=\"1\" class=\"dataframe\">\n",
       "  <thead>\n",
       " <tr style=\"text-align: left;\">\n",
       "      <th>Epoch</th>\n",
       "      <th>Training Loss</th>\n",
       "      <th>Validation Loss</th>\n",
       "      <th>Accuracy</th>\n",
       "    </tr>\n",
       "  </thead>\n",
       "  <tbody>\n",
       "    <tr>\n",
       "      <td>1</td>\n",
       "      <td>No log</td>\n",
       "      <td>0.208558</td>\n",
       "      <td>0.596452</td>\n",
       "    </tr>\n",
       "    <tr>\n",
       "      <td>2</td>\n",
       "      <td>0.333500</td>\n",
       "      <td>0.099790</td>\n",
       "      <td>0.821290</td>\n",
       "    </tr>\n",
       "    <tr>\n",
       "      <td>3</td>\n",
       "      <td>0.333500</td>\n",
       "      <td>0.065401</td>\n",
       "      <td>0.880968</td>\n",
       "    </tr>\n",
       "    <tr>\n",
       "      <td>4</td>\n",
       "      <td>0.115900</td>\n",
       "      <td>0.049797</td>\n",
       "      <td>0.909032</td>\n",
       "    </tr>\n",
       "    <tr>\n",
       "      <td>5</td>\n",
       "      <td>0.072900</td>\n",
       "      <td>0.040866</td>\n",
       "      <td>0.920000</td>\n",
       "    </tr>\n",
       "    <tr>\n",
       "      <td>6</td>\n",
       "      <td>0.072900</td>\n",
       "      <td>0.035809</td>\n",
       "      <td>0.923548</td>\n",
       "    </tr>\n",
       "    <tr>\n",
       "      <td>7</td>\n",
       "      <td>0.056900</td>\n",
       "      <td>0.032958</td>\n",
       "      <td>0.926129</td>\n",
       "    </tr>\n",
       "    <tr>\n",
       "      <td>8</td>\n",
       "      <td>0.049900</td>\n",
       "      <td>0.031311</td>\n",
       "      <td>0.925806</td>\n",
       "    </tr>\n",
       "    <tr>\n",
       "      <td>9</td>\n",
       "      <td>0.049900</td>\n",
       "      <td>0.030726</td>\n",
       "      <td>0.926452</td>\n",
       "    </tr>\n",
       "  </tbody>\n",
       "</table><p>"
      ],
      "text/plain": [
       "<IPython.core.display.HTML object>"
      ]
     },
     "metadata": {},
     "output_type": "display_data"
    },
    {
     "name": "stderr",
     "output_type": "stream",
     "text": [
      "Checkpoint destination directory distilbert-base-uncased-finetuned-clinc/run-0/checkpoint-500 already exists and is non-empty.Saving will proceed but saved results may be invalid.\n",
      "Checkpoint destination directory distilbert-base-uncased-finetuned-clinc/run-0/checkpoint-1000 already exists and is non-empty.Saving will proceed but saved results may be invalid.\n",
      "Checkpoint destination directory distilbert-base-uncased-finetuned-clinc/run-0/checkpoint-1500 already exists and is non-empty.Saving will proceed but saved results may be invalid.\n",
      "Checkpoint destination directory distilbert-base-uncased-finetuned-clinc/run-0/checkpoint-2000 already exists and is non-empty.Saving will proceed but saved results may be invalid.\n",
      "Checkpoint destination directory distilbert-base-uncased-finetuned-clinc/run-0/checkpoint-2500 already exists and is non-empty.Saving will proceed but saved results may be invalid.\n",
      "[I 2024-02-05 00:23:47,518] Trial 0 finished with value: 0.9264516129032258 and parameters: {'num_train_epochs': 9, 'alpha': 0.751045085465288, 'temperature': 8.432597321474045}. Best is trial 0 with value: 0.9264516129032258.\n",
      "Some weights of DistilBertForSequenceClassification were not initialized from the model checkpoint at distilbert-base-uncased and are newly initialized: ['classifier.bias', 'classifier.weight', 'pre_classifier.bias', 'pre_classifier.weight']\n",
      "You should probably TRAIN this model on a down-stream task to be able to use it for predictions and inference.\n"
     ]
    },
    {
     "data": {
      "text/html": [
       "\n",
       "    <div>\n",
       "      \n",
       "      <progress value='1908' max='1908' style='width:300px; height:20px; vertical-align: middle;'></progress>\n",
       "      [1908/1908 06:19, Epoch 6/6]\n",
       "    </div>\n",
       "    <table border=\"1\" class=\"dataframe\">\n",
       "  <thead>\n",
       " <tr style=\"text-align: left;\">\n",
       "      <th>Epoch</th>\n",
       "      <th>Training Loss</th>\n",
       "      <th>Validation Loss</th>\n",
       "      <th>Accuracy</th>\n",
       "    </tr>\n",
       "  </thead>\n",
       "  <tbody>\n",
       "    <tr>\n",
       "      <td>1</td>\n",
       "      <td>No log</td>\n",
       "      <td>0.277648</td>\n",
       "      <td>0.629355</td>\n",
       "    </tr>\n",
       "    <tr>\n",
       "      <td>2</td>\n",
       "      <td>0.433000</td>\n",
       "      <td>0.125479</td>\n",
       "      <td>0.821613</td>\n",
       "    </tr>\n",
       "    <tr>\n",
       "      <td>3</td>\n",
       "      <td>0.433000</td>\n",
       "      <td>0.078837</td>\n",
       "      <td>0.881935</td>\n",
       "    </tr>\n",
       "    <tr>\n",
       "      <td>4</td>\n",
       "      <td>0.145500</td>\n",
       "      <td>0.060148</td>\n",
       "      <td>0.905484</td>\n",
       "    </tr>\n",
       "    <tr>\n",
       "      <td>5</td>\n",
       "      <td>0.090700</td>\n",
       "      <td>0.051851</td>\n",
       "      <td>0.915161</td>\n",
       "    </tr>\n",
       "    <tr>\n",
       "      <td>6</td>\n",
       "      <td>0.090700</td>\n",
       "      <td>0.049289</td>\n",
       "      <td>0.917419</td>\n",
       "    </tr>\n",
       "  </tbody>\n",
       "</table><p>"
      ],
      "text/plain": [
       "<IPython.core.display.HTML object>"
      ]
     },
     "metadata": {},
     "output_type": "display_data"
    },
    {
     "name": "stderr",
     "output_type": "stream",
     "text": [
      "Checkpoint destination directory distilbert-base-uncased-finetuned-clinc/run-1/checkpoint-500 already exists and is non-empty.Saving will proceed but saved results may be invalid.\n",
      "Checkpoint destination directory distilbert-base-uncased-finetuned-clinc/run-1/checkpoint-1000 already exists and is non-empty.Saving will proceed but saved results may be invalid.\n",
      "Checkpoint destination directory distilbert-base-uncased-finetuned-clinc/run-1/checkpoint-1500 already exists and is non-empty.Saving will proceed but saved results may be invalid.\n",
      "[I 2024-02-05 00:30:36,715] Trial 1 finished with value: 0.9174193548387096 and parameters: {'num_train_epochs': 6, 'alpha': 0.4090011273795646, 'temperature': 3.4782450741530457}. Best is trial 0 with value: 0.9264516129032258.\n",
      "Some weights of DistilBertForSequenceClassification were not initialized from the model checkpoint at distilbert-base-uncased and are newly initialized: ['classifier.bias', 'classifier.weight', 'pre_classifier.bias', 'pre_classifier.weight']\n",
      "You should probably TRAIN this model on a down-stream task to be able to use it for predictions and inference.\n"
     ]
    },
    {
     "data": {
      "text/html": [
       "\n",
       "    <div>\n",
       "      \n",
       "      <progress value='1908' max='1908' style='width:300px; height:20px; vertical-align: middle;'></progress>\n",
       "      [1908/1908 06:18, Epoch 6/6]\n",
       "    </div>\n",
       "    <table border=\"1\" class=\"dataframe\">\n",
       "  <thead>\n",
       " <tr style=\"text-align: left;\">\n",
       "      <th>Epoch</th>\n",
       "      <th>Training Loss</th>\n",
       "      <th>Validation Loss</th>\n",
       "      <th>Accuracy</th>\n",
       "    </tr>\n",
       "  </thead>\n",
       "  <tbody>\n",
       "    <tr>\n",
       "      <td>1</td>\n",
       "      <td>No log</td>\n",
       "      <td>0.366396</td>\n",
       "      <td>0.640323</td>\n",
       "    </tr>\n",
       "    <tr>\n",
       "      <td>2</td>\n",
       "      <td>0.566400</td>\n",
       "      <td>0.146653</td>\n",
       "      <td>0.823548</td>\n",
       "    </tr>\n",
       "    <tr>\n",
       "      <td>3</td>\n",
       "      <td>0.566400</td>\n",
       "      <td>0.082746</td>\n",
       "      <td>0.889677</td>\n",
       "    </tr>\n",
       "    <tr>\n",
       "      <td>4</td>\n",
       "      <td>0.169100</td>\n",
       "      <td>0.061405</td>\n",
       "      <td>0.907097</td>\n",
       "    </tr>\n",
       "    <tr>\n",
       "      <td>5</td>\n",
       "      <td>0.095700</td>\n",
       "      <td>0.052615</td>\n",
       "      <td>0.912903</td>\n",
       "    </tr>\n",
       "    <tr>\n",
       "      <td>6</td>\n",
       "      <td>0.095700</td>\n",
       "      <td>0.050050</td>\n",
       "      <td>0.917742</td>\n",
       "    </tr>\n",
       "  </tbody>\n",
       "</table><p>"
      ],
      "text/plain": [
       "<IPython.core.display.HTML object>"
      ]
     },
     "metadata": {},
     "output_type": "display_data"
    },
    {
     "name": "stderr",
     "output_type": "stream",
     "text": [
      "Checkpoint destination directory distilbert-base-uncased-finetuned-clinc/run-2/checkpoint-500 already exists and is non-empty.Saving will proceed but saved results may be invalid.\n",
      "Checkpoint destination directory distilbert-base-uncased-finetuned-clinc/run-2/checkpoint-1000 already exists and is non-empty.Saving will proceed but saved results may be invalid.\n",
      "Checkpoint destination directory distilbert-base-uncased-finetuned-clinc/run-2/checkpoint-1500 already exists and is non-empty.Saving will proceed but saved results may be invalid.\n",
      "[I 2024-02-05 00:37:22,933] Trial 2 finished with value: 0.917741935483871 and parameters: {'num_train_epochs': 6, 'alpha': 0.4138809245395255, 'temperature': 2.3270127935496596}. Best is trial 0 with value: 0.9264516129032258.\n",
      "Some weights of DistilBertForSequenceClassification were not initialized from the model checkpoint at distilbert-base-uncased and are newly initialized: ['classifier.bias', 'classifier.weight', 'pre_classifier.bias', 'pre_classifier.weight']\n",
      "You should probably TRAIN this model on a down-stream task to be able to use it for predictions and inference.\n"
     ]
    },
    {
     "data": {
      "text/html": [
       "\n",
       "    <div>\n",
       "      \n",
       "      <progress value='2862' max='2862' style='width:300px; height:20px; vertical-align: middle;'></progress>\n",
       "      [2862/2862 09:34, Epoch 9/9]\n",
       "    </div>\n",
       "    <table border=\"1\" class=\"dataframe\">\n",
       "  <thead>\n",
       " <tr style=\"text-align: left;\">\n",
       "      <th>Epoch</th>\n",
       "      <th>Training Loss</th>\n",
       "      <th>Validation Loss</th>\n",
       "      <th>Accuracy</th>\n",
       "    </tr>\n",
       "  </thead>\n",
       "  <tbody>\n",
       "    <tr>\n",
       "      <td>1</td>\n",
       "      <td>No log</td>\n",
       "      <td>0.193039</td>\n",
       "      <td>0.586129</td>\n",
       "    </tr>\n",
       "    <tr>\n",
       "      <td>2</td>\n",
       "      <td>0.309500</td>\n",
       "      <td>0.094852</td>\n",
       "      <td>0.810000</td>\n",
       "    </tr>\n",
       "    <tr>\n",
       "      <td>3</td>\n",
       "      <td>0.309500</td>\n",
       "      <td>0.063794</td>\n",
       "      <td>0.873548</td>\n",
       "    </tr>\n",
       "    <tr>\n",
       "      <td>4</td>\n",
       "      <td>0.109900</td>\n",
       "      <td>0.049287</td>\n",
       "      <td>0.904194</td>\n",
       "    </tr>\n",
       "    <tr>\n",
       "      <td>5</td>\n",
       "      <td>0.070600</td>\n",
       "      <td>0.040856</td>\n",
       "      <td>0.915806</td>\n",
       "    </tr>\n",
       "    <tr>\n",
       "      <td>6</td>\n",
       "      <td>0.070600</td>\n",
       "      <td>0.035979</td>\n",
       "      <td>0.922903</td>\n",
       "    </tr>\n",
       "    <tr>\n",
       "      <td>7</td>\n",
       "      <td>0.055600</td>\n",
       "      <td>0.033184</td>\n",
       "      <td>0.925484</td>\n",
       "    </tr>\n",
       "    <tr>\n",
       "      <td>8</td>\n",
       "      <td>0.048900</td>\n",
       "      <td>0.031559</td>\n",
       "      <td>0.924839</td>\n",
       "    </tr>\n",
       "    <tr>\n",
       "      <td>9</td>\n",
       "      <td>0.048900</td>\n",
       "      <td>0.030981</td>\n",
       "      <td>0.925161</td>\n",
       "    </tr>\n",
       "  </tbody>\n",
       "</table><p>"
      ],
      "text/plain": [
       "<IPython.core.display.HTML object>"
      ]
     },
     "metadata": {},
     "output_type": "display_data"
    },
    {
     "name": "stderr",
     "output_type": "stream",
     "text": [
      "Checkpoint destination directory distilbert-base-uncased-finetuned-clinc/run-3/checkpoint-500 already exists and is non-empty.Saving will proceed but saved results may be invalid.\n",
      "Checkpoint destination directory distilbert-base-uncased-finetuned-clinc/run-3/checkpoint-1000 already exists and is non-empty.Saving will proceed but saved results may be invalid.\n",
      "Checkpoint destination directory distilbert-base-uncased-finetuned-clinc/run-3/checkpoint-1500 already exists and is non-empty.Saving will proceed but saved results may be invalid.\n",
      "Checkpoint destination directory distilbert-base-uncased-finetuned-clinc/run-3/checkpoint-2000 already exists and is non-empty.Saving will proceed but saved results may be invalid.\n",
      "Checkpoint destination directory distilbert-base-uncased-finetuned-clinc/run-3/checkpoint-2500 already exists and is non-empty.Saving will proceed but saved results may be invalid.\n",
      "[I 2024-02-05 00:47:32,428] Trial 3 finished with value: 0.9251612903225807 and parameters: {'num_train_epochs': 9, 'alpha': 0.600103406406427, 'temperature': 18.5470789401325}. Best is trial 0 with value: 0.9264516129032258.\n",
      "Some weights of DistilBertForSequenceClassification were not initialized from the model checkpoint at distilbert-base-uncased and are newly initialized: ['classifier.bias', 'classifier.weight', 'pre_classifier.bias', 'pre_classifier.weight']\n",
      "You should probably TRAIN this model on a down-stream task to be able to use it for predictions and inference.\n"
     ]
    },
    {
     "data": {
      "text/html": [
       "\n",
       "    <div>\n",
       "      \n",
       "      <progress value='2226' max='2226' style='width:300px; height:20px; vertical-align: middle;'></progress>\n",
       "      [2226/2226 07:18, Epoch 7/7]\n",
       "    </div>\n",
       "    <table border=\"1\" class=\"dataframe\">\n",
       "  <thead>\n",
       " <tr style=\"text-align: left;\">\n",
       "      <th>Epoch</th>\n",
       "      <th>Training Loss</th>\n",
       "      <th>Validation Loss</th>\n",
       "      <th>Accuracy</th>\n",
       "    </tr>\n",
       "  </thead>\n",
       "  <tbody>\n",
       "    <tr>\n",
       "      <td>1</td>\n",
       "      <td>No log</td>\n",
       "      <td>0.198920</td>\n",
       "      <td>0.583548</td>\n",
       "    </tr>\n",
       "    <tr>\n",
       "      <td>2</td>\n",
       "      <td>0.316000</td>\n",
       "      <td>0.099682</td>\n",
       "      <td>0.805161</td>\n",
       "    </tr>\n",
       "    <tr>\n",
       "      <td>3</td>\n",
       "      <td>0.316000</td>\n",
       "      <td>0.068440</td>\n",
       "      <td>0.867742</td>\n",
       "    </tr>\n",
       "    <tr>\n",
       "      <td>4</td>\n",
       "      <td>0.115300</td>\n",
       "      <td>0.054054</td>\n",
       "      <td>0.897097</td>\n",
       "    </tr>\n",
       "    <tr>\n",
       "      <td>5</td>\n",
       "      <td>0.076600</td>\n",
       "      <td>0.046285</td>\n",
       "      <td>0.910000</td>\n",
       "    </tr>\n",
       "    <tr>\n",
       "      <td>6</td>\n",
       "      <td>0.076600</td>\n",
       "      <td>0.042276</td>\n",
       "      <td>0.916129</td>\n",
       "    </tr>\n",
       "    <tr>\n",
       "      <td>7</td>\n",
       "      <td>0.063000</td>\n",
       "      <td>0.040881</td>\n",
       "      <td>0.919355</td>\n",
       "    </tr>\n",
       "  </tbody>\n",
       "</table><p>"
      ],
      "text/plain": [
       "<IPython.core.display.HTML object>"
      ]
     },
     "metadata": {},
     "output_type": "display_data"
    },
    {
     "name": "stderr",
     "output_type": "stream",
     "text": [
      "Checkpoint destination directory distilbert-base-uncased-finetuned-clinc/run-4/checkpoint-500 already exists and is non-empty.Saving will proceed but saved results may be invalid.\n",
      "Checkpoint destination directory distilbert-base-uncased-finetuned-clinc/run-4/checkpoint-1000 already exists and is non-empty.Saving will proceed but saved results may be invalid.\n",
      "Checkpoint destination directory distilbert-base-uncased-finetuned-clinc/run-4/checkpoint-1500 already exists and is non-empty.Saving will proceed but saved results may be invalid.\n",
      "Checkpoint destination directory distilbert-base-uncased-finetuned-clinc/run-4/checkpoint-2000 already exists and is non-empty.Saving will proceed but saved results may be invalid.\n",
      "[I 2024-02-05 00:54:51,745] Trial 4 finished with value: 0.9193548387096774 and parameters: {'num_train_epochs': 7, 'alpha': 0.555179672553343, 'temperature': 14.915369008812359}. Best is trial 0 with value: 0.9264516129032258.\n",
      "Some weights of DistilBertForSequenceClassification were not initialized from the model checkpoint at distilbert-base-uncased and are newly initialized: ['classifier.bias', 'classifier.weight', 'pre_classifier.bias', 'pre_classifier.weight']\n",
      "You should probably TRAIN this model on a down-stream task to be able to use it for predictions and inference.\n"
     ]
    },
    {
     "data": {
      "text/html": [
       "\n",
       "    <div>\n",
       "      \n",
       "      <progress value='318' max='1908' style='width:300px; height:20px; vertical-align: middle;'></progress>\n",
       "      [ 318/1908 00:55 < 04:37, 5.74 it/s, Epoch 1/6]\n",
       "    </div>\n",
       "    <table border=\"1\" class=\"dataframe\">\n",
       "  <thead>\n",
       " <tr style=\"text-align: left;\">\n",
       "      <th>Epoch</th>\n",
       "      <th>Training Loss</th>\n",
       "      <th>Validation Loss</th>\n",
       "      <th>Accuracy</th>\n",
       "    </tr>\n",
       "  </thead>\n",
       "  <tbody>\n",
       "    <tr>\n",
       "      <td>1</td>\n",
       "      <td>No log</td>\n",
       "      <td>0.200448</td>\n",
       "      <td>0.579032</td>\n",
       "    </tr>\n",
       "  </tbody>\n",
       "</table><p>"
      ],
      "text/plain": [
       "<IPython.core.display.HTML object>"
      ]
     },
     "metadata": {},
     "output_type": "display_data"
    },
    {
     "name": "stderr",
     "output_type": "stream",
     "text": [
      "[I 2024-02-05 00:55:47,336] Trial 5 pruned. \n",
      "Some weights of DistilBertForSequenceClassification were not initialized from the model checkpoint at distilbert-base-uncased and are newly initialized: ['classifier.bias', 'classifier.weight', 'pre_classifier.bias', 'pre_classifier.weight']\n",
      "You should probably TRAIN this model on a down-stream task to be able to use it for predictions and inference.\n"
     ]
    },
    {
     "data": {
      "text/html": [
       "\n",
       "    <div>\n",
       "      \n",
       "      <progress value='636' max='1590' style='width:300px; height:20px; vertical-align: middle;'></progress>\n",
       "      [ 636/1590 02:07 < 03:11, 4.98 it/s, Epoch 2/5]\n",
       "    </div>\n",
       "    <table border=\"1\" class=\"dataframe\">\n",
       "  <thead>\n",
       " <tr style=\"text-align: left;\">\n",
       "      <th>Epoch</th>\n",
       "      <th>Training Loss</th>\n",
       "      <th>Validation Loss</th>\n",
       "      <th>Accuracy</th>\n",
       "    </tr>\n",
       "  </thead>\n",
       "  <tbody>\n",
       "    <tr>\n",
       "      <td>1</td>\n",
       "      <td>No log</td>\n",
       "      <td>0.258076</td>\n",
       "      <td>0.601935</td>\n",
       "    </tr>\n",
       "    <tr>\n",
       "      <td>2</td>\n",
       "      <td>0.400200</td>\n",
       "      <td>0.125764</td>\n",
       "      <td>0.810968</td>\n",
       "    </tr>\n",
       "  </tbody>\n",
       "</table><p>"
      ],
      "text/plain": [
       "<IPython.core.display.HTML object>"
      ]
     },
     "metadata": {},
     "output_type": "display_data"
    },
    {
     "name": "stderr",
     "output_type": "stream",
     "text": [
      "Checkpoint destination directory distilbert-base-uncased-finetuned-clinc/run-6/checkpoint-500 already exists and is non-empty.Saving will proceed but saved results may be invalid.\n",
      "[I 2024-02-05 00:57:55,040] Trial 6 pruned. \n",
      "Some weights of DistilBertForSequenceClassification were not initialized from the model checkpoint at distilbert-base-uncased and are newly initialized: ['classifier.bias', 'classifier.weight', 'pre_classifier.bias', 'pre_classifier.weight']\n",
      "You should probably TRAIN this model on a down-stream task to be able to use it for predictions and inference.\n"
     ]
    },
    {
     "data": {
      "text/html": [
       "\n",
       "    <div>\n",
       "      \n",
       "      <progress value='318' max='1590' style='width:300px; height:20px; vertical-align: middle;'></progress>\n",
       "      [ 318/1590 00:55 < 03:43, 5.69 it/s, Epoch 1/5]\n",
       "    </div>\n",
       "    <table border=\"1\" class=\"dataframe\">\n",
       "  <thead>\n",
       " <tr style=\"text-align: left;\">\n",
       "      <th>Epoch</th>\n",
       "      <th>Training Loss</th>\n",
       "      <th>Validation Loss</th>\n",
       "      <th>Accuracy</th>\n",
       "    </tr>\n",
       "  </thead>\n",
       "  <tbody>\n",
       "    <tr>\n",
       "      <td>1</td>\n",
       "      <td>No log</td>\n",
       "      <td>0.201138</td>\n",
       "      <td>0.568387</td>\n",
       "    </tr>\n",
       "  </tbody>\n",
       "</table><p>"
      ],
      "text/plain": [
       "<IPython.core.display.HTML object>"
      ]
     },
     "metadata": {},
     "output_type": "display_data"
    },
    {
     "name": "stderr",
     "output_type": "stream",
     "text": [
      "[I 2024-02-05 00:58:51,098] Trial 7 pruned. \n",
      "Some weights of DistilBertForSequenceClassification were not initialized from the model checkpoint at distilbert-base-uncased and are newly initialized: ['classifier.bias', 'classifier.weight', 'pre_classifier.bias', 'pre_classifier.weight']\n",
      "You should probably TRAIN this model on a down-stream task to be able to use it for predictions and inference.\n"
     ]
    },
    {
     "data": {
      "text/html": [
       "\n",
       "    <div>\n",
       "      \n",
       "      <progress value='636' max='1590' style='width:300px; height:20px; vertical-align: middle;'></progress>\n",
       "      [ 636/1590 02:07 < 03:11, 4.98 it/s, Epoch 2/5]\n",
       "    </div>\n",
       "    <table border=\"1\" class=\"dataframe\">\n",
       "  <thead>\n",
       " <tr style=\"text-align: left;\">\n",
       "      <th>Epoch</th>\n",
       "      <th>Training Loss</th>\n",
       "      <th>Validation Loss</th>\n",
       "      <th>Accuracy</th>\n",
       "    </tr>\n",
       "  </thead>\n",
       "  <tbody>\n",
       "    <tr>\n",
       "      <td>1</td>\n",
       "      <td>No log</td>\n",
       "      <td>0.276075</td>\n",
       "      <td>0.614194</td>\n",
       "    </tr>\n",
       "    <tr>\n",
       "      <td>2</td>\n",
       "      <td>0.426700</td>\n",
       "      <td>0.131222</td>\n",
       "      <td>0.812581</td>\n",
       "    </tr>\n",
       "  </tbody>\n",
       "</table><p>"
      ],
      "text/plain": [
       "<IPython.core.display.HTML object>"
      ]
     },
     "metadata": {},
     "output_type": "display_data"
    },
    {
     "name": "stderr",
     "output_type": "stream",
     "text": [
      "Checkpoint destination directory distilbert-base-uncased-finetuned-clinc/run-8/checkpoint-500 already exists and is non-empty.Saving will proceed but saved results may be invalid.\n",
      "[I 2024-02-05 01:00:58,948] Trial 8 pruned. \n",
      "Some weights of DistilBertForSequenceClassification were not initialized from the model checkpoint at distilbert-base-uncased and are newly initialized: ['classifier.bias', 'classifier.weight', 'pre_classifier.bias', 'pre_classifier.weight']\n",
      "You should probably TRAIN this model on a down-stream task to be able to use it for predictions and inference.\n"
     ]
    },
    {
     "data": {
      "text/html": [
       "\n",
       "    <div>\n",
       "      \n",
       "      <progress value='318' max='3180' style='width:300px; height:20px; vertical-align: middle;'></progress>\n",
       "      [ 318/3180 00:55 < 08:23, 5.69 it/s, Epoch 1/10]\n",
       "    </div>\n",
       "    <table border=\"1\" class=\"dataframe\">\n",
       "  <thead>\n",
       " <tr style=\"text-align: left;\">\n",
       "      <th>Epoch</th>\n",
       "      <th>Training Loss</th>\n",
       "      <th>Validation Loss</th>\n",
       "      <th>Accuracy</th>\n",
       "    </tr>\n",
       "  </thead>\n",
       "  <tbody>\n",
       "    <tr>\n",
       "      <td>1</td>\n",
       "      <td>No log</td>\n",
       "      <td>0.191335</td>\n",
       "      <td>0.588065</td>\n",
       "    </tr>\n",
       "  </tbody>\n",
       "</table><p>"
      ],
      "text/plain": [
       "<IPython.core.display.HTML object>"
      ]
     },
     "metadata": {},
     "output_type": "display_data"
    },
    {
     "name": "stderr",
     "output_type": "stream",
     "text": [
      "[I 2024-02-05 01:01:55,069] Trial 9 pruned. \n",
      "Some weights of DistilBertForSequenceClassification were not initialized from the model checkpoint at distilbert-base-uncased and are newly initialized: ['classifier.bias', 'classifier.weight', 'pre_classifier.bias', 'pre_classifier.weight']\n",
      "You should probably TRAIN this model on a down-stream task to be able to use it for predictions and inference.\n"
     ]
    },
    {
     "data": {
      "text/html": [
       "\n",
       "    <div>\n",
       "      \n",
       "      <progress value='3180' max='3180' style='width:300px; height:20px; vertical-align: middle;'></progress>\n",
       "      [3180/3180 10:42, Epoch 10/10]\n",
       "    </div>\n",
       "    <table border=\"1\" class=\"dataframe\">\n",
       "  <thead>\n",
       " <tr style=\"text-align: left;\">\n",
       "      <th>Epoch</th>\n",
       "      <th>Training Loss</th>\n",
       "      <th>Validation Loss</th>\n",
       "      <th>Accuracy</th>\n",
       "    </tr>\n",
       "  </thead>\n",
       "  <tbody>\n",
       "    <tr>\n",
       "      <td>1</td>\n",
       "      <td>No log</td>\n",
       "      <td>0.207536</td>\n",
       "      <td>0.598065</td>\n",
       "    </tr>\n",
       "    <tr>\n",
       "      <td>2</td>\n",
       "      <td>0.332900</td>\n",
       "      <td>0.098404</td>\n",
       "      <td>0.823871</td>\n",
       "    </tr>\n",
       "    <tr>\n",
       "      <td>3</td>\n",
       "      <td>0.332900</td>\n",
       "      <td>0.063918</td>\n",
       "      <td>0.883548</td>\n",
       "    </tr>\n",
       "    <tr>\n",
       "      <td>4</td>\n",
       "      <td>0.114400</td>\n",
       "      <td>0.048298</td>\n",
       "      <td>0.913226</td>\n",
       "    </tr>\n",
       "    <tr>\n",
       "      <td>5</td>\n",
       "      <td>0.071100</td>\n",
       "      <td>0.039251</td>\n",
       "      <td>0.920000</td>\n",
       "    </tr>\n",
       "    <tr>\n",
       "      <td>6</td>\n",
       "      <td>0.071100</td>\n",
       "      <td>0.034125</td>\n",
       "      <td>0.925806</td>\n",
       "    </tr>\n",
       "    <tr>\n",
       "      <td>7</td>\n",
       "      <td>0.054800</td>\n",
       "      <td>0.031108</td>\n",
       "      <td>0.927419</td>\n",
       "    </tr>\n",
       "    <tr>\n",
       "      <td>8</td>\n",
       "      <td>0.047300</td>\n",
       "      <td>0.029159</td>\n",
       "      <td>0.927097</td>\n",
       "    </tr>\n",
       "    <tr>\n",
       "      <td>9</td>\n",
       "      <td>0.047300</td>\n",
       "      <td>0.028282</td>\n",
       "      <td>0.929355</td>\n",
       "    </tr>\n",
       "    <tr>\n",
       "      <td>10</td>\n",
       "      <td>0.043500</td>\n",
       "      <td>0.027713</td>\n",
       "      <td>0.929355</td>\n",
       "    </tr>\n",
       "  </tbody>\n",
       "</table><p>"
      ],
      "text/plain": [
       "<IPython.core.display.HTML object>"
      ]
     },
     "metadata": {},
     "output_type": "display_data"
    },
    {
     "name": "stderr",
     "output_type": "stream",
     "text": [
      "Checkpoint destination directory distilbert-base-uncased-finetuned-clinc/run-10/checkpoint-500 already exists and is non-empty.Saving will proceed but saved results may be invalid.\n",
      "Checkpoint destination directory distilbert-base-uncased-finetuned-clinc/run-10/checkpoint-1000 already exists and is non-empty.Saving will proceed but saved results may be invalid.\n",
      "Checkpoint destination directory distilbert-base-uncased-finetuned-clinc/run-10/checkpoint-1500 already exists and is non-empty.Saving will proceed but saved results may be invalid.\n",
      "Checkpoint destination directory distilbert-base-uncased-finetuned-clinc/run-10/checkpoint-2000 already exists and is non-empty.Saving will proceed but saved results may be invalid.\n",
      "Checkpoint destination directory distilbert-base-uncased-finetuned-clinc/run-10/checkpoint-2500 already exists and is non-empty.Saving will proceed but saved results may be invalid.\n",
      "Checkpoint destination directory distilbert-base-uncased-finetuned-clinc/run-10/checkpoint-3000 already exists and is non-empty.Saving will proceed but saved results may be invalid.\n",
      "[I 2024-02-05 01:12:37,943] Trial 10 finished with value: 0.9293548387096774 and parameters: {'num_train_epochs': 10, 'alpha': 0.3948114252292986, 'temperature': 8.39196173495558}. Best is trial 10 with value: 0.9293548387096774.\n",
      "Some weights of DistilBertForSequenceClassification were not initialized from the model checkpoint at distilbert-base-uncased and are newly initialized: ['classifier.bias', 'classifier.weight', 'pre_classifier.bias', 'pre_classifier.weight']\n",
      "You should probably TRAIN this model on a down-stream task to be able to use it for predictions and inference.\n"
     ]
    },
    {
     "data": {
      "text/html": [
       "\n",
       "    <div>\n",
       "      \n",
       "      <progress value='2862' max='2862' style='width:300px; height:20px; vertical-align: middle;'></progress>\n",
       "      [2862/2862 09:34, Epoch 9/9]\n",
       "    </div>\n",
       "    <table border=\"1\" class=\"dataframe\">\n",
       "  <thead>\n",
       " <tr style=\"text-align: left;\">\n",
       "      <th>Epoch</th>\n",
       "      <th>Training Loss</th>\n",
       "      <th>Validation Loss</th>\n",
       "      <th>Accuracy</th>\n",
       "    </tr>\n",
       "  </thead>\n",
       "  <tbody>\n",
       "    <tr>\n",
       "      <td>1</td>\n",
       "      <td>No log</td>\n",
       "      <td>0.320461</td>\n",
       "      <td>0.650645</td>\n",
       "    </tr>\n",
       "    <tr>\n",
       "      <td>2</td>\n",
       "      <td>0.505800</td>\n",
       "      <td>0.124436</td>\n",
       "      <td>0.839677</td>\n",
       "    </tr>\n",
       "    <tr>\n",
       "      <td>3</td>\n",
       "      <td>0.505800</td>\n",
       "      <td>0.068952</td>\n",
       "      <td>0.898710</td>\n",
       "    </tr>\n",
       "    <tr>\n",
       "      <td>4</td>\n",
       "      <td>0.145400</td>\n",
       "      <td>0.049860</td>\n",
       "      <td>0.921290</td>\n",
       "    </tr>\n",
       "    <tr>\n",
       "      <td>5</td>\n",
       "      <td>0.079100</td>\n",
       "      <td>0.040520</td>\n",
       "      <td>0.923871</td>\n",
       "    </tr>\n",
       "    <tr>\n",
       "      <td>6</td>\n",
       "      <td>0.079100</td>\n",
       "      <td>0.035728</td>\n",
       "      <td>0.929032</td>\n",
       "    </tr>\n",
       "    <tr>\n",
       "      <td>7</td>\n",
       "      <td>0.059800</td>\n",
       "      <td>0.033125</td>\n",
       "      <td>0.930968</td>\n",
       "    </tr>\n",
       "    <tr>\n",
       "      <td>8</td>\n",
       "      <td>0.052400</td>\n",
       "      <td>0.031614</td>\n",
       "      <td>0.931613</td>\n",
       "    </tr>\n",
       "    <tr>\n",
       "      <td>9</td>\n",
       "      <td>0.052400</td>\n",
       "      <td>0.031081</td>\n",
       "      <td>0.929677</td>\n",
       "    </tr>\n",
       "  </tbody>\n",
       "</table><p>"
      ],
      "text/plain": [
       "<IPython.core.display.HTML object>"
      ]
     },
     "metadata": {},
     "output_type": "display_data"
    },
    {
     "name": "stderr",
     "output_type": "stream",
     "text": [
      "Checkpoint destination directory distilbert-base-uncased-finetuned-clinc/run-11/checkpoint-500 already exists and is non-empty.Saving will proceed but saved results may be invalid.\n",
      "Checkpoint destination directory distilbert-base-uncased-finetuned-clinc/run-11/checkpoint-1000 already exists and is non-empty.Saving will proceed but saved results may be invalid.\n",
      "Checkpoint destination directory distilbert-base-uncased-finetuned-clinc/run-11/checkpoint-1500 already exists and is non-empty.Saving will proceed but saved results may be invalid.\n",
      "Checkpoint destination directory distilbert-base-uncased-finetuned-clinc/run-11/checkpoint-2000 already exists and is non-empty.Saving will proceed but saved results may be invalid.\n",
      "Checkpoint destination directory distilbert-base-uncased-finetuned-clinc/run-11/checkpoint-2500 already exists and is non-empty.Saving will proceed but saved results may be invalid.\n",
      "[I 2024-02-05 01:22:46,106] Trial 11 finished with value: 0.9296774193548387 and parameters: {'num_train_epochs': 9, 'alpha': 0.2305689274490612, 'temperature': 2.6309065979268995}. Best is trial 11 with value: 0.9296774193548387.\n",
      "Some weights of DistilBertForSequenceClassification were not initialized from the model checkpoint at distilbert-base-uncased and are newly initialized: ['classifier.bias', 'classifier.weight', 'pre_classifier.bias', 'pre_classifier.weight']\n",
      "You should probably TRAIN this model on a down-stream task to be able to use it for predictions and inference.\n"
     ]
    },
    {
     "data": {
      "text/html": [
       "\n",
       "    <div>\n",
       "      \n",
       "      <progress value='3180' max='3180' style='width:300px; height:20px; vertical-align: middle;'></progress>\n",
       "      [3180/3180 10:42, Epoch 10/10]\n",
       "    </div>\n",
       "    <table border=\"1\" class=\"dataframe\">\n",
       "  <thead>\n",
       " <tr style=\"text-align: left;\">\n",
       "      <th>Epoch</th>\n",
       "      <th>Training Loss</th>\n",
       "      <th>Validation Loss</th>\n",
       "      <th>Accuracy</th>\n",
       "    </tr>\n",
       "  </thead>\n",
       "  <tbody>\n",
       "    <tr>\n",
       "      <td>1</td>\n",
       "      <td>No log</td>\n",
       "      <td>0.233412</td>\n",
       "      <td>0.624516</td>\n",
       "    </tr>\n",
       "    <tr>\n",
       "      <td>2</td>\n",
       "      <td>0.372900</td>\n",
       "      <td>0.105155</td>\n",
       "      <td>0.835161</td>\n",
       "    </tr>\n",
       "    <tr>\n",
       "      <td>3</td>\n",
       "      <td>0.372900</td>\n",
       "      <td>0.065236</td>\n",
       "      <td>0.890645</td>\n",
       "    </tr>\n",
       "    <tr>\n",
       "      <td>4</td>\n",
       "      <td>0.122700</td>\n",
       "      <td>0.048239</td>\n",
       "      <td>0.915484</td>\n",
       "    </tr>\n",
       "    <tr>\n",
       "      <td>5</td>\n",
       "      <td>0.073400</td>\n",
       "      <td>0.038792</td>\n",
       "      <td>0.923871</td>\n",
       "    </tr>\n",
       "    <tr>\n",
       "      <td>6</td>\n",
       "      <td>0.073400</td>\n",
       "      <td>0.033684</td>\n",
       "      <td>0.927097</td>\n",
       "    </tr>\n",
       "    <tr>\n",
       "      <td>7</td>\n",
       "      <td>0.055800</td>\n",
       "      <td>0.030709</td>\n",
       "      <td>0.930323</td>\n",
       "    </tr>\n",
       "    <tr>\n",
       "      <td>8</td>\n",
       "      <td>0.048100</td>\n",
       "      <td>0.028803</td>\n",
       "      <td>0.929677</td>\n",
       "    </tr>\n",
       "    <tr>\n",
       "      <td>9</td>\n",
       "      <td>0.048100</td>\n",
       "      <td>0.027963</td>\n",
       "      <td>0.932258</td>\n",
       "    </tr>\n",
       "    <tr>\n",
       "      <td>10</td>\n",
       "      <td>0.044200</td>\n",
       "      <td>0.027414</td>\n",
       "      <td>0.931290</td>\n",
       "    </tr>\n",
       "  </tbody>\n",
       "</table><p>"
      ],
      "text/plain": [
       "<IPython.core.display.HTML object>"
      ]
     },
     "metadata": {},
     "output_type": "display_data"
    },
    {
     "name": "stderr",
     "output_type": "stream",
     "text": [
      "Checkpoint destination directory distilbert-base-uncased-finetuned-clinc/run-12/checkpoint-500 already exists and is non-empty.Saving will proceed but saved results may be invalid.\n",
      "Checkpoint destination directory distilbert-base-uncased-finetuned-clinc/run-12/checkpoint-1000 already exists and is non-empty.Saving will proceed but saved results may be invalid.\n",
      "Checkpoint destination directory distilbert-base-uncased-finetuned-clinc/run-12/checkpoint-1500 already exists and is non-empty.Saving will proceed but saved results may be invalid.\n",
      "Checkpoint destination directory distilbert-base-uncased-finetuned-clinc/run-12/checkpoint-2000 already exists and is non-empty.Saving will proceed but saved results may be invalid.\n",
      "Checkpoint destination directory distilbert-base-uncased-finetuned-clinc/run-12/checkpoint-2500 already exists and is non-empty.Saving will proceed but saved results may be invalid.\n",
      "Checkpoint destination directory distilbert-base-uncased-finetuned-clinc/run-12/checkpoint-3000 already exists and is non-empty.Saving will proceed but saved results may be invalid.\n",
      "[I 2024-02-05 01:33:29,562] Trial 12 finished with value: 0.9312903225806451 and parameters: {'num_train_epochs': 10, 'alpha': 0.5858821400787321, 'temperature': 4.917005721212045}. Best is trial 12 with value: 0.9312903225806451.\n",
      "Some weights of DistilBertForSequenceClassification were not initialized from the model checkpoint at distilbert-base-uncased and are newly initialized: ['classifier.bias', 'classifier.weight', 'pre_classifier.bias', 'pre_classifier.weight']\n",
      "You should probably TRAIN this model on a down-stream task to be able to use it for predictions and inference.\n"
     ]
    },
    {
     "data": {
      "text/html": [
       "\n",
       "    <div>\n",
       "      \n",
       "      <progress value='318' max='2862' style='width:300px; height:20px; vertical-align: middle;'></progress>\n",
       "      [ 318/2862 00:55 < 07:25, 5.71 it/s, Epoch 1/9]\n",
       "    </div>\n",
       "    <table border=\"1\" class=\"dataframe\">\n",
       "  <thead>\n",
       " <tr style=\"text-align: left;\">\n",
       "      <th>Epoch</th>\n",
       "      <th>Training Loss</th>\n",
       "      <th>Validation Loss</th>\n",
       "      <th>Accuracy</th>\n",
       "    </tr>\n",
       "  </thead>\n",
       "  <tbody>\n",
       "    <tr>\n",
       "      <td>1</td>\n",
       "      <td>No log</td>\n",
       "      <td>0.200417</td>\n",
       "      <td>0.593226</td>\n",
       "    </tr>\n",
       "  </tbody>\n",
       "</table><p>"
      ],
      "text/plain": [
       "<IPython.core.display.HTML object>"
      ]
     },
     "metadata": {},
     "output_type": "display_data"
    },
    {
     "name": "stderr",
     "output_type": "stream",
     "text": [
      "[I 2024-02-05 01:34:25,434] Trial 13 pruned. \n",
      "Some weights of DistilBertForSequenceClassification were not initialized from the model checkpoint at distilbert-base-uncased and are newly initialized: ['classifier.bias', 'classifier.weight', 'pre_classifier.bias', 'pre_classifier.weight']\n",
      "You should probably TRAIN this model on a down-stream task to be able to use it for predictions and inference.\n"
     ]
    },
    {
     "data": {
      "text/html": [
       "\n",
       "    <div>\n",
       "      \n",
       "      <progress value='318' max='2226' style='width:300px; height:20px; vertical-align: middle;'></progress>\n",
       "      [ 318/2226 00:55 < 05:33, 5.73 it/s, Epoch 1/7]\n",
       "    </div>\n",
       "    <table border=\"1\" class=\"dataframe\">\n",
       "  <thead>\n",
       " <tr style=\"text-align: left;\">\n",
       "      <th>Epoch</th>\n",
       "      <th>Training Loss</th>\n",
       "      <th>Validation Loss</th>\n",
       "      <th>Accuracy</th>\n",
       "    </tr>\n",
       "  </thead>\n",
       "  <tbody>\n",
       "    <tr>\n",
       "      <td>1</td>\n",
       "      <td>No log</td>\n",
       "      <td>0.202783</td>\n",
       "      <td>0.585806</td>\n",
       "    </tr>\n",
       "  </tbody>\n",
       "</table><p>"
      ],
      "text/plain": [
       "<IPython.core.display.HTML object>"
      ]
     },
     "metadata": {},
     "output_type": "display_data"
    },
    {
     "name": "stderr",
     "output_type": "stream",
     "text": [
      "[I 2024-02-05 01:35:21,148] Trial 14 pruned. \n",
      "Some weights of DistilBertForSequenceClassification were not initialized from the model checkpoint at distilbert-base-uncased and are newly initialized: ['classifier.bias', 'classifier.weight', 'pre_classifier.bias', 'pre_classifier.weight']\n",
      "You should probably TRAIN this model on a down-stream task to be able to use it for predictions and inference.\n"
     ]
    },
    {
     "data": {
      "text/html": [
       "\n",
       "    <div>\n",
       "      \n",
       "      <progress value='318' max='1590' style='width:300px; height:20px; vertical-align: middle;'></progress>\n",
       "      [ 318/1590 00:55 < 03:41, 5.74 it/s, Epoch 1/5]\n",
       "    </div>\n",
       "    <table border=\"1\" class=\"dataframe\">\n",
       "  <thead>\n",
       " <tr style=\"text-align: left;\">\n",
       "      <th>Epoch</th>\n",
       "      <th>Training Loss</th>\n",
       "      <th>Validation Loss</th>\n",
       "      <th>Accuracy</th>\n",
       "    </tr>\n",
       "  </thead>\n",
       "  <tbody>\n",
       "    <tr>\n",
       "      <td>1</td>\n",
       "      <td>No log</td>\n",
       "      <td>0.203181</td>\n",
       "      <td>0.570323</td>\n",
       "    </tr>\n",
       "  </tbody>\n",
       "</table><p>"
      ],
      "text/plain": [
       "<IPython.core.display.HTML object>"
      ]
     },
     "metadata": {},
     "output_type": "display_data"
    },
    {
     "name": "stderr",
     "output_type": "stream",
     "text": [
      "[I 2024-02-05 01:36:16,720] Trial 15 pruned. \n",
      "Some weights of DistilBertForSequenceClassification were not initialized from the model checkpoint at distilbert-base-uncased and are newly initialized: ['classifier.bias', 'classifier.weight', 'pre_classifier.bias', 'pre_classifier.weight']\n",
      "You should probably TRAIN this model on a down-stream task to be able to use it for predictions and inference.\n"
     ]
    },
    {
     "data": {
      "text/html": [
       "\n",
       "    <div>\n",
       "      \n",
       "      <progress value='3180' max='3180' style='width:300px; height:20px; vertical-align: middle;'></progress>\n",
       "      [3180/3180 10:41, Epoch 10/10]\n",
       "    </div>\n",
       "    <table border=\"1\" class=\"dataframe\">\n",
       "  <thead>\n",
       " <tr style=\"text-align: left;\">\n",
       "      <th>Epoch</th>\n",
       "      <th>Training Loss</th>\n",
       "      <th>Validation Loss</th>\n",
       "      <th>Accuracy</th>\n",
       "    </tr>\n",
       "  </thead>\n",
       "  <tbody>\n",
       "    <tr>\n",
       "      <td>1</td>\n",
       "      <td>No log</td>\n",
       "      <td>0.238655</td>\n",
       "      <td>0.626452</td>\n",
       "    </tr>\n",
       "    <tr>\n",
       "      <td>2</td>\n",
       "      <td>0.380900</td>\n",
       "      <td>0.106399</td>\n",
       "      <td>0.834194</td>\n",
       "    </tr>\n",
       "    <tr>\n",
       "      <td>3</td>\n",
       "      <td>0.380900</td>\n",
       "      <td>0.065417</td>\n",
       "      <td>0.892903</td>\n",
       "    </tr>\n",
       "    <tr>\n",
       "      <td>4</td>\n",
       "      <td>0.124200</td>\n",
       "      <td>0.048202</td>\n",
       "      <td>0.915806</td>\n",
       "    </tr>\n",
       "    <tr>\n",
       "      <td>5</td>\n",
       "      <td>0.073700</td>\n",
       "      <td>0.038700</td>\n",
       "      <td>0.923871</td>\n",
       "    </tr>\n",
       "    <tr>\n",
       "      <td>6</td>\n",
       "      <td>0.073700</td>\n",
       "      <td>0.033626</td>\n",
       "      <td>0.927097</td>\n",
       "    </tr>\n",
       "    <tr>\n",
       "      <td>7</td>\n",
       "      <td>0.055900</td>\n",
       "      <td>0.030675</td>\n",
       "      <td>0.930323</td>\n",
       "    </tr>\n",
       "    <tr>\n",
       "      <td>8</td>\n",
       "      <td>0.048200</td>\n",
       "      <td>0.028789</td>\n",
       "      <td>0.930000</td>\n",
       "    </tr>\n",
       "    <tr>\n",
       "      <td>9</td>\n",
       "      <td>0.048200</td>\n",
       "      <td>0.027963</td>\n",
       "      <td>0.931935</td>\n",
       "    </tr>\n",
       "    <tr>\n",
       "      <td>10</td>\n",
       "      <td>0.044300</td>\n",
       "      <td>0.027416</td>\n",
       "      <td>0.931290</td>\n",
       "    </tr>\n",
       "  </tbody>\n",
       "</table><p>"
      ],
      "text/plain": [
       "<IPython.core.display.HTML object>"
      ]
     },
     "metadata": {},
     "output_type": "display_data"
    },
    {
     "name": "stderr",
     "output_type": "stream",
     "text": [
      "Checkpoint destination directory distilbert-base-uncased-finetuned-clinc/run-16/checkpoint-500 already exists and is non-empty.Saving will proceed but saved results may be invalid.\n",
      "Checkpoint destination directory distilbert-base-uncased-finetuned-clinc/run-16/checkpoint-1000 already exists and is non-empty.Saving will proceed but saved results may be invalid.\n",
      "Checkpoint destination directory distilbert-base-uncased-finetuned-clinc/run-16/checkpoint-1500 already exists and is non-empty.Saving will proceed but saved results may be invalid.\n",
      "Checkpoint destination directory distilbert-base-uncased-finetuned-clinc/run-16/checkpoint-2000 already exists and is non-empty.Saving will proceed but saved results may be invalid.\n",
      "Checkpoint destination directory distilbert-base-uncased-finetuned-clinc/run-16/checkpoint-2500 already exists and is non-empty.Saving will proceed but saved results may be invalid.\n",
      "Checkpoint destination directory distilbert-base-uncased-finetuned-clinc/run-16/checkpoint-3000 already exists and is non-empty.Saving will proceed but saved results may be invalid.\n",
      "[I 2024-02-05 01:46:59,106] Trial 16 finished with value: 0.9312903225806451 and parameters: {'num_train_epochs': 10, 'alpha': 0.7230101100179304, 'temperature': 4.602598234145571}. Best is trial 12 with value: 0.9312903225806451.\n",
      "Some weights of DistilBertForSequenceClassification were not initialized from the model checkpoint at distilbert-base-uncased and are newly initialized: ['classifier.bias', 'classifier.weight', 'pre_classifier.bias', 'pre_classifier.weight']\n",
      "You should probably TRAIN this model on a down-stream task to be able to use it for predictions and inference.\n"
     ]
    },
    {
     "data": {
      "text/html": [
       "\n",
       "    <div>\n",
       "      \n",
       "      <progress value='318' max='1590' style='width:300px; height:20px; vertical-align: middle;'></progress>\n",
       "      [ 318/1590 00:55 < 03:42, 5.71 it/s, Epoch 1/5]\n",
       "    </div>\n",
       "    <table border=\"1\" class=\"dataframe\">\n",
       "  <thead>\n",
       " <tr style=\"text-align: left;\">\n",
       "      <th>Epoch</th>\n",
       "      <th>Training Loss</th>\n",
       "      <th>Validation Loss</th>\n",
       "      <th>Accuracy</th>\n",
       "    </tr>\n",
       "  </thead>\n",
       "  <tbody>\n",
       "    <tr>\n",
       "      <td>1</td>\n",
       "      <td>No log</td>\n",
       "      <td>0.246279</td>\n",
       "      <td>0.597742</td>\n",
       "    </tr>\n",
       "  </tbody>\n",
       "</table><p>"
      ],
      "text/plain": [
       "<IPython.core.display.HTML object>"
      ]
     },
     "metadata": {},
     "output_type": "display_data"
    },
    {
     "name": "stderr",
     "output_type": "stream",
     "text": [
      "[I 2024-02-05 01:47:54,956] Trial 17 pruned. \n",
      "Some weights of DistilBertForSequenceClassification were not initialized from the model checkpoint at distilbert-base-uncased and are newly initialized: ['classifier.bias', 'classifier.weight', 'pre_classifier.bias', 'pre_classifier.weight']\n",
      "You should probably TRAIN this model on a down-stream task to be able to use it for predictions and inference.\n"
     ]
    },
    {
     "data": {
      "text/html": [
       "\n",
       "    <div>\n",
       "      \n",
       "      <progress value='318' max='2862' style='width:300px; height:20px; vertical-align: middle;'></progress>\n",
       "      [ 318/2862 00:55 < 07:24, 5.72 it/s, Epoch 1/9]\n",
       "    </div>\n",
       "    <table border=\"1\" class=\"dataframe\">\n",
       "  <thead>\n",
       " <tr style=\"text-align: left;\">\n",
       "      <th>Epoch</th>\n",
       "      <th>Training Loss</th>\n",
       "      <th>Validation Loss</th>\n",
       "      <th>Accuracy</th>\n",
       "    </tr>\n",
       "  </thead>\n",
       "  <tbody>\n",
       "    <tr>\n",
       "      <td>1</td>\n",
       "      <td>No log</td>\n",
       "      <td>0.208002</td>\n",
       "      <td>0.596774</td>\n",
       "    </tr>\n",
       "  </tbody>\n",
       "</table><p>"
      ],
      "text/plain": [
       "<IPython.core.display.HTML object>"
      ]
     },
     "metadata": {},
     "output_type": "display_data"
    },
    {
     "name": "stderr",
     "output_type": "stream",
     "text": [
      "[I 2024-02-05 01:48:50,722] Trial 18 pruned. \n",
      "Some weights of DistilBertForSequenceClassification were not initialized from the model checkpoint at distilbert-base-uncased and are newly initialized: ['classifier.bias', 'classifier.weight', 'pre_classifier.bias', 'pre_classifier.weight']\n",
      "You should probably TRAIN this model on a down-stream task to be able to use it for predictions and inference.\n"
     ]
    },
    {
     "data": {
      "text/html": [
       "\n",
       "    <div>\n",
       "      \n",
       "      <progress value='318' max='3180' style='width:300px; height:20px; vertical-align: middle;'></progress>\n",
       "      [ 318/3180 00:55 < 08:18, 5.74 it/s, Epoch 1/10]\n",
       "    </div>\n",
       "    <table border=\"1\" class=\"dataframe\">\n",
       "  <thead>\n",
       " <tr style=\"text-align: left;\">\n",
       "      <th>Epoch</th>\n",
       "      <th>Training Loss</th>\n",
       "      <th>Validation Loss</th>\n",
       "      <th>Accuracy</th>\n",
       "    </tr>\n",
       "  </thead>\n",
       "  <tbody>\n",
       "    <tr>\n",
       "      <td>1</td>\n",
       "      <td>No log</td>\n",
       "      <td>0.213710</td>\n",
       "      <td>0.603548</td>\n",
       "    </tr>\n",
       "  </tbody>\n",
       "</table><p>"
      ],
      "text/plain": [
       "<IPython.core.display.HTML object>"
      ]
     },
     "metadata": {},
     "output_type": "display_data"
    },
    {
     "name": "stderr",
     "output_type": "stream",
     "text": [
      "[I 2024-02-05 01:49:46,280] Trial 19 pruned. \n"
     ]
    },
    {
     "name": "stdout",
     "output_type": "stream",
     "text": [
      "CPU times: user 2h 3min 5s, sys: 3min 30s, total: 2h 6min 36s\n",
      "Wall time: 1h 36min 8s\n"
     ]
    }
   ],
   "source": [
    "%%time\n",
    "\n",
    "best_run = distilbert_trainer.hyperparameter_search(\n",
    "    n_trials=20,\n",
    "    direction=\"maximize\",\n",
    "    hp_space=hp_space,\n",
    "    sampler=optuna.samplers.RandomSampler(seed=SEED)\n",
    ")"
   ]
  },
  {
   "cell_type": "code",
   "execution_count": 39,
   "id": "d0888eed-5024-4d50-a5ea-ef4982626bbe",
   "metadata": {},
   "outputs": [
    {
     "name": "stdout",
     "output_type": "stream",
     "text": [
      "BestRun(run_id='12', objective=0.9312903225806451, hyperparameters={'num_train_epochs': 10, 'alpha': 0.5858821400787321, 'temperature': 4.917005721212045}, run_summary=None)\n"
     ]
    }
   ],
   "source": [
    "print(best_run)"
   ]
  },
  {
   "cell_type": "code",
   "execution_count": 40,
   "id": "738b70ea-fd1e-45d2-ad48-0e7f24c28578",
   "metadata": {},
   "outputs": [
    {
     "name": "stderr",
     "output_type": "stream",
     "text": [
      "Some weights of DistilBertForSequenceClassification were not initialized from the model checkpoint at distilbert-base-uncased and are newly initialized: ['classifier.bias', 'classifier.weight', 'pre_classifier.bias', 'pre_classifier.weight']\n",
      "You should probably TRAIN this model on a down-stream task to be able to use it for predictions and inference.\n",
      "Some weights of DistilBertForSequenceClassification were not initialized from the model checkpoint at distilbert-base-uncased and are newly initialized: ['classifier.bias', 'classifier.weight', 'pre_classifier.bias', 'pre_classifier.weight']\n",
      "You should probably TRAIN this model on a down-stream task to be able to use it for predictions and inference.\n"
     ]
    },
    {
     "data": {
      "text/html": [
       "\n",
       "    <div>\n",
       "      \n",
       "      <progress value='3180' max='3180' style='width:300px; height:20px; vertical-align: middle;'></progress>\n",
       "      [3180/3180 10:55, Epoch 10/10]\n",
       "    </div>\n",
       "    <table border=\"1\" class=\"dataframe\">\n",
       "  <thead>\n",
       " <tr style=\"text-align: left;\">\n",
       "      <th>Epoch</th>\n",
       "      <th>Training Loss</th>\n",
       "      <th>Validation Loss</th>\n",
       "      <th>Accuracy</th>\n",
       "    </tr>\n",
       "  </thead>\n",
       "  <tbody>\n",
       "    <tr>\n",
       "      <td>1</td>\n",
       "      <td>No log</td>\n",
       "      <td>2.017169</td>\n",
       "      <td>0.727419</td>\n",
       "    </tr>\n",
       "    <tr>\n",
       "      <td>2</td>\n",
       "      <td>2.369100</td>\n",
       "      <td>1.047646</td>\n",
       "      <td>0.859032</td>\n",
       "    </tr>\n",
       "    <tr>\n",
       "      <td>3</td>\n",
       "      <td>2.369100</td>\n",
       "      <td>0.595615</td>\n",
       "      <td>0.909355</td>\n",
       "    </tr>\n",
       "    <tr>\n",
       "      <td>4</td>\n",
       "      <td>0.924400</td>\n",
       "      <td>0.399793</td>\n",
       "      <td>0.938065</td>\n",
       "    </tr>\n",
       "    <tr>\n",
       "      <td>5</td>\n",
       "      <td>0.400100</td>\n",
       "      <td>0.320544</td>\n",
       "      <td>0.944516</td>\n",
       "    </tr>\n",
       "    <tr>\n",
       "      <td>6</td>\n",
       "      <td>0.400100</td>\n",
       "      <td>0.281651</td>\n",
       "      <td>0.945806</td>\n",
       "    </tr>\n",
       "    <tr>\n",
       "      <td>7</td>\n",
       "      <td>0.240200</td>\n",
       "      <td>0.263070</td>\n",
       "      <td>0.948065</td>\n",
       "    </tr>\n",
       "    <tr>\n",
       "      <td>8</td>\n",
       "      <td>0.186000</td>\n",
       "      <td>0.258250</td>\n",
       "      <td>0.946774</td>\n",
       "    </tr>\n",
       "    <tr>\n",
       "      <td>9</td>\n",
       "      <td>0.186000</td>\n",
       "      <td>0.250496</td>\n",
       "      <td>0.948387</td>\n",
       "    </tr>\n",
       "    <tr>\n",
       "      <td>10</td>\n",
       "      <td>0.164500</td>\n",
       "      <td>0.249629</td>\n",
       "      <td>0.947742</td>\n",
       "    </tr>\n",
       "  </tbody>\n",
       "</table><p>"
      ],
      "text/plain": [
       "<IPython.core.display.HTML object>"
      ]
     },
     "metadata": {},
     "output_type": "display_data"
    },
    {
     "name": "stderr",
     "output_type": "stream",
     "text": [
      "Checkpoint destination directory distilbert-base-uncased-distilled-clinc/checkpoint-500 already exists and is non-empty.Saving will proceed but saved results may be invalid.\n",
      "Checkpoint destination directory distilbert-base-uncased-distilled-clinc/checkpoint-1000 already exists and is non-empty.Saving will proceed but saved results may be invalid.\n",
      "Checkpoint destination directory distilbert-base-uncased-distilled-clinc/checkpoint-1500 already exists and is non-empty.Saving will proceed but saved results may be invalid.\n",
      "Checkpoint destination directory distilbert-base-uncased-distilled-clinc/checkpoint-2000 already exists and is non-empty.Saving will proceed but saved results may be invalid.\n",
      "Checkpoint destination directory distilbert-base-uncased-distilled-clinc/checkpoint-2500 already exists and is non-empty.Saving will proceed but saved results may be invalid.\n",
      "Checkpoint destination directory distilbert-base-uncased-distilled-clinc/checkpoint-3000 already exists and is non-empty.Saving will proceed but saved results may be invalid.\n"
     ]
    },
    {
     "data": {
      "text/plain": [
       "TrainOutput(global_step=3180, training_loss=0.6826041671465028, metrics={'train_runtime': 655.515, 'train_samples_per_second': 232.641, 'train_steps_per_second': 4.851, 'total_flos': 825755278130580.0, 'train_loss': 0.6826041671465028, 'epoch': 10.0})"
      ]
     },
     "execution_count": 40,
     "metadata": {},
     "output_type": "execute_result"
    }
   ],
   "source": [
    "for k,v in best_run.hyperparameters.items():\n",
    "    setattr(student_training_args, k, v)\n",
    "\n",
    "distilled_ckpt = \"distilbert-base-uncased-distilled-clinc\"\n",
    "student_training_args.output_dir = distilled_ckpt\n",
    "\n",
    "distil_trainer = DistillationTrainer(\n",
    "    model_init=student_init,\n",
    "    teacher_model=teacher_model,\n",
    "    args=student_training_args,\n",
    "    train_dataset=clinc_enc[\"train\"],\n",
    "    eval_dataset=clinc_enc[\"validation\"],\n",
    "    compute_metrics=compute_metrics,\n",
    "    tokenizer=student_tokenizer\n",
    ")\n",
    "\n",
    "distil_trainer.train()"
   ]
  },
  {
   "cell_type": "code",
   "execution_count": 41,
   "id": "71361c83-e4dc-42a5-bfec-f8ee66667dbd",
   "metadata": {},
   "outputs": [
    {
     "name": "stdout",
     "output_type": "stream",
     "text": [
      "don't forget to add the knowledge-distillation hyperparameters to your model card! (see best_run)\n"
     ]
    }
   ],
   "source": [
    "distil_trainer.push_to_hub(\"Distilled student model training completed\")\n",
    "\n",
    "print(\"don't forget to add the knowledge-distillation hyperparameters to your model card! (see best_run)\")"
   ]
  },
  {
   "cell_type": "markdown",
   "id": "542c58fc-9801-4fb1-b279-9d1321fe7f1a",
   "metadata": {},
   "source": [
    "### Benchmarking Our Distilled Model"
   ]
  },
  {
   "cell_type": "code",
   "execution_count": 42,
   "id": "45535ffb-dd79-4f2f-91f6-a1aa8aeffedf",
   "metadata": {},
   "outputs": [
    {
     "data": {
      "application/vnd.jupyter.widget-view+json": {
       "model_id": "f0d61959e9d34faeb0ec408a8e4aca5d",
       "version_major": 2,
       "version_minor": 0
      },
      "text/plain": [
       "tokenizer.json:   0%|          | 0.00/711k [00:00<?, ?B/s]"
      ]
     },
     "metadata": {},
     "output_type": "display_data"
    },
    {
     "name": "stdout",
     "output_type": "stream",
     "text": [
      "Model size (MB) - 255.88\n",
      "Average latency (ms) - 12.42 +\\- 0.23\n",
      "Accuracy on test set - 0.875\n"
     ]
    }
   ],
   "source": [
    "distilled_ckpt = \"buruzaemon/distilbert-base-uncased-distilled-clinc\"\n",
    "\n",
    "pipe = pipeline(\"text-classification\", model=distilled_ckpt)\n",
    "optim_type = \"Distillation\"\n",
    "\n",
    "pb = PerformanceBenchmark(pipe, clinc[\"test\"], optim_type=optim_type)\n",
    "perf_metrics.update(pb.run_benchmark())"
   ]
  },
  {
   "cell_type": "code",
   "execution_count": 43,
   "id": "ad1d0e79-6f9d-409f-b75a-4b19ac196d7e",
   "metadata": {},
   "outputs": [
    {
     "data": {
      "image/png": "[encoded data removed]",
      "text/plain": [
       "<Figure size 640x480 with 1 Axes>"
      ]
     },
     "metadata": {},
     "output_type": "display_data"
    }
   ],
   "source": [
    "plot_metrics(perf_metrics, optim_type)"
   ]
  },
  {
   "cell_type": "markdown",
   "id": "a69af08a-6a04-42f4-a6b0-24643e9c2853",
   "metadata": {},
   "source": [
    "## Making Models Faster with Quantization"
   ]
  },
  {
   "cell_type": "markdown",
   "id": "a44b34fe-cbfb-475d-91fd-34f302e630da",
   "metadata": {},
   "source": [
    "#### The range of model weight values is actually pretty limited."
   ]
  },
  {
   "cell_type": "code",
   "execution_count": 44,
   "id": "4a51eeec-bd96-4aae-b6e7-8bf2654dee07",
   "metadata": {},
   "outputs": [
    {
     "data": {
      "image/png": "[encoded data removed]",
      "text/plain": [
       "<Figure size 640x480 with 1 Axes>"
      ]
     },
     "metadata": {},
     "output_type": "display_data"
    }
   ],
   "source": [
    "state_dict = pipe.model.state_dict()\n",
    "\n",
    "weights = state_dict[\"distilbert.transformer.layer.0.attention.out_lin.weight\"]\n",
    "\n",
    "plt.hist(\n",
    "    weights.flatten().numpy(),\n",
    "    bins=250,\n",
    "    range=(-0.3, 0.3),\n",
    "    edgecolor=\"C0\",\n",
    ")\n",
    "plt.show()"
   ]
  },
  {
   "cell_type": "markdown",
   "id": "8cf83e0e-a475-471f-b69f-746ad441c409",
   "metadata": {},
   "source": [
    "_Discretization_ means taking the floating-point values $f$ in a tensor; map their range $\\left[ f_{max}, f_{min} \\right]$ into a smaller one $\\left[ q_{max}, q_{min} \\right]$ of fixed-point number $q$; then linearly distributing all values in between (the affine bit).\n",
    "\n",
    "\\begin{align}\n",
    "  f = \\left( \\frac{f_{max} - f_{min}}{q_{max} - q_{min}} \\right) \\left(q - Z\\right)\n",
    "\\end{align}\n",
    "\n",
    "where \n",
    "\n",
    "$\\left( \\frac{f_{max} - f_{min}}{q_{max} - q_{min}} \\right)$ is a scaling factor \n",
    "\n",
    "\n",
    "and _zero point_ $Z$, of the same type as $q$, is the quantized value of floating-point value $f = 0$."
   ]
  },
  {
   "cell_type": "code",
   "execution_count": 45,
   "id": "1bb0f809-7c94-4adf-a377-67352d6200c6",
   "metadata": {},
   "outputs": [],
   "source": [
    "zero_point = 0\n",
    "scale = (weights.max() - weights.min()) / (127 - (-128))"
   ]
  },
  {
   "cell_type": "markdown",
   "id": "32fb06ad-8cf8-442a-a110-606afd68cf67",
   "metadata": {},
   "source": [
    "#### Quantization the hard way"
   ]
  },
  {
   "cell_type": "code",
   "execution_count": 46,
   "id": "a374a2db-936c-4346-9211-cbd55d869d34",
   "metadata": {},
   "outputs": [
    {
     "data": {
      "text/plain": [
       "tensor([[ -5,  -7,   0,  ...,  -6,  -4,   9],\n",
       "        [  9,   2,   1,  ...,  -4,   7,   1],\n",
       "        [ -9,  -6,   5,  ...,   1,   5,  -4],\n",
       "        ...,\n",
       "        [  5,   0,  12,  ...,   0,   6,  -1],\n",
       "        [  0,  -2, -12,  ...,  12,  -8, -13],\n",
       "        [-13,  -1, -10,  ...,   8,   2,  -2]], dtype=torch.int8)"
      ]
     },
     "execution_count": 46,
     "metadata": {},
     "output_type": "execute_result"
    }
   ],
   "source": [
    "(weights / scale + zero_point).clamp(-128, 127).round().char()"
   ]
  },
  {
   "cell_type": "markdown",
   "id": "8d861966-10f2-435f-aefc-867196abfe9e",
   "metadata": {},
   "source": [
    "#### Quantization the PyTorch way"
   ]
  },
  {
   "cell_type": "code",
   "execution_count": 47,
   "id": "691922d2-13e3-4ab4-8a4e-b891c3fea581",
   "metadata": {},
   "outputs": [
    {
     "data": {
      "text/plain": [
       "tensor([[ -5,  -7,   0,  ...,  -6,  -4,   9],\n",
       "        [  9,   2,   1,  ...,  -4,   7,   1],\n",
       "        [ -9,  -6,   5,  ...,   1,   5,  -4],\n",
       "        ...,\n",
       "        [  5,   0,  12,  ...,   0,   6,  -1],\n",
       "        [  0,  -2, -12,  ...,  12,  -8, -13],\n",
       "        [-13,  -1, -10,  ...,   8,   2,  -2]], dtype=torch.int8)"
      ]
     },
     "execution_count": 47,
     "metadata": {},
     "output_type": "execute_result"
    }
   ],
   "source": [
    "from torch import quantize_per_tensor\n",
    "\n",
    "dtype = torch.qint8\n",
    "quantized_weights = quantize_per_tensor(weights, scale, zero_point, dtype)\n",
    "quantized_weights.int_repr()"
   ]
  },
  {
   "cell_type": "code",
   "execution_count": 48,
   "id": "99a8aff2-98e7-4fec-ade5-e11454183fb1",
   "metadata": {},
   "outputs": [
    {
     "name": "stdout",
     "output_type": "stream",
     "text": [
      "962 µs ± 12.2 µs per loop (mean ± std. dev. of 7 runs, 1,000 loops each)\n"
     ]
    }
   ],
   "source": [
    "%%timeit\n",
    "\n",
    "weights @ weights"
   ]
  },
  {
   "cell_type": "code",
   "execution_count": 49,
   "id": "30278aee-9146-43bc-a5c0-ea5fa591dd5e",
   "metadata": {},
   "outputs": [],
   "source": [
    "from torch.nn.quantized import QFunctional\n",
    "\n",
    "q_fn = QFunctional()"
   ]
  },
  {
   "cell_type": "code",
   "execution_count": 50,
   "id": "5258e466-426d-4cea-9349-7baf9d26a776",
   "metadata": {},
   "outputs": [
    {
     "name": "stdout",
     "output_type": "stream",
     "text": [
      "234 µs ± 9.56 µs per loop (mean ± std. dev. of 7 runs, 1,000 loops each)\n"
     ]
    }
   ],
   "source": [
    "%%timeit \n",
    "\n",
    "q_fn.mul(quantized_weights, quantized_weights)"
   ]
  },
  {
   "cell_type": "code",
   "execution_count": 51,
   "id": "3194aad8-025d-4417-ae05-0b7b4482628a",
   "metadata": {},
   "outputs": [
    {
     "name": "stderr",
     "output_type": "stream",
     "text": [
      "/var/tmp/ipykernel_2744/2099325647.py:3: UserWarning: TypedStorage is deprecated. It will be removed in the future and UntypedStorage will be the only storage class. This should only matter to you if you are using storages directly.  To access UntypedStorage directly, use tensor.untyped_storage() instead of tensor.storage()\n",
      "  sys.getsizeof(weights.storage()) / sys.getsizeof(quantized_weights.storage())\n"
     ]
    },
    {
     "data": {
      "text/plain": [
       "3.999755879241598"
      ]
     },
     "execution_count": 51,
     "metadata": {},
     "output_type": "execute_result"
    }
   ],
   "source": [
    "import sys\n",
    "\n",
    "sys.getsizeof(weights.storage()) / sys.getsizeof(quantized_weights.storage())"
   ]
  },
  {
   "cell_type": "code",
   "execution_count": 52,
   "id": "d7ed1a75-bde4-448f-8560-5517af1cb6b2",
   "metadata": {},
   "outputs": [],
   "source": [
    "torch.cuda.empty_cache()\n",
    "\n",
    "import random\n",
    "from torch.quantization import quantize_dynamic\n",
    "\n",
    "# take our last, best model...\n",
    "model_ckpt = \"buruzaemon/distilbert-base-uncased-distilled-clinc\"\n",
    "\n",
    "tokenizer = AutoTokenizer.from_pretrained(model_ckpt)\n",
    "model = (\n",
    "    AutoModelForSequenceClassification\n",
    "        .from_pretrained(model_ckpt)\n",
    "        .to(\"cpu\")\n",
    ")\n",
    "\n",
    "model_quantized = quantize_dynamic(\n",
    "    model,\n",
    "    {nn.Linear},\n",
    "    dtype=torch.qint8\n",
    ")"
   ]
  },
  {
   "cell_type": "markdown",
   "id": "97395aa2-0875-40cf-85b8-5d1df464b1f1",
   "metadata": {},
   "source": [
    "### Benchmarking Our Quantized Model"
   ]
  },
  {
   "cell_type": "code",
   "execution_count": 53,
   "id": "87e9afea-3edc-4905-bf09-9bab941bd8ff",
   "metadata": {},
   "outputs": [
    {
     "name": "stdout",
     "output_type": "stream",
     "text": [
      "Model size (MB) - 132.39\n",
      "Average latency (ms) - 9.13 +\\- 0.25\n",
      "Accuracy on test set - 0.881\n"
     ]
    }
   ],
   "source": [
    "pipe = pipeline(\n",
    "    \"text-classification\",\n",
    "    model=model_quantized,\n",
    "    tokenizer=tokenizer\n",
    ")\n",
    "\n",
    "optim_type = \"Distillation + quantization\"\n",
    "\n",
    "pb = PerformanceBenchmark(pipe, clinc[\"test\"], optim_type=optim_type)\n",
    "perf_metrics.update(pb.run_benchmark())"
   ]
  },
  {
   "cell_type": "code",
   "execution_count": 54,
   "id": "8bfafac9-0da4-4044-a54b-3e91692f1c8f",
   "metadata": {},
   "outputs": [
    {
     "data": {
      "image/png": "[encoded data removed]",
      "text/plain": [
       "<Figure size 640x480 with 1 Axes>"
      ]
     },
     "metadata": {},
     "output_type": "display_data"
    }
   ],
   "source": [
    "plot_metrics(perf_metrics, optim_type)"
   ]
  },
  {
   "cell_type": "raw",
   "id": "ccc74738-db34-4130-9172-dfd715b580ea",
   "metadata": {},
   "source": [
    "from huggingface_hub import HfFolder, whoami, create_repo, delete_repo\n",
    "\n",
    "print(whoami())\n",
    "\n",
    "print(HfFolder().get_token())\n",
    "\n",
    "create_repo(\"test_bug_temporary\", token=HfFolder().get_token()) # explicitly paste your token\n",
    "\n",
    "delete_repo(\"distilbert-base-uncased-distilled-quantized-clinc\", token=HfFolder().get_token()) # explicitly paste your token"
   ]
  },
  {
   "cell_type": "code",
   "execution_count": null,
   "id": "3cebee64-2d2f-477e-acc3-07f9a0dc7100",
   "metadata": {},
   "outputs": [],
   "source": []
  },
  {
   "cell_type": "code",
   "execution_count": null,
   "id": "9a3066fc-113d-49f0-9cc0-384860861d99",
   "metadata": {},
   "outputs": [],
   "source": []
  },
  {
   "cell_type": "markdown",
   "id": "849fe1d2-a18f-4c57-b417-39191bf211ca",
   "metadata": {},
   "source": [
    "## Optimizing Inference with ONNX and the ONXX Runtime: Optimum\n",
    "\n",
    "#### First simply convert `buruzaemon/distilbert-base-uncased-distilled-clinc` to ONNX"
   ]
  },
  {
   "cell_type": "code",
   "execution_count": 57,
   "id": "c06d7077-5394-4f39-9991-2fee173ff2a6",
   "metadata": {},
   "outputs": [],
   "source": [
    "from pathlib import Path\n",
    "from transformers import AutoTokenizer, pipeline\n",
    "from optimum.onnxruntime import ORTModelForSequenceClassification"
   ]
  },
  {
   "cell_type": "code",
   "execution_count": 58,
   "id": "9dcb012c-06c6-40a0-bad0-da8224f3a266",
   "metadata": {},
   "outputs": [],
   "source": [
    "model_id = \"buruzaemon/distilbert-base-uncased-distilled-clinc\"\n",
    "tokenizer = AutoTokenizer.from_pretrained(model_id)\n",
    "\n",
    "# define a temporary local dir for storing the ONNX converted model, etc.\n",
    "onnx_path = Path(\"onnx\")\n",
    "task = \"text-classification\""
   ]
  },
  {
   "cell_type": "code",
   "execution_count": 61,
   "id": "5433bc5a-c7a8-4d1a-9b01-2a00a8dd1159",
   "metadata": {},
   "outputs": [
    {
     "name": "stderr",
     "output_type": "stream",
     "text": [
      "Framework not specified. Using pt to export to ONNX.\n",
      "Using the export variant default. Available variants are:\n",
      "    - default: The default ONNX variant.\n",
      "Using framework PyTorch: 2.2.0+cu121\n"
     ]
    }
   ],
   "source": [
    "# convert to ONNX via Optimum\n",
    "model_onnx = ORTModelForSequenceClassification.from_pretrained(\n",
    "    model_id,\n",
    "    export=True\n",
    ")\n",
    "\n",
    "# save the ONNX-format model locally\n",
    "model_onnx.save_pretrained(onnx_path)"
   ]
  },
  {
   "cell_type": "markdown",
   "id": "56ff9738-9099-4884-802e-72455250175f",
   "metadata": {},
   "source": [
    "### Benchmarking Our Newly-converted Optimum Model"
   ]
  },
  {
   "cell_type": "code",
   "execution_count": 62,
   "id": "8b2f7634-8c55-43db-9871-29886a0e9b1f",
   "metadata": {},
   "outputs": [],
   "source": [
    "class OnnxPerformanceBenchmark(PerformanceBenchmark):\n",
    "    def __init__(self, *args, model_path, **kwargs):\n",
    "        super().__init__(*args, **kwargs)\n",
    "        self.model_path = model_path\n",
    "\n",
    "    def compute_size(self):\n",
    "        size_mb = Path(self.model_path).stat().st_size / (1024*1024)\n",
    "        print(f\"Model size (MB) - {size_mb:.2f}\")\n",
    "        return {\"size_mb\": size_mb}"
   ]
  },
  {
   "cell_type": "code",
   "execution_count": 63,
   "id": "3b9e7446-5742-4e3e-87e8-4305415b811d",
   "metadata": {},
   "outputs": [
    {
     "name": "stdout",
     "output_type": "stream",
     "text": [
      "Model size (MB) - 255.98\n",
      "Average latency (ms) - 5.28 +\\- 0.10\n",
      "Accuracy on test set - 0.875\n"
     ]
    }
   ],
   "source": [
    "pipe = pipeline(\n",
    "    \"text-classification\",\n",
    "    model=model_onnx,\n",
    "    tokenizer=tokenizer\n",
    ")\n",
    "\n",
    "optim_type = \"Distillation + ORT\"\n",
    "\n",
    "pb = OnnxPerformanceBenchmark(\n",
    "    pipe, \n",
    "    clinc[\"test\"], \n",
    "    optim_type=optim_type,\n",
    "    model_path=\"onnx/model.onnx\"\n",
    ")\n",
    "perf_metrics.update(pb.run_benchmark())"
   ]
  },
  {
   "cell_type": "code",
   "execution_count": 64,
   "id": "88cecb70-f3b6-4d13-be1b-dde70a8b9d49",
   "metadata": {},
   "outputs": [
    {
     "data": {
      "image/png": "[encoded data removed]",
      "text/plain": [
       "<Figure size 640x480 with 1 Axes>"
      ]
     },
     "metadata": {},
     "output_type": "display_data"
    }
   ],
   "source": [
    "plot_metrics(perf_metrics, optim_type)"
   ]
  },
  {
   "cell_type": "markdown",
   "id": "86d5a827-1cf3-4989-a84b-c4533a0959b2",
   "metadata": {},
   "source": [
    "### Benchmarking Our The Optimum Model With Dynamic Quantization"
   ]
  },
  {
   "cell_type": "markdown",
   "id": "183125c4-5350-4ec5-a2e3-4b9b268235f9",
   "metadata": {},
   "source": [
    "From [Accelerated inference on NVIDIA GPUs, in Optimum How-To Guides](https://huggingface.co/docs/optimum/onnxruntime/usage_guides/gpu#accelerated-inference-on-nvidia-gpus)\n",
    "\n",
    "> By default, ONNX Runtime runs inference on CPU devices. However, it is possible to place supported operations on an NVIDIA GPU, while leaving any unsupported ones on CPU. In most cases, this allows costly operations to be placed on GPU and significantly accelerate inference.\n",
    ">\n",
    "> (there is)<p/>\n",
    "> `CUDAExecutionProvider`: Generic acceleration on NVIDIA CUDA-enabled GPUs.<br/>`TensorrtExecutionProvider`: Uses NVIDIA’s TensorRT inference engine and generally provides the best runtime performance.\n",
    "> <p/>Due to a limitation of ONNX Runtime, it is not possible to run quantized models on CUDAExecutionProvider and only models with static quantization can be run on TensorrtExecutionProvider."
   ]
  },
  {
   "cell_type": "markdown",
   "id": "3728e892-b47a-4f9d-bd25-bc577ef2ff49",
   "metadata": {},
   "source": [
    "c.f. [https://huggingface.co/docs/optimum/onnxruntime/usage_guides/quantization#apply-dynamic-quantization](https://huggingface.co/docs/optimum/onnxruntime/usage_guides/quantization#apply-dynamic-quantization)"
   ]
  },
  {
   "cell_type": "code",
   "execution_count": 66,
   "id": "ca5e4c91-1f4b-4fe6-b9c0-678352ae1a81",
   "metadata": {},
   "outputs": [],
   "source": [
    "import onnxruntime\n",
    "\n",
    "from onnxruntime.quantization.quantize import quantize_dynamic"
   ]
  },
  {
   "cell_type": "code",
   "execution_count": 67,
   "id": "a8ce6348-7558-4c98-9cb7-3b65db496dc7",
   "metadata": {},
   "outputs": [],
   "source": [
    "from optimum.onnxruntime import ORTQuantizer\n",
    "\n",
    "from optimum.onnxruntime.configuration import AutoQuantizationConfig"
   ]
  },
  {
   "cell_type": "code",
   "execution_count": 71,
   "id": "1c7c3e5b-722b-4467-973f-fe6aa1c2cef6",
   "metadata": {},
   "outputs": [],
   "source": [
    "# Create quantizer\n",
    "quantizer = ORTQuantizer.from_pretrained(model_onnx)\n",
    "\n",
    "# Define the quantization strategy by creating the appropriate configuration\n",
    "dqconfig = AutoQuantizationConfig.avx512_vnni(is_static=False, per_channel=False)"
   ]
  },
  {
   "cell_type": "code",
   "execution_count": 75,
   "id": "dc5ca224-1d8c-42fd-b6d4-6bb1adaf9687",
   "metadata": {},
   "outputs": [
    {
     "name": "stderr",
     "output_type": "stream",
     "text": [
      "Creating dynamic quantizer: QOperator (mode: IntegerOps, schema: u8/s8, channel-wise: False)\n",
      "Quantizing model...\n",
      "Saving quantized model at: onnx_quantized (external data format: False)\n",
      "Configuration saved in onnx_quantized/ort_config.json\n"
     ]
    }
   ],
   "source": [
    "# define a temporary local dir for storing the ONNX converted model, etc.\n",
    "onnx_path = Path(\"onnx_quantized\")\n",
    "\n",
    "# Quantize the model\n",
    "model_quantized_path = quantizer.quantize(\n",
    "    save_dir=onnx_path,\n",
    "    quantization_config=dqconfig\n",
    ")"
   ]
  },
  {
   "cell_type": "code",
   "execution_count": 77,
   "id": "b9a342f2-7a61-4805-94c0-b18ff65fb3af",
   "metadata": {},
   "outputs": [
    {
     "name": "stdout",
     "output_type": "stream",
     "text": [
      "Model size (MB) - 64.38\n",
      "Average latency (ms) - 3.86 +\\- 0.11\n",
      "Accuracy on test set - 0.885\n"
     ]
    }
   ],
   "source": [
    "model_onnx_q = ORTModelForSequenceClassification.from_pretrained(\n",
    "    onnx_path, \n",
    "    file_name=\"model_quantized.onnx\"\n",
    ")\n",
    "\n",
    "tokenizer = AutoTokenizer.from_pretrained(onnx_path)\n",
    "\n",
    "pipe = pipeline(\n",
    "    \"text-classification\",\n",
    "    model=model_onnx_q,\n",
    "    tokenizer=tokenizer\n",
    ")\n",
    "\n",
    "optim_type = \"Distillation + ORT (quantized)\"\n",
    "\n",
    "pb = OnnxPerformanceBenchmark(\n",
    "    pipe, \n",
    "    clinc[\"test\"], \n",
    "    optim_type=optim_type,\n",
    "    model_path= onnx_path / \"model_quantized.onnx\"\n",
    ")\n",
    "perf_metrics.update(pb.run_benchmark())"
   ]
  },
  {
   "cell_type": "code",
   "execution_count": 78,
   "id": "8922a110-d01b-44eb-af00-8e64d8a29c5a",
   "metadata": {},
   "outputs": [
    {
     "data": {
      "image/png": "[encoded data removed]",
      "text/plain": [
       "<Figure size 640x480 with 1 Axes>"
      ]
     },
     "metadata": {},
     "output_type": "display_data"
    }
   ],
   "source": [
    "plot_metrics(perf_metrics, optim_type)"
   ]
  },
  {
   "cell_type": "code",
   "execution_count": null,
   "id": "838aaa18-bb02-4e48-9d30-7c27ff50dee7",
   "metadata": {},
   "outputs": [],
   "source": []
  }
 ],
 "metadata": {
  "kernelspec": {
   "display_name": "Python 3 (ipykernel)",
   "language": "python",
   "name": "python3"
  },
  "language_info": {
   "codemirror_mode": {
    "name": "ipython",
    "version": 3
   },
   "file_extension": ".py",
   "mimetype": "text/x-python",
   "name": "python",
   "nbconvert_exporter": "python",
   "pygments_lexer": "ipython3",
   "version": "3.8.18"
  }
 },
 "nbformat": 4,
 "nbformat_minor": 5
}

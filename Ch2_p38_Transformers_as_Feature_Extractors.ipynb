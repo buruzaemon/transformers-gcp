{
 "cells": [
  {
   "cell_type": "markdown",
   "id": "a481092d-5384-42ba-b7eb-65cbf4497556",
   "metadata": {
    "tags": []
   },
   "source": [
    "# Chapter 2\n",
    "\n",
    "## Transformers as Feature Extractors, p. 38"
   ]
  },
  {
   "cell_type": "markdown",
   "id": "cc0d62b9-1c1f-49b1-a4a9-308237442bc2",
   "metadata": {},
   "source": [
    "### Starting off with a pre-trained DistilBERT model\n",
    "\n",
    "See [`distilbert-base-uncased`](https://huggingface.co/distilbert-base-uncased) at 🤗 Models.\n",
    "\n",
    "We choose our checkpoint here, and start off by setting up a tokenizer."
   ]
  },
  {
   "cell_type": "code",
   "execution_count": 1,
   "id": "541e2d91-0ded-4a92-9043-7cc8805e0e02",
   "metadata": {},
   "outputs": [],
   "source": [
    "checkpoint = \"distilbert-base-uncased\""
   ]
  },
  {
   "cell_type": "code",
   "execution_count": 2,
   "id": "56d20853-ec9c-495b-b90d-c1b8995f555c",
   "metadata": {},
   "outputs": [
    {
     "data": {
      "application/vnd.jupyter.widget-view+json": {
       "model_id": "1229a455839f44a88b8c6905f6d7f0a0",
       "version_major": 2,
       "version_minor": 0
      },
      "text/plain": [
       "Downloading (…)okenizer_config.json:   0%|          | 0.00/28.0 [00:00<?, ?B/s]"
      ]
     },
     "metadata": {},
     "output_type": "display_data"
    },
    {
     "data": {
      "application/vnd.jupyter.widget-view+json": {
       "model_id": "c68ec9a92d194a74abd9266c790de635",
       "version_major": 2,
       "version_minor": 0
      },
      "text/plain": [
       "Downloading (…)lve/main/config.json:   0%|          | 0.00/483 [00:00<?, ?B/s]"
      ]
     },
     "metadata": {},
     "output_type": "display_data"
    },
    {
     "data": {
      "application/vnd.jupyter.widget-view+json": {
       "model_id": "5a438885777b4a9f85fa498fbc77a1d1",
       "version_major": 2,
       "version_minor": 0
      },
      "text/plain": [
       "Downloading (…)solve/main/vocab.txt:   0%|          | 0.00/232k [00:00<?, ?B/s]"
      ]
     },
     "metadata": {},
     "output_type": "display_data"
    },
    {
     "data": {
      "application/vnd.jupyter.widget-view+json": {
       "model_id": "066a5c11d4434811bf2f1daff74af596",
       "version_major": 2,
       "version_minor": 0
      },
      "text/plain": [
       "Downloading (…)/main/tokenizer.json:   0%|          | 0.00/466k [00:00<?, ?B/s]"
      ]
     },
     "metadata": {},
     "output_type": "display_data"
    }
   ],
   "source": [
    "from transformers import AutoTokenizer\n",
    "\n",
    "tokenizer = AutoTokenizer.from_pretrained(checkpoint)"
   ]
  },
  {
   "cell_type": "code",
   "execution_count": 3,
   "id": "de3fc2b5-b3e6-4a1b-80b7-08e3b46ae884",
   "metadata": {},
   "outputs": [
    {
     "name": "stdout",
     "output_type": "stream",
     "text": [
      "DistilBertTokenizerFast(name_or_path='distilbert-base-uncased', vocab_size=30522, model_max_length=512, is_fast=True, padding_side='right', truncation_side='right', special_tokens={'unk_token': '[UNK]', 'sep_token': '[SEP]', 'pad_token': '[PAD]', 'cls_token': '[CLS]', 'mask_token': '[MASK]'}, clean_up_tokenization_spaces=True)\n"
     ]
    }
   ],
   "source": [
    "print(tokenizer)"
   ]
  },
  {
   "cell_type": "code",
   "execution_count": null,
   "id": "b702a32b-6cee-49b2-8c46-0a3d4a441154",
   "metadata": {},
   "outputs": [],
   "source": []
  },
  {
   "cell_type": "code",
   "execution_count": null,
   "id": "a8fd97d3-ec67-4431-946a-d5bacf76c770",
   "metadata": {},
   "outputs": [],
   "source": []
  },
  {
   "cell_type": "markdown",
   "id": "0333509d-db9e-450c-9ab5-880aee135b53",
   "metadata": {},
   "source": [
    "----"
   ]
  },
  {
   "cell_type": "markdown",
   "id": "0bb57a46-fba1-4597-9795-b8f1798189b3",
   "metadata": {},
   "source": [
    "### Load up the dataset\n",
    "\n",
    "See p.35, __Tokenizing the Whole Dataset__.\n",
    "\n",
    "We start off by obtaining a dataset of tweets, and then we will tokenize the entire dataset in one go.\n",
    "\n",
    "Note that the original `emotion` dataset is long gone. We are using [`SetFit/emotion`](https://huggingface.co/datasets/SetFit/emotion) dataset from 🤗 Datasets.\n",
    "\n",
    "Key APIs are:\n",
    "\n",
    "* [`datasets.load_dataset`](https://huggingface.co/docs/datasets/loading#hugging-face-hub)\n",
    "* [`dataset.map`](https://huggingface.co/docs/datasets/process#map)"
   ]
  },
  {
   "cell_type": "markdown",
   "id": "91dea4d8-5f0a-4004-a420-2689323dee0f",
   "metadata": {},
   "source": [
    "First, we load up the `SetFit/emotion` dataset from 🤗 Datasets, by simply providing the repository _namespace_ and _dataset name_."
   ]
  },
  {
   "cell_type": "code",
   "execution_count": 4,
   "id": "531f4642-7380-433f-8cd9-2ec6e86205f6",
   "metadata": {},
   "outputs": [
    {
     "data": {
      "application/vnd.jupyter.widget-view+json": {
       "model_id": "31f94dc20c9b42bbaf967414b0ec600c",
       "version_major": 2,
       "version_minor": 0
      },
      "text/plain": [
       "Downloading readme:   0%|          | 0.00/194 [00:00<?, ?B/s]"
      ]
     },
     "metadata": {},
     "output_type": "display_data"
    },
    {
     "name": "stderr",
     "output_type": "stream",
     "text": [
      "Repo card metadata block was not found. Setting CardData to empty.\n"
     ]
    },
    {
     "data": {
      "application/vnd.jupyter.widget-view+json": {
       "model_id": "e527373001a24bfaa19c2974c6109315",
       "version_major": 2,
       "version_minor": 0
      },
      "text/plain": [
       "Downloading data files:   0%|          | 0/3 [00:00<?, ?it/s]"
      ]
     },
     "metadata": {},
     "output_type": "display_data"
    },
    {
     "data": {
      "application/vnd.jupyter.widget-view+json": {
       "model_id": "a232ccfb256d453a8d4fdfd6763cc8a0",
       "version_major": 2,
       "version_minor": 0
      },
      "text/plain": [
       "Downloading data:   0%|          | 0.00/2.23M [00:00<?, ?B/s]"
      ]
     },
     "metadata": {},
     "output_type": "display_data"
    },
    {
     "data": {
      "application/vnd.jupyter.widget-view+json": {
       "model_id": "7287809cedda415a8cd8b96b8bcd6299",
       "version_major": 2,
       "version_minor": 0
      },
      "text/plain": [
       "Downloading data:   0%|          | 0.00/276k [00:00<?, ?B/s]"
      ]
     },
     "metadata": {},
     "output_type": "display_data"
    },
    {
     "data": {
      "application/vnd.jupyter.widget-view+json": {
       "model_id": "5d193448446b4ed7ab073e2135d63139",
       "version_major": 2,
       "version_minor": 0
      },
      "text/plain": [
       "Downloading data:   0%|          | 0.00/279k [00:00<?, ?B/s]"
      ]
     },
     "metadata": {},
     "output_type": "display_data"
    },
    {
     "data": {
      "application/vnd.jupyter.widget-view+json": {
       "model_id": "15abf7b6fa7a4204b0b153d022e22c36",
       "version_major": 2,
       "version_minor": 0
      },
      "text/plain": [
       "Extracting data files:   0%|          | 0/3 [00:00<?, ?it/s]"
      ]
     },
     "metadata": {},
     "output_type": "display_data"
    },
    {
     "data": {
      "application/vnd.jupyter.widget-view+json": {
       "model_id": "edca87586d6a420da63426227ddd678a",
       "version_major": 2,
       "version_minor": 0
      },
      "text/plain": [
       "Generating train split: 0 examples [00:00, ? examples/s]"
      ]
     },
     "metadata": {},
     "output_type": "display_data"
    },
    {
     "data": {
      "application/vnd.jupyter.widget-view+json": {
       "model_id": "ef3986cb46794ced9887513f863535be",
       "version_major": 2,
       "version_minor": 0
      },
      "text/plain": [
       "Generating validation split: 0 examples [00:00, ? examples/s]"
      ]
     },
     "metadata": {},
     "output_type": "display_data"
    },
    {
     "data": {
      "application/vnd.jupyter.widget-view+json": {
       "model_id": "32dcb38d2cd946fb8dc0b9b10e289e37",
       "version_major": 2,
       "version_minor": 0
      },
      "text/plain": [
       "Generating test split: 0 examples [00:00, ? examples/s]"
      ]
     },
     "metadata": {},
     "output_type": "display_data"
    },
    {
     "data": {
      "text/plain": [
       "DatasetDict({\n",
       "    train: Dataset({\n",
       "        features: ['text', 'label', 'label_text'],\n",
       "        num_rows: 16000\n",
       "    })\n",
       "    validation: Dataset({\n",
       "        features: ['text', 'label', 'label_text'],\n",
       "        num_rows: 2000\n",
       "    })\n",
       "    test: Dataset({\n",
       "        features: ['text', 'label', 'label_text'],\n",
       "        num_rows: 2000\n",
       "    })\n",
       "})"
      ]
     },
     "execution_count": 4,
     "metadata": {},
     "output_type": "execute_result"
    }
   ],
   "source": [
    "from datasets import load_dataset\n",
    "\n",
    "emotions = load_dataset(\"SetFit/emotion\")\n",
    "emotions"
   ]
  },
  {
   "cell_type": "markdown",
   "id": "68592b8d-62a3-45a6-bd33-cf51ac5cd5ad",
   "metadata": {},
   "source": [
    "Define a custom function for tokenizing the text in the dataset."
   ]
  },
  {
   "cell_type": "code",
   "execution_count": 5,
   "id": "55f61d21-b577-49b1-a090-ec8eff6d5c5e",
   "metadata": {},
   "outputs": [],
   "source": [
    "def tokenize_text(batch):\n",
    "    return tokenizer(batch[\"text\"], padding=True, truncation=True, max_length=512)"
   ]
  },
  {
   "cell_type": "markdown",
   "id": "77d074a3-e617-4d59-abd3-15690aa62080",
   "metadata": {},
   "source": [
    "> The primary purpose of `map()` is to speed up processing functions. It allows you to apply a processing function to each example in a dataset, independently or in batches. This function can even create new rows and columns.\n",
    "\n",
    "Here we use `map` to efficiently apply our custom `tokenize_text` function to the entire dataset. Using `batch_size=None`, we ensure that the input tensors and attention masks have the exact same shape globally. See [`batch_size`](https://huggingface.co/docs/datasets/v2.8.0/en/package_reference/main_classes#datasets.Dataset.map.batch_size) parameter for `map` API."
   ]
  },
  {
   "cell_type": "code",
   "execution_count": 6,
   "id": "cda96c88-f9a4-4646-9554-38e57745a1e4",
   "metadata": {},
   "outputs": [
    {
     "data": {
      "application/vnd.jupyter.widget-view+json": {
       "model_id": "1742c0de104d42b8bddffaaaccb1e89f",
       "version_major": 2,
       "version_minor": 0
      },
      "text/plain": [
       "Map:   0%|          | 0/16000 [00:00<?, ? examples/s]"
      ]
     },
     "metadata": {},
     "output_type": "display_data"
    },
    {
     "data": {
      "application/vnd.jupyter.widget-view+json": {
       "model_id": "b31896c472c84b4286bfb60ab9f3120a",
       "version_major": 2,
       "version_minor": 0
      },
      "text/plain": [
       "Map:   0%|          | 0/2000 [00:00<?, ? examples/s]"
      ]
     },
     "metadata": {},
     "output_type": "display_data"
    },
    {
     "data": {
      "application/vnd.jupyter.widget-view+json": {
       "model_id": "32e230019fc64726b0fe3aa59a0b536f",
       "version_major": 2,
       "version_minor": 0
      },
      "text/plain": [
       "Map:   0%|          | 0/2000 [00:00<?, ? examples/s]"
      ]
     },
     "metadata": {},
     "output_type": "display_data"
    },
    {
     "data": {
      "text/plain": [
       "DatasetDict({\n",
       "    train: Dataset({\n",
       "        features: ['text', 'label', 'label_text', 'input_ids', 'attention_mask'],\n",
       "        num_rows: 16000\n",
       "    })\n",
       "    validation: Dataset({\n",
       "        features: ['text', 'label', 'label_text', 'input_ids', 'attention_mask'],\n",
       "        num_rows: 2000\n",
       "    })\n",
       "    test: Dataset({\n",
       "        features: ['text', 'label', 'label_text', 'input_ids', 'attention_mask'],\n",
       "        num_rows: 2000\n",
       "    })\n",
       "})"
      ]
     },
     "execution_count": 6,
     "metadata": {},
     "output_type": "execute_result"
    }
   ],
   "source": [
    "emotions_encoded = emotions.map(tokenize_text, batched=True, batch_size=None)\n",
    "emotions_encoded"
   ]
  },
  {
   "cell_type": "code",
   "execution_count": null,
   "id": "ff648dce-9a57-4914-8d48-076eda028eea",
   "metadata": {},
   "outputs": [],
   "source": []
  },
  {
   "cell_type": "code",
   "execution_count": null,
   "id": "9ed7852b-9905-4cdf-bba4-965d92baeed3",
   "metadata": {},
   "outputs": [],
   "source": []
  },
  {
   "cell_type": "markdown",
   "id": "c5ca1c29-be08-41a0-bf67-d6260292d125",
   "metadata": {},
   "source": [
    "----"
   ]
  },
  {
   "cell_type": "markdown",
   "id": "f7b3f438-2c33-451a-8cea-878c5f03f4dd",
   "metadata": {},
   "source": [
    "### Using pretrained models"
   ]
  },
  {
   "cell_type": "code",
   "execution_count": 7,
   "id": "92cb856c-9068-41a6-8f47-5241555d9e6a",
   "metadata": {},
   "outputs": [
    {
     "data": {
      "application/vnd.jupyter.widget-view+json": {
       "model_id": "99fc4bb3e21c4db5b14d54f58f61dc0b",
       "version_major": 2,
       "version_minor": 0
      },
      "text/plain": [
       "Downloading model.safetensors:   0%|          | 0.00/268M [00:00<?, ?B/s]"
      ]
     },
     "metadata": {},
     "output_type": "display_data"
    }
   ],
   "source": [
    "import torch\n",
    "from transformers import AutoModel\n",
    "\n",
    "device = torch.device(\"cuda\" if torch.cuda.is_available() else \"cpu\")\n",
    "model = AutoModel.from_pretrained(checkpoint).to(device)"
   ]
  },
  {
   "cell_type": "code",
   "execution_count": 8,
   "id": "4d38183f-f61b-43e4-9605-3bf2d1f72252",
   "metadata": {},
   "outputs": [
    {
     "name": "stdout",
     "output_type": "stream",
     "text": [
      "DistilBertConfig {\n",
      "  \"_name_or_path\": \"distilbert-base-uncased\",\n",
      "  \"activation\": \"gelu\",\n",
      "  \"architectures\": [\n",
      "    \"DistilBertForMaskedLM\"\n",
      "  ],\n",
      "  \"attention_dropout\": 0.1,\n",
      "  \"dim\": 768,\n",
      "  \"dropout\": 0.1,\n",
      "  \"hidden_dim\": 3072,\n",
      "  \"initializer_range\": 0.02,\n",
      "  \"max_position_embeddings\": 512,\n",
      "  \"model_type\": \"distilbert\",\n",
      "  \"n_heads\": 12,\n",
      "  \"n_layers\": 6,\n",
      "  \"pad_token_id\": 0,\n",
      "  \"qa_dropout\": 0.1,\n",
      "  \"seq_classif_dropout\": 0.2,\n",
      "  \"sinusoidal_pos_embds\": false,\n",
      "  \"tie_weights_\": true,\n",
      "  \"transformers_version\": \"4.31.0\",\n",
      "  \"vocab_size\": 30522\n",
      "}\n",
      "\n",
      "cuda:0\n"
     ]
    }
   ],
   "source": [
    "print(model.config)\n",
    "print(model.device)"
   ]
  },
  {
   "cell_type": "code",
   "execution_count": null,
   "id": "42e74c45-6e39-4bb8-bf30-1f029f35ff15",
   "metadata": {},
   "outputs": [],
   "source": []
  },
  {
   "cell_type": "code",
   "execution_count": null,
   "id": "de3ab6ae-c4f3-49e6-a3d0-25641fb53751",
   "metadata": {},
   "outputs": [],
   "source": []
  },
  {
   "cell_type": "markdown",
   "id": "dda483f6-06b7-46ba-bc04-3de24490f6de",
   "metadata": {},
   "source": [
    "----"
   ]
  },
  {
   "cell_type": "markdown",
   "id": "a74db627-9d75-41d2-a933-cf48ed7692e5",
   "metadata": {},
   "source": [
    "### Extracting the last hidden states\n",
    "\n",
    "See [What is purpose of the [CLS] token and why is its encoding output important?](https://datascience.stackexchange.com/questions/66207/what-is-purpose-of-the-cls-token-and-why-is-its-encoding-output-important)"
   ]
  },
  {
   "cell_type": "code",
   "execution_count": 9,
   "id": "11b0c361-6f13-4912-93b2-8842bc32df32",
   "metadata": {},
   "outputs": [
    {
     "name": "stdout",
     "output_type": "stream",
     "text": [
      "Inputs tensor shape: torch.Size([1, 6])\n"
     ]
    }
   ],
   "source": [
    "text = \"this is a test\"\n",
    "inputs = tokenizer(text, return_tensors=\"pt\")\n",
    "print(f\"Inputs tensor shape: {inputs['input_ids'].size()}\")"
   ]
  },
  {
   "cell_type": "markdown",
   "id": "3a77efc5-d13f-451f-8e70-ad7783c1034a",
   "metadata": {},
   "source": [
    "Take the inputs and place them on the same device as `model`.\n",
    "\n",
    "[`torch.no_grad`](https://pytorch.org/docs/stable/generated/torch.no_grad.html) is gives us a context-manager for use \n",
    "\n",
    "> ... when you are sure that you will not call `Tensor.backward()`. It will reduce memory consumption for computations that would otherwise have `requires_grad=True`."
   ]
  },
  {
   "cell_type": "code",
   "execution_count": 10,
   "id": "2b470a27-1ec6-45de-8340-4d4b0b623361",
   "metadata": {},
   "outputs": [
    {
     "name": "stdout",
     "output_type": "stream",
     "text": [
      "BaseModelOutput(last_hidden_state=tensor([[[-0.1565, -0.1862,  0.0528,  ..., -0.1188,  0.0662,  0.5470],\n",
      "         [-0.3575, -0.6484, -0.0618,  ..., -0.3040,  0.3508,  0.5221],\n",
      "         [-0.2772, -0.4459,  0.1818,  ..., -0.0948, -0.0076,  0.9958],\n",
      "         [-0.2841, -0.3917,  0.3753,  ..., -0.2151, -0.1173,  1.0526],\n",
      "         [ 0.2661, -0.5094, -0.3180,  ..., -0.4203,  0.0144, -0.2149],\n",
      "         [ 0.9441,  0.0112, -0.4714,  ...,  0.1439, -0.7288, -0.1619]]],\n",
      "       device='cuda:0'), hidden_states=None, attentions=None)\n"
     ]
    }
   ],
   "source": [
    "inputs = {k:v.to(device) for k,v in inputs.items()}\n",
    "with torch.no_grad():\n",
    "    outputs = model(**inputs)\n",
    "print(outputs)"
   ]
  },
  {
   "cell_type": "code",
   "execution_count": 11,
   "id": "0aa30d8a-f3b7-424f-8e41-db7f3fa8d4a9",
   "metadata": {},
   "outputs": [
    {
     "name": "stdout",
     "output_type": "stream",
     "text": [
      "Outputs tensor shape: torch.Size([1, 6, 768])\n"
     ]
    }
   ],
   "source": [
    "print(f\"Outputs tensor shape: {outputs.last_hidden_state.size()}\")"
   ]
  },
  {
   "cell_type": "code",
   "execution_count": 12,
   "id": "dc22b93e-26bb-45e1-a7df-25bb50167708",
   "metadata": {},
   "outputs": [
    {
     "name": "stdout",
     "output_type": "stream",
     "text": [
      "Last hidden state tensor for the [CLS] token: torch.Size([1, 768])\n"
     ]
    }
   ],
   "source": [
    "print(f\"Last hidden state tensor for the [CLS] token: {outputs.last_hidden_state[:, 0].size()}\")"
   ]
  },
  {
   "cell_type": "code",
   "execution_count": 13,
   "id": "2e28aed5-c56e-4747-9a6b-efda9e8bed3b",
   "metadata": {},
   "outputs": [],
   "source": [
    "def extract_hidden_states(batch):\n",
    "    # place model inputs on the GPU\n",
    "    inputs = { \n",
    "        k:v.to(device) \n",
    "        for k,v in batch.items()\n",
    "        if k in tokenizer.model_input_names\n",
    "    }\n",
    "    # extract last hidden states\n",
    "    with torch.no_grad():\n",
    "        last_hidden_state = model(**inputs).last_hidden_state\n",
    "    # return vector for the [CLS] token\n",
    "    # ... putting it back on the CPU,\n",
    "    # ... and returning as a Numpy object\n",
    "    return { \n",
    "        \"hidden_state\": last_hidden_state[:,0].cpu().numpy()\n",
    "    }\n"
   ]
  },
  {
   "cell_type": "code",
   "execution_count": 14,
   "id": "3cfbd33f-36b9-44de-9ffb-e483bc69259e",
   "metadata": {},
   "outputs": [],
   "source": [
    "emotions_encoded.set_format(\n",
    "    \"torch\",\n",
    "    columns=[\"input_ids\", \"attention_mask\", \"label\"]\n",
    ")"
   ]
  },
  {
   "cell_type": "code",
   "execution_count": 15,
   "id": "4abbe38b-57a3-410d-b7aa-edbed98db6a8",
   "metadata": {},
   "outputs": [
    {
     "data": {
      "application/vnd.jupyter.widget-view+json": {
       "model_id": "cb53ece087184c41b098fe4a4d14d247",
       "version_major": 2,
       "version_minor": 0
      },
      "text/plain": [
       "Map:   0%|          | 0/16000 [00:00<?, ? examples/s]"
      ]
     },
     "metadata": {},
     "output_type": "display_data"
    },
    {
     "data": {
      "application/vnd.jupyter.widget-view+json": {
       "model_id": "2ce6fb1a995d4b7c859338401f66bfeb",
       "version_major": 2,
       "version_minor": 0
      },
      "text/plain": [
       "Map:   0%|          | 0/2000 [00:00<?, ? examples/s]"
      ]
     },
     "metadata": {},
     "output_type": "display_data"
    },
    {
     "data": {
      "application/vnd.jupyter.widget-view+json": {
       "model_id": "9f62b3ace0704605b976a847b105dc80",
       "version_major": 2,
       "version_minor": 0
      },
      "text/plain": [
       "Map:   0%|          | 0/2000 [00:00<?, ? examples/s]"
      ]
     },
     "metadata": {},
     "output_type": "display_data"
    }
   ],
   "source": [
    "emotions_hidden = emotions_encoded.map(extract_hidden_states, batched=True)"
   ]
  },
  {
   "cell_type": "code",
   "execution_count": 16,
   "id": "90b41e1c-a5f5-4b09-a268-3054999887a3",
   "metadata": {},
   "outputs": [
    {
     "data": {
      "text/plain": [
       "['text', 'label', 'label_text', 'input_ids', 'attention_mask', 'hidden_state']"
      ]
     },
     "execution_count": 16,
     "metadata": {},
     "output_type": "execute_result"
    }
   ],
   "source": [
    "emotions_hidden[\"train\"].column_names"
   ]
  },
  {
   "cell_type": "code",
   "execution_count": 17,
   "id": "ba045649-f50b-45cd-adae-e0e355a4ef46",
   "metadata": {},
   "outputs": [
    {
     "data": {
      "text/plain": [
       "tensor([[-0.0216,  0.1965,  0.0041,  ..., -0.0646,  0.4319,  0.5599],\n",
       "        [-0.0165,  0.3204, -0.0225,  ..., -0.1050,  0.4260,  0.4670],\n",
       "        [-0.1114,  0.0211, -0.2773,  ..., -0.0317,  0.2478,  0.2088],\n",
       "        ...,\n",
       "        [ 0.1405,  0.0942, -0.0726,  ...,  0.0361,  0.3638,  0.1618],\n",
       "        [-0.0996,  0.2276,  0.0766,  ..., -0.0227,  0.3045,  0.5173],\n",
       "        [ 0.0641,  0.1125, -0.0785,  ...,  0.0009,  0.3229,  0.4590]])"
      ]
     },
     "execution_count": 17,
     "metadata": {},
     "output_type": "execute_result"
    }
   ],
   "source": [
    "emotions_hidden[\"test\"][\"hidden_state\"]"
   ]
  },
  {
   "cell_type": "code",
   "execution_count": null,
   "id": "53910495-194f-4f4c-920b-a58248e6b988",
   "metadata": {},
   "outputs": [],
   "source": []
  },
  {
   "cell_type": "code",
   "execution_count": null,
   "id": "07eee9c6-0271-48f0-86b9-78068a376a78",
   "metadata": {},
   "outputs": [],
   "source": []
  },
  {
   "cell_type": "markdown",
   "id": "d163103f-ec28-4a82-8ff9-685be431740c",
   "metadata": {},
   "source": [
    "----"
   ]
  },
  {
   "cell_type": "markdown",
   "id": "fd614106-72cd-48f7-a315-177d724fcfa7",
   "metadata": {},
   "source": [
    "### Creating a feature matrix"
   ]
  },
  {
   "cell_type": "code",
   "execution_count": 18,
   "id": "0b098b2f-83ff-4b9f-b2e3-6f57135b6fc5",
   "metadata": {},
   "outputs": [
    {
     "data": {
      "text/plain": [
       "((16000, 768), (2000, 768))"
      ]
     },
     "execution_count": 18,
     "metadata": {},
     "output_type": "execute_result"
    }
   ],
   "source": [
    "import numpy as np\n",
    "\n",
    "X_train = np.array(emotions_hidden[\"train\"][\"hidden_state\"])\n",
    "X_valid = np.array(emotions_hidden[\"validation\"][\"hidden_state\"])\n",
    "y_train = np.array(emotions_hidden[\"train\"][\"label\"])\n",
    "y_valid = np.array(emotions_hidden[\"validation\"][\"label\"])\n",
    "X_train.shape, X_valid.shape"
   ]
  },
  {
   "cell_type": "code",
   "execution_count": 19,
   "id": "dfe8367c-5496-490f-b9c7-62e95a65c0c1",
   "metadata": {},
   "outputs": [
    {
     "name": "stderr",
     "output_type": "stream",
     "text": [
      "/opt/conda/envs/transformers-py38/lib/python3.8/site-packages/umap/distances.py:1063: NumbaDeprecationWarning: \u001b[1mThe 'nopython' keyword argument was not supplied to the 'numba.jit' decorator. The implicit default value for this argument is currently False, but it will be changed to True in Numba 0.59.0. See https://numba.readthedocs.io/en/stable/reference/deprecation.html#deprecation-of-object-mode-fall-back-behaviour-when-using-jit for details.\u001b[0m\n",
      "  @numba.jit()\n",
      "/opt/conda/envs/transformers-py38/lib/python3.8/site-packages/umap/distances.py:1071: NumbaDeprecationWarning: \u001b[1mThe 'nopython' keyword argument was not supplied to the 'numba.jit' decorator. The implicit default value for this argument is currently False, but it will be changed to True in Numba 0.59.0. See https://numba.readthedocs.io/en/stable/reference/deprecation.html#deprecation-of-object-mode-fall-back-behaviour-when-using-jit for details.\u001b[0m\n",
      "  @numba.jit()\n",
      "/opt/conda/envs/transformers-py38/lib/python3.8/site-packages/umap/distances.py:1086: NumbaDeprecationWarning: \u001b[1mThe 'nopython' keyword argument was not supplied to the 'numba.jit' decorator. The implicit default value for this argument is currently False, but it will be changed to True in Numba 0.59.0. See https://numba.readthedocs.io/en/stable/reference/deprecation.html#deprecation-of-object-mode-fall-back-behaviour-when-using-jit for details.\u001b[0m\n",
      "  @numba.jit()\n",
      "/opt/conda/envs/transformers-py38/lib/python3.8/site-packages/umap/umap_.py:660: NumbaDeprecationWarning: \u001b[1mThe 'nopython' keyword argument was not supplied to the 'numba.jit' decorator. The implicit default value for this argument is currently False, but it will be changed to True in Numba 0.59.0. See https://numba.readthedocs.io/en/stable/reference/deprecation.html#deprecation-of-object-mode-fall-back-behaviour-when-using-jit for details.\u001b[0m\n",
      "  @numba.jit()\n"
     ]
    },
    {
     "data": {
      "text/html": [
       "<div>\n",
       "<style scoped>\n",
       "    .dataframe tbody tr th:only-of-type {\n",
       "        vertical-align: middle;\n",
       "    }\n",
       "\n",
       "    .dataframe tbody tr th {\n",
       "        vertical-align: top;\n",
       "    }\n",
       "\n",
       "    .dataframe thead th {\n",
       "        text-align: right;\n",
       "    }\n",
       "</style>\n",
       "<table border=\"1\" class=\"dataframe\">\n",
       "  <thead>\n",
       "    <tr style=\"text-align: right;\">\n",
       "      <th></th>\n",
       "      <th>X</th>\n",
       "      <th>Y</th>\n",
       "      <th>label</th>\n",
       "    </tr>\n",
       "  </thead>\n",
       "  <tbody>\n",
       "    <tr>\n",
       "      <th>0</th>\n",
       "      <td>4.414214</td>\n",
       "      <td>7.175684</td>\n",
       "      <td>0</td>\n",
       "    </tr>\n",
       "    <tr>\n",
       "      <th>1</th>\n",
       "      <td>-2.916245</td>\n",
       "      <td>6.243706</td>\n",
       "      <td>0</td>\n",
       "    </tr>\n",
       "    <tr>\n",
       "      <th>2</th>\n",
       "      <td>5.462869</td>\n",
       "      <td>3.590427</td>\n",
       "      <td>3</td>\n",
       "    </tr>\n",
       "    <tr>\n",
       "      <th>3</th>\n",
       "      <td>-2.177161</td>\n",
       "      <td>4.162377</td>\n",
       "      <td>2</td>\n",
       "    </tr>\n",
       "    <tr>\n",
       "      <th>4</th>\n",
       "      <td>-3.097837</td>\n",
       "      <td>4.264150</td>\n",
       "      <td>3</td>\n",
       "    </tr>\n",
       "  </tbody>\n",
       "</table>\n",
       "</div>"
      ],
      "text/plain": [
       "          X         Y  label\n",
       "0  4.414214  7.175684      0\n",
       "1 -2.916245  6.243706      0\n",
       "2  5.462869  3.590427      3\n",
       "3 -2.177161  4.162377      2\n",
       "4 -3.097837  4.264150      3"
      ]
     },
     "execution_count": 19,
     "metadata": {},
     "output_type": "execute_result"
    }
   ],
   "source": [
    "import pandas as pd\n",
    "\n",
    "from umap import UMAP\n",
    "from sklearn.preprocessing import MinMaxScaler\n",
    "\n",
    "\n",
    "# scale features to [0,1] range\n",
    "X_scaled = MinMaxScaler().fit_transform(X_train)\n",
    "\n",
    "# initialize and fit UMAP\n",
    "mapper = UMAP(\n",
    "    n_components=2,\n",
    "    metric=\"cosine\"\n",
    ").fit(X_scaled)\n",
    "\n",
    "# create a DataFrame of 2D embeddings\n",
    "df_emb = pd.DataFrame(mapper.embedding_, columns=[\"X\", \"Y\"])\n",
    "df_emb[\"label\"] = y_train\n",
    "df_emb.head()"
   ]
  },
  {
   "cell_type": "code",
   "execution_count": 20,
   "id": "b51a1b53-39ea-4bbd-b54f-20c6341a6125",
   "metadata": {},
   "outputs": [
    {
     "data": {
      "text/plain": [
       "{0: 'sadness', 1: 'joy', 2: 'love', 3: 'anger', 4: 'fear', 5: 'surprise'}"
      ]
     },
     "execution_count": 20,
     "metadata": {},
     "output_type": "execute_result"
    }
   ],
   "source": [
    "id2str = dict(\n",
    "    zip(\n",
    "        emotions[\"train\"].unique('label'), \n",
    "        emotions[\"train\"].unique('label_text')\n",
    "    )\n",
    ")\n",
    "\n",
    "id2str = dict(sorted(id2str.items(), key=lambda item: item[0]))\n",
    "id2str"
   ]
  },
  {
   "cell_type": "code",
   "execution_count": 21,
   "id": "67d03d76-2b72-4412-9b29-3fd642d72ed5",
   "metadata": {},
   "outputs": [
    {
     "data": {
      "image/png": "[encoded data removed]",
      "text/plain": [
       "<Figure size 700x500 with 6 Axes>"
      ]
     },
     "metadata": {},
     "output_type": "display_data"
    }
   ],
   "source": [
    "import matplotlib.pyplot as plt\n",
    "\n",
    "fig, axes = plt.subplots(2, 3, figsize=(7,5))\n",
    "axes = axes.flatten()\n",
    "cmaps = [\"Greys\", \"Blues\", \"Oranges\", \"Reds\", \"Purples\", \"Greens\"]\n",
    "labels = id2str.values()\n",
    "\n",
    "for i, (label, cmap) in enumerate(zip(labels, cmaps)):\n",
    "    df_emb_sub = df_emb.query(f\"label == {i}\")\n",
    "    axes[i].hexbin(\n",
    "        df_emb_sub[\"X\"], \n",
    "        df_emb_sub[\"Y\"],\n",
    "        cmap=cmap,\n",
    "        gridsize=20,\n",
    "        linewidths=(0,)\n",
    "    )\n",
    "    axes[i].set_title(label)\n",
    "    axes[i].set_xticks([]), axes[i].set_yticks([])\n",
    "    \n",
    "plt.tight_layout()\n",
    "plt.show()"
   ]
  },
  {
   "cell_type": "code",
   "execution_count": null,
   "id": "69887c23-4601-4ed9-8ebf-8b147d03d66c",
   "metadata": {},
   "outputs": [],
   "source": []
  },
  {
   "cell_type": "code",
   "execution_count": null,
   "id": "4d0b95ac-7d75-44e5-a924-fef6d506f33e",
   "metadata": {},
   "outputs": [],
   "source": []
  },
  {
   "cell_type": "markdown",
   "id": "6124a910-9604-48bc-a5c1-41a5ff17d69a",
   "metadata": {},
   "source": [
    "----"
   ]
  },
  {
   "cell_type": "markdown",
   "id": "f5c17d53-5037-4fb5-838e-f56d1d190f5e",
   "metadata": {},
   "source": [
    "### Training a simple classifier"
   ]
  },
  {
   "cell_type": "code",
   "execution_count": 22,
   "id": "8cd5ff62-6428-4969-885e-7f54a24a0987",
   "metadata": {},
   "outputs": [
    {
     "data": {
      "text/plain": [
       "0.6335"
      ]
     },
     "execution_count": 22,
     "metadata": {},
     "output_type": "execute_result"
    }
   ],
   "source": [
    "from sklearn.linear_model import LogisticRegression\n",
    "\n",
    "# \"increase max_iter to guarantee convergence\"...\n",
    "# ... wat?\n",
    "lr_clf = LogisticRegression(max_iter=3000)\n",
    "lr_clf.fit(X_train, y_train)\n",
    "lr_clf.score(X_valid, y_valid)"
   ]
  },
  {
   "cell_type": "code",
   "execution_count": 23,
   "id": "eb147469-198c-45d0-97b4-af79e5150418",
   "metadata": {},
   "outputs": [
    {
     "data": {
      "text/plain": [
       "0.352"
      ]
     },
     "execution_count": 23,
     "metadata": {},
     "output_type": "execute_result"
    }
   ],
   "source": [
    "from sklearn.dummy import DummyClassifier\n",
    "\n",
    "dummy_clf = DummyClassifier(strategy=\"most_frequent\")\n",
    "dummy_clf.fit(X_train, y_train)\n",
    "dummy_clf.score(X_valid, y_valid)"
   ]
  },
  {
   "cell_type": "code",
   "execution_count": 24,
   "id": "6a7f6546-5a2b-46f0-8154-98315245c13b",
   "metadata": {},
   "outputs": [
    {
     "data": {
      "image/png": "[encoded data removed]",
      "text/plain": [
       "<Figure size 600x600 with 1 Axes>"
      ]
     },
     "metadata": {},
     "output_type": "display_data"
    }
   ],
   "source": [
    "from sklearn.metrics import ConfusionMatrixDisplay, confusion_matrix\n",
    "\n",
    "def plot_confusion_matrix(y_preds, y_true, labels):\n",
    "    cm = confusion_matrix(y_true, y_preds, normalize=\"true\")\n",
    "    fig, ax = plt.subplots(figsize=(6, 6))\n",
    "    disp = ConfusionMatrixDisplay(\n",
    "        confusion_matrix=cm,\n",
    "        display_labels=labels\n",
    "    )\n",
    "    disp.plot(\n",
    "        cmap=\"Blues\",\n",
    "        values_format=\".2f\",\n",
    "        ax=ax,\n",
    "        colorbar=False\n",
    "    )\n",
    "    plt.title(\"Normalized confusion matrix\")\n",
    "    plt.show()\n",
    "\n",
    "y_preds = lr_clf.predict(X_valid)\n",
    "plot_confusion_matrix(y_preds, y_valid, labels)"
   ]
  },
  {
   "cell_type": "code",
   "execution_count": null,
   "id": "fb3973a3-99a4-4522-bad2-6c76f0663506",
   "metadata": {},
   "outputs": [],
   "source": []
  },
  {
   "cell_type": "code",
   "execution_count": null,
   "id": "7bf7a55f-f6bc-4071-85ed-4d6966ca30fd",
   "metadata": {},
   "outputs": [],
   "source": []
  },
  {
   "cell_type": "markdown",
   "id": "3eadc4fa-de39-4c53-a100-eb3f8626eb89",
   "metadata": {},
   "source": [
    "----"
   ]
  },
  {
   "cell_type": "markdown",
   "id": "8311b894-8b33-4eb8-8556-a8003f700754",
   "metadata": {},
   "source": [
    "### Using the Logistic Regression Classifier\n",
    "\n",
    "Now let's see about using our classifer on the sample tweet below."
   ]
  },
  {
   "cell_type": "code",
   "execution_count": 25,
   "id": "da45fed6-e86a-4444-a41c-5215d11b77c4",
   "metadata": {},
   "outputs": [],
   "source": [
    "tweet = \"Happy New Year, everyone! Peace & love to all\""
   ]
  },
  {
   "cell_type": "markdown",
   "id": "93a97d77-5dc3-410d-982d-9854382ca939",
   "metadata": {},
   "source": [
    "From page 38:\n",
    "\n",
    "> This method is especially convenient if GPUs are unavailable, since the hidden states only need to be precomputed once.\n",
    "\n",
    "In keeping with this, we will move `model` back to the CPU. Note the we will require `tokenizer` and `model` to transform any input tweets and obtain the `last_hidden_state` of the `[CLS]` to use as input our Logistic Regression based classifier."
   ]
  },
  {
   "cell_type": "code",
   "execution_count": 26,
   "id": "64ffccdf-929e-43ed-8304-823670b897b0",
   "metadata": {},
   "outputs": [
    {
     "data": {
      "text/plain": [
       "device(type='cpu')"
      ]
     },
     "execution_count": 26,
     "metadata": {},
     "output_type": "execute_result"
    }
   ],
   "source": [
    "model.to(\"cpu\")\n",
    "model.device"
   ]
  },
  {
   "cell_type": "markdown",
   "id": "4c07d7f1-6a53-4a16-81c8-51906c1a80a6",
   "metadata": {},
   "source": [
    "To use our classifier:\n",
    "\n",
    "* Transform an input sample tweet to a vector representation (`[CLS]`)\n",
    "* Don't forget to use `no_grad`\n",
    "* Don't forget to transform that output back into a Numpy array\n",
    "* Use `id2str` to get the final label text of the prediction"
   ]
  },
  {
   "cell_type": "code",
   "execution_count": 27,
   "id": "061600c7-a271-4ea9-b750-eac628161641",
   "metadata": {},
   "outputs": [
    {
     "name": "stdout",
     "output_type": "stream",
     "text": [
      "BaseModelOutput(last_hidden_state=tensor([[[-0.1307, -0.1720,  0.2535,  ...,  0.0320,  0.4328,  0.1663],\n",
      "         [-0.1272,  0.1782,  0.6252,  ..., -0.0998,  0.7243, -0.0708],\n",
      "         [-0.3294, -0.0272,  0.7579,  ...,  0.0532,  0.6076, -0.7313],\n",
      "         ...,\n",
      "         [ 0.1109,  0.5428,  0.9294,  ...,  0.3347,  0.1849, -0.1974],\n",
      "         [-0.4488, -0.0275,  0.9289,  ...,  0.0542,  0.5971, -0.4348],\n",
      "         [ 0.8959,  0.2134, -0.2652,  ...,  0.0422, -0.4122, -0.2742]]]), hidden_states=None, attentions=None)\n",
      "\n",
      "Sample tweet 'Happy New Year, everyone! Peace & love to all' is: joy\n"
     ]
    }
   ],
   "source": [
    "inputs = tokenizer(tweet, return_tensors=\"pt\")\n",
    "inputs = {k:v for k,v in inputs.items()}\n",
    "with torch.no_grad():\n",
    "    outputs = model(**inputs)\n",
    "print(outputs)\n",
    "\n",
    "tweet_cls = outputs.last_hidden_state[:, 0].numpy()\n",
    "\n",
    "y = lr_clf.predict(tweet_cls)\n",
    "\n",
    "print()\n",
    "print(f\"Sample tweet '{tweet}' is: {id2str[y[0]]}\")"
   ]
  },
  {
   "cell_type": "code",
   "execution_count": null,
   "id": "f4ffb92e-5e91-4d8c-9d6b-2d96fa0b6993",
   "metadata": {},
   "outputs": [],
   "source": []
  },
  {
   "cell_type": "code",
   "execution_count": null,
   "id": "21f81f13-ba69-43c3-a490-8a5bc4695e3b",
   "metadata": {},
   "outputs": [],
   "source": []
  }
 ],
 "metadata": {
  "kernelspec": {
   "display_name": "Python 3 (ipykernel)",
   "language": "python",
   "name": "python3"
  },
  "language_info": {
   "codemirror_mode": {
    "name": "ipython",
    "version": 3
   },
   "file_extension": ".py",
   "mimetype": "text/x-python",
   "name": "python",
   "nbconvert_exporter": "python",
   "pygments_lexer": "ipython3",
   "version": "3.8.17"
  }
 },
 "nbformat": 4,
 "nbformat_minor": 5
}
